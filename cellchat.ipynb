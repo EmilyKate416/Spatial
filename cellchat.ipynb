{
 "cells": [
  {
   "cell_type": "markdown",
   "id": "dbacb7ca",
   "metadata": {},
   "source": [
    "CellChat inference and analysis of spatially proximal cell-cell communication from spatially resolved transcriptomics (multiple datasets)"
   ]
  },
  {
   "cell_type": "code",
   "execution_count": 3,
   "id": "f532b324",
   "metadata": {
    "vscode": {
     "languageId": "r"
    }
   },
   "outputs": [
    {
     "name": "stderr",
     "output_type": "stream",
     "text": [
      "Loading required package: dplyr\n",
      "\n"
     ]
    },
    {
     "name": "stderr",
     "output_type": "stream",
     "text": [
      "\n",
      "Attaching package: ‘dplyr’\n",
      "\n",
      "\n",
      "The following objects are masked from ‘package:stats’:\n",
      "\n",
      "    filter, lag\n",
      "\n",
      "\n",
      "The following objects are masked from ‘package:base’:\n",
      "\n",
      "    intersect, setdiff, setequal, union\n",
      "\n",
      "\n",
      "Loading required package: igraph\n",
      "\n",
      "\n",
      "Attaching package: ‘igraph’\n",
      "\n",
      "\n",
      "The following objects are masked from ‘package:dplyr’:\n",
      "\n",
      "    as_data_frame, groups, union\n",
      "\n",
      "\n",
      "The following objects are masked from ‘package:stats’:\n",
      "\n",
      "    decompose, spectrum\n",
      "\n",
      "\n",
      "The following object is masked from ‘package:base’:\n",
      "\n",
      "    union\n",
      "\n",
      "\n",
      "Loading required package: ggplot2\n",
      "\n",
      "Attaching SeuratObject\n",
      "\n"
     ]
    }
   ],
   "source": [
    "ptm = Sys.time()\n",
    "\n",
    "library(CellChat)\n",
    "library(Seurat)\n",
    "library(patchwork)\n",
    "options(stringsAsFactors = FALSE)"
   ]
  },
  {
   "cell_type": "code",
   "execution_count": 17,
   "id": "f51bd276",
   "metadata": {
    "vscode": {
     "languageId": "r"
    }
   },
   "outputs": [],
   "source": [
    "results_folder ='/run/user/1804238067/gvfs/sftp:host=clust1-sub-1,user=lythgo02/mnt/nas-data/fmlab/group_folders/lythgo02/OV_visium/emily/cell2location/cellTrek/cellchat'"
   ]
  },
  {
   "cell_type": "code",
   "execution_count": 29,
   "id": "f43705a7",
   "metadata": {
    "vscode": {
     "languageId": "r"
    }
   },
   "outputs": [],
   "source": [
    "#cellTrekObs <- readRDS(paste0(ov_visium, \"ov_cellTrek_obj.rds\"))\n",
    "#cell2loc = '/run/user/1804238067/gvfs/sftp:host=clust1-sub-1,user=lythgo02/mnt/scratchc/fmlab/lythgo02/OV_visium/emily/cell2location/'\n",
    "#adata_vis_match <- zellkonverter::readH5AD(file.path(cell2loc, \"final_adata_vis_match.h5ad\"))\n",
    "\n",
    "cell2loc = '/run/user/1804238067/gvfs/sftp:host=clust1-sub-1,user=lythgo02/mnt/nas-data/fmlab/group_folders/lythgo02/OV_visium/emily/cell2location/'\n",
    "#ovTrainAll <- readRDS(paste0(cell2loc, \"cellTrek/celltrek_results_ntree1000_p500_celltrek.rds\"))\n",
    "ovCellTrekList <- readRDS(paste0(cell2loc, \"cellTrek/celltrek_results_updated.rds\"))"
   ]
  },
  {
   "cell_type": "markdown",
   "id": "98181c69",
   "metadata": {},
   "source": [
    "For one sample at a time"
   ]
  },
  {
   "cell_type": "code",
   "execution_count": null,
   "id": "a14e9f31",
   "metadata": {
    "vscode": {
     "languageId": "r"
    }
   },
   "outputs": [],
   "source": [
    "ovCellTrek <- adata_vis_match[[1]]\n",
    "# 1. Extract expression and meta\n",
    "data.input <- GetAssayData(ovCellTrek, slot = \"data\")  # or \"counts\"\n",
    "meta <- ovCellTrek@meta.data\n",
    "# 2. Create CellChat object\n",
    "cellchat <- CellChat::createCellChat(object = data.input, meta = meta, group.by = \"cell_type\")\n",
    "CellChatDB <- CellChatDB.mouse  # or .human\n",
    "cellchat@DB <- CellChatDB\n",
    "cellchat <- subsetData(cellchat)\n",
    "cellchat <- identifyOverExpressedGenes(cellchat)\n",
    "cellchat <- identifyOverExpressedInteractions(cellchat)\n",
    "cellchat <- computeCommunProb(cellchat)\n",
    "cellchat <- computeCommunProbPathway(cellchat)\n",
    "cellchat <- aggregateNet(cellchat)\n",
    "# all predicted interactions (data.frame)\n",
    "comm <- subsetCommunication(cellchat)\n",
    "head(comm)\n",
    "# save\n",
    "write.csv(comm, file = file.path(results_folder, \"ov1_cellchat_all_interactions.csv\"), row.names = FALSE)\n",
    "# list pathways and group sizes\n",
    "signaling_paths <- names(cellchat@netP)\n",
    "print(signaling_paths)\n",
    "groupSize <- as.numeric(table(cellchat@idents))\n",
    "groupSize\n"
   ]
  },
  {
   "cell_type": "markdown",
   "id": "043b5ebc",
   "metadata": {},
   "source": [
    "For all in a loop"
   ]
  },
  {
   "cell_type": "code",
   "execution_count": 31,
   "id": "d2c5cfef",
   "metadata": {
    "vscode": {
     "languageId": "r"
    }
   },
   "outputs": [
    {
     "name": "stderr",
     "output_type": "stream",
     "text": [
      "Creating CellChat object for OV_1\n",
      "\n"
     ]
    },
    {
     "name": "stdout",
     "output_type": "stream",
     "text": [
      "[1] \"Create a CellChat object from a data matrix\"\n",
      "Set cell identities for the new CellChat object \n",
      "The cell groups used for CellChat analysis are  B naive activated, B naive resting, CD4, CD8, Cycling Plasma Cells, Dendritic Cells, Endothelial, Macrophage, Mesenchymal, Monocytes, Neutrophils, NK_cell, Plasma Cells, Th1, Th17, Treg, Tumour \n"
     ]
    },
    {
     "name": "stderr",
     "output_type": "stream",
     "text": [
      "Creating CellChat object for OV_2\n",
      "\n"
     ]
    },
    {
     "name": "stdout",
     "output_type": "stream",
     "text": [
      "[1] \"Create a CellChat object from a data matrix\"\n",
      "Set cell identities for the new CellChat object \n",
      "The cell groups used for CellChat analysis are  B naive activated, B naive resting, CD4, CD8, Cycling Plasma Cells, Dendritic Cells, Endothelial, Macrophage, Mesenchymal, Monocytes, Neutrophils, NK_cell, Plasma Cells, Th1, Th17, Treg, Tumour \n"
     ]
    },
    {
     "name": "stderr",
     "output_type": "stream",
     "text": [
      "Creating CellChat object for OV_3\n",
      "\n"
     ]
    },
    {
     "name": "stdout",
     "output_type": "stream",
     "text": [
      "[1] \"Create a CellChat object from a data matrix\"\n",
      "Set cell identities for the new CellChat object \n",
      "The cell groups used for CellChat analysis are  B naive activated, B naive resting, CD4, CD8, Dendritic Cells, Endothelial, Macrophage, Mesenchymal, Monocytes, Neutrophils, NK_cell, Plasma Cells, Th1, Th17, Treg, Tumour \n"
     ]
    },
    {
     "name": "stderr",
     "output_type": "stream",
     "text": [
      "Creating CellChat object for OV_4\n",
      "\n"
     ]
    },
    {
     "name": "stdout",
     "output_type": "stream",
     "text": [
      "[1] \"Create a CellChat object from a data matrix\"\n",
      "Set cell identities for the new CellChat object \n",
      "The cell groups used for CellChat analysis are  B naive activated, B naive resting, CD4, CD8, Cycling Plasma Cells, Dendritic Cells, Endothelial, Macrophage, Mesenchymal, Monocytes, Neutrophils, NK_cell, Plasma Cells, Th1, Th17, Treg, Tumour \n"
     ]
    },
    {
     "name": "stderr",
     "output_type": "stream",
     "text": [
      "Creating CellChat object for OV_5\n",
      "\n"
     ]
    },
    {
     "name": "stdout",
     "output_type": "stream",
     "text": [
      "[1] \"Create a CellChat object from a data matrix\"\n",
      "Set cell identities for the new CellChat object \n",
      "The cell groups used for CellChat analysis are  B naive activated, B naive resting, CD4, CD8, Dendritic Cells, Endothelial, Macrophage, Mesenchymal, Monocytes, Neutrophils, NK_cell, Plasma Cells, Th1, Th17, Treg, Tumour \n"
     ]
    },
    {
     "name": "stderr",
     "output_type": "stream",
     "text": [
      "Creating CellChat object for OV_6\n",
      "\n"
     ]
    },
    {
     "name": "stdout",
     "output_type": "stream",
     "text": [
      "[1] \"Create a CellChat object from a data matrix\"\n",
      "Set cell identities for the new CellChat object \n",
      "The cell groups used for CellChat analysis are  B naive activated, B naive resting, CD4, CD8, Cycling Plasma Cells, Dendritic Cells, Endothelial, Macrophage, Mesenchymal, Monocytes, Neutrophils, NK_cell, Plasma Cells, Th1, Th17, Treg, Tumour \n"
     ]
    },
    {
     "data": {
      "text/plain": [
       "$OV_1\n",
       "An object of class CellChat created from a single dataset \n",
       " 14542 genes.\n",
       " 9276 cells. \n",
       "CellChat analysis of single cell RNA-seq data! \n",
       "\n",
       "$OV_2\n",
       "An object of class CellChat created from a single dataset \n",
       " 14542 genes.\n",
       " 13696 cells. \n",
       "CellChat analysis of single cell RNA-seq data! \n",
       "\n",
       "$OV_3\n",
       "An object of class CellChat created from a single dataset \n",
       " 14542 genes.\n",
       " 10291 cells. \n",
       "CellChat analysis of single cell RNA-seq data! \n",
       "\n",
       "$OV_4\n",
       "An object of class CellChat created from a single dataset \n",
       " 14542 genes.\n",
       " 5964 cells. \n",
       "CellChat analysis of single cell RNA-seq data! \n",
       "\n",
       "$OV_5\n",
       "An object of class CellChat created from a single dataset \n",
       " 14542 genes.\n",
       " 9080 cells. \n",
       "CellChat analysis of single cell RNA-seq data! \n",
       "\n",
       "$OV_6\n",
       "An object of class CellChat created from a single dataset \n",
       " 14542 genes.\n",
       " 5391 cells. \n",
       "CellChat analysis of single cell RNA-seq data! \n"
      ]
     },
     "metadata": {},
     "output_type": "display_data"
    }
   ],
   "source": [
    "\n",
    "cellchat_list <- list()\n",
    "\n",
    "for (i in seq_along(ovCellTrekList)) {\n",
    "  \n",
    "  sample_name <- if (!is.null(names(ovCellTrekList)) && names(ovCellTrekList)[i] != \"\") {\n",
    "    names(ovCellTrekList)[i]\n",
    "  } else {\n",
    "    paste0(\"sample_\", i)\n",
    "  }\n",
    "  message(\"Creating CellChat object for \", sample_name)\n",
    "  \n",
    "  ovCellTrek <- ovCellTrekList[[i]]\n",
    "  \n",
    "  # 1. Extract expression & metadata\n",
    "  data.input <- GetAssayData(ovCellTrek, slot = \"data\")\n",
    "  meta <- ovCellTrek@meta.data\n",
    "  \n",
    "  # Ensure you have a grouping column (rename if needed)\n",
    "  # e.g. your column might be \"cell_type_collapsed\"\n",
    "  if (!\"cell_type\" %in% colnames(meta) && \"cell_type_collapsed\" %in% colnames(meta)) {\n",
    "    meta$cell_type <- meta$cell_type_collapsed\n",
    "  }\n",
    "  \n",
    "  # 2. Create CellChat object\n",
    "  cellchat <- CellChat::createCellChat(\n",
    "    object = data.input,\n",
    "    meta = meta,\n",
    "    group.by = \"cell_type\"\n",
    "  )\n",
    "  \n",
    "  cellchat_list[[sample_name]] <- cellchat\n",
    "}\n",
    "\n",
    "# --- Optional: preview what was created ---\n",
    "cellchat_list\n"
   ]
  },
  {
   "cell_type": "code",
   "execution_count": 32,
   "id": "9676385c",
   "metadata": {
    "vscode": {
     "languageId": "r"
    }
   },
   "outputs": [
    {
     "name": "stdout",
     "output_type": "stream",
     "text": [
      "The number of highly variable ligand-receptor pairs used for signaling inference is 1255 \n",
      "triMean is used for calculating the average gene expression per cell group. \n",
      "[1] \">>> Run CellChat on sc/snRNA-seq data <<< [2025-10-27 16:47:57.542365]\"\n",
      "[1] \">>> CellChat inference is done. Parameter values are stored in `object@options$parameter` <<< [2025-10-27 16:52:59.831249]\"\n",
      "The number of highly variable ligand-receptor pairs used for signaling inference is 1286 \n",
      "triMean is used for calculating the average gene expression per cell group. \n",
      "[1] \">>> Run CellChat on sc/snRNA-seq data <<< [2025-10-27 16:53:05.010571]\"\n",
      "[1] \">>> CellChat inference is done. Parameter values are stored in `object@options$parameter` <<< [2025-10-27 16:58:42.816095]\"\n",
      "The number of highly variable ligand-receptor pairs used for signaling inference is 1256 \n",
      "triMean is used for calculating the average gene expression per cell group. \n",
      "[1] \">>> Run CellChat on sc/snRNA-seq data <<< [2025-10-27 16:58:47.366644]\"\n",
      "[1] \">>> CellChat inference is done. Parameter values are stored in `object@options$parameter` <<< [2025-10-27 17:03:52.626945]\"\n",
      "The number of highly variable ligand-receptor pairs used for signaling inference is 1276 \n",
      "triMean is used for calculating the average gene expression per cell group. \n",
      "[1] \">>> Run CellChat on sc/snRNA-seq data <<< [2025-10-27 17:03:56.353556]\"\n",
      "[1] \">>> CellChat inference is done. Parameter values are stored in `object@options$parameter` <<< [2025-10-27 17:08:40.708992]\"\n",
      "The number of highly variable ligand-receptor pairs used for signaling inference is 1286 \n",
      "triMean is used for calculating the average gene expression per cell group. \n",
      "[1] \">>> Run CellChat on sc/snRNA-seq data <<< [2025-10-27 17:08:45.060249]\"\n",
      "[1] \">>> CellChat inference is done. Parameter values are stored in `object@options$parameter` <<< [2025-10-27 17:13:44.421377]\"\n",
      "The number of highly variable ligand-receptor pairs used for signaling inference is 1294 \n",
      "triMean is used for calculating the average gene expression per cell group. \n",
      "[1] \">>> Run CellChat on sc/snRNA-seq data <<< [2025-10-27 17:13:48.047112]\"\n",
      "[1] \">>> CellChat inference is done. Parameter values are stored in `object@options$parameter` <<< [2025-10-27 17:18:23.598066]\"\n"
     ]
    }
   ],
   "source": [
    "# Load mouse ligand-receptor database\n",
    "CellChatDB <- CellChatDB.mouse\n",
    "for (i in names(cellchat_list)) {\n",
    "  cellchat_list[[i]]@DB <- CellChatDB\n",
    "  cellchat_list[[i]] <- subsetData(cellchat_list[[i]])           # subset relevant genes\n",
    "  cellchat_list[[i]] <- identifyOverExpressedGenes(cellchat_list[[i]])\n",
    "  cellchat_list[[i]] <- identifyOverExpressedInteractions(cellchat_list[[i]])\n",
    "  cellchat_list[[i]] <- computeCommunProb(cellchat_list[[i]])\n",
    "  cellchat_list[[i]] <- computeCommunProbPathway(cellchat_list[[i]])\n",
    "  cellchat_list[[i]] <- aggregateNet(cellchat_list[[i]])\n",
    "}\n"
   ]
  },
  {
   "cell_type": "code",
   "execution_count": 34,
   "id": "d965a1c5",
   "metadata": {
    "vscode": {
     "languageId": "r"
    }
   },
   "outputs": [
    {
     "data": {
      "text/html": [
       "<table class=\"dataframe\">\n",
       "<caption>A data.frame: 6 × 12</caption>\n",
       "<thead>\n",
       "\t<tr><th></th><th scope=col>sample</th><th scope=col>source</th><th scope=col>target</th><th scope=col>ligand</th><th scope=col>receptor</th><th scope=col>prob</th><th scope=col>pval</th><th scope=col>interaction_name</th><th scope=col>interaction_name_2</th><th scope=col>pathway_name</th><th scope=col>annotation</th><th scope=col>evidence</th></tr>\n",
       "\t<tr><th></th><th scope=col>&lt;chr&gt;</th><th scope=col>&lt;fct&gt;</th><th scope=col>&lt;fct&gt;</th><th scope=col>&lt;chr&gt;</th><th scope=col>&lt;chr&gt;</th><th scope=col>&lt;dbl&gt;</th><th scope=col>&lt;dbl&gt;</th><th scope=col>&lt;fct&gt;</th><th scope=col>&lt;chr&gt;</th><th scope=col>&lt;chr&gt;</th><th scope=col>&lt;chr&gt;</th><th scope=col>&lt;chr&gt;</th></tr>\n",
       "</thead>\n",
       "<tbody>\n",
       "\t<tr><th scope=row>1</th><td>OV_1</td><td>B naive activated</td><td>B naive activated</td><td>Tgfb1</td><td>TGFbR1_R2</td><td>0.02177701</td><td>0</td><td>TGFB1_TGFBR1_TGFBR2</td><td>Tgfb1 - (Tgfbr1+Tgfbr2)</td><td>TGFb</td><td>Secreted Signaling</td><td>KEGG: mmu04350</td></tr>\n",
       "\t<tr><th scope=row>2</th><td>OV_1</td><td>B naive resting  </td><td>B naive activated</td><td>Tgfb1</td><td>TGFbR1_R2</td><td>0.02292956</td><td>0</td><td>TGFB1_TGFBR1_TGFBR2</td><td>Tgfb1 - (Tgfbr1+Tgfbr2)</td><td>TGFb</td><td>Secreted Signaling</td><td>KEGG: mmu04350</td></tr>\n",
       "\t<tr><th scope=row>3</th><td>OV_1</td><td>CD4              </td><td>B naive activated</td><td>Tgfb1</td><td>TGFbR1_R2</td><td>0.01804501</td><td>0</td><td>TGFB1_TGFBR1_TGFBR2</td><td>Tgfb1 - (Tgfbr1+Tgfbr2)</td><td>TGFb</td><td>Secreted Signaling</td><td>KEGG: mmu04350</td></tr>\n",
       "\t<tr><th scope=row>4</th><td>OV_1</td><td>CD8              </td><td>B naive activated</td><td>Tgfb1</td><td>TGFbR1_R2</td><td>0.02235130</td><td>0</td><td>TGFB1_TGFBR1_TGFBR2</td><td>Tgfb1 - (Tgfbr1+Tgfbr2)</td><td>TGFb</td><td>Secreted Signaling</td><td>KEGG: mmu04350</td></tr>\n",
       "\t<tr><th scope=row>5</th><td>OV_1</td><td>Dendritic Cells  </td><td>B naive activated</td><td>Tgfb1</td><td>TGFbR1_R2</td><td>0.01184832</td><td>0</td><td>TGFB1_TGFBR1_TGFBR2</td><td>Tgfb1 - (Tgfbr1+Tgfbr2)</td><td>TGFb</td><td>Secreted Signaling</td><td>KEGG: mmu04350</td></tr>\n",
       "\t<tr><th scope=row>6</th><td>OV_1</td><td>Endothelial      </td><td>B naive activated</td><td>Tgfb1</td><td>TGFbR1_R2</td><td>0.01188053</td><td>0</td><td>TGFB1_TGFBR1_TGFBR2</td><td>Tgfb1 - (Tgfbr1+Tgfbr2)</td><td>TGFb</td><td>Secreted Signaling</td><td>KEGG: mmu04350</td></tr>\n",
       "</tbody>\n",
       "</table>\n"
      ],
      "text/latex": [
       "A data.frame: 6 × 12\n",
       "\\begin{tabular}{r|llllllllllll}\n",
       "  & sample & source & target & ligand & receptor & prob & pval & interaction\\_name & interaction\\_name\\_2 & pathway\\_name & annotation & evidence\\\\\n",
       "  & <chr> & <fct> & <fct> & <chr> & <chr> & <dbl> & <dbl> & <fct> & <chr> & <chr> & <chr> & <chr>\\\\\n",
       "\\hline\n",
       "\t1 & OV\\_1 & B naive activated & B naive activated & Tgfb1 & TGFbR1\\_R2 & 0.02177701 & 0 & TGFB1\\_TGFBR1\\_TGFBR2 & Tgfb1 - (Tgfbr1+Tgfbr2) & TGFb & Secreted Signaling & KEGG: mmu04350\\\\\n",
       "\t2 & OV\\_1 & B naive resting   & B naive activated & Tgfb1 & TGFbR1\\_R2 & 0.02292956 & 0 & TGFB1\\_TGFBR1\\_TGFBR2 & Tgfb1 - (Tgfbr1+Tgfbr2) & TGFb & Secreted Signaling & KEGG: mmu04350\\\\\n",
       "\t3 & OV\\_1 & CD4               & B naive activated & Tgfb1 & TGFbR1\\_R2 & 0.01804501 & 0 & TGFB1\\_TGFBR1\\_TGFBR2 & Tgfb1 - (Tgfbr1+Tgfbr2) & TGFb & Secreted Signaling & KEGG: mmu04350\\\\\n",
       "\t4 & OV\\_1 & CD8               & B naive activated & Tgfb1 & TGFbR1\\_R2 & 0.02235130 & 0 & TGFB1\\_TGFBR1\\_TGFBR2 & Tgfb1 - (Tgfbr1+Tgfbr2) & TGFb & Secreted Signaling & KEGG: mmu04350\\\\\n",
       "\t5 & OV\\_1 & Dendritic Cells   & B naive activated & Tgfb1 & TGFbR1\\_R2 & 0.01184832 & 0 & TGFB1\\_TGFBR1\\_TGFBR2 & Tgfb1 - (Tgfbr1+Tgfbr2) & TGFb & Secreted Signaling & KEGG: mmu04350\\\\\n",
       "\t6 & OV\\_1 & Endothelial       & B naive activated & Tgfb1 & TGFbR1\\_R2 & 0.01188053 & 0 & TGFB1\\_TGFBR1\\_TGFBR2 & Tgfb1 - (Tgfbr1+Tgfbr2) & TGFb & Secreted Signaling & KEGG: mmu04350\\\\\n",
       "\\end{tabular}\n"
      ],
      "text/markdown": [
       "\n",
       "A data.frame: 6 × 12\n",
       "\n",
       "| <!--/--> | sample &lt;chr&gt; | source &lt;fct&gt; | target &lt;fct&gt; | ligand &lt;chr&gt; | receptor &lt;chr&gt; | prob &lt;dbl&gt; | pval &lt;dbl&gt; | interaction_name &lt;fct&gt; | interaction_name_2 &lt;chr&gt; | pathway_name &lt;chr&gt; | annotation &lt;chr&gt; | evidence &lt;chr&gt; |\n",
       "|---|---|---|---|---|---|---|---|---|---|---|---|---|\n",
       "| 1 | OV_1 | B naive activated | B naive activated | Tgfb1 | TGFbR1_R2 | 0.02177701 | 0 | TGFB1_TGFBR1_TGFBR2 | Tgfb1 - (Tgfbr1+Tgfbr2) | TGFb | Secreted Signaling | KEGG: mmu04350 |\n",
       "| 2 | OV_1 | B naive resting   | B naive activated | Tgfb1 | TGFbR1_R2 | 0.02292956 | 0 | TGFB1_TGFBR1_TGFBR2 | Tgfb1 - (Tgfbr1+Tgfbr2) | TGFb | Secreted Signaling | KEGG: mmu04350 |\n",
       "| 3 | OV_1 | CD4               | B naive activated | Tgfb1 | TGFbR1_R2 | 0.01804501 | 0 | TGFB1_TGFBR1_TGFBR2 | Tgfb1 - (Tgfbr1+Tgfbr2) | TGFb | Secreted Signaling | KEGG: mmu04350 |\n",
       "| 4 | OV_1 | CD8               | B naive activated | Tgfb1 | TGFbR1_R2 | 0.02235130 | 0 | TGFB1_TGFBR1_TGFBR2 | Tgfb1 - (Tgfbr1+Tgfbr2) | TGFb | Secreted Signaling | KEGG: mmu04350 |\n",
       "| 5 | OV_1 | Dendritic Cells   | B naive activated | Tgfb1 | TGFbR1_R2 | 0.01184832 | 0 | TGFB1_TGFBR1_TGFBR2 | Tgfb1 - (Tgfbr1+Tgfbr2) | TGFb | Secreted Signaling | KEGG: mmu04350 |\n",
       "| 6 | OV_1 | Endothelial       | B naive activated | Tgfb1 | TGFbR1_R2 | 0.01188053 | 0 | TGFB1_TGFBR1_TGFBR2 | Tgfb1 - (Tgfbr1+Tgfbr2) | TGFb | Secreted Signaling | KEGG: mmu04350 |\n",
       "\n"
      ],
      "text/plain": [
       "  sample source            target            ligand receptor  prob       pval\n",
       "1 OV_1   B naive activated B naive activated Tgfb1  TGFbR1_R2 0.02177701 0   \n",
       "2 OV_1   B naive resting   B naive activated Tgfb1  TGFbR1_R2 0.02292956 0   \n",
       "3 OV_1   CD4               B naive activated Tgfb1  TGFbR1_R2 0.01804501 0   \n",
       "4 OV_1   CD8               B naive activated Tgfb1  TGFbR1_R2 0.02235130 0   \n",
       "5 OV_1   Dendritic Cells   B naive activated Tgfb1  TGFbR1_R2 0.01184832 0   \n",
       "6 OV_1   Endothelial       B naive activated Tgfb1  TGFbR1_R2 0.01188053 0   \n",
       "  interaction_name    interaction_name_2      pathway_name annotation        \n",
       "1 TGFB1_TGFBR1_TGFBR2 Tgfb1 - (Tgfbr1+Tgfbr2) TGFb         Secreted Signaling\n",
       "2 TGFB1_TGFBR1_TGFBR2 Tgfb1 - (Tgfbr1+Tgfbr2) TGFb         Secreted Signaling\n",
       "3 TGFB1_TGFBR1_TGFBR2 Tgfb1 - (Tgfbr1+Tgfbr2) TGFb         Secreted Signaling\n",
       "4 TGFB1_TGFBR1_TGFBR2 Tgfb1 - (Tgfbr1+Tgfbr2) TGFb         Secreted Signaling\n",
       "5 TGFB1_TGFBR1_TGFBR2 Tgfb1 - (Tgfbr1+Tgfbr2) TGFb         Secreted Signaling\n",
       "6 TGFB1_TGFBR1_TGFBR2 Tgfb1 - (Tgfbr1+Tgfbr2) TGFb         Secreted Signaling\n",
       "  evidence      \n",
       "1 KEGG: mmu04350\n",
       "2 KEGG: mmu04350\n",
       "3 KEGG: mmu04350\n",
       "4 KEGG: mmu04350\n",
       "5 KEGG: mmu04350\n",
       "6 KEGG: mmu04350"
      ]
     },
     "metadata": {},
     "output_type": "display_data"
    }
   ],
   "source": [
    "\n",
    "comm_list=list()\n",
    "\n",
    "for (sample_name in names(cellchat_list)) {\n",
    "  cellchat <- cellchat_list[[sample_name]]\n",
    "  \n",
    "  # Extract all significant interactions\n",
    "  comm <- subsetCommunication(cellchat)\n",
    "  \n",
    "  # Save to CSV\n",
    "  write.csv(\n",
    "    comm,\n",
    "    file = file.path(results_folder, paste0(sample_name, \"_cellchat_all_interactions.csv\")),\n",
    "    row.names = FALSE\n",
    "  )\n",
    "  \n",
    "  # Store in a list for later combination\n",
    "  comm_list[[sample_name]] <- comm\n",
    "}\n",
    "\n",
    "# --- Optional: combine all into one dataframe ---\n",
    "comm_all <- bind_rows(comm_list, .id = \"sample\")\n",
    "\n",
    "# Quick preview\n",
    "head(comm_all)"
   ]
  },
  {
   "cell_type": "code",
   "execution_count": null,
   "id": "abe60b70",
   "metadata": {
    "vscode": {
     "languageId": "r"
    }
   },
   "outputs": [
    {
     "name": "stderr",
     "output_type": "stream",
     "text": [
      "Loading required package: viridisLite\n",
      "\n"
     ]
    },
    {
     "data": {
      "text/html": [
       "<strong>agg_record_559351520:</strong> 2"
      ],
      "text/latex": [
       "\\textbf{agg\\textbackslash{}\\_record\\textbackslash{}\\_559351520:} 2"
      ],
      "text/markdown": [
       "**agg_record_559351520:** 2"
      ],
      "text/plain": [
       "agg_record_559351520 \n",
       "                   2 "
      ]
     },
     "metadata": {},
     "output_type": "display_data"
    },
    {
     "data": {
      "text/html": [
       "<strong>agg_record_559351520:</strong> 2"
      ],
      "text/latex": [
       "\\textbf{agg\\textbackslash{}\\_record\\textbackslash{}\\_559351520:} 2"
      ],
      "text/markdown": [
       "**agg_record_559351520:** 2"
      ],
      "text/plain": [
       "agg_record_559351520 \n",
       "                   2 "
      ]
     },
     "metadata": {},
     "output_type": "display_data"
    },
    {
     "name": "stderr",
     "output_type": "stream",
     "text": [
      "gene not found:ITGA4_ITGB1\n",
      "\n",
      "gene not found:ITGAV_ITGB1\n",
      "\n"
     ]
    }
   ],
   "source": [
    "# ...existing code...\n",
    "\n",
    "# pick a CellChat/Seurat object that has expression + metadata + coords\n",
    "cc_obj <- if (exists(\"cellchat\")) cellchat else if (exists(\"cellchat_list\")) cellchat_list[[1]] else stop(\"no cellchat object found\")\n",
    "expr_mat <- as.matrix(cc_obj@data)            # genes x cells\n",
    "meta_df   <- cc_obj@meta                       # metadata; rows = cell names\n",
    "\n",
    "# detect coordinate columns\n",
    "coords_cols <- intersect(c(\"coord_x\",\"coord_y\",\"x\",\"y\"), colnames(meta_df))\n",
    "if (length(coords_cols) < 2) stop(\"no coord columns found in metadata (coord_x/coord_y or x/y)\")\n",
    "\n",
    "# helper to highlight tumour and CD8 cells\n",
    "is_tumour <- function(x) grepl(\"Tumou?r|Tumor|Cancer\", x, ignore.case = TRUE)\n",
    "is_cd8    <- function(x) grepl(\"CD8\", x, ignore.case = TRUE)\n",
    "\n",
    "meta_df <- meta_df %>%\n",
    "  mutate(cell_type_label = if (\"cell_type\" %in% colnames(meta_df)) as.character(cell_type) else as.character(ident),\n",
    "         is_tumour = is_tumour(cell_type_label),\n",
    "         is_cd8   = is_cd8(cell_type_label))\n",
    "\n",
    "# spatial plot for one gene (inline + save)\n",
    "plot_spatial_gene_pair <- function(gene, prefix = \"spatial\", save_to = NULL) {\n",
    "  if (! gene %in% rownames(expr_mat)) {\n",
    "    message(\"gene not found: \", gene); return(NULL)\n",
    "  }\n",
    "  tmp <- meta_df\n",
    "  tmp$expr <- as.numeric(expr_mat[gene, rownames(tmp)])\n",
    "  # expression heatmap\n",
    "  p_expr <- ggplot(tmp, aes_string(x = coords_cols[1], y = coords_cols[2], color = \"expr\")) +\n",
    "    geom_point(size = 0.7) + scale_color_viridis_c(option = \"viridis\") +\n",
    "    coord_fixed() + ggtitle(paste0(gene, \" expression\")) + theme_minimal() +\n",
    "    theme(axis.title = element_blank())\n",
    "  # highlight tumour vs CD8\n",
    "  tmp$label <- case_when(tmp$is_tumour ~ \"Tumour\",\n",
    "                         tmp$is_cd8   ~ \"CD8\",\n",
    "                         TRUE          ~ \"Other\")\n",
    "  p_label <- ggplot(tmp, aes_string(x = coords_cols[1], y = coords_cols[2])) +\n",
    "    geom_point(aes(color = label), size = 0.7) +\n",
    "    scale_color_manual(values = c(\"Tumour\" = \"red\", \"CD8\" = \"blue\", \"Other\" = \"grey70\")) +\n",
    "    coord_fixed() + ggtitle(\"Tumour / CD8 locations\") + theme_minimal() +\n",
    "    theme(axis.title = element_blank(), legend.position = \"right\")\n",
    "  combo <- p_expr + p_label + plot_layout(ncol = 2, widths = c(1,0.8))\n",
    "  if (!is.null(save_to)) ggsave(filename = save_to, plot = combo, width = 10, height = 5, dpi = 150)\n",
    "  return(combo)\n",
    "}\n",
    "\n",
    "# genes of interest (from your interaction list)\n",
    "genes <- c(\"Pvr\",\"Cd226\",\"Raet1e\",\"Ulbp1\",\"Nectin2\",\"Cd8a\",\"Cd8b1\",\"H2-D1\",\"Cxcl16\",\"Cxcr6\",\"Clec2d\",\"Klrb1b\",\"Klrk1\",\"Hcst\")\n",
    "\n",
    "# quick check which are present\n",
    "present <- genes[genes %in% rownames(expr_mat)]\n",
    "missing <- setdiff(genes, present)\n",
    "message(\"present: \", paste(present, collapse = \", \"))\n",
    "if (length(missing)) message(\"missing (not found in expr): \", paste(missing, collapse = \", \"))\n",
    "\n",
    "# plot and save each (files saved to results_folder)\n",
    "for (g in present) {\n",
    "  out_file <- file.path(results_folder, paste0(\"spatial_\", g, \".png\"))\n",
    "  p <- plot_spatial_gene_pair(g, save_to = out_file)\n",
    "  print(p)   # show inline in notebook\n",
    "}"
   ]
  },
  {
   "cell_type": "markdown",
   "id": "1e2efb05",
   "metadata": {},
   "source": [
    "previous attempts below"
   ]
  },
  {
   "cell_type": "code",
   "execution_count": null,
   "id": "57641b9b",
   "metadata": {
    "vscode": {
     "languageId": "r"
    }
   },
   "outputs": [],
   "source": [
    "adata_vis_match[[1]]@assays$RNA@data[1:5,1:5]"
   ]
  },
  {
   "cell_type": "code",
   "execution_count": null,
   "id": "c929785c",
   "metadata": {
    "vscode": {
     "languageId": "r"
    }
   },
   "outputs": [],
   "source": [
    "distMats <- lapply(cellTrekObs, function(ctOb){\n",
    "    obCoord <- as.matrix(ctOb@meta.data[,c(\"coord_x\", \"coord_y\")])\n",
    "    obDist <- CellChat::computeRegionDistance(obCoord,\n",
    "                                              meta = ctOb@meta.data,\n",
    "                                              contact.knn.k=10)\n",
    "    return(obDist)\n",
    "})"
   ]
  },
  {
   "cell_type": "markdown",
   "id": "20d0c634",
   "metadata": {
    "vscode": {
     "languageId": "r"
    }
   },
   "source": [
    "The above is seeing if it will work if I load Ollie's version unprocessed, still no result"
   ]
  },
  {
   "cell_type": "code",
   "execution_count": null,
   "id": "fa463a17",
   "metadata": {
    "vscode": {
     "languageId": "r"
    }
   },
   "outputs": [],
   "source": [
    "#local\n",
    "cell2loc = '/run/user/1804238067/gvfs/sftp:host=clust1-sub-1,user=lythgo02/mnt/scratchc/fmlab/lythgo02/OV_visium/emily/cell2location/cellTrek/'\n",
    "ov_visium = '/run/user/1804238067/gvfs/sftp:host=clust1-sub-1,user=lythgo02/mnt/scratchc/fmlab/lythgo02/OV_visium/emily/cell2location/cellTrek/'\n",
    "\n",
    "#### Load Visium Data\n",
    "ovVis <- readRDS(paste0(ov_visium, \"celltrek_results.rds\"))  #version of Ollie's filtered against mine\n",
    "\n",
    "#### Load scRNA-seq\n",
    "ovSc <- readRDS(\"/home/lythgo02/Documents/OV_visium/upk10_sc_400_newlyAnnot.rds\")"
   ]
  },
  {
   "cell_type": "code",
   "execution_count": null,
   "id": "9853df96",
   "metadata": {
    "vscode": {
     "languageId": "r"
    }
   },
   "outputs": [],
   "source": [
    "#convert updated annotation to factor with levels organised in alphabetical order for plotting purposes \n",
    "ovVis <- lapply(ovVis, function(i){\n",
    "    i$cell_type <- ifelse(grepl(\"Tumour\", i$updated_annotation), \"Tumour\",  #collapse tumour 1,2,3 subgroups into one \n",
    "                                    i$updated_annotation)  \n",
    "    i$cell_type <- factor(i$cell_type,\n",
    "                                    levels=sort(unique(i$cell_type)))                                                        \n",
    "    return(i)\n",
    "})"
   ]
  },
  {
   "cell_type": "code",
   "execution_count": null,
   "id": "e3ce424f",
   "metadata": {
    "vscode": {
     "languageId": "r"
    }
   },
   "outputs": [],
   "source": [
    "\n",
    "ovVis <- lapply(ovVis, function(ovCellTrek) {\n",
    "    cell_type <- as.character(ovCellTrek@meta.data$cell_type)\n",
    "\n",
    "    #merge categories with consistently low counts across samples\n",
    "    cell_type[grepl(\"Th\", cell_type)] <- \"T-helper\"\n",
    "    cell_type[grepl(\"Cycling\", cell_type)] <- \"Plasma Cells\"\n",
    "    # Add to metadata\n",
    "    ovCellTrek@meta.data$cell_type_collapsed <- factor(cell_type)\n",
    "\n",
    "    return(ovCellTrek)\n",
    "})"
   ]
  },
  {
   "cell_type": "code",
   "execution_count": null,
   "id": "ed93c0f3",
   "metadata": {
    "vscode": {
     "languageId": "r"
    }
   },
   "outputs": [
    {
     "data": {
      "text/html": [
       "<style>\n",
       ".list-inline {list-style: none; margin:0; padding: 0}\n",
       ".list-inline>li {display: inline-block}\n",
       ".list-inline>li:not(:last-child)::after {content: \"\\00b7\"; padding: 0 .5ex}\n",
       "</style>\n",
       "<ol class=list-inline><li>'orig.ident'</li><li>'nCount_RNA'</li><li>'nFeature_RNA'</li><li>'nCount_originalexp'</li><li>'nFeature_originalexp'</li><li>'percentMt'</li><li>'nCount_SCT'</li><li>'nFeature_SCT'</li><li>'SCT_snn_res.1'</li><li>'seurat_clusters'</li><li>'pANN_0.25_0.19_161'</li><li>'DF.classifications_0.25_0.19_161'</li><li>'doublet_classification'</li><li>'CellAssign'</li><li>'Treatment'</li><li>'Cell_Type'</li><li>'newAnnot'</li><li>'newAnnot_1'</li><li>'inferCNV_Score'</li><li>'inferCNV_Class'</li><li>'Final_Annotation'</li><li>'CopyKat'</li><li>'newAnnot_2'</li><li>'pANN_0.25_0.05_197'</li><li>'DF.classifications_0.25_0.05_197'</li><li>'pANN_0.25_0.19_227'</li><li>'DF.classifications_0.25_0.19_227'</li><li>'pANN_0.25_0.06_117'</li><li>'DF.classifications_0.25_0.06_117'</li><li>'pANN_0.25_0.28_314'</li><li>'DF.classifications_0.25_0.28_314'</li><li>'SCT_snn_res.0.5'</li><li>'ident'</li><li>'updated_annotation'</li><li>'X_indices'</li><li>'X_scvi_batch'</li><li>'X_scvi_labels'</li><li>'id_raw'</li><li>'id_new'</li><li>'coord_x'</li><li>'coord_y'</li><li>'cell_type'</li><li>'cell_type_collapsed'</li></ol>\n"
      ],
      "text/latex": [
       "\\begin{enumerate*}\n",
       "\\item 'orig.ident'\n",
       "\\item 'nCount\\_RNA'\n",
       "\\item 'nFeature\\_RNA'\n",
       "\\item 'nCount\\_originalexp'\n",
       "\\item 'nFeature\\_originalexp'\n",
       "\\item 'percentMt'\n",
       "\\item 'nCount\\_SCT'\n",
       "\\item 'nFeature\\_SCT'\n",
       "\\item 'SCT\\_snn\\_res.1'\n",
       "\\item 'seurat\\_clusters'\n",
       "\\item 'pANN\\_0.25\\_0.19\\_161'\n",
       "\\item 'DF.classifications\\_0.25\\_0.19\\_161'\n",
       "\\item 'doublet\\_classification'\n",
       "\\item 'CellAssign'\n",
       "\\item 'Treatment'\n",
       "\\item 'Cell\\_Type'\n",
       "\\item 'newAnnot'\n",
       "\\item 'newAnnot\\_1'\n",
       "\\item 'inferCNV\\_Score'\n",
       "\\item 'inferCNV\\_Class'\n",
       "\\item 'Final\\_Annotation'\n",
       "\\item 'CopyKat'\n",
       "\\item 'newAnnot\\_2'\n",
       "\\item 'pANN\\_0.25\\_0.05\\_197'\n",
       "\\item 'DF.classifications\\_0.25\\_0.05\\_197'\n",
       "\\item 'pANN\\_0.25\\_0.19\\_227'\n",
       "\\item 'DF.classifications\\_0.25\\_0.19\\_227'\n",
       "\\item 'pANN\\_0.25\\_0.06\\_117'\n",
       "\\item 'DF.classifications\\_0.25\\_0.06\\_117'\n",
       "\\item 'pANN\\_0.25\\_0.28\\_314'\n",
       "\\item 'DF.classifications\\_0.25\\_0.28\\_314'\n",
       "\\item 'SCT\\_snn\\_res.0.5'\n",
       "\\item 'ident'\n",
       "\\item 'updated\\_annotation'\n",
       "\\item 'X\\_indices'\n",
       "\\item 'X\\_scvi\\_batch'\n",
       "\\item 'X\\_scvi\\_labels'\n",
       "\\item 'id\\_raw'\n",
       "\\item 'id\\_new'\n",
       "\\item 'coord\\_x'\n",
       "\\item 'coord\\_y'\n",
       "\\item 'cell\\_type'\n",
       "\\item 'cell\\_type\\_collapsed'\n",
       "\\end{enumerate*}\n"
      ],
      "text/markdown": [
       "1. 'orig.ident'\n",
       "2. 'nCount_RNA'\n",
       "3. 'nFeature_RNA'\n",
       "4. 'nCount_originalexp'\n",
       "5. 'nFeature_originalexp'\n",
       "6. 'percentMt'\n",
       "7. 'nCount_SCT'\n",
       "8. 'nFeature_SCT'\n",
       "9. 'SCT_snn_res.1'\n",
       "10. 'seurat_clusters'\n",
       "11. 'pANN_0.25_0.19_161'\n",
       "12. 'DF.classifications_0.25_0.19_161'\n",
       "13. 'doublet_classification'\n",
       "14. 'CellAssign'\n",
       "15. 'Treatment'\n",
       "16. 'Cell_Type'\n",
       "17. 'newAnnot'\n",
       "18. 'newAnnot_1'\n",
       "19. 'inferCNV_Score'\n",
       "20. 'inferCNV_Class'\n",
       "21. 'Final_Annotation'\n",
       "22. 'CopyKat'\n",
       "23. 'newAnnot_2'\n",
       "24. 'pANN_0.25_0.05_197'\n",
       "25. 'DF.classifications_0.25_0.05_197'\n",
       "26. 'pANN_0.25_0.19_227'\n",
       "27. 'DF.classifications_0.25_0.19_227'\n",
       "28. 'pANN_0.25_0.06_117'\n",
       "29. 'DF.classifications_0.25_0.06_117'\n",
       "30. 'pANN_0.25_0.28_314'\n",
       "31. 'DF.classifications_0.25_0.28_314'\n",
       "32. 'SCT_snn_res.0.5'\n",
       "33. 'ident'\n",
       "34. 'updated_annotation'\n",
       "35. 'X_indices'\n",
       "36. 'X_scvi_batch'\n",
       "37. 'X_scvi_labels'\n",
       "38. 'id_raw'\n",
       "39. 'id_new'\n",
       "40. 'coord_x'\n",
       "41. 'coord_y'\n",
       "42. 'cell_type'\n",
       "43. 'cell_type_collapsed'\n",
       "\n",
       "\n"
      ],
      "text/plain": [
       " [1] \"orig.ident\"                       \"nCount_RNA\"                      \n",
       " [3] \"nFeature_RNA\"                     \"nCount_originalexp\"              \n",
       " [5] \"nFeature_originalexp\"             \"percentMt\"                       \n",
       " [7] \"nCount_SCT\"                       \"nFeature_SCT\"                    \n",
       " [9] \"SCT_snn_res.1\"                    \"seurat_clusters\"                 \n",
       "[11] \"pANN_0.25_0.19_161\"               \"DF.classifications_0.25_0.19_161\"\n",
       "[13] \"doublet_classification\"           \"CellAssign\"                      \n",
       "[15] \"Treatment\"                        \"Cell_Type\"                       \n",
       "[17] \"newAnnot\"                         \"newAnnot_1\"                      \n",
       "[19] \"inferCNV_Score\"                   \"inferCNV_Class\"                  \n",
       "[21] \"Final_Annotation\"                 \"CopyKat\"                         \n",
       "[23] \"newAnnot_2\"                       \"pANN_0.25_0.05_197\"              \n",
       "[25] \"DF.classifications_0.25_0.05_197\" \"pANN_0.25_0.19_227\"              \n",
       "[27] \"DF.classifications_0.25_0.19_227\" \"pANN_0.25_0.06_117\"              \n",
       "[29] \"DF.classifications_0.25_0.06_117\" \"pANN_0.25_0.28_314\"              \n",
       "[31] \"DF.classifications_0.25_0.28_314\" \"SCT_snn_res.0.5\"                 \n",
       "[33] \"ident\"                            \"updated_annotation\"              \n",
       "[35] \"X_indices\"                        \"X_scvi_batch\"                    \n",
       "[37] \"X_scvi_labels\"                    \"id_raw\"                          \n",
       "[39] \"id_new\"                           \"coord_x\"                         \n",
       "[41] \"coord_y\"                          \"cell_type\"                       \n",
       "[43] \"cell_type_collapsed\"             "
      ]
     },
     "metadata": {},
     "output_type": "display_data"
    },
    {
     "data": {
      "text/html": [
       "<style>\n",
       ".list-inline {list-style: none; margin:0; padding: 0}\n",
       ".list-inline>li {display: inline-block}\n",
       ".list-inline>li:not(:last-child)::after {content: \"\\00b7\"; padding: 0 .5ex}\n",
       "</style>\n",
       "<ol class=list-inline><li>Tumour</li><li>Macrophage</li><li>Monocytes</li><li>Th17</li><li>CD4</li><li>CD8</li><li>Mesenchymal</li><li>Dendritic Cells</li><li>Plasma Cells</li><li>B naive activated</li><li>NK_cell</li><li>Endothelial</li><li>Treg</li><li>Cycling Plasma Cells</li><li>B naive resting</li><li>Th1</li><li>Neutrophils</li></ol>\n",
       "\n",
       "<details>\n",
       "\t<summary style=display:list-item;cursor:pointer>\n",
       "\t\t<strong>Levels</strong>:\n",
       "\t</summary>\n",
       "\t<style>\n",
       "\t.list-inline {list-style: none; margin:0; padding: 0}\n",
       "\t.list-inline>li {display: inline-block}\n",
       "\t.list-inline>li:not(:last-child)::after {content: \"\\00b7\"; padding: 0 .5ex}\n",
       "\t</style>\n",
       "\t<ol class=list-inline><li>'B naive activated'</li><li>'B naive resting'</li><li>'CD4'</li><li>'CD8'</li><li>'Cycling Plasma Cells'</li><li>'Dendritic Cells'</li><li>'Endothelial'</li><li>'Macrophage'</li><li>'Mesenchymal'</li><li>'Monocytes'</li><li>'Neutrophils'</li><li>'NK_cell'</li><li>'Plasma Cells'</li><li>'Th1'</li><li>'Th17'</li><li>'Treg'</li><li>'Tumour'</li></ol>\n",
       "</details>"
      ],
      "text/latex": [
       "\\begin{enumerate*}\n",
       "\\item Tumour\n",
       "\\item Macrophage\n",
       "\\item Monocytes\n",
       "\\item Th17\n",
       "\\item CD4\n",
       "\\item CD8\n",
       "\\item Mesenchymal\n",
       "\\item Dendritic Cells\n",
       "\\item Plasma Cells\n",
       "\\item B naive activated\n",
       "\\item NK\\_cell\n",
       "\\item Endothelial\n",
       "\\item Treg\n",
       "\\item Cycling Plasma Cells\n",
       "\\item B naive resting\n",
       "\\item Th1\n",
       "\\item Neutrophils\n",
       "\\end{enumerate*}\n",
       "\n",
       "\\emph{Levels}: \\begin{enumerate*}\n",
       "\\item 'B naive activated'\n",
       "\\item 'B naive resting'\n",
       "\\item 'CD4'\n",
       "\\item 'CD8'\n",
       "\\item 'Cycling Plasma Cells'\n",
       "\\item 'Dendritic Cells'\n",
       "\\item 'Endothelial'\n",
       "\\item 'Macrophage'\n",
       "\\item 'Mesenchymal'\n",
       "\\item 'Monocytes'\n",
       "\\item 'Neutrophils'\n",
       "\\item 'NK\\_cell'\n",
       "\\item 'Plasma Cells'\n",
       "\\item 'Th1'\n",
       "\\item 'Th17'\n",
       "\\item 'Treg'\n",
       "\\item 'Tumour'\n",
       "\\end{enumerate*}\n"
      ],
      "text/markdown": [
       "1. Tumour\n",
       "2. Macrophage\n",
       "3. Monocytes\n",
       "4. Th17\n",
       "5. CD4\n",
       "6. CD8\n",
       "7. Mesenchymal\n",
       "8. Dendritic Cells\n",
       "9. Plasma Cells\n",
       "10. B naive activated\n",
       "11. NK_cell\n",
       "12. Endothelial\n",
       "13. Treg\n",
       "14. Cycling Plasma Cells\n",
       "15. B naive resting\n",
       "16. Th1\n",
       "17. Neutrophils\n",
       "\n",
       "\n",
       "\n",
       "**Levels**: 1. 'B naive activated'\n",
       "2. 'B naive resting'\n",
       "3. 'CD4'\n",
       "4. 'CD8'\n",
       "5. 'Cycling Plasma Cells'\n",
       "6. 'Dendritic Cells'\n",
       "7. 'Endothelial'\n",
       "8. 'Macrophage'\n",
       "9. 'Mesenchymal'\n",
       "10. 'Monocytes'\n",
       "11. 'Neutrophils'\n",
       "12. 'NK_cell'\n",
       "13. 'Plasma Cells'\n",
       "14. 'Th1'\n",
       "15. 'Th17'\n",
       "16. 'Treg'\n",
       "17. 'Tumour'\n",
       "\n",
       "\n"
      ],
      "text/plain": [
       " [1] Tumour               Macrophage           Monocytes           \n",
       " [4] Th17                 CD4                  CD8                 \n",
       " [7] Mesenchymal          Dendritic Cells      Plasma Cells        \n",
       "[10] B naive activated    NK_cell              Endothelial         \n",
       "[13] Treg                 Cycling Plasma Cells B naive resting     \n",
       "[16] Th1                  Neutrophils         \n",
       "17 Levels: B naive activated B naive resting CD4 CD8 ... Tumour"
      ]
     },
     "metadata": {},
     "output_type": "display_data"
    },
    {
     "data": {
      "text/plain": [
       "   Min. 1st Qu.  Median    Mean 3rd Qu.    Max. \n",
       "   8682   11999   14394   14429   16742   20581 "
      ]
     },
     "metadata": {},
     "output_type": "display_data"
    },
    {
     "data": {
      "text/plain": [
       "$spot\n",
       "[1] 0.06443299\n",
       "\n",
       "$fiducial\n",
       "[1] 415.707\n",
       "\n",
       "$hires\n",
       "[1] 0.06443299\n",
       "\n",
       "$lowres\n",
       "[1] 0.0193299\n",
       "\n",
       "$spot_dis\n",
       "[1] 397\n",
       "\n",
       "$spot_dis_intp\n",
       "[1] 396.0051\n",
       "\n",
       "attr(,\"class\")\n",
       "[1] \"scalefactors\""
      ]
     },
     "metadata": {},
     "output_type": "display_data"
    },
    {
     "data": {
      "text/html": [
       "0.01339262179412"
      ],
      "text/latex": [
       "0.01339262179412"
      ],
      "text/markdown": [
       "0.01339262179412"
      ],
      "text/plain": [
       "[1] 0.01339262"
      ]
     },
     "metadata": {},
     "output_type": "display_data"
    },
    {
     "data": {
      "text/html": [
       "<style>\n",
       ".list-inline {list-style: none; margin:0; padding: 0}\n",
       ".list-inline>li {display: inline-block}\n",
       ".list-inline>li:not(:last-child)::after {content: \"\\00b7\"; padding: 0 .5ex}\n",
       "</style>\n",
       "<ol class=list-inline><li>'counts'</li><li>'data'</li><li>'scale.data'</li><li>'key'</li><li>'assay.orig'</li><li>'var.features'</li><li>'meta.features'</li><li>'misc'</li></ol>\n"
      ],
      "text/latex": [
       "\\begin{enumerate*}\n",
       "\\item 'counts'\n",
       "\\item 'data'\n",
       "\\item 'scale.data'\n",
       "\\item 'key'\n",
       "\\item 'assay.orig'\n",
       "\\item 'var.features'\n",
       "\\item 'meta.features'\n",
       "\\item 'misc'\n",
       "\\end{enumerate*}\n"
      ],
      "text/markdown": [
       "1. 'counts'\n",
       "2. 'data'\n",
       "3. 'scale.data'\n",
       "4. 'key'\n",
       "5. 'assay.orig'\n",
       "6. 'var.features'\n",
       "7. 'meta.features'\n",
       "8. 'misc'\n",
       "\n",
       "\n"
      ],
      "text/plain": [
       "[1] \"counts\"        \"data\"          \"scale.data\"    \"key\"          \n",
       "[5] \"assay.orig\"    \"var.features\"  \"meta.features\" \"misc\"         "
      ]
     },
     "metadata": {},
     "output_type": "display_data"
    }
   ],
   "source": [
    "ov1 <- ovVis[[1]]\n",
    "colnames(ov1@meta.data)\n",
    "unique(ov1@meta.data$cell_type) #from celltrek\n",
    "summary(ov1@meta.data$coord_x) #dimensions in pixels so will need converting \n",
    "ov1@images$slice1@scale.factors\n",
    "ov1@images$slice1@spot.radius\n",
    "slotNames(ov1[[\"RNA\"]])\n"
   ]
  },
  {
   "cell_type": "markdown",
   "id": "c46387c1",
   "metadata": {},
   "source": [
    "Cellchat requires normalised data\n",
    " - Ollie appears to have previously used SCTransform which is from the same authors as Cellchat (Seurat lot)\n",
    " - In their workflow they appear to use SCT data but this is the residuals after regression (like Z-scaled), given they say to use log normalised data, not scaled, will use NormaliseData function \n",
    " - I am using the output from celltrek as input for cellchat so the normalised data is in obj[[\"RNA]]@data"
   ]
  },
  {
   "cell_type": "markdown",
   "id": "24e80765",
   "metadata": {},
   "source": [
    "Prepare inputs\n",
    "CHECK CONVERSION OF PIXEL TO UM - CHCK THE LOGIC\n",
    " - extract normalised expression values \n",
    " - create metadataframe with labels and treatments \n",
    " - convert spot pixel coordinates to um for spatial.locs"
   ]
  },
  {
   "cell_type": "code",
   "execution_count": null,
   "id": "5541ff3d",
   "metadata": {
    "vscode": {
     "languageId": "r"
    }
   },
   "outputs": [
    {
     "name": "stdout",
     "output_type": "stream",
     "text": [
      "Minimum NN distance (µm): 16.1544 \n",
      "Minimum NN distance (µm): 16.61242 \n",
      "Minimum NN distance (µm): 16.32836 \n",
      "Minimum NN distance (µm): 14.77146 \n",
      "Minimum NN distance (µm): 13.82296 \n",
      "Minimum NN distance (µm): 16.49941 \n"
     ]
    }
   ],
   "source": [
    "ovVis_input <- lapply(ovVis, function(x) {\n",
    "  # Extract normalized expression matrix\n",
    "  data.input <- GetAssayData(x, assay = \"RNA\", slot = \"data\")\n",
    "  \n",
    "  # Use full metadata from Seurat object directly for CellChat\n",
    "  meta.input <- x@meta.data\n",
    "  \n",
    "  # Convert pixel coordinates to microns\n",
    "  spot.size <- 65  # theoretical spot size in µm\n",
    "  pixel.diam <- x@images$slice1@scale.factors$spot_dis  # spot diameter in pixels\n",
    "  conversion.factor <- spot.size / pixel.diam           # µm per pixel\n",
    "  \n",
    "  spatial.locs <- as.matrix(meta.input[, c(\"coord_x\", \"coord_y\")]) * conversion.factor\n",
    "  colnames(spatial.locs) <- c(\"x\", \"y\")\n",
    "  \n",
    "  scale.factors <- list(\n",
    "  spot.diameter = 65,\n",
    "  spot = x@images$slice1@scale.factors$spot)  # 'spot' is the pixel diameter at full-res\n",
    "  \n",
    "  # QC: compute nearest-neighbor distances\n",
    "  d.spatial <- computeCellDistance(coordinates = spatial.locs,\n",
    "                                   ratio = 1, tol = spot.size/2)\n",
    "  cat(\"Minimum NN distance (µm):\", min(d.spatial[d.spatial != 0]), \"\\n\")\n",
    "  \n",
    "  # Return list with expression, metadata, spatial coordinates\n",
    "  list(data = data.input, meta = meta.input, spatial = spatial.locs, scale.factors=scale.factors)\n",
    "})\n",
    "\n"
   ]
  },
  {
   "cell_type": "markdown",
   "id": "dfae9b2b",
   "metadata": {},
   "source": [
    "Visium spots:\n",
    " - The center-to-center distance between spots is ~100 µm (this comes from the array design: ~65 µm spot diameter, ~100 µm spacing).\n",
    " - If you were plotting spot coordinates directly, the nearest-neighbor distances between spots should be ~100 µm.\n",
    " - CellTrek interpolates cells within each spot. Multiple cells can occupy a single spot or nearby positions so the NN distances between cells are smaller — ~10–20 µm; cell-to-cell rather than spot-to-spot \n",
    " - ~100 µm = nearest spots in Visium\n",
    " - ~14 µm = nearest mapped cells after CellTrek"
   ]
  },
  {
   "cell_type": "code",
   "execution_count": null,
   "id": "0338815a",
   "metadata": {
    "vscode": {
     "languageId": "r"
    }
   },
   "outputs": [],
   "source": [
    "head(ovVis_input$OV_1$meta)\n",
    "head(ovVis[[1]]@meta.data[, c(\"coord_x\", \"coord_y\")])  # raw pixel coords\n",
    "head(ovVis_input$OV_1$spatial)  \n",
    "head(ovVis_input$OV_1$data)\n",
    "ovVis_input$OV_1$scale.factors"
   ]
  },
  {
   "cell_type": "code",
   "execution_count": null,
   "id": "13a59304",
   "metadata": {
    "vscode": {
     "languageId": "r"
    }
   },
   "outputs": [],
   "source": [
    "ov1 <- ovVis_input[[1]]\n",
    "colnames(ov1$meta)\n",
    "all(rownames(meta) == rownames(coordinates))\n",
    "table(meta$group)\n",
    "nrow(ov1$spatial)"
   ]
  },
  {
   "cell_type": "code",
   "execution_count": null,
   "id": "80f94a74",
   "metadata": {
    "vscode": {
     "languageId": "r"
    }
   },
   "outputs": [
    {
     "data": {
      "image/png": "[encoded data removed]",
      "text/plain": [
       "plot without title"
      ]
     },
     "metadata": {
      "image/png": {
       "height": 420,
       "width": 420
      }
     },
     "output_type": "display_data"
    }
   ],
   "source": [
    "CellChatDB <- CellChatDB.mouse\n",
    "showDatabaseCategory(CellChatDB)"
   ]
  },
  {
   "cell_type": "markdown",
   "id": "b2c4e368",
   "metadata": {},
   "source": [
    "Pick the subset of the database that you actually want to use"
   ]
  },
  {
   "cell_type": "code",
   "execution_count": null,
   "id": "72780083",
   "metadata": {
    "vscode": {
     "languageId": "r"
    }
   },
   "outputs": [],
   "source": [
    "\n",
    "# use a subset of CellChatDB for cell-cell communication analysis\n",
    "CellChatDB.use <- subsetDB(CellChatDB, search = \"Secreted Signaling\") # use Secreted Signaling\n",
    "# use all CellChatDB for cell-cell communication analysis\n",
    "# CellChatDB.use <- CellChatDB # simply use the default CellChatDB"
   ]
  },
  {
   "cell_type": "code",
   "execution_count": null,
   "id": "3f1c55ee",
   "metadata": {
    "vscode": {
     "languageId": "r"
    }
   },
   "outputs": [
    {
     "name": "stdout",
     "output_type": "stream",
     "text": [
      "[1] \"Create a CellChat object from a data matrix\"\n",
      "Create a CellChat object from spatial transcriptomics data... \n"
     ]
    },
    {
     "name": "stderr",
     "output_type": "stream",
     "text": [
      "Warning message in CellChat::createCellChat(object = sample_data$data, meta = sample_data$meta, :\n",
      "“The 'meta' data does not have a column named `samples`. We now add this column and all cells are assumed to belong to `sample1`! \n",
      "”\n"
     ]
    },
    {
     "name": "stdout",
     "output_type": "stream",
     "text": [
      "Set cell identities for the new CellChat object \n",
      "The cell groups used for CellChat analysis are  B naive activated, B naive resting, CD4, CD8, Dendritic Cells, Endothelial, Macrophage, Mesenchymal, Monocytes, Neutrophils, NK_cell, Plasma Cells, T-helper, Treg, Tumour \n",
      "[1] \"Create a CellChat object from a data matrix\"\n",
      "Create a CellChat object from spatial transcriptomics data... \n"
     ]
    },
    {
     "name": "stderr",
     "output_type": "stream",
     "text": [
      "Warning message in CellChat::createCellChat(object = sample_data$data, meta = sample_data$meta, :\n",
      "“The 'meta' data does not have a column named `samples`. We now add this column and all cells are assumed to belong to `sample1`! \n",
      "”\n"
     ]
    },
    {
     "name": "stdout",
     "output_type": "stream",
     "text": [
      "Set cell identities for the new CellChat object \n",
      "The cell groups used for CellChat analysis are  B naive activated, B naive resting, CD4, CD8, Dendritic Cells, Endothelial, Macrophage, Mesenchymal, Monocytes, Neutrophils, NK_cell, Plasma Cells, T-helper, Treg, Tumour \n",
      "[1] \"Create a CellChat object from a data matrix\"\n",
      "Create a CellChat object from spatial transcriptomics data... \n"
     ]
    },
    {
     "name": "stderr",
     "output_type": "stream",
     "text": [
      "Warning message in CellChat::createCellChat(object = sample_data$data, meta = sample_data$meta, :\n",
      "“The 'meta' data does not have a column named `samples`. We now add this column and all cells are assumed to belong to `sample1`! \n",
      "”\n"
     ]
    },
    {
     "name": "stdout",
     "output_type": "stream",
     "text": [
      "Set cell identities for the new CellChat object \n",
      "The cell groups used for CellChat analysis are  B naive activated, B naive resting, CD4, CD8, Dendritic Cells, Endothelial, Macrophage, Mesenchymal, Monocytes, Neutrophils, NK_cell, Plasma Cells, T-helper, Treg, Tumour \n",
      "[1] \"Create a CellChat object from a data matrix\"\n",
      "Create a CellChat object from spatial transcriptomics data... \n"
     ]
    },
    {
     "name": "stderr",
     "output_type": "stream",
     "text": [
      "Warning message in CellChat::createCellChat(object = sample_data$data, meta = sample_data$meta, :\n",
      "“The 'meta' data does not have a column named `samples`. We now add this column and all cells are assumed to belong to `sample1`! \n",
      "”\n"
     ]
    },
    {
     "name": "stdout",
     "output_type": "stream",
     "text": [
      "Set cell identities for the new CellChat object \n",
      "The cell groups used for CellChat analysis are  B naive activated, B naive resting, CD4, CD8, Dendritic Cells, Endothelial, Macrophage, Mesenchymal, Monocytes, Neutrophils, NK_cell, Plasma Cells, T-helper, Treg, Tumour \n",
      "[1] \"Create a CellChat object from a data matrix\"\n",
      "Create a CellChat object from spatial transcriptomics data... \n"
     ]
    },
    {
     "name": "stderr",
     "output_type": "stream",
     "text": [
      "Warning message in CellChat::createCellChat(object = sample_data$data, meta = sample_data$meta, :\n",
      "“The 'meta' data does not have a column named `samples`. We now add this column and all cells are assumed to belong to `sample1`! \n",
      "”\n"
     ]
    },
    {
     "name": "stdout",
     "output_type": "stream",
     "text": [
      "Set cell identities for the new CellChat object \n",
      "The cell groups used for CellChat analysis are  B naive activated, B naive resting, CD4, CD8, Dendritic Cells, Endothelial, Macrophage, Mesenchymal, Monocytes, Neutrophils, NK_cell, Plasma Cells, T-helper, Treg, Tumour \n",
      "[1] \"Create a CellChat object from a data matrix\"\n",
      "Create a CellChat object from spatial transcriptomics data... \n"
     ]
    },
    {
     "name": "stderr",
     "output_type": "stream",
     "text": [
      "Warning message in CellChat::createCellChat(object = sample_data$data, meta = sample_data$meta, :\n",
      "“The 'meta' data does not have a column named `samples`. We now add this column and all cells are assumed to belong to `sample1`! \n",
      "”\n"
     ]
    },
    {
     "name": "stdout",
     "output_type": "stream",
     "text": [
      "Set cell identities for the new CellChat object \n",
      "The cell groups used for CellChat analysis are  B naive activated, B naive resting, CD4, CD8, Dendritic Cells, Endothelial, Macrophage, Mesenchymal, Monocytes, Neutrophils, NK_cell, Plasma Cells, T-helper, Treg, Tumour \n"
     ]
    }
   ],
   "source": [
    "\n",
    "\n",
    "cellchat_list <- lapply(names(ovVis_input), function(sample_name) {\n",
    "  sample_data <- ovVis_input[[sample_name]]\n",
    "  \n",
    "  cellchat <- CellChat::createCellChat(\n",
    "    object = sample_data$data,\n",
    "    meta = sample_data$meta,\n",
    "    group.by = \"cell_type_collapsed\",                 # adjust to the column name in meta for cell types\n",
    "    coordinates = sample_data$spatial,\n",
    "    datatype = \"spatial\",\n",
    "    #scale.factors = sample_data$scale.factors,\n",
    "    spatial.factors = data.frame(ratio = 1, tol = 32.5),  # adjust tol if needed\n",
    "    do.sparse=TRUE\n",
    "  )\n",
    "  \n",
    "  # Set CellChat database (optional: replace with the specific database you want to use)\n",
    "  cellchat@DB <- CellChatDB.mouse  # or CellChatDB.use if you loaded a custom DB\n",
    "  \n",
    "  return(cellchat)\n",
    "})\n",
    "\n",
    "names(cellchat_list) <- names(ovVis_input)\n",
    "\n"
   ]
  },
  {
   "cell_type": "code",
   "execution_count": null,
   "id": "3b0eb1dd",
   "metadata": {
    "vscode": {
     "languageId": "r"
    }
   },
   "outputs": [
    {
     "data": {
      "text/html": [
       "<style>\n",
       ".list-inline {list-style: none; margin:0; padding: 0}\n",
       ".list-inline>li {display: inline-block}\n",
       ".list-inline>li:not(:last-child)::after {content: \"\\00b7\"; padding: 0 .5ex}\n",
       "</style>\n",
       "<ol class=list-inline><li>'B naive activated'</li><li>'B naive resting'</li><li>'CD4'</li><li>'CD8'</li><li>'Dendritic Cells'</li><li>'Endothelial'</li><li>'Macrophage'</li><li>'Mesenchymal'</li><li>'Monocytes'</li><li>'Neutrophils'</li><li>'NK_cell'</li><li>'Plasma Cells'</li><li>'T-helper'</li><li>'Treg'</li><li>'Tumour'</li></ol>\n"
      ],
      "text/latex": [
       "\\begin{enumerate*}\n",
       "\\item 'B naive activated'\n",
       "\\item 'B naive resting'\n",
       "\\item 'CD4'\n",
       "\\item 'CD8'\n",
       "\\item 'Dendritic Cells'\n",
       "\\item 'Endothelial'\n",
       "\\item 'Macrophage'\n",
       "\\item 'Mesenchymal'\n",
       "\\item 'Monocytes'\n",
       "\\item 'Neutrophils'\n",
       "\\item 'NK\\_cell'\n",
       "\\item 'Plasma Cells'\n",
       "\\item 'T-helper'\n",
       "\\item 'Treg'\n",
       "\\item 'Tumour'\n",
       "\\end{enumerate*}\n"
      ],
      "text/markdown": [
       "1. 'B naive activated'\n",
       "2. 'B naive resting'\n",
       "3. 'CD4'\n",
       "4. 'CD8'\n",
       "5. 'Dendritic Cells'\n",
       "6. 'Endothelial'\n",
       "7. 'Macrophage'\n",
       "8. 'Mesenchymal'\n",
       "9. 'Monocytes'\n",
       "10. 'Neutrophils'\n",
       "11. 'NK_cell'\n",
       "12. 'Plasma Cells'\n",
       "13. 'T-helper'\n",
       "14. 'Treg'\n",
       "15. 'Tumour'\n",
       "\n",
       "\n"
      ],
      "text/plain": [
       " [1] \"B naive activated\" \"B naive resting\"   \"CD4\"              \n",
       " [4] \"CD8\"               \"Dendritic Cells\"   \"Endothelial\"      \n",
       " [7] \"Macrophage\"        \"Mesenchymal\"       \"Monocytes\"        \n",
       "[10] \"Neutrophils\"       \"NK_cell\"           \"Plasma Cells\"     \n",
       "[13] \"T-helper\"          \"Treg\"              \"Tumour\"           "
      ]
     },
     "metadata": {},
     "output_type": "display_data"
    },
    {
     "data": {
      "text/html": [
       "<style>\n",
       ".list-inline {list-style: none; margin:0; padding: 0}\n",
       ".list-inline>li {display: inline-block}\n",
       ".list-inline>li:not(:last-child)::after {content: \"\\00b7\"; padding: 0 .5ex}\n",
       "</style>\n",
       "<ol class=list-inline><li>157</li><li>42</li><li>212</li><li>127</li><li>134</li><li>311</li><li>1095</li><li>84</li><li>144</li><li>19</li><li>176</li><li>197</li><li>48</li><li>69</li><li>6461</li></ol>\n"
      ],
      "text/latex": [
       "\\begin{enumerate*}\n",
       "\\item 157\n",
       "\\item 42\n",
       "\\item 212\n",
       "\\item 127\n",
       "\\item 134\n",
       "\\item 311\n",
       "\\item 1095\n",
       "\\item 84\n",
       "\\item 144\n",
       "\\item 19\n",
       "\\item 176\n",
       "\\item 197\n",
       "\\item 48\n",
       "\\item 69\n",
       "\\item 6461\n",
       "\\end{enumerate*}\n"
      ],
      "text/markdown": [
       "1. 157\n",
       "2. 42\n",
       "3. 212\n",
       "4. 127\n",
       "5. 134\n",
       "6. 311\n",
       "7. 1095\n",
       "8. 84\n",
       "9. 144\n",
       "10. 19\n",
       "11. 176\n",
       "12. 197\n",
       "13. 48\n",
       "14. 69\n",
       "15. 6461\n",
       "\n",
       "\n"
      ],
      "text/plain": [
       " [1]  157   42  212  127  134  311 1095   84  144   19  176  197   48   69 6461"
      ]
     },
     "metadata": {},
     "output_type": "display_data"
    },
    {
     "data": {
      "text/html": [
       "<style>\n",
       ".list-inline {list-style: none; margin:0; padding: 0}\n",
       ".list-inline>li {display: inline-block}\n",
       ".list-inline>li:not(:last-child)::after {content: \"\\00b7\"; padding: 0 .5ex}\n",
       "</style>\n",
       "<ol class=list-inline><li>'data.raw'</li><li>'data'</li><li>'data.signaling'</li><li>'data.scale'</li><li>'data.smooth'</li><li>'images'</li><li>'net'</li><li>'netP'</li><li>'meta'</li><li>'idents'</li><li>'DB'</li><li>'LR'</li><li>'var.features'</li><li>'dr'</li><li>'options'</li></ol>\n"
      ],
      "text/latex": [
       "\\begin{enumerate*}\n",
       "\\item 'data.raw'\n",
       "\\item 'data'\n",
       "\\item 'data.signaling'\n",
       "\\item 'data.scale'\n",
       "\\item 'data.smooth'\n",
       "\\item 'images'\n",
       "\\item 'net'\n",
       "\\item 'netP'\n",
       "\\item 'meta'\n",
       "\\item 'idents'\n",
       "\\item 'DB'\n",
       "\\item 'LR'\n",
       "\\item 'var.features'\n",
       "\\item 'dr'\n",
       "\\item 'options'\n",
       "\\end{enumerate*}\n"
      ],
      "text/markdown": [
       "1. 'data.raw'\n",
       "2. 'data'\n",
       "3. 'data.signaling'\n",
       "4. 'data.scale'\n",
       "5. 'data.smooth'\n",
       "6. 'images'\n",
       "7. 'net'\n",
       "8. 'netP'\n",
       "9. 'meta'\n",
       "10. 'idents'\n",
       "11. 'DB'\n",
       "12. 'LR'\n",
       "13. 'var.features'\n",
       "14. 'dr'\n",
       "15. 'options'\n",
       "\n",
       "\n"
      ],
      "text/plain": [
       " [1] \"data.raw\"       \"data\"           \"data.signaling\" \"data.scale\"    \n",
       " [5] \"data.smooth\"    \"images\"         \"net\"            \"netP\"          \n",
       " [9] \"meta\"           \"idents\"         \"DB\"             \"LR\"            \n",
       "[13] \"var.features\"   \"dr\"             \"options\"       "
      ]
     },
     "metadata": {},
     "output_type": "display_data"
    }
   ],
   "source": [
    "cellchat <- cellchat_list[[1]]\n",
    "levels(cellchat@idents)\n",
    "groupSize <- as.numeric(table(cellchat@idents)) # cells per type\n",
    "groupSize\n",
    "slotNames(cellchat) #data.raw is only populated if you provide the raw counts which aren't actually required by cellchat\n",
    "\n"
   ]
  },
  {
   "cell_type": "code",
   "execution_count": null,
   "id": "36526208",
   "metadata": {
    "vscode": {
     "languageId": "r"
    }
   },
   "outputs": [],
   "source": [
    "\n",
    "library(presto)\n",
    "\n",
    "# Subset data to relevant genes and ligand-receptor pairs\n",
    "cellchat <- subsetData(cellchat)"
   ]
  },
  {
   "cell_type": "code",
   "execution_count": null,
   "id": "c9e46088",
   "metadata": {
    "vscode": {
     "languageId": "r"
    }
   },
   "outputs": [],
   "source": [
    "cellchat@spatial\n"
   ]
  },
  {
   "cell_type": "code",
   "execution_count": null,
   "id": "aa74880f",
   "metadata": {
    "vscode": {
     "languageId": "r"
    }
   },
   "outputs": [
    {
     "name": "stdout",
     "output_type": "stream",
     "text": [
      "The number of highly variable ligand-receptor pairs used for signaling inference is 1255 \n",
      "triMean is used for calculating the average gene expression per cell group. \n"
     ]
    },
    {
     "name": "stderr",
     "output_type": "stream",
     "text": [
      "Warning message in max(data):\n",
      "“no non-missing arguments to max; returning -Inf”\n"
     ]
    },
    {
     "ename": "ERROR",
     "evalue": "Error in aggregate.data.frame(as.data.frame(x), ...): no rows to aggregate\n",
     "output_type": "error",
     "traceback": [
      "Error in aggregate.data.frame(as.data.frame(x), ...): no rows to aggregate\nTraceback:\n",
      "1. aggregate(t(data.use), list(group), FUN = FunMean)",
      "2. aggregate.default(t(data.use), list(group), FUN = FunMean)",
      "3. aggregate.data.frame(as.data.frame(x), ...)",
      "4. stop(\"no rows to aggregate\")",
      "5. .handleSimpleError(function (cnd) \n . {\n .     watcher$capture_plot_and_output()\n .     cnd <- sanitize_call(cnd)\n .     watcher$push(cnd)\n .     switch(on_error, continue = invokeRestart(\"eval_continue\"), \n .         stop = invokeRestart(\"eval_stop\"), error = NULL)\n . }, \"no rows to aggregate\", base::quote(aggregate.data.frame(as.data.frame(x), \n .     ...)))"
     ]
    }
   ],
   "source": [
    "\n",
    "cellchat <- identifyOverExpressedGenes(cellchat)\n",
    "cellchat <- identifyOverExpressedInteractions(cellchat)\n",
    "cellchat <- computeCommunProb(cellchat, raw.use = FALSE)\n",
    "cellchat <- filterCommunication(cellchat, min.cells = 10)\n",
    "cellchat <- computeCommunProbPathway(cellchat)\n",
    "cellchat <- aggregateNet(cellchat)\n"
   ]
  }
 ],
 "metadata": {
  "kernelspec": {
   "display_name": "R",
   "language": "R",
   "name": "ir"
  },
  "language_info": {
   "codemirror_mode": "r",
   "file_extension": ".r",
   "mimetype": "text/x-r-source",
   "name": "R",
   "pygments_lexer": "r",
   "version": "4.4.3"
  }
 },
 "nbformat": 4,
 "nbformat_minor": 5
}
