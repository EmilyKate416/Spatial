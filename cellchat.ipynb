{
 "cells": [
  {
   "cell_type": "markdown",
   "id": "dbacb7ca",
   "metadata": {},
   "source": [
    "CellChat inference and analysis of spatially proximal cell-cell communication from spatially resolved transcriptomics (multiple datasets)"
   ]
  },
  {
   "cell_type": "code",
   "execution_count": 17,
   "id": "f532b324",
   "metadata": {
    "vscode": {
     "languageId": "r"
    }
   },
   "outputs": [
    {
     "name": "stderr",
     "output_type": "stream",
     "text": [
      "Warning message:\n",
      "“package ‘ComplexHeatmap’ was built under R version 4.2.1”\n",
      "Loading required package: grid\n",
      "\n",
      "========================================\n",
      "ComplexHeatmap version 2.14.0\n",
      "Bioconductor page: http://bioconductor.org/packages/ComplexHeatmap/\n",
      "Github page: https://github.com/jokergoo/ComplexHeatmap\n",
      "Documentation: http://jokergoo.github.io/ComplexHeatmap-reference\n",
      "\n",
      "If you use it in published research, please cite either one:\n",
      "- Gu, Z. Complex Heatmap Visualization. iMeta 2022.\n",
      "- Gu, Z. Complex heatmaps reveal patterns and correlations in multidimensional \n",
      "    genomic data. Bioinformatics 2016.\n",
      "\n",
      "\n",
      "The new InteractiveComplexHeatmap package can directly export static \n",
      "complex heatmaps into an interactive Shiny app with zero effort. Have a try!\n",
      "\n",
      "This message can be suppressed by:\n",
      "  suppressPackageStartupMessages(library(ComplexHeatmap))\n",
      "========================================\n",
      "\n",
      "\n"
     ]
    }
   ],
   "source": [
    "ptm = Sys.time()\n",
    "\n",
    "library(CellChat)\n",
    "library(Seurat)\n",
    "library(patchwork)\n",
    "library(ComplexHeatmap)\n",
    "library(grid)\n",
    "options(stringsAsFactors = FALSE)"
   ]
  },
  {
   "cell_type": "code",
   "execution_count": 53,
   "id": "f51bd276",
   "metadata": {
    "vscode": {
     "languageId": "r"
    }
   },
   "outputs": [],
   "source": [
    "results_folder ='/run/user/1804238067/gvfs/sftp:host=clust1-sub-1,user=lythgo02/mnt/nas-data/fmlab/group_folders/lythgo02/OV_visium/emily/cell2location/cellTrek/cellchat/'"
   ]
  },
  {
   "cell_type": "code",
   "execution_count": 54,
   "id": "f43705a7",
   "metadata": {
    "vscode": {
     "languageId": "r"
    }
   },
   "outputs": [],
   "source": [
    "#cellTrekObs <- readRDS(paste0(ov_visium, \"ov_cellTrek_obj.rds\"))\n",
    "#cell2loc = '/run/user/1804238067/gvfs/sftp:host=clust1-sub-1,user=lythgo02/mnt/scratchc/fmlab/lythgo02/OV_visium/emily/cell2location/'\n",
    "#adata_vis_match <- zellkonverter::readH5AD(file.path(cell2loc, \"final_adata_vis_match.h5ad\"))\n",
    "\n",
    "cell2loc = '/run/user/1804238067/gvfs/sftp:host=clust1-sub-1,user=lythgo02/mnt/nas-data/fmlab/group_folders/lythgo02/OV_visium/emily/cell2location/'\n",
    "#ovTrainAll <- readRDS(paste0(cell2loc, \"cellTrek/celltrek_results_ntree1000_p500_celltrek.rds\"))\n",
    "ovCellTrekList <- readRDS(paste0(cell2loc, \"cellTrek/celltrek_results_updated.rds\"))"
   ]
  },
  {
   "cell_type": "markdown",
   "id": "98181c69",
   "metadata": {},
   "source": [
    "For one sample at a time"
   ]
  },
  {
   "cell_type": "code",
   "execution_count": null,
   "id": "a14e9f31",
   "metadata": {
    "vscode": {
     "languageId": "r"
    }
   },
   "outputs": [],
   "source": [
    "ovCellTrek <- adata_vis_match[[1]]\n",
    "# 1. Extract expression and meta\n",
    "data.input <- GetAssayData(ovCellTrek, slot = \"data\")  # or \"counts\"\n",
    "meta <- ovCellTrek@meta.data\n",
    "# 2. Create CellChat object\n",
    "cellchat <- CellChat::createCellChat(object = data.input, meta = meta, group.by = \"cell_type\")\n",
    "CellChatDB <- CellChatDB.mouse  # or .human\n",
    "cellchat@DB <- CellChatDB\n",
    "cellchat <- subsetData(cellchat)\n",
    "cellchat <- identifyOverExpressedGenes(cellchat)\n",
    "cellchat <- identifyOverExpressedInteractions(cellchat)\n",
    "cellchat <- computeCommunProb(cellchat)\n",
    "cellchat <- computeCommunProbPathway(cellchat)\n",
    "cellchat <- aggregateNet(cellchat)\n",
    "# all predicted interactions (data.frame)\n",
    "comm <- subsetCommunication(cellchat)\n",
    "head(comm)\n",
    "# save\n",
    "write.csv(comm, file = file.path(results_folder, \"ov1_cellchat_all_interactions.csv\"), row.names = FALSE)\n",
    "# list pathways and group sizes\n",
    "signaling_paths <- names(cellchat@netP)\n",
    "print(signaling_paths)\n",
    "groupSize <- as.numeric(table(cellchat@idents))\n",
    "groupSize\n"
   ]
  },
  {
   "cell_type": "markdown",
   "id": "043b5ebc",
   "metadata": {},
   "source": [
    "For all in a loop"
   ]
  },
  {
   "cell_type": "code",
   "execution_count": 55,
   "id": "d2c5cfef",
   "metadata": {
    "vscode": {
     "languageId": "r"
    }
   },
   "outputs": [
    {
     "name": "stderr",
     "output_type": "stream",
     "text": [
      "Creating CellChat object for OV_1\n",
      "\n"
     ]
    },
    {
     "name": "stdout",
     "output_type": "stream",
     "text": [
      "[1] \"Create a CellChat object from a data matrix\"\n",
      "Set cell identities for the new CellChat object \n",
      "The cell groups used for CellChat analysis are  B naive activated B naive resting CD4 CD8 Cycling Plasma Cells Dendritic Cells Endothelial Macrophage Mesenchymal Monocytes Neutrophils NK_cell Plasma Cells Th1 Th17 Treg Tumour \n"
     ]
    },
    {
     "name": "stderr",
     "output_type": "stream",
     "text": [
      "Creating CellChat object for OV_2\n",
      "\n"
     ]
    },
    {
     "name": "stdout",
     "output_type": "stream",
     "text": [
      "[1] \"Create a CellChat object from a data matrix\"\n",
      "Set cell identities for the new CellChat object \n",
      "The cell groups used for CellChat analysis are  B naive activated B naive resting CD4 CD8 Cycling Plasma Cells Dendritic Cells Endothelial Macrophage Mesenchymal Monocytes Neutrophils NK_cell Plasma Cells Th1 Th17 Treg Tumour \n"
     ]
    },
    {
     "name": "stderr",
     "output_type": "stream",
     "text": [
      "Creating CellChat object for OV_3\n",
      "\n"
     ]
    },
    {
     "name": "stdout",
     "output_type": "stream",
     "text": [
      "[1] \"Create a CellChat object from a data matrix\"\n",
      "Set cell identities for the new CellChat object \n",
      "The cell groups used for CellChat analysis are  B naive activated B naive resting CD4 CD8 Dendritic Cells Endothelial Macrophage Mesenchymal Monocytes Neutrophils NK_cell Plasma Cells Th1 Th17 Treg Tumour \n"
     ]
    },
    {
     "name": "stderr",
     "output_type": "stream",
     "text": [
      "Creating CellChat object for OV_4\n",
      "\n"
     ]
    },
    {
     "name": "stdout",
     "output_type": "stream",
     "text": [
      "[1] \"Create a CellChat object from a data matrix\"\n",
      "Set cell identities for the new CellChat object \n",
      "The cell groups used for CellChat analysis are  B naive activated B naive resting CD4 CD8 Cycling Plasma Cells Dendritic Cells Endothelial Macrophage Mesenchymal Monocytes Neutrophils NK_cell Plasma Cells Th1 Th17 Treg Tumour \n"
     ]
    },
    {
     "name": "stderr",
     "output_type": "stream",
     "text": [
      "Creating CellChat object for OV_5\n",
      "\n"
     ]
    },
    {
     "name": "stdout",
     "output_type": "stream",
     "text": [
      "[1] \"Create a CellChat object from a data matrix\"\n",
      "Set cell identities for the new CellChat object \n",
      "The cell groups used for CellChat analysis are  B naive activated B naive resting CD4 CD8 Dendritic Cells Endothelial Macrophage Mesenchymal Monocytes Neutrophils NK_cell Plasma Cells Th1 Th17 Treg Tumour \n"
     ]
    },
    {
     "name": "stderr",
     "output_type": "stream",
     "text": [
      "Creating CellChat object for OV_6\n",
      "\n"
     ]
    },
    {
     "name": "stdout",
     "output_type": "stream",
     "text": [
      "[1] \"Create a CellChat object from a data matrix\"\n",
      "Set cell identities for the new CellChat object \n",
      "The cell groups used for CellChat analysis are  B naive activated B naive resting CD4 CD8 Cycling Plasma Cells Dendritic Cells Endothelial Macrophage Mesenchymal Monocytes Neutrophils NK_cell Plasma Cells Th1 Th17 Treg Tumour \n"
     ]
    },
    {
     "data": {
      "text/plain": [
       "$OV_1\n",
       "An object of class CellChat created from a single dataset \n",
       " 14542 genes.\n",
       " 9276 cells. \n",
       "CellChat analysis of single cell RNA-seq data! \n",
       "\n",
       "$OV_2\n",
       "An object of class CellChat created from a single dataset \n",
       " 14542 genes.\n",
       " 13696 cells. \n",
       "CellChat analysis of single cell RNA-seq data! \n",
       "\n",
       "$OV_3\n",
       "An object of class CellChat created from a single dataset \n",
       " 14542 genes.\n",
       " 10291 cells. \n",
       "CellChat analysis of single cell RNA-seq data! \n",
       "\n",
       "$OV_4\n",
       "An object of class CellChat created from a single dataset \n",
       " 14542 genes.\n",
       " 5964 cells. \n",
       "CellChat analysis of single cell RNA-seq data! \n",
       "\n",
       "$OV_5\n",
       "An object of class CellChat created from a single dataset \n",
       " 14542 genes.\n",
       " 9080 cells. \n",
       "CellChat analysis of single cell RNA-seq data! \n",
       "\n",
       "$OV_6\n",
       "An object of class CellChat created from a single dataset \n",
       " 14542 genes.\n",
       " 5391 cells. \n",
       "CellChat analysis of single cell RNA-seq data! \n"
      ]
     },
     "metadata": {},
     "output_type": "display_data"
    }
   ],
   "source": [
    "\n",
    "cellchat_list <- list()\n",
    "\n",
    "for (i in seq_along(ovCellTrekList)) {\n",
    "  \n",
    "  sample_name <- if (!is.null(names(ovCellTrekList)) && names(ovCellTrekList)[i] != \"\") {\n",
    "    names(ovCellTrekList)[i]\n",
    "  } else {\n",
    "    paste0(\"sample_\", i)\n",
    "  }\n",
    "  message(\"Creating CellChat object for \", sample_name)\n",
    "  \n",
    "  ovCellTrek <- ovCellTrekList[[i]]\n",
    "  \n",
    "  # 1. Extract expression & metadata\n",
    "  data.input <- GetAssayData(ovCellTrek, slot = \"data\")\n",
    "  meta <- ovCellTrek@meta.data\n",
    "  \n",
    "  # Ensure you have a grouping column (rename if needed)\n",
    "  # e.g. your column might be \"cell_type_collapsed\"\n",
    "  if (!\"cell_type\" %in% colnames(meta) && \"cell_type_collapsed\" %in% colnames(meta)) {\n",
    "    meta$cell_type <- meta$cell_type_collapsed\n",
    "  }\n",
    "  \n",
    "  # 2. Create CellChat object\n",
    "  cellchat <- CellChat::createCellChat(\n",
    "    object = data.input,\n",
    "    meta = meta,\n",
    "    group.by = \"cell_type\"\n",
    "  )\n",
    "  \n",
    "  cellchat_list[[sample_name]] <- cellchat\n",
    "}\n",
    "\n",
    "# --- Optional: preview what was created ---\n",
    "cellchat_list\n"
   ]
  },
  {
   "cell_type": "code",
   "execution_count": 56,
   "id": "9676385c",
   "metadata": {
    "vscode": {
     "languageId": "r"
    }
   },
   "outputs": [
    {
     "name": "stdout",
     "output_type": "stream",
     "text": [
      "Issue identified!! Please check the official Gene Symbol of the following genes:  \n",
      " H2-BI H2-Ea-ps \n",
      "triMean is used for calculating the average gene expression per cell group. \n",
      "[1] \">>> Run CellChat on sc/snRNA-seq data <<< [2025-10-31 12:59:52]\"\n",
      "[1] \">>> CellChat inference is done. Parameter values are stored in `object@options$parameter` <<< [2025-10-31 13:03:38]\"\n",
      "Issue identified!! Please check the official Gene Symbol of the following genes:  \n",
      " H2-BI H2-Ea-ps \n",
      "triMean is used for calculating the average gene expression per cell group. \n",
      "[1] \">>> Run CellChat on sc/snRNA-seq data <<< [2025-10-31 13:04:21]\"\n",
      "[1] \">>> CellChat inference is done. Parameter values are stored in `object@options$parameter` <<< [2025-10-31 13:08:28]\"\n",
      "Issue identified!! Please check the official Gene Symbol of the following genes:  \n",
      " H2-BI H2-Ea-ps \n",
      "triMean is used for calculating the average gene expression per cell group. \n",
      "[1] \">>> Run CellChat on sc/snRNA-seq data <<< [2025-10-31 13:09:01]\"\n",
      "[1] \">>> CellChat inference is done. Parameter values are stored in `object@options$parameter` <<< [2025-10-31 13:12:57]\"\n",
      "Issue identified!! Please check the official Gene Symbol of the following genes:  \n",
      " H2-BI H2-Ea-ps \n",
      "triMean is used for calculating the average gene expression per cell group. \n",
      "[1] \">>> Run CellChat on sc/snRNA-seq data <<< [2025-10-31 13:13:17]\"\n",
      "[1] \">>> CellChat inference is done. Parameter values are stored in `object@options$parameter` <<< [2025-10-31 13:16:43]\"\n",
      "Issue identified!! Please check the official Gene Symbol of the following genes:  \n",
      " H2-BI H2-Ea-ps \n",
      "triMean is used for calculating the average gene expression per cell group. \n",
      "[1] \">>> Run CellChat on sc/snRNA-seq data <<< [2025-10-31 13:17:12]\"\n",
      "[1] \">>> CellChat inference is done. Parameter values are stored in `object@options$parameter` <<< [2025-10-31 13:20:52]\"\n",
      "Issue identified!! Please check the official Gene Symbol of the following genes:  \n",
      " H2-BI H2-Ea-ps \n",
      "triMean is used for calculating the average gene expression per cell group. \n",
      "[1] \">>> Run CellChat on sc/snRNA-seq data <<< [2025-10-31 13:21:10]\"\n",
      "[1] \">>> CellChat inference is done. Parameter values are stored in `object@options$parameter` <<< [2025-10-31 13:24:33]\"\n"
     ]
    }
   ],
   "source": [
    "# Load mouse ligand-receptor database\n",
    "CellChatDB <- CellChatDB.mouse\n",
    "for (i in names(cellchat_list)) {\n",
    "  cellchat_list[[i]]@DB <- CellChatDB\n",
    "  cellchat_list[[i]] <- subsetData(cellchat_list[[i]])           # subset relevant genes\n",
    "  cellchat_list[[i]] <- identifyOverExpressedGenes(cellchat_list[[i]])\n",
    "  cellchat_list[[i]] <- identifyOverExpressedInteractions(cellchat_list[[i]])\n",
    "  cellchat_list[[i]] <- computeCommunProb(cellchat_list[[i]])\n",
    "  cellchat_list[[i]] <- computeCommunProbPathway(cellchat_list[[i]])\n",
    "  cellchat_list[[i]] <- aggregateNet(cellchat_list[[i]])\n",
    "}\n"
   ]
  },
  {
   "cell_type": "code",
   "execution_count": 57,
   "id": "d965a1c5",
   "metadata": {
    "vscode": {
     "languageId": "r"
    }
   },
   "outputs": [
    {
     "data": {
      "text/html": [
       "<table class=\"dataframe\">\n",
       "<caption>A data.frame: 6 × 12</caption>\n",
       "<thead>\n",
       "\t<tr><th></th><th scope=col>sample</th><th scope=col>source</th><th scope=col>target</th><th scope=col>ligand</th><th scope=col>receptor</th><th scope=col>prob</th><th scope=col>pval</th><th scope=col>interaction_name</th><th scope=col>interaction_name_2</th><th scope=col>pathway_name</th><th scope=col>annotation</th><th scope=col>evidence</th></tr>\n",
       "\t<tr><th></th><th scope=col>&lt;chr&gt;</th><th scope=col>&lt;fct&gt;</th><th scope=col>&lt;fct&gt;</th><th scope=col>&lt;chr&gt;</th><th scope=col>&lt;chr&gt;</th><th scope=col>&lt;dbl&gt;</th><th scope=col>&lt;dbl&gt;</th><th scope=col>&lt;fct&gt;</th><th scope=col>&lt;chr&gt;</th><th scope=col>&lt;chr&gt;</th><th scope=col>&lt;chr&gt;</th><th scope=col>&lt;chr&gt;</th></tr>\n",
       "</thead>\n",
       "<tbody>\n",
       "\t<tr><th scope=row>1</th><td>OV_1</td><td>B naive activated</td><td>B naive activated</td><td>Tgfb1</td><td>TGFbR1_R2</td><td>0.02177701</td><td>0</td><td>TGFB1_TGFBR1_TGFBR2</td><td>Tgfb1 - (Tgfbr1+Tgfbr2)</td><td>TGFb</td><td>Secreted Signaling</td><td>KEGG: mmu04350</td></tr>\n",
       "\t<tr><th scope=row>2</th><td>OV_1</td><td>B naive resting  </td><td>B naive activated</td><td>Tgfb1</td><td>TGFbR1_R2</td><td>0.02292956</td><td>0</td><td>TGFB1_TGFBR1_TGFBR2</td><td>Tgfb1 - (Tgfbr1+Tgfbr2)</td><td>TGFb</td><td>Secreted Signaling</td><td>KEGG: mmu04350</td></tr>\n",
       "\t<tr><th scope=row>3</th><td>OV_1</td><td>CD4              </td><td>B naive activated</td><td>Tgfb1</td><td>TGFbR1_R2</td><td>0.01804501</td><td>0</td><td>TGFB1_TGFBR1_TGFBR2</td><td>Tgfb1 - (Tgfbr1+Tgfbr2)</td><td>TGFb</td><td>Secreted Signaling</td><td>KEGG: mmu04350</td></tr>\n",
       "\t<tr><th scope=row>4</th><td>OV_1</td><td>CD8              </td><td>B naive activated</td><td>Tgfb1</td><td>TGFbR1_R2</td><td>0.02235130</td><td>0</td><td>TGFB1_TGFBR1_TGFBR2</td><td>Tgfb1 - (Tgfbr1+Tgfbr2)</td><td>TGFb</td><td>Secreted Signaling</td><td>KEGG: mmu04350</td></tr>\n",
       "\t<tr><th scope=row>5</th><td>OV_1</td><td>Dendritic Cells  </td><td>B naive activated</td><td>Tgfb1</td><td>TGFbR1_R2</td><td>0.01184832</td><td>0</td><td>TGFB1_TGFBR1_TGFBR2</td><td>Tgfb1 - (Tgfbr1+Tgfbr2)</td><td>TGFb</td><td>Secreted Signaling</td><td>KEGG: mmu04350</td></tr>\n",
       "\t<tr><th scope=row>6</th><td>OV_1</td><td>Endothelial      </td><td>B naive activated</td><td>Tgfb1</td><td>TGFbR1_R2</td><td>0.01188053</td><td>0</td><td>TGFB1_TGFBR1_TGFBR2</td><td>Tgfb1 - (Tgfbr1+Tgfbr2)</td><td>TGFb</td><td>Secreted Signaling</td><td>KEGG: mmu04350</td></tr>\n",
       "</tbody>\n",
       "</table>\n"
      ],
      "text/latex": [
       "A data.frame: 6 × 12\n",
       "\\begin{tabular}{r|llllllllllll}\n",
       "  & sample & source & target & ligand & receptor & prob & pval & interaction\\_name & interaction\\_name\\_2 & pathway\\_name & annotation & evidence\\\\\n",
       "  & <chr> & <fct> & <fct> & <chr> & <chr> & <dbl> & <dbl> & <fct> & <chr> & <chr> & <chr> & <chr>\\\\\n",
       "\\hline\n",
       "\t1 & OV\\_1 & B naive activated & B naive activated & Tgfb1 & TGFbR1\\_R2 & 0.02177701 & 0 & TGFB1\\_TGFBR1\\_TGFBR2 & Tgfb1 - (Tgfbr1+Tgfbr2) & TGFb & Secreted Signaling & KEGG: mmu04350\\\\\n",
       "\t2 & OV\\_1 & B naive resting   & B naive activated & Tgfb1 & TGFbR1\\_R2 & 0.02292956 & 0 & TGFB1\\_TGFBR1\\_TGFBR2 & Tgfb1 - (Tgfbr1+Tgfbr2) & TGFb & Secreted Signaling & KEGG: mmu04350\\\\\n",
       "\t3 & OV\\_1 & CD4               & B naive activated & Tgfb1 & TGFbR1\\_R2 & 0.01804501 & 0 & TGFB1\\_TGFBR1\\_TGFBR2 & Tgfb1 - (Tgfbr1+Tgfbr2) & TGFb & Secreted Signaling & KEGG: mmu04350\\\\\n",
       "\t4 & OV\\_1 & CD8               & B naive activated & Tgfb1 & TGFbR1\\_R2 & 0.02235130 & 0 & TGFB1\\_TGFBR1\\_TGFBR2 & Tgfb1 - (Tgfbr1+Tgfbr2) & TGFb & Secreted Signaling & KEGG: mmu04350\\\\\n",
       "\t5 & OV\\_1 & Dendritic Cells   & B naive activated & Tgfb1 & TGFbR1\\_R2 & 0.01184832 & 0 & TGFB1\\_TGFBR1\\_TGFBR2 & Tgfb1 - (Tgfbr1+Tgfbr2) & TGFb & Secreted Signaling & KEGG: mmu04350\\\\\n",
       "\t6 & OV\\_1 & Endothelial       & B naive activated & Tgfb1 & TGFbR1\\_R2 & 0.01188053 & 0 & TGFB1\\_TGFBR1\\_TGFBR2 & Tgfb1 - (Tgfbr1+Tgfbr2) & TGFb & Secreted Signaling & KEGG: mmu04350\\\\\n",
       "\\end{tabular}\n"
      ],
      "text/markdown": [
       "\n",
       "A data.frame: 6 × 12\n",
       "\n",
       "| <!--/--> | sample &lt;chr&gt; | source &lt;fct&gt; | target &lt;fct&gt; | ligand &lt;chr&gt; | receptor &lt;chr&gt; | prob &lt;dbl&gt; | pval &lt;dbl&gt; | interaction_name &lt;fct&gt; | interaction_name_2 &lt;chr&gt; | pathway_name &lt;chr&gt; | annotation &lt;chr&gt; | evidence &lt;chr&gt; |\n",
       "|---|---|---|---|---|---|---|---|---|---|---|---|---|\n",
       "| 1 | OV_1 | B naive activated | B naive activated | Tgfb1 | TGFbR1_R2 | 0.02177701 | 0 | TGFB1_TGFBR1_TGFBR2 | Tgfb1 - (Tgfbr1+Tgfbr2) | TGFb | Secreted Signaling | KEGG: mmu04350 |\n",
       "| 2 | OV_1 | B naive resting   | B naive activated | Tgfb1 | TGFbR1_R2 | 0.02292956 | 0 | TGFB1_TGFBR1_TGFBR2 | Tgfb1 - (Tgfbr1+Tgfbr2) | TGFb | Secreted Signaling | KEGG: mmu04350 |\n",
       "| 3 | OV_1 | CD4               | B naive activated | Tgfb1 | TGFbR1_R2 | 0.01804501 | 0 | TGFB1_TGFBR1_TGFBR2 | Tgfb1 - (Tgfbr1+Tgfbr2) | TGFb | Secreted Signaling | KEGG: mmu04350 |\n",
       "| 4 | OV_1 | CD8               | B naive activated | Tgfb1 | TGFbR1_R2 | 0.02235130 | 0 | TGFB1_TGFBR1_TGFBR2 | Tgfb1 - (Tgfbr1+Tgfbr2) | TGFb | Secreted Signaling | KEGG: mmu04350 |\n",
       "| 5 | OV_1 | Dendritic Cells   | B naive activated | Tgfb1 | TGFbR1_R2 | 0.01184832 | 0 | TGFB1_TGFBR1_TGFBR2 | Tgfb1 - (Tgfbr1+Tgfbr2) | TGFb | Secreted Signaling | KEGG: mmu04350 |\n",
       "| 6 | OV_1 | Endothelial       | B naive activated | Tgfb1 | TGFbR1_R2 | 0.01188053 | 0 | TGFB1_TGFBR1_TGFBR2 | Tgfb1 - (Tgfbr1+Tgfbr2) | TGFb | Secreted Signaling | KEGG: mmu04350 |\n",
       "\n"
      ],
      "text/plain": [
       "  sample source            target            ligand receptor  prob       pval\n",
       "1 OV_1   B naive activated B naive activated Tgfb1  TGFbR1_R2 0.02177701 0   \n",
       "2 OV_1   B naive resting   B naive activated Tgfb1  TGFbR1_R2 0.02292956 0   \n",
       "3 OV_1   CD4               B naive activated Tgfb1  TGFbR1_R2 0.01804501 0   \n",
       "4 OV_1   CD8               B naive activated Tgfb1  TGFbR1_R2 0.02235130 0   \n",
       "5 OV_1   Dendritic Cells   B naive activated Tgfb1  TGFbR1_R2 0.01184832 0   \n",
       "6 OV_1   Endothelial       B naive activated Tgfb1  TGFbR1_R2 0.01188053 0   \n",
       "  interaction_name    interaction_name_2      pathway_name annotation        \n",
       "1 TGFB1_TGFBR1_TGFBR2 Tgfb1 - (Tgfbr1+Tgfbr2) TGFb         Secreted Signaling\n",
       "2 TGFB1_TGFBR1_TGFBR2 Tgfb1 - (Tgfbr1+Tgfbr2) TGFb         Secreted Signaling\n",
       "3 TGFB1_TGFBR1_TGFBR2 Tgfb1 - (Tgfbr1+Tgfbr2) TGFb         Secreted Signaling\n",
       "4 TGFB1_TGFBR1_TGFBR2 Tgfb1 - (Tgfbr1+Tgfbr2) TGFb         Secreted Signaling\n",
       "5 TGFB1_TGFBR1_TGFBR2 Tgfb1 - (Tgfbr1+Tgfbr2) TGFb         Secreted Signaling\n",
       "6 TGFB1_TGFBR1_TGFBR2 Tgfb1 - (Tgfbr1+Tgfbr2) TGFb         Secreted Signaling\n",
       "  evidence      \n",
       "1 KEGG: mmu04350\n",
       "2 KEGG: mmu04350\n",
       "3 KEGG: mmu04350\n",
       "4 KEGG: mmu04350\n",
       "5 KEGG: mmu04350\n",
       "6 KEGG: mmu04350"
      ]
     },
     "metadata": {},
     "output_type": "display_data"
    }
   ],
   "source": [
    "\n",
    "comm_list=list()\n",
    "\n",
    "for (sample_name in names(cellchat_list)) {\n",
    "  cellchat <- cellchat_list[[sample_name]]\n",
    "  \n",
    "  # Extract all significant interactions\n",
    "  comm <- subsetCommunication(cellchat)\n",
    "  \n",
    "  # Save to CSV\n",
    "  write.csv(\n",
    "    comm,\n",
    "    file = file.path(results_folder, paste0(sample_name, \"_cellchat_all_interactions.csv\")),\n",
    "    row.names = FALSE\n",
    "  )\n",
    "  \n",
    "  # Store in a list for later combination\n",
    "  comm_list[[sample_name]] <- comm\n",
    "}\n",
    "\n",
    "# --- Optional: combine all into one dataframe ---\n",
    "comm_all <- bind_rows(comm_list, .id = \"sample\")\n",
    "\n",
    "# Quick preview\n",
    "head(comm_all)"
   ]
  },
  {
   "cell_type": "markdown",
   "id": "979c58da",
   "metadata": {},
   "source": [
    "Plot heatmap of interactions per sample "
   ]
  },
  {
   "cell_type": "code",
   "execution_count": 43,
   "id": "d75f95af",
   "metadata": {
    "vscode": {
     "languageId": "r"
    }
   },
   "outputs": [
    {
     "name": "stderr",
     "output_type": "stream",
     "text": [
      "Do heatmap based on a single object \n",
      "\n",
      "\n",
      "Do heatmap based on a single object \n",
      "\n",
      "\n",
      "Do heatmap based on a single object \n",
      "\n",
      "\n",
      "Warning message:\n",
      "“`legend_height` you specified is too small, use the default minimal\n",
      "height.”\n",
      "Warning message:\n",
      "“`legend_height` you specified is too small, use the default minimal\n",
      "height.”\n",
      "Warning message:\n",
      "“`legend_height` you specified is too small, use the default minimal\n",
      "height.”\n",
      "Do heatmap based on a single object \n",
      "\n",
      "\n",
      "Do heatmap based on a single object \n",
      "\n",
      "\n",
      "Do heatmap based on a single object \n",
      "\n",
      "\n",
      "Warning message:\n",
      "“`legend_height` you specified is too small, use the default minimal\n",
      "height.”\n",
      "Warning message:\n",
      "“`legend_height` you specified is too small, use the default minimal\n",
      "height.”\n",
      "Warning message:\n",
      "“`legend_height` you specified is too small, use the default minimal\n",
      "height.”\n"
     ]
    }
   ],
   "source": [
    "plot_list <- lapply(names(cellchat_list), function(x){\n",
    "    plot <- netVisual_heatmap(cellchat_list[[x]], measure=\"count\", color.heatmap = \"Blues\")\n",
    "      # Save each plot\n",
    " pdf(\n",
    "    file = paste0(results_folder, x, \"_heatmap.pdf\"),\n",
    "    width = 8,\n",
    "    height = 6)\n",
    "  ComplexHeatmap::draw(plot)\n",
    "  dev.off()\n",
    "  plot\n",
    "})\n",
    "\n",
    "names(plot_list) <- names(cellchat_list)"
   ]
  },
  {
   "cell_type": "code",
   "execution_count": 58,
   "id": "7be7ce25",
   "metadata": {
    "vscode": {
     "languageId": "r"
    }
   },
   "outputs": [
    {
     "name": "stderr",
     "output_type": "stream",
     "text": [
      "Warning message in mergeCellChat(cellchat_list[1:3], add.names = names(cellchat_list[1:3]), :\n",
      "“Prefix cell names!”\n"
     ]
    },
    {
     "name": "stdout",
     "output_type": "stream",
     "text": [
      "The cell barcodes in merged 'meta' is  ov16_AAAGTGAGTGGTACAG.1 ov17_AAGTGAAGTATGCAAA.1 ov20_AGAGAATCAAACTCTG.1 ov20_GAGTCTATCGCCGAGT.1 ov20_GATAGAAGTACACTCA.1 ov20_GGCTGTGTCTGCATGA.1 \n"
     ]
    },
    {
     "name": "stderr",
     "output_type": "stream",
     "text": [
      "Warning message in mergeCellChat(cellchat_list[1:3], add.names = names(cellchat_list[1:3]), :\n",
      "“The cell barcodes in merged 'meta' is different from those in the used data matrix.\n",
      "              We now simply assign the colnames in the data matrix to the rownames of merged 'mata'!”\n",
      "Merge the following slots: 'data.signaling','images','net', 'netP','meta', 'idents', 'var.features' , 'DB', and 'LR'.\n",
      "\n",
      "Warning message in mergeCellChat(cellchat_list[4:6], add.names = names(cellchat_list[4:6]), :\n",
      "“Prefix cell names!”\n"
     ]
    },
    {
     "name": "stdout",
     "output_type": "stream",
     "text": [
      "The cell barcodes in merged 'meta' is  ov18_CAGTGCGGTGACTCGC.1 ov18_GGGTTTATCGCATTAG.1 ov16_AGTGTTGGTGATACAA.1 ov17_AACAACCCAAAGCGTG.1 ov17_AAGCCATAGGTCACTT.1 ov17_CGCCAGATCCCGAATA.1 \n"
     ]
    },
    {
     "name": "stderr",
     "output_type": "stream",
     "text": [
      "Warning message in mergeCellChat(cellchat_list[4:6], add.names = names(cellchat_list[4:6]), :\n",
      "“The cell barcodes in merged 'meta' is different from those in the used data matrix.\n",
      "              We now simply assign the colnames in the data matrix to the rownames of merged 'mata'!”\n",
      "Merge the following slots: 'data.signaling','images','net', 'netP','meta', 'idents', 'var.features' , 'DB', and 'LR'.\n",
      "\n"
     ]
    }
   ],
   "source": [
    "\n",
    "cellchat_pre <- mergeCellChat(\n",
    "  cellchat_list[1:3],\n",
    "  add.names = names(cellchat_list[1:3]),\n",
    "  cell.prefix = TRUE)\n",
    "\n",
    "  cellchat_post <- mergeCellChat(\n",
    "  cellchat_list[4:6],\n",
    "  add.names = names(cellchat_list[4:6]),\n",
    "  cell.prefix = TRUE)"
   ]
  },
  {
   "cell_type": "code",
   "execution_count": 59,
   "id": "3fdb7fde",
   "metadata": {
    "vscode": {
     "languageId": "r"
    }
   },
   "outputs": [
    {
     "name": "stderr",
     "output_type": "stream",
     "text": [
      "Do heatmap based on a merged object \n",
      "\n",
      "\n"
     ]
    },
    {
     "ename": "ERROR",
     "evalue": "Error in obj2 - obj1: non-conformable arrays\n",
     "output_type": "error",
     "traceback": [
      "Error in obj2 - obj1: non-conformable arrays\nTraceback:\n",
      "1. netVisual_heatmap(object = cellchat_post, measure = \"count\", \n .     color.heatmap = c(\"white\", \"steelblue\"))"
     ]
    }
   ],
   "source": [
    "\n",
    "#Make the heatmap object (counts of significant LR pairs between sender→receiver)\n",
    "ht <- netVisual_heatmap(\n",
    "  object        = cellchat_post,\n",
    "  measure       = \"count\",\n",
    "  color.heatmap = c(\"white\", \"steelblue\")\n",
    ")\n",
    "\n",
    "# 3. Draw to screen\n",
    "ComplexHeatmap::draw(ht)\n",
    "\n",
    "# 4. Save to PDF\n",
    "pdf(\n",
    "  file = file.path(results_folder, \"CellChat_Post_heatmap.pdf\"),\n",
    "  width = 9,\n",
    "  height = 8\n",
    ")\n",
    "ComplexHeatmap::draw(ht)\n",
    "dev.off()"
   ]
  },
  {
   "cell_type": "code",
   "execution_count": 60,
   "id": "40fb9466",
   "metadata": {
    "vscode": {
     "languageId": "r"
    }
   },
   "outputs": [
    {
     "name": "stderr",
     "output_type": "stream",
     "text": [
      "Do heatmap based on a merged object \n",
      "\n",
      "\n"
     ]
    },
    {
     "name": "stderr",
     "output_type": "stream",
     "text": [
      "Warning message:\n",
      "“`legend_height` you specified is too small, use the default minimal\n",
      "height.”\n",
      "Warning message:\n",
      "“`legend_height` you specified is too small, use the default minimal\n",
      "height.”\n",
      "Warning message:\n",
      "“`legend_height` you specified is too small, use the default minimal\n",
      "height.”\n",
      "Warning message:\n",
      "“`legend_height` you specified is too small, use the default minimal\n",
      "height.”\n",
      "Warning message:\n",
      "“`legend_height` you specified is too small, use the default minimal\n",
      "height.”\n",
      "Warning message:\n",
      "“`legend_height` you specified is too small, use the default minimal\n",
      "height.”\n"
     ]
    },
    {
     "data": {
      "text/html": [
       "<strong>png:</strong> 2"
      ],
      "text/latex": [
       "\\textbf{png:} 2"
      ],
      "text/markdown": [
       "**png:** 2"
      ],
      "text/plain": [
       "png \n",
       "  2 "
      ]
     },
     "metadata": {},
     "output_type": "display_data"
    }
   ],
   "source": [
    "\n",
    "#Make the heatmap object (counts of significant LR pairs between sender→receiver)\n",
    "ht <- netVisual_heatmap(\n",
    "  object        = cellchat_pre,\n",
    "  measure       = \"count\",\n",
    "  color.heatmap = c(\"white\", \"steelblue\")\n",
    ")\n",
    "\n",
    "# 3. Draw to screen\n",
    "ComplexHeatmap::draw(ht)\n",
    "\n",
    "# 4. Save to PDF\n",
    "pdf(\n",
    "  file = file.path(results_folder, \"CellChat_Pre_heatmap.pdf\"),\n",
    "  width = 9,\n",
    "  height = 8\n",
    ")\n",
    "ComplexHeatmap::draw(ht)\n",
    "dev.off()\n"
   ]
  },
  {
   "cell_type": "markdown",
   "id": "1e2efb05",
   "metadata": {},
   "source": [
    "previous attempts below"
   ]
  },
  {
   "cell_type": "code",
   "execution_count": null,
   "id": "57641b9b",
   "metadata": {
    "vscode": {
     "languageId": "r"
    }
   },
   "outputs": [],
   "source": [
    "adata_vis_match[[1]]@assays$RNA@data[1:5,1:5]"
   ]
  },
  {
   "cell_type": "code",
   "execution_count": null,
   "id": "c929785c",
   "metadata": {
    "vscode": {
     "languageId": "r"
    }
   },
   "outputs": [],
   "source": [
    "distMats <- lapply(cellTrekObs, function(ctOb){\n",
    "    obCoord <- as.matrix(ctOb@meta.data[,c(\"coord_x\", \"coord_y\")])\n",
    "    obDist <- CellChat::computeRegionDistance(obCoord,\n",
    "                                              meta = ctOb@meta.data,\n",
    "                                              contact.knn.k=10)\n",
    "    return(obDist)\n",
    "})"
   ]
  },
  {
   "cell_type": "markdown",
   "id": "20d0c634",
   "metadata": {
    "vscode": {
     "languageId": "r"
    }
   },
   "source": [
    "The above is seeing if it will work if I load Ollie's version unprocessed, still no result"
   ]
  },
  {
   "cell_type": "code",
   "execution_count": null,
   "id": "fa463a17",
   "metadata": {
    "vscode": {
     "languageId": "r"
    }
   },
   "outputs": [],
   "source": [
    "#local\n",
    "cell2loc = '/run/user/1804238067/gvfs/sftp:host=clust1-sub-1,user=lythgo02/mnt/scratchc/fmlab/lythgo02/OV_visium/emily/cell2location/cellTrek/'\n",
    "ov_visium = '/run/user/1804238067/gvfs/sftp:host=clust1-sub-1,user=lythgo02/mnt/scratchc/fmlab/lythgo02/OV_visium/emily/cell2location/cellTrek/'\n",
    "\n",
    "#### Load Visium Data\n",
    "ovVis <- readRDS(paste0(ov_visium, \"celltrek_results.rds\"))  #version of Ollie's filtered against mine\n",
    "\n",
    "#### Load scRNA-seq\n",
    "ovSc <- readRDS(\"/home/lythgo02/Documents/OV_visium/upk10_sc_400_newlyAnnot.rds\")"
   ]
  },
  {
   "cell_type": "code",
   "execution_count": null,
   "id": "9853df96",
   "metadata": {
    "vscode": {
     "languageId": "r"
    }
   },
   "outputs": [],
   "source": [
    "#convert updated annotation to factor with levels organised in alphabetical order for plotting purposes \n",
    "ovVis <- lapply(ovVis, function(i){\n",
    "    i$cell_type <- ifelse(grepl(\"Tumour\", i$updated_annotation), \"Tumour\",  #collapse tumour 1,2,3 subgroups into one \n",
    "                                    i$updated_annotation)  \n",
    "    i$cell_type <- factor(i$cell_type,\n",
    "                                    levels=sort(unique(i$cell_type)))                                                        \n",
    "    return(i)\n",
    "})"
   ]
  },
  {
   "cell_type": "code",
   "execution_count": null,
   "id": "e3ce424f",
   "metadata": {
    "vscode": {
     "languageId": "r"
    }
   },
   "outputs": [],
   "source": [
    "\n",
    "ovVis <- lapply(ovVis, function(ovCellTrek) {\n",
    "    cell_type <- as.character(ovCellTrek@meta.data$cell_type)\n",
    "\n",
    "    #merge categories with consistently low counts across samples\n",
    "    cell_type[grepl(\"Th\", cell_type)] <- \"T-helper\"\n",
    "    cell_type[grepl(\"Cycling\", cell_type)] <- \"Plasma Cells\"\n",
    "    # Add to metadata\n",
    "    ovCellTrek@meta.data$cell_type_collapsed <- factor(cell_type)\n",
    "\n",
    "    return(ovCellTrek)\n",
    "})"
   ]
  },
  {
   "cell_type": "code",
   "execution_count": null,
   "id": "ed93c0f3",
   "metadata": {
    "vscode": {
     "languageId": "r"
    }
   },
   "outputs": [],
   "source": [
    "ov1 <- ovVis[[1]]\n",
    "colnames(ov1@meta.data)\n",
    "unique(ov1@meta.data$cell_type) #from celltrek\n",
    "summary(ov1@meta.data$coord_x) #dimensions in pixels so will need converting \n",
    "ov1@images$slice1@scale.factors\n",
    "ov1@images$slice1@spot.radius\n",
    "slotNames(ov1[[\"RNA\"]])\n"
   ]
  },
  {
   "cell_type": "markdown",
   "id": "c46387c1",
   "metadata": {},
   "source": [
    "Cellchat requires normalised data\n",
    " - Ollie appears to have previously used SCTransform which is from the same authors as Cellchat (Seurat lot)\n",
    " - In their workflow they appear to use SCT data but this is the residuals after regression (like Z-scaled), given they say to use log normalised data, not scaled, will use NormaliseData function \n",
    " - I am using the output from celltrek as input for cellchat so the normalised data is in obj[[\"RNA]]@data"
   ]
  },
  {
   "cell_type": "markdown",
   "id": "24e80765",
   "metadata": {},
   "source": [
    "Prepare inputs\n",
    "CHECK CONVERSION OF PIXEL TO UM - CHCK THE LOGIC\n",
    " - extract normalised expression values \n",
    " - create metadataframe with labels and treatments \n",
    " - convert spot pixel coordinates to um for spatial.locs"
   ]
  },
  {
   "cell_type": "code",
   "execution_count": null,
   "id": "5541ff3d",
   "metadata": {
    "vscode": {
     "languageId": "r"
    }
   },
   "outputs": [],
   "source": [
    "ovVis_input <- lapply(ovVis, function(x) {\n",
    "  # Extract normalized expression matrix\n",
    "  data.input <- GetAssayData(x, assay = \"RNA\", slot = \"data\")\n",
    "  \n",
    "  # Use full metadata from Seurat object directly for CellChat\n",
    "  meta.input <- x@meta.data\n",
    "  \n",
    "  # Convert pixel coordinates to microns\n",
    "  spot.size <- 65  # theoretical spot size in µm\n",
    "  pixel.diam <- x@images$slice1@scale.factors$spot_dis  # spot diameter in pixels\n",
    "  conversion.factor <- spot.size / pixel.diam           # µm per pixel\n",
    "  \n",
    "  spatial.locs <- as.matrix(meta.input[, c(\"coord_x\", \"coord_y\")]) * conversion.factor\n",
    "  colnames(spatial.locs) <- c(\"x\", \"y\")\n",
    "  \n",
    "  scale.factors <- list(\n",
    "  spot.diameter = 65,\n",
    "  spot = x@images$slice1@scale.factors$spot)  # 'spot' is the pixel diameter at full-res\n",
    "  \n",
    "  # QC: compute nearest-neighbor distances\n",
    "  d.spatial <- computeCellDistance(coordinates = spatial.locs,\n",
    "                                   ratio = 1, tol = spot.size/2)\n",
    "  cat(\"Minimum NN distance (µm):\", min(d.spatial[d.spatial != 0]), \"\\n\")\n",
    "  \n",
    "  # Return list with expression, metadata, spatial coordinates\n",
    "  list(data = data.input, meta = meta.input, spatial = spatial.locs, scale.factors=scale.factors)\n",
    "})\n",
    "\n"
   ]
  },
  {
   "cell_type": "markdown",
   "id": "dfae9b2b",
   "metadata": {},
   "source": [
    "Visium spots:\n",
    " - The center-to-center distance between spots is ~100 µm (this comes from the array design: ~65 µm spot diameter, ~100 µm spacing).\n",
    " - If you were plotting spot coordinates directly, the nearest-neighbor distances between spots should be ~100 µm.\n",
    " - CellTrek interpolates cells within each spot. Multiple cells can occupy a single spot or nearby positions so the NN distances between cells are smaller — ~10–20 µm; cell-to-cell rather than spot-to-spot \n",
    " - ~100 µm = nearest spots in Visium\n",
    " - ~14 µm = nearest mapped cells after CellTrek"
   ]
  },
  {
   "cell_type": "code",
   "execution_count": null,
   "id": "0338815a",
   "metadata": {
    "vscode": {
     "languageId": "r"
    }
   },
   "outputs": [],
   "source": [
    "head(ovVis_input$OV_1$meta)\n",
    "head(ovVis[[1]]@meta.data[, c(\"coord_x\", \"coord_y\")])  # raw pixel coords\n",
    "head(ovVis_input$OV_1$spatial)  \n",
    "head(ovVis_input$OV_1$data)\n",
    "ovVis_input$OV_1$scale.factors"
   ]
  },
  {
   "cell_type": "code",
   "execution_count": null,
   "id": "13a59304",
   "metadata": {
    "vscode": {
     "languageId": "r"
    }
   },
   "outputs": [],
   "source": [
    "ov1 <- ovVis_input[[1]]\n",
    "colnames(ov1$meta)\n",
    "all(rownames(meta) == rownames(coordinates))\n",
    "table(meta$group)\n",
    "nrow(ov1$spatial)"
   ]
  },
  {
   "cell_type": "code",
   "execution_count": null,
   "id": "80f94a74",
   "metadata": {
    "vscode": {
     "languageId": "r"
    }
   },
   "outputs": [],
   "source": [
    "CellChatDB <- CellChatDB.mouse\n",
    "showDatabaseCategory(CellChatDB)"
   ]
  },
  {
   "cell_type": "markdown",
   "id": "b2c4e368",
   "metadata": {},
   "source": [
    "Pick the subset of the database that you actually want to use"
   ]
  },
  {
   "cell_type": "code",
   "execution_count": null,
   "id": "72780083",
   "metadata": {
    "vscode": {
     "languageId": "r"
    }
   },
   "outputs": [],
   "source": [
    "\n",
    "# use a subset of CellChatDB for cell-cell communication analysis\n",
    "CellChatDB.use <- subsetDB(CellChatDB, search = \"Secreted Signaling\") # use Secreted Signaling\n",
    "# use all CellChatDB for cell-cell communication analysis\n",
    "# CellChatDB.use <- CellChatDB # simply use the default CellChatDB"
   ]
  },
  {
   "cell_type": "code",
   "execution_count": null,
   "id": "3f1c55ee",
   "metadata": {
    "vscode": {
     "languageId": "r"
    }
   },
   "outputs": [],
   "source": [
    "\n",
    "\n",
    "cellchat_list <- lapply(names(ovVis_input), function(sample_name) {\n",
    "  sample_data <- ovVis_input[[sample_name]]\n",
    "  \n",
    "  cellchat <- CellChat::createCellChat(\n",
    "    object = sample_data$data,\n",
    "    meta = sample_data$meta,\n",
    "    group.by = \"cell_type_collapsed\",                 # adjust to the column name in meta for cell types\n",
    "    coordinates = sample_data$spatial,\n",
    "    datatype = \"spatial\",\n",
    "    #scale.factors = sample_data$scale.factors,\n",
    "    spatial.factors = data.frame(ratio = 1, tol = 32.5),  # adjust tol if needed\n",
    "    do.sparse=TRUE\n",
    "  )\n",
    "  \n",
    "  # Set CellChat database (optional: replace with the specific database you want to use)\n",
    "  cellchat@DB <- CellChatDB.mouse  # or CellChatDB.use if you loaded a custom DB\n",
    "  \n",
    "  return(cellchat)\n",
    "})\n",
    "\n",
    "names(cellchat_list) <- names(ovVis_input)\n",
    "\n"
   ]
  },
  {
   "cell_type": "code",
   "execution_count": null,
   "id": "3b0eb1dd",
   "metadata": {
    "vscode": {
     "languageId": "r"
    }
   },
   "outputs": [],
   "source": [
    "cellchat <- cellchat_list[[1]]\n",
    "levels(cellchat@idents)\n",
    "groupSize <- as.numeric(table(cellchat@idents)) # cells per type\n",
    "groupSize\n",
    "slotNames(cellchat) #data.raw is only populated if you provide the raw counts which aren't actually required by cellchat\n",
    "\n"
   ]
  },
  {
   "cell_type": "code",
   "execution_count": null,
   "id": "36526208",
   "metadata": {
    "vscode": {
     "languageId": "r"
    }
   },
   "outputs": [],
   "source": [
    "\n",
    "library(presto)\n",
    "\n",
    "# Subset data to relevant genes and ligand-receptor pairs\n",
    "cellchat <- subsetData(cellchat)"
   ]
  },
  {
   "cell_type": "code",
   "execution_count": null,
   "id": "c9e46088",
   "metadata": {
    "vscode": {
     "languageId": "r"
    }
   },
   "outputs": [],
   "source": [
    "cellchat@spatial\n"
   ]
  },
  {
   "cell_type": "code",
   "execution_count": null,
   "id": "aa74880f",
   "metadata": {
    "vscode": {
     "languageId": "r"
    }
   },
   "outputs": [],
   "source": [
    "\n",
    "cellchat <- identifyOverExpressedGenes(cellchat)\n",
    "cellchat <- identifyOverExpressedInteractions(cellchat)\n",
    "cellchat <- computeCommunProb(cellchat, raw.use = FALSE)\n",
    "cellchat <- filterCommunication(cellchat, min.cells = 10)\n",
    "cellchat <- computeCommunProbPathway(cellchat)\n",
    "cellchat <- aggregateNet(cellchat)\n"
   ]
  }
 ],
 "metadata": {
  "kernelspec": {
   "display_name": "R",
   "language": "R",
   "name": "ir"
  },
  "language_info": {
   "codemirror_mode": "r",
   "file_extension": ".r",
   "mimetype": "text/x-r-source",
   "name": "R",
   "pygments_lexer": "r",
   "version": "4.2.0"
  }
 },
 "nbformat": 4,
 "nbformat_minor": 5
}
