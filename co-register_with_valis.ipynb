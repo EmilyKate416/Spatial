{
 "cells": [
  {
   "cell_type": "markdown",
   "metadata": {},
   "source": [
    "Workflow for co-registering images with valis after running the pre-processing steps \n",
    "Pre-processing in comet.py and ultivue.py, submitted to cluster with submit_savetoVIPs.sh\n",
    "\"\"\"\n",
    "------------------------------------------------------------------------------\n",
    "Perform image co-registration using the VALIS library after preprocessing with\n",
    "`comet.py` and `ultivue.py`. Supports both rigid and high-resolution micro\n",
    "non-rigid registration to align COMET, Ultivue, and H&E pseudo-DAPI images.\n",
    "\n",
    "------------------------------------------------------------------------------\n",
    "Inputs\n",
    "------------------------------------------------------------------------------\n",
    "- Preprocessed image folders (from comet.py / ultivue.py) containing:\n",
    "------------------------------------------------------------------------------\n",
    "Outputs\n",
    "------------------------------------------------------------------------------\n",
    "- Registration results written under each sample folder:\n",
    "  • /registration/   (rigid registration results)\n",
    "  • /micro_registration/ (high-resolution micro non-rigid registration results)\n",
    "- Dataframes with registration error metrics (error_df, micro_error_df)\n",
    "- Pickled registrar objects: <sample>_registrar.pickle\n",
    "- Transformed aligned images accessible via VALIS API\n",
    "------------------------------------------------------------------------------\n",
    "\"\"\"\n",
    "\n"
   ]
  },
  {
   "cell_type": "markdown",
   "metadata": {},
   "source": [
    "The section below is only for running on cluster, skip to next section for local running"
   ]
  },
  {
   "cell_type": "code",
   "execution_count": null,
   "metadata": {},
   "outputs": [],
   "source": [
    "#ensuure pyvips can  find libvips installation (downloaded and compiled from source)\n",
    "#export PATH=\"$HOME/local/libvips/bin:$PATH\"\n",
    "#export PKG_CONFIG_PATH=\"$HOME/local/libvips/lib64/pkgconfig:$PKG_CONFIG_PATH\"\n",
    "#export LD_LIBRARY_PATH=\"$HOME/local/libvips/lib64:/home/lythgo02/micromamba/pkgs/libffi-3.4.6-h2dba641_1/lib:/home/lythgo02/micromamba/envs/napari-env/lib$LD_LIBRARY_PATH\"\n",
    "\n",
    "#micromamba install python=3.10 scikit-image pandas pyvips -c conda-forge\n",
    "#if you also install numpy via micromamba, make sure it is an older version compatible with valis numpy==1.23.5\n",
    "#micromamba activate valis\n",
    "#echo \n",
    "\n",
    "#pip install valis-wsi \n",
    "#pip install numpy==1.23.5 ipykernel\n",
    "#micromamba install maven ???\n",
    "#micromamba install openslide ???\n",
    "\n",
    "\n",
    "#register kernel\n",
    "#python -m ipykernel install --user --name valis --display-name \"valis\"\n",
    "#select valis kernel\n",
    "\n",
    "#tell which java to use (requires jdk bundle)\n",
    "#export JAVA_HOME=/home/bioinformatics/software/java/jdk-17.0.3.1/bin/java \n",
    "\n",
    "#check\n",
    "#echo $JAVA_HOME"
   ]
  },
  {
   "cell_type": "markdown",
   "metadata": {},
   "source": [
    "The following section is for running locally"
   ]
  },
  {
   "cell_type": "code",
   "execution_count": null,
   "metadata": {},
   "outputs": [],
   "source": [
    "!bash mamba activate valis-env\n",
    "!python"
   ]
  },
  {
   "cell_type": "markdown",
   "metadata": {},
   "source": [
    "Initialise parameter responsible for determining the rigid registration parameters, max_processed_image_dim_px by passing to the script during registration. Default = 850, adjust if registration fails (500-2000). When there is little empty space around tissue smaller values are better.Higher values for when there is more space to improve resolution. "
   ]
  },
  {
   "cell_type": "code",
   "execution_count": null,
   "metadata": {},
   "outputs": [
    {
     "ename": "ImportError",
     "evalue": "cannot import name 'registration' from 'valis' (unknown location)",
     "output_type": "error",
     "traceback": [
      "\u001b[0;31m---------------------------------------------------------------------------\u001b[0m",
      "\u001b[0;31mImportError\u001b[0m                               Traceback (most recent call last)",
      "Cell \u001b[0;32mIn[5], line 8\u001b[0m\n\u001b[1;32m      5\u001b[0m \u001b[38;5;28;01mimport\u001b[39;00m\u001b[38;5;250m \u001b[39m\u001b[38;5;21;01mpandas\u001b[39;00m\u001b[38;5;250m \u001b[39m\u001b[38;5;28;01mas\u001b[39;00m\u001b[38;5;250m \u001b[39m\u001b[38;5;21;01mpd\u001b[39;00m\n\u001b[1;32m      6\u001b[0m \u001b[38;5;28;01mimport\u001b[39;00m\u001b[38;5;250m \u001b[39m\u001b[38;5;21;01mgc\u001b[39;00m\n\u001b[0;32m----> 8\u001b[0m \u001b[38;5;28;01mfrom\u001b[39;00m\u001b[38;5;250m \u001b[39m\u001b[38;5;21;01mvalis\u001b[39;00m\u001b[38;5;250m \u001b[39m\u001b[38;5;28;01mimport\u001b[39;00m registration\n",
      "\u001b[0;31mImportError\u001b[0m: cannot import name 'registration' from 'valis' (unknown location)"
     ]
    }
   ],
   "source": [
    "\n",
    "# Import packages\n",
    "import time\n",
    "import os\n",
    "import ctypes\n",
    "import pandas as pd\n",
    "import gc\n",
    "\n",
    "from pathlib import Path\n",
    "from valis import registration\n",
    "import numpy as np\n",
    "\n",
    "from valis.micro_rigid_registrar import MicroRigidRegistrar"
   ]
  },
  {
   "cell_type": "code",
   "execution_count": null,
   "metadata": {},
   "outputs": [],
   "source": [
    "\n",
    "#input_dir='/home/lythgo02/Documents/valis_prep_ultivue0.9_hne20x_processed/'\n",
    "input_dir='/home/lythgo02/Documents/comet_fullres/'\n",
    "for file_id in os.listdir(input_dir):\n",
    "    file_path = os.path.join(input_dir, file_id)\n",
    "    if not os.path.isdir(file_path):\n",
    "        continue\n",
    "    output_dir = os.path.join(input_dir,'registration')\n",
    "    registrar = registration.Valis(\n",
    "        file_path,\n",
    "        output_dir,\n",
    "        reference_img_f='pseudo-dapi-ultivue.tif',\n",
    "        align_to_reference=True,\n",
    "        image_type='flourescence'\n",
    "    )\n",
    "    registrar.register()\n",
    "      #  Exits the loop after first iteration\n",
    "  \n"
   ]
  },
  {
   "cell_type": "code",
   "execution_count": null,
   "metadata": {},
   "outputs": [],
   "source": [
    "\n",
    "from valis.micro_rigid_registrar import MicroRigidRegistrar  # High-res rigid registration\n",
    "\n",
    "micro_reg_fraction = 0.25  # Use 25% of full res for micro non-rigid\n",
    "\n",
    "#input_dir='/home/lythgo02/Documents/valis_prep_cometlayer3_hne40x_ultivue0.9/'\n",
    "#input_dir='/home/lythgo02/Documents/valis_prep_ultivue0.9_hne40x_cometlayer1/micro/'\n",
    "input_dir='/home/lythgo02/Documents/comet_fullres/'\n",
    "for file_id in os.listdir(input_dir):\n",
    "    file_path = os.path.join(input_dir, file_id)\n",
    "    if not os.path.isdir(file_path):\n",
    "        continue\n",
    "    output_dir = os.path.join(input_dir,'micro_registration')\n",
    "    registrar = registration.Valis(\n",
    "        file_path,\n",
    "        output_dir,\n",
    "        image_type=\"flourescence\",\n",
    "        reference_img_f=\"pseudo-dapi-ultivue.tif\",\n",
    "        align_to_reference=True,\n",
    "        micro_rigid_registrar_cls=MicroRigidRegistrar  # High-res rigid registration\n",
    "    )\n",
    "    rigid_registrar, non_rigid_registrar, error_df = registrar.register() # Step 1: Rigid registration (high-resolution)\n",
    "    img_dims = np.array([slide_obj.slide_dimensions_wh[0] for slide_obj in registrar.slide_dict.values()]) # Step 2: Calculate size for micro non-rigid registration\n",
    "    min_max_size = np.min([np.max(d) for d in img_dims])\n",
    "    img_areas = [np.multiply(*d) for d in img_dims]\n",
    "    max_img_w, max_img_h = tuple(img_dims[np.argmax(img_areas)])\n",
    "    micro_reg_size = np.floor(min_max_size * micro_reg_fraction).astype(int)    \n",
    "    micro_registrar, micro_error_df = registrar.register_micro(max_non_rigid_registration_dim_px=micro_reg_size)# Step 3: Micro non-rigid registration at higher resolution\n",
    "\n",
    "#using micro-resolution registration (high resolution but more resource demanding)\n",
    "\n",
    "# Set your paths\n",
    "\n",
    "\n"
   ]
  },
  {
   "cell_type": "code",
   "execution_count": null,
   "metadata": {},
   "outputs": [],
   "source": [
    "#be sure to kill the java virtual machine at the end of the scripts\n",
    "registration.kill_jvm()"
   ]
  },
  {
   "cell_type": "markdown",
   "metadata": {},
   "source": [
    "see email from Thierry for the code he provided for the next steps"
   ]
  },
  {
   "cell_type": "code",
   "execution_count": null,
   "metadata": {},
   "outputs": [],
   "source": [
    "\n",
    "file = 'FILENAME OF DATA'\n",
    "wsi_hne = [] # Load numpy array containing the image on which to apply the spatial transform\n",
    "\n",
    "# Load pre-computed registrar\n",
    "registrar = registration.load_registrar(results_dst_dir+file+'/data/'+file+'_registrar.pickle')\n",
    "reference_slide = registrar.get_slide('ihc_2')\n",
    "\n",
    "for slide_obj in registrar.slide_dict.values():\n",
    "    if slide_obj == reference_slide:\n",
    "        continue\n",
    "\n",
    "    # Apply co-registration to this different image of same size\n",
    "    coreg_img = reference_slide.warp_img_from_to(wsi_hne,\n",
    "                                    to_slide_obj=slide_obj,\n",
    "                                    interp_method=\"nearest\")\n",
    "    \n",
    "registration.kill_jvm()\n"
   ]
  }
 ],
 "metadata": {
  "kernelspec": {
   "display_name": "Python 3",
   "language": "python",
   "name": "python3"
  },
  "language_info": {
   "codemirror_mode": {
    "name": "ipython",
    "version": 3
   },
   "file_extension": ".py",
   "mimetype": "text/x-python",
   "name": "python",
   "nbconvert_exporter": "python",
   "pygments_lexer": "ipython3",
   "version": "3.10.17"
  }
 },
 "nbformat": 4,
 "nbformat_minor": 2
}
