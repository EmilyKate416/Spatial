{
 "cells": [
  {
   "cell_type": "code",
   "execution_count": null,
   "id": "612525da",
   "metadata": {
    "vscode": {
     "languageId": "r"
    }
   },
   "outputs": [],
   "source": [
    "mamba activate cell2loc_prep_r \n",
    "#mamba activate cell2location\n",
    "#pip install jax==0.5\n",
    "#mamba install ipykernel\n",
    "#python3 -m ipykernel install --user --name=cell2loc_prep_r --display-name \"cell2loc_prep_r\""
   ]
  },
  {
   "cell_type": "markdown",
   "id": "bc8c74ee",
   "metadata": {},
   "source": [
    "\n",
    "This next section reesumes Ollie's workflow from Run_cell2location_per_sample.ipynb, from Use scanpy pipeline\n",
    "(we don't need to run this section as we have processed and QC'd already in R, Ollie does this in scanpy and then goes on to cell2location)\n",
    "Begin by merging the visium samples to an anndata onject"
   ]
  },
  {
   "cell_type": "code",
   "execution_count": null,
   "id": "358cc85d",
   "metadata": {
    "vscode": {
     "languageId": "r"
    }
   },
   "outputs": [],
   "source": [
    "#register kernel \n",
    "#in terminal, open R\n",
    "#install.packages('IRkernel')\n",
    "#IRkernel::installspec(user = TRUE)\n",
    "#quit()"
   ]
  },
  {
   "cell_type": "code",
   "execution_count": null,
   "id": "52f82e08",
   "metadata": {
    "vscode": {
     "languageId": "r"
    }
   },
   "outputs": [],
   "source": [
    "library(Seurat)\n",
    "#library(SeuratDisk)\n",
    "library(dplyr)\n",
    "library(HDF5Array)\n",
    "#library(SpatialExperiment)\n",
    "\n",
    "samplesheet <- c(\"SITSA1\", \"SITSA2\", \"SITSA3\", \"SITSA4\",\n",
    "                 \"SITSB1\", \"SITSB2\", \"SITSB3\", \"SITSB4\", \n",
    "                 \"SITSC1\", \"SITSC2\", \"SITSC3\", #\"SITSC4\", NEED TO GENERATE HDF5 FILES FOR C4 AGAIN\n",
    "                 \"SITSD1\", \"SITSD2\", \"SITSD3\", \"SITSD4\",\n",
    "                 \"SITSE2\", \"SITSE4\", \"SITSF2\", \"SITSF4\",\n",
    "                 \"SITSG2\", \"SITSH2\")\n",
    "\n",
    "# Load HVG-filtered RDS files\n",
    "cluster_files <- list.files(path = \"/home/lythgo02/Documents/saved_spe_h5\", pattern = \"_spe_nnsvg_clusterDE\", full.names = TRUE)\n",
    "\n",
    "names(cluster_files) <- samplesheet\n",
    "\n",
    "spe_list <- list()\n",
    "for (sample in names(cluster_files)) {\n",
    "  spe_list[[sample]] <- loadHDF5SummarizedExperiment(cluster_files[[sample]])\n",
    "}\n"
   ]
  },
  {
   "cell_type": "code",
   "execution_count": null,
   "id": "083bc9f8",
   "metadata": {
    "vscode": {
     "languageId": "r"
    }
   },
   "outputs": [],
   "source": [
    "\n",
    "#switch to python env (and switch kernel)\n",
    "\n",
    "#if not working in notebook\n",
    "#mamba activate cell2location _cuda118_torch22\n",
    "#python\n"
   ]
  },
  {
   "cell_type": "code",
   "execution_count": null,
   "id": "12a8fcf3",
   "metadata": {
    "vscode": {
     "languageId": "r"
    }
   },
   "outputs": [],
   "source": [
    "\n",
    "import scanpy as sc\n",
    "import os"
   ]
  },
  {
   "cell_type": "markdown",
   "id": "17705102",
   "metadata": {},
   "source": [
    "\n",
    "Load each sample’s spatial data from assays.h5 (need to fix SITSC4).\n",
    "Make gene names unique to avoid duplication problems.\n",
    "Tag each cell/spot with its sample ID.\n",
    "Collect  samples in a list (slides) for further processing."
   ]
  },
  {
   "cell_type": "code",
   "execution_count": null,
   "id": "f1d0ae16",
   "metadata": {
    "vscode": {
     "languageId": "r"
    }
   },
   "outputs": [],
   "source": [
    "base_path = \"\"/mnt/scratchc/fmlab/lythgo02/Spatial/saved_spe_h5ad/\" COPIED OVER TO NAS BUT NEED TO COPY TO LOCAL TOO \n",
    "samples = [file for file in os.listdir(base_path) \n",
    "    if file.endswith(\"_spe_nnsvg_clusterDE\")]  #scans basepath directory and collects folder names matching string \n",
    "\n",
    "#result samples = ['SITSA1_spe_nnsvg_clusterDE', 'SITSC3_spe_nnsvg_clusterDE', 'SITSD4_spe_nnsvg_clusterDE']\n",
    "\n",
    "slides = []\n",
    "\n",
    "for sample in samples:\n",
    "    file_path = os.path.join(base_path, sample, \"name.h5ad\")\n",
    "    adata = sc.read_h5ad(file_path)\n",
    "    \n",
    "    # (Optional) Clean var_names, sync genes, etc.\n",
    "    adata.var_names_make_unique()    #ensures gene names are unique \n",
    "    adata.obs[\"sample\"] = sample     # adds a new column to observation metadata, labels each cell/spot in adata with sample name it came from \n",
    "    \n",
    "    slides.append(adata)"
   ]
  }
 ],
 "metadata": {
  "kernelspec": {
   "display_name": "R",
   "language": "R",
   "name": "ir"
  },
  "language_info": {
   "name": "R"
  }
 },
 "nbformat": 4,
 "nbformat_minor": 5
}
