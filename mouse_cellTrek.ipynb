{
 "cells": [
  {
   "cell_type": "markdown",
   "id": "69e902d0",
   "metadata": {},
   "source": [
    "## 1. Load libraries\n",
    "This loads the required R packages for:\n",
    "- **CellTrek** (mapping scRNA → spatial)\n",
    "- **Seurat** (single-cell integration)\n",
    "- **CellChat** (cell–cell communication, though not used later in this script)\n",
    "- Visualization (`ggplot2`, `pheatmap`, `patchwork`, etc.)\n",
    "- Clustering/statistics (`ConsensusClusterPlus`, `RColorBrewer`)."
   ]
  },
  {
   "cell_type": "markdown",
   "id": "896be9d0",
   "metadata": {},
   "source": [
    "Need to install this too in env beforehand\n",
    "#mamba install -c conda-forge -c bioconda bioconductor-singlecellexperiment\n"
   ]
  },
  {
   "cell_type": "code",
   "execution_count": null,
   "id": "d68f5195",
   "metadata": {
    "vscode": {
     "languageId": "r"
    }
   },
   "outputs": [],
   "source": [
    "#remove.packages(c(\"Seurat\",\"SeuratObject\",\"Matrix\"))\n",
    "#install.packages(\"remotes\")\n",
    "#remotes::install_version(\"Matrix\", version = \"1.6.3\")   \n",
    "#remotes::install_version(\"SeuratObject\", version = \"4.1.3\", dependencies = FALSE)\n",
    "#remotes::install_version(\"Seurat\", version = \"4.3.0\") #BUT MAKE SURE YOU SELECT NONE WHEN IT ASK WHICH PACKAGES TP UPDATE/UPGRADE\n",
    "\n",
    "library(CellTrek)\n",
    "library(dplyr)\n",
    "library(Seurat)\n",
    "#library(SeuratDisk)\n",
    "library(viridis)\n",
    "library(ConsensusClusterPlus)\n",
    "library(RColorBrewer)\n",
    "library(ggplot2)\n",
    "library(ggpubr)\n",
    "library(pheatmap)\n",
    "library(CellChat)\n",
    "library(patchwork)\n",
    "library(sceasy)\n",
    "library(future)\n",
    "library(future.apply)\n",
    "\n",
    "packageVersion(\"SeuratObject\")  # 4.1.3\n",
    "packageVersion(\"Seurat\")        # 4.3.0\n",
    "packageVersion(\"Matrix\")  # 1.6.3"
   ]
  },
  {
   "cell_type": "code",
   "execution_count": null,
   "id": "c5fba913",
   "metadata": {
    "vscode": {
     "languageId": "r"
    }
   },
   "outputs": [],
   "source": [
    "#to clear up session at any point\n",
    "list=ls()\n",
    "list\n",
    "rm(list); gc()\n",
    "#gc()\n",
    "#graphics.off()\n",
    "#closeAllConnections()\n"
   ]
  },
  {
   "cell_type": "markdown",
   "id": "1d21950d",
   "metadata": {},
   "source": [
    "## 2. Load input data\n",
    "Loads the **Visium spatial transcriptomics** object and the **scRNA-seq** Seurat object. In this script:\n",
    "- `ovVis` = Visium data (early-gen, spot-based)\n",
    "- `ovSc` = single-cell RNA-seq data (annotated with cell types).\n",
    "\n",
    "Each of the datasets have already been filtered and subset to contain only spots/cells or genes that pass the filters. These subset versions of the datasets are loaded and used here but we use the raw counts (for the cells/spots remaining) for the workflow as required by CellTrek."
   ]
  },
  {
   "cell_type": "code",
   "execution_count": null,
   "id": "f566f868",
   "metadata": {
    "vscode": {
     "languageId": "r"
    }
   },
   "outputs": [],
   "source": [
    "#cluster\n",
    "cell2loc = '/mnt/scratchc/fmlab/lythgo02/OV_visium/emily/cell2location/'\n",
    "\n",
    "\n",
    "ovVis <- readRDS(paste0(cell2loc, \"mito_norm_emily.rds\"))\n",
    "ovSc <- readRDS(paste0(cell2loc, \"upk10_sc_400_newlyAnnot.rds\"))\n"
   ]
  },
  {
   "cell_type": "code",
   "execution_count": 20,
   "id": "f13db27f",
   "metadata": {
    "vscode": {
     "languageId": "r"
    }
   },
   "outputs": [],
   "source": [
    "\n",
    "#local\n",
    "cell2loc = '/run/user/1804238067/gvfs/sftp:host=clust1-sub-1,user=lythgo02/mnt/scratchc/fmlab/lythgo02/OV_visium/emily/cell2location/'\n",
    "ov_visium = '/run/user/1804238067/gvfs/sftp:host=clust1-sub-1,user=lythgo02/mnt/nas-data/fmlab/group_folders/lythgo02/OV_visium/emily/cell2location/'\n",
    "\n",
    "#### Load Visium Data\n",
    "ovVis <- readRDS(paste0(ov_visium, \"/mito_norm_emily.rds\"))  #version of Ollie's filtered against mine\n",
    "ovVisollie <- readRDS(paste0(ov_visium, \"/mito_norm.rds\")) \n",
    "#ovVis <- readRDS(\"/home/lythgo02/Documents/OV_visium/final_adata_vis_clean_seurat.rds\")\n",
    "\n",
    "#### Load scRNA-seq\n",
    "#ovSc <- readRDS(\"/home/lythgo02/Documents/OV_visium/upk10_sc_400_newlyAnnot.rds\")\n",
    "\n"
   ]
  },
  {
   "cell_type": "code",
   "execution_count": null,
   "id": "48a4693c",
   "metadata": {
    "vscode": {
     "languageId": "r"
    }
   },
   "outputs": [
    {
     "data": {
      "text/html": [
       "<style>\n",
       ".list-inline {list-style: none; margin:0; padding: 0}\n",
       ".list-inline>li {display: inline-block}\n",
       ".list-inline>li:not(:last-child)::after {content: \"\\00b7\"; padding: 0 .5ex}\n",
       "</style>\n",
       "<ol class=list-inline><li>'orig.ident'</li><li>'nCount_Spatial'</li><li>'nFeature_Spatial'</li><li>'nCount_SCT'</li><li>'nFeature_SCT'</li><li>'SCT_snn_res.0.8'</li><li>'seurat_clusters'</li><li>'percent_mito'</li></ol>\n"
      ],
      "text/latex": [
       "\\begin{enumerate*}\n",
       "\\item 'orig.ident'\n",
       "\\item 'nCount\\_Spatial'\n",
       "\\item 'nFeature\\_Spatial'\n",
       "\\item 'nCount\\_SCT'\n",
       "\\item 'nFeature\\_SCT'\n",
       "\\item 'SCT\\_snn\\_res.0.8'\n",
       "\\item 'seurat\\_clusters'\n",
       "\\item 'percent\\_mito'\n",
       "\\end{enumerate*}\n"
      ],
      "text/markdown": [
       "1. 'orig.ident'\n",
       "2. 'nCount_Spatial'\n",
       "3. 'nFeature_Spatial'\n",
       "4. 'nCount_SCT'\n",
       "5. 'nFeature_SCT'\n",
       "6. 'SCT_snn_res.0.8'\n",
       "7. 'seurat_clusters'\n",
       "8. 'percent_mito'\n",
       "\n",
       "\n"
      ],
      "text/plain": [
       "[1] \"orig.ident\"       \"nCount_Spatial\"   \"nFeature_Spatial\" \"nCount_SCT\"      \n",
       "[5] \"nFeature_SCT\"     \"SCT_snn_res.0.8\"  \"seurat_clusters\"  \"percent_mito\"    "
      ]
     },
     "metadata": {},
     "output_type": "display_data"
    },
    {
     "data": {
      "text/html": [
       "<style>\n",
       ".list-inline {list-style: none; margin:0; padding: 0}\n",
       ".list-inline>li {display: inline-block}\n",
       ".list-inline>li:not(:last-child)::after {content: \"\\00b7\"; padding: 0 .5ex}\n",
       "</style>\n",
       "<ol class=list-inline><li>'counts'</li><li>'data'</li><li>'scale.data'</li><li>'key'</li><li>'assay.orig'</li><li>'var.features'</li><li>'meta.features'</li><li>'misc'</li></ol>\n"
      ],
      "text/latex": [
       "\\begin{enumerate*}\n",
       "\\item 'counts'\n",
       "\\item 'data'\n",
       "\\item 'scale.data'\n",
       "\\item 'key'\n",
       "\\item 'assay.orig'\n",
       "\\item 'var.features'\n",
       "\\item 'meta.features'\n",
       "\\item 'misc'\n",
       "\\end{enumerate*}\n"
      ],
      "text/markdown": [
       "1. 'counts'\n",
       "2. 'data'\n",
       "3. 'scale.data'\n",
       "4. 'key'\n",
       "5. 'assay.orig'\n",
       "6. 'var.features'\n",
       "7. 'meta.features'\n",
       "8. 'misc'\n",
       "\n",
       "\n"
      ],
      "text/plain": [
       "[1] \"counts\"        \"data\"          \"scale.data\"    \"key\"          \n",
       "[5] \"assay.orig\"    \"var.features\"  \"meta.features\" \"misc\"         "
      ]
     },
     "metadata": {},
     "output_type": "display_data"
    },
    {
     "data": {
      "text/html": [
       "<dl>\n",
       "\t<dt>$OV_1</dt>\n",
       "\t\t<dd><style>\n",
       ".list-inline {list-style: none; margin:0; padding: 0}\n",
       ".list-inline>li {display: inline-block}\n",
       ".list-inline>li:not(:last-child)::after {content: \"\\00b7\"; padding: 0 .5ex}\n",
       "</style>\n",
       "<ol class=list-inline><li>12662</li><li>960</li></ol>\n",
       "</dd>\n",
       "\t<dt>$OV_2</dt>\n",
       "\t\t<dd><style>\n",
       ".list-inline {list-style: none; margin:0; padding: 0}\n",
       ".list-inline>li {display: inline-block}\n",
       ".list-inline>li:not(:last-child)::after {content: \"\\00b7\"; padding: 0 .5ex}\n",
       "</style>\n",
       "<ol class=list-inline><li>12752</li><li>1472</li></ol>\n",
       "</dd>\n",
       "\t<dt>$OV_3</dt>\n",
       "\t\t<dd><style>\n",
       ".list-inline {list-style: none; margin:0; padding: 0}\n",
       ".list-inline>li {display: inline-block}\n",
       ".list-inline>li:not(:last-child)::after {content: \"\\00b7\"; padding: 0 .5ex}\n",
       "</style>\n",
       "<ol class=list-inline><li>12718</li><li>1315</li></ol>\n",
       "</dd>\n",
       "\t<dt>$OV_4</dt>\n",
       "\t\t<dd><style>\n",
       ".list-inline {list-style: none; margin:0; padding: 0}\n",
       ".list-inline>li {display: inline-block}\n",
       ".list-inline>li:not(:last-child)::after {content: \"\\00b7\"; padding: 0 .5ex}\n",
       "</style>\n",
       "<ol class=list-inline><li>12340</li><li>573</li></ol>\n",
       "</dd>\n",
       "\t<dt>$OV_5</dt>\n",
       "\t\t<dd><style>\n",
       ".list-inline {list-style: none; margin:0; padding: 0}\n",
       ".list-inline>li {display: inline-block}\n",
       ".list-inline>li:not(:last-child)::after {content: \"\\00b7\"; padding: 0 .5ex}\n",
       "</style>\n",
       "<ol class=list-inline><li>12267</li><li>777</li></ol>\n",
       "</dd>\n",
       "\t<dt>$OV_6</dt>\n",
       "\t\t<dd><style>\n",
       ".list-inline {list-style: none; margin:0; padding: 0}\n",
       ".list-inline>li {display: inline-block}\n",
       ".list-inline>li:not(:last-child)::after {content: \"\\00b7\"; padding: 0 .5ex}\n",
       "</style>\n",
       "<ol class=list-inline><li>12235</li><li>681</li></ol>\n",
       "</dd>\n",
       "</dl>\n"
      ],
      "text/latex": [
       "\\begin{description}\n",
       "\\item[\\$OV\\_1] \\begin{enumerate*}\n",
       "\\item 12662\n",
       "\\item 960\n",
       "\\end{enumerate*}\n",
       "\n",
       "\\item[\\$OV\\_2] \\begin{enumerate*}\n",
       "\\item 12752\n",
       "\\item 1472\n",
       "\\end{enumerate*}\n",
       "\n",
       "\\item[\\$OV\\_3] \\begin{enumerate*}\n",
       "\\item 12718\n",
       "\\item 1315\n",
       "\\end{enumerate*}\n",
       "\n",
       "\\item[\\$OV\\_4] \\begin{enumerate*}\n",
       "\\item 12340\n",
       "\\item 573\n",
       "\\end{enumerate*}\n",
       "\n",
       "\\item[\\$OV\\_5] \\begin{enumerate*}\n",
       "\\item 12267\n",
       "\\item 777\n",
       "\\end{enumerate*}\n",
       "\n",
       "\\item[\\$OV\\_6] \\begin{enumerate*}\n",
       "\\item 12235\n",
       "\\item 681\n",
       "\\end{enumerate*}\n",
       "\n",
       "\\end{description}\n"
      ],
      "text/markdown": [
       "$OV_1\n",
       ":   1. 12662\n",
       "2. 960\n",
       "\n",
       "\n",
       "\n",
       "$OV_2\n",
       ":   1. 12752\n",
       "2. 1472\n",
       "\n",
       "\n",
       "\n",
       "$OV_3\n",
       ":   1. 12718\n",
       "2. 1315\n",
       "\n",
       "\n",
       "\n",
       "$OV_4\n",
       ":   1. 12340\n",
       "2. 573\n",
       "\n",
       "\n",
       "\n",
       "$OV_5\n",
       ":   1. 12267\n",
       "2. 777\n",
       "\n",
       "\n",
       "\n",
       "$OV_6\n",
       ":   1. 12235\n",
       "2. 681\n",
       "\n",
       "\n",
       "\n",
       "\n",
       "\n"
      ],
      "text/plain": [
       "$OV_1\n",
       "[1] 12662   960\n",
       "\n",
       "$OV_2\n",
       "[1] 12752  1472\n",
       "\n",
       "$OV_3\n",
       "[1] 12718  1315\n",
       "\n",
       "$OV_4\n",
       "[1] 12340   573\n",
       "\n",
       "$OV_5\n",
       "[1] 12267   777\n",
       "\n",
       "$OV_6\n",
       "[1] 12235   681\n"
      ]
     },
     "metadata": {},
     "output_type": "display_data"
    },
    {
     "data": {
      "text/html": [
       "<dl>\n",
       "\t<dt>$OV_1</dt>\n",
       "\t\t<dd><style>\n",
       ".list-inline {list-style: none; margin:0; padding: 0}\n",
       ".list-inline>li {display: inline-block}\n",
       ".list-inline>li:not(:last-child)::after {content: \"\\00b7\"; padding: 0 .5ex}\n",
       "</style>\n",
       "<ol class=list-inline><li>32291</li><li>1006</li></ol>\n",
       "</dd>\n",
       "\t<dt>$OV_2</dt>\n",
       "\t\t<dd><style>\n",
       ".list-inline {list-style: none; margin:0; padding: 0}\n",
       ".list-inline>li {display: inline-block}\n",
       ".list-inline>li:not(:last-child)::after {content: \"\\00b7\"; padding: 0 .5ex}\n",
       "</style>\n",
       "<ol class=list-inline><li>32291</li><li>1492</li></ol>\n",
       "</dd>\n",
       "\t<dt>$OV_3</dt>\n",
       "\t\t<dd><style>\n",
       ".list-inline {list-style: none; margin:0; padding: 0}\n",
       ".list-inline>li {display: inline-block}\n",
       ".list-inline>li:not(:last-child)::after {content: \"\\00b7\"; padding: 0 .5ex}\n",
       "</style>\n",
       "<ol class=list-inline><li>32291</li><li>1454</li></ol>\n",
       "</dd>\n",
       "\t<dt>$OV_4</dt>\n",
       "\t\t<dd><style>\n",
       ".list-inline {list-style: none; margin:0; padding: 0}\n",
       ".list-inline>li {display: inline-block}\n",
       ".list-inline>li:not(:last-child)::after {content: \"\\00b7\"; padding: 0 .5ex}\n",
       "</style>\n",
       "<ol class=list-inline><li>32291</li><li>760</li></ol>\n",
       "</dd>\n",
       "\t<dt>$OV_5</dt>\n",
       "\t\t<dd><style>\n",
       ".list-inline {list-style: none; margin:0; padding: 0}\n",
       ".list-inline>li {display: inline-block}\n",
       ".list-inline>li:not(:last-child)::after {content: \"\\00b7\"; padding: 0 .5ex}\n",
       "</style>\n",
       "<ol class=list-inline><li>32291</li><li>808</li></ol>\n",
       "</dd>\n",
       "\t<dt>$OV_6</dt>\n",
       "\t\t<dd><style>\n",
       ".list-inline {list-style: none; margin:0; padding: 0}\n",
       ".list-inline>li {display: inline-block}\n",
       ".list-inline>li:not(:last-child)::after {content: \"\\00b7\"; padding: 0 .5ex}\n",
       "</style>\n",
       "<ol class=list-inline><li>32291</li><li>753</li></ol>\n",
       "</dd>\n",
       "\t<dt>$OV_7</dt>\n",
       "\t\t<dd><style>\n",
       ".list-inline {list-style: none; margin:0; padding: 0}\n",
       ".list-inline>li {display: inline-block}\n",
       ".list-inline>li:not(:last-child)::after {content: \"\\00b7\"; padding: 0 .5ex}\n",
       "</style>\n",
       "<ol class=list-inline><li>32291</li><li>2162</li></ol>\n",
       "</dd>\n",
       "\t<dt>$OV_8</dt>\n",
       "\t\t<dd><style>\n",
       ".list-inline {list-style: none; margin:0; padding: 0}\n",
       ".list-inline>li {display: inline-block}\n",
       ".list-inline>li:not(:last-child)::after {content: \"\\00b7\"; padding: 0 .5ex}\n",
       "</style>\n",
       "<ol class=list-inline><li>32291</li><li>686</li></ol>\n",
       "</dd>\n",
       "\t<dt>$OV_9</dt>\n",
       "\t\t<dd><style>\n",
       ".list-inline {list-style: none; margin:0; padding: 0}\n",
       ".list-inline>li {display: inline-block}\n",
       ".list-inline>li:not(:last-child)::after {content: \"\\00b7\"; padding: 0 .5ex}\n",
       "</style>\n",
       "<ol class=list-inline><li>32291</li><li>1035</li></ol>\n",
       "</dd>\n",
       "\t<dt>$OV_10</dt>\n",
       "\t\t<dd><style>\n",
       ".list-inline {list-style: none; margin:0; padding: 0}\n",
       ".list-inline>li {display: inline-block}\n",
       ".list-inline>li:not(:last-child)::after {content: \"\\00b7\"; padding: 0 .5ex}\n",
       "</style>\n",
       "<ol class=list-inline><li>32291</li><li>1020</li></ol>\n",
       "</dd>\n",
       "\t<dt>$OV_11</dt>\n",
       "\t\t<dd><style>\n",
       ".list-inline {list-style: none; margin:0; padding: 0}\n",
       ".list-inline>li {display: inline-block}\n",
       ".list-inline>li:not(:last-child)::after {content: \"\\00b7\"; padding: 0 .5ex}\n",
       "</style>\n",
       "<ol class=list-inline><li>32291</li><li>1348</li></ol>\n",
       "</dd>\n",
       "\t<dt>$OV_12</dt>\n",
       "\t\t<dd><style>\n",
       ".list-inline {list-style: none; margin:0; padding: 0}\n",
       ".list-inline>li {display: inline-block}\n",
       ".list-inline>li:not(:last-child)::after {content: \"\\00b7\"; padding: 0 .5ex}\n",
       "</style>\n",
       "<ol class=list-inline><li>32291</li><li>1986</li></ol>\n",
       "</dd>\n",
       "</dl>\n"
      ],
      "text/latex": [
       "\\begin{description}\n",
       "\\item[\\$OV\\_1] \\begin{enumerate*}\n",
       "\\item 32291\n",
       "\\item 1006\n",
       "\\end{enumerate*}\n",
       "\n",
       "\\item[\\$OV\\_2] \\begin{enumerate*}\n",
       "\\item 32291\n",
       "\\item 1492\n",
       "\\end{enumerate*}\n",
       "\n",
       "\\item[\\$OV\\_3] \\begin{enumerate*}\n",
       "\\item 32291\n",
       "\\item 1454\n",
       "\\end{enumerate*}\n",
       "\n",
       "\\item[\\$OV\\_4] \\begin{enumerate*}\n",
       "\\item 32291\n",
       "\\item 760\n",
       "\\end{enumerate*}\n",
       "\n",
       "\\item[\\$OV\\_5] \\begin{enumerate*}\n",
       "\\item 32291\n",
       "\\item 808\n",
       "\\end{enumerate*}\n",
       "\n",
       "\\item[\\$OV\\_6] \\begin{enumerate*}\n",
       "\\item 32291\n",
       "\\item 753\n",
       "\\end{enumerate*}\n",
       "\n",
       "\\item[\\$OV\\_7] \\begin{enumerate*}\n",
       "\\item 32291\n",
       "\\item 2162\n",
       "\\end{enumerate*}\n",
       "\n",
       "\\item[\\$OV\\_8] \\begin{enumerate*}\n",
       "\\item 32291\n",
       "\\item 686\n",
       "\\end{enumerate*}\n",
       "\n",
       "\\item[\\$OV\\_9] \\begin{enumerate*}\n",
       "\\item 32291\n",
       "\\item 1035\n",
       "\\end{enumerate*}\n",
       "\n",
       "\\item[\\$OV\\_10] \\begin{enumerate*}\n",
       "\\item 32291\n",
       "\\item 1020\n",
       "\\end{enumerate*}\n",
       "\n",
       "\\item[\\$OV\\_11] \\begin{enumerate*}\n",
       "\\item 32291\n",
       "\\item 1348\n",
       "\\end{enumerate*}\n",
       "\n",
       "\\item[\\$OV\\_12] \\begin{enumerate*}\n",
       "\\item 32291\n",
       "\\item 1986\n",
       "\\end{enumerate*}\n",
       "\n",
       "\\end{description}\n"
      ],
      "text/markdown": [
       "$OV_1\n",
       ":   1. 32291\n",
       "2. 1006\n",
       "\n",
       "\n",
       "\n",
       "$OV_2\n",
       ":   1. 32291\n",
       "2. 1492\n",
       "\n",
       "\n",
       "\n",
       "$OV_3\n",
       ":   1. 32291\n",
       "2. 1454\n",
       "\n",
       "\n",
       "\n",
       "$OV_4\n",
       ":   1. 32291\n",
       "2. 760\n",
       "\n",
       "\n",
       "\n",
       "$OV_5\n",
       ":   1. 32291\n",
       "2. 808\n",
       "\n",
       "\n",
       "\n",
       "$OV_6\n",
       ":   1. 32291\n",
       "2. 753\n",
       "\n",
       "\n",
       "\n",
       "$OV_7\n",
       ":   1. 32291\n",
       "2. 2162\n",
       "\n",
       "\n",
       "\n",
       "$OV_8\n",
       ":   1. 32291\n",
       "2. 686\n",
       "\n",
       "\n",
       "\n",
       "$OV_9\n",
       ":   1. 32291\n",
       "2. 1035\n",
       "\n",
       "\n",
       "\n",
       "$OV_10\n",
       ":   1. 32291\n",
       "2. 1020\n",
       "\n",
       "\n",
       "\n",
       "$OV_11\n",
       ":   1. 32291\n",
       "2. 1348\n",
       "\n",
       "\n",
       "\n",
       "$OV_12\n",
       ":   1. 32291\n",
       "2. 1986\n",
       "\n",
       "\n",
       "\n",
       "\n",
       "\n"
      ],
      "text/plain": [
       "$OV_1\n",
       "[1] 32291  1006\n",
       "\n",
       "$OV_2\n",
       "[1] 32291  1492\n",
       "\n",
       "$OV_3\n",
       "[1] 32291  1454\n",
       "\n",
       "$OV_4\n",
       "[1] 32291   760\n",
       "\n",
       "$OV_5\n",
       "[1] 32291   808\n",
       "\n",
       "$OV_6\n",
       "[1] 32291   753\n",
       "\n",
       "$OV_7\n",
       "[1] 32291  2162\n",
       "\n",
       "$OV_8\n",
       "[1] 32291   686\n",
       "\n",
       "$OV_9\n",
       "[1] 32291  1035\n",
       "\n",
       "$OV_10\n",
       "[1] 32291  1020\n",
       "\n",
       "$OV_11\n",
       "[1] 32291  1348\n",
       "\n",
       "$OV_12\n",
       "[1] 32291  1986\n"
      ]
     },
     "metadata": {},
     "output_type": "display_data"
    }
   ],
   "source": [
    "ov1 <- ovVis[[1]]\n",
    "colnames(ov1@meta.data)\n",
    "slotNames(ov1[[\"Spatial\"]])\n",
    "\n",
    "lapply(ovVis, function(sample){\n",
    "    dim(sample[[\"Spatial\"]]@counts)\n",
    "})\n"
   ]
  },
  {
   "cell_type": "markdown",
   "id": "0c245af1",
   "metadata": {},
   "source": [
    "If using my rds list the cell below is a method to convert the images slot to an actual SeuratImage"
   ]
  },
  {
   "cell_type": "code",
   "execution_count": null,
   "id": "78991b91",
   "metadata": {
    "vscode": {
     "languageId": "r"
    }
   },
   "outputs": [],
   "source": [
    "ovVis <- readRDS(\"/home/lythgo02/Documents/OV_visium/split_by_sample/rds/seurat_list_all.rds\")\n",
    "\n",
    "if (!methods::isClass(\"SeuratImage\")) {\n",
    "  methods::setClass(\n",
    "    \"SeuratImage\",\n",
    "    slots = c(\n",
    "      image         = \"ANY\",\n",
    "      scale.factors = \"list\",\n",
    "      coordinates   = \"data.frame\",\n",
    "      assay         = \"character\",\n",
    "      key           = \"character\"\n",
    "    )\n",
    "  )\n",
    "}\n",
    "\n",
    "for (smp in names(ovVis)) {\n",
    "  obj      <- ovVis[[smp]]\n",
    "  coords   <- obj@misc$spatial_coords[[smp]]\n",
    "  img_info <- obj@misc$spatial_images[[smp]]\n",
    "\n",
    "  # coords -> Seurat style, aligned to cells\n",
    "  colnames(coords)[1:2] <- c(\"imagecol\",\"imagerow\")\n",
    "  coords <- coords[match(colnames(obj), rownames(coords)), , drop = FALSE]\n",
    "  rownames(coords) <- colnames(obj)\n",
    "\n",
    "  # build minimal SeuratImage S4 (class defined earlier)\n",
    "  simg <- methods::new(\"SeuratImage\")\n",
    "  simg@image         <- as.array(img_info$image)      # or img_info$images$hires\n",
    "  simg@scale.factors <- img_info$scalef               # or img_info$scale.factors\n",
    "  simg@coordinates   <- coords\n",
    "  simg@assay         <- DefaultAssay(obj)\n",
    "  simg@key           <- paste0(smp, \"_\")\n",
    "\n",
    "  # >>> attach directly to the images slot (avoid [[<-)\n",
    "  if (is.null(obj@images)) obj@images <- list()\n",
    "  obj@images[[smp]] <- simg\n",
    "\n",
    "  ovVis[[smp]] <- obj\n",
    "}\n",
    "\n",
    "# sanity\n",
    "lapply(ovVis, function(o) class(o@images[[1]]))  # should print \"SeuratImage\"\n",
    "# 1) Make sure each spatial object uses RNA as its default assay\n",
    "\n",
    "for (i in names(ovVis)){\n",
    "    obj <- ovVis[[i]]\n",
    "    obj[[\"RNA\"]] <- obj[[\"originalexp\"]]\n",
    "    DefaultAssay(obj) <- \"RNA\"\n",
    "    obj[[\"originalexp\"]] <- NULL\n",
    "    ovVis[[i]] <- obj\n",
    "}\n",
    "ovVis <- lapply(ovVis, function(o) { DefaultAssay(o) <- \"RNA\"; o })\n",
    "\n",
    "# 2) If you created SeuratImage manually, ensure its assay slot is \"RNA\"\n",
    "for (smp in names(ovVis)) {\n",
    "  im <- ovVis[[smp]]@images[[1]]\n",
    "  if (!is.null(im)) im@assay <- \"RNA\"\n",
    "  ovVis[[smp]]@images[[1]] <- im\n",
    "}\n"
   ]
  },
  {
   "cell_type": "markdown",
   "id": "e1ee0db9",
   "metadata": {},
   "source": [
    "Need to rename assays, note when converted to seurat object earlier (code in markdown cell run in r_spatial env) the \"raw_counts\" and \"X\" is stored under \"originalexp\" in the seurat objects \n",
    "\n",
    "For spatial we did:   \n",
    "\n",
    "seurat_obj <- as.Seurat(\n",
    "            adata,              # your SingleCellExperiment object\n",
    "            counts = \"raw_counts\", # assay to use as raw counts\n",
    "            data = \"X\" # optional: assay to use as normalized data\n",
    ")\n",
    "3. Extract sample per spot\n",
    "sample <- colData(adata)$sample\n",
    "seurat_obj@meta.data$sample <- sample\n",
    "\n",
    "4. Extract coordinates and image info\n",
    "coords <- reducedDim(adata, \"spatial\")\n",
    "coords_list <- split(as.data.frame(coords), sample)\n",
    "image_list <- metadata(adata)$spatial\n",
    "\n",
    "\n",
    "5. Assign images and coordinates to Seurat in a CellTrek-compatible way\n",
    "for (sample_name in names(coords_list)) {\n",
    "  sp_coords <- coords_list[[sample_name]]\n",
    "  img_info <- image_list[[sample_name]]\n",
    "\n",
    "  seurat_obj@images[[sample_name]] <- list(\n",
    "    image = as.array(img_info$image),\n",
    "    scale.factors = img_info$scalef,\n",
    "    coordinates = sp_coords\n",
    "  )\n",
    "}\n",
    "1. Store original coordinates for reference\n",
    "seurat_obj@misc$spatial_coords <- coords_list\n",
    "seurat_obj@misc$spatial_images <- image_list\n",
    "\n",
    "For single cell we did:  \n",
    "\n",
    "seurat_obj <- as.Seurat(\n",
    "       singlecell,              \n",
    "       your SingleCellExperiment object#  counts = \"counts\", # assay to use as raw counts\n",
    "       data = \"log_counts\" # optional: assay to use as normalized data\n",
    ")\n",
    "\n",
    "\n",
    "so:  \n",
    "\n",
    "ovVis[[\"originalexp\"]]$counts # = raw_counts \n",
    "ovVis[[\"originalexp\"]]$data #= X\n",
    "\n",
    "ovSc[[\"originalexp\"]]$counts # = counts \n",
    "ovSc[[\"originalexp\"]]$data #= log_counts\n",
    "\n",
    "But mine lacks the imaging info stored in correct format so filtering Ollie's against mine below"
   ]
  },
  {
   "cell_type": "markdown",
   "id": "01f122c9",
   "metadata": {},
   "source": [
    "The following silenced chunks are for filtering Ollie's mito_nrom.rds by subsetting to match the colnames (spot IDs) and rownames (genes) present in my rds\n",
    " - can't convert the adata to rds in the correct format so taking format from ollie's with processing from mine \n",
    " - saved the end product of subsetting as mito_nrom_emily.rds and that is now loaded at the beginning "
   ]
  },
  {
   "cell_type": "code",
   "execution_count": null,
   "id": "c7b70a7c",
   "metadata": {
    "vscode": {
     "languageId": "r"
    }
   },
   "outputs": [],
   "source": [
    "#ovVis <- readRDS(paste0(ov_visium, \"/mito_norm_emily.rds\"))\n",
    "\n",
    "#emily_list <- SplitObject(ovVis_emily, split.by = \"sample\")\n",
    "#cells_ollie <- lapply(ovVis_ollie, colnames)\n",
    "\n",
    "# Get barcodes from each Seurat object in em_list\n",
    "#cells_emily <- lapply(emily_list, colnames)\n",
    "\n",
    "#head(cells_emily[[1]])\n",
    "#head(cells_ollie[[1]])\n",
    "#need to append sample name to barcodes in Ollie spatial data \n",
    "\n",
    "# (Optional) make a backup first\n",
    "#ovVis_ollie_orig <- ovVis_ollie\n",
    "\n"
   ]
  },
  {
   "cell_type": "markdown",
   "id": "f254d1ee",
   "metadata": {},
   "source": [
    "Need to append sample name to the colnames/spot barcodes (id) in Ollie's rds to match the formatting of mine"
   ]
  },
  {
   "cell_type": "code",
   "execution_count": null,
   "id": "156cde19",
   "metadata": {
    "vscode": {
     "languageId": "r"
    }
   },
   "outputs": [],
   "source": [
    "#for (i in names(ovVis_ollie)){\n",
    "#    obj <- ovVis_ollie[[i]]  #overwrite names\n",
    "#    colnames(obj) <- paste0(i, \"_\", colnames(obj))\n",
    "#    ovVis_ollie[[i]] <- obj #save back to list\n",
    "#}\n",
    "# Check one sample to confirm\n",
    "#head(colnames(ovVis_ollie[[\"OV_1\"]]))\n",
    "\n",
    "# 2) Match sample names between ollie list and split emily\n",
    "#common_samples <- intersect(names(ovVis_ollie), names(emily_list))\n",
    "\n",
    "#common_samples\n"
   ]
  },
  {
   "cell_type": "markdown",
   "id": "36471258",
   "metadata": {},
   "source": [
    "Now filter Ollie's spatial data by the list of spot id and genes present in my sample \n",
    " - to ensure the filtering applied is consisted accross workflows worked on by me\n",
    " - spots are filtered to match exactly\n",
    " - genes are filtered to approximately match, exact numbers may differ due to naming conventions but assuming largely correct "
   ]
  },
  {
   "cell_type": "code",
   "execution_count": null,
   "id": "d83db049",
   "metadata": {
    "vscode": {
     "languageId": "r"
    }
   },
   "outputs": [],
   "source": [
    "#ovVis_ollie_filtered <- lapply(common_samples, function(i) {\n",
    "#  obj <- DietSeurat(ovVis_ollie[[i]], graphs = TRUE) # remove the NN graphs ollie previously generated as they can disrupt subsetting\n",
    "#  # --- cells ---\n",
    "#  emily_barcodes <- colnames(emily_list[[i]])  #get list of spot ids from my rds (which has filtered out low quality spots)\n",
    "#  cells_keep <- intersect(colnames(obj), emily_barcodes) #keep corresponding cells in Ollie's object \n",
    "#  obj <- subset(obj, cells = cells_keep)\n",
    "#  # --- genes ---\n",
    "#  emily_genes <- rownames(emily_list[[i]])  #get gene names remaining after filtering \n",
    "#  genes_keep <- intersect(rownames(obj), emily_genes)\n",
    "  obj <- subset(obj, features = genes_keep)\n",
    "#})\n",
    "\n",
    "#names(ovVis_ollie_filtered) <- common_samples\n",
    "\n",
    "#sapply(ovVis_ollie_filtered, ncol)\n",
    "#sapply(emily_list, ncol)\n",
    "#sapply(ovVis_ollie_filtered, nrow)\n",
    "#sapply(emily_list, nrow)\n",
    "\n",
    "#saveRDS(ovVis_ollie_filtered, paste0(ov_visium, \"/mito_norm_emily.rds\")\n"
   ]
  },
  {
   "cell_type": "code",
   "execution_count": null,
   "id": "77d0ecb1",
   "metadata": {
    "vscode": {
     "languageId": "r"
    }
   },
   "outputs": [],
   "source": [
    "# Copy originalexp → RNA and set RNA as default\n",
    "ovSc[[\"RNA\"]] <- ovSc[[\"originalexp\"]] #copy\n",
    "DefaultAssay(ovSc) <- \"RNA\" #set to default\n",
    "ovSc[[\"originalexp\"]] <- NULL  # Remove the old assay\n",
    "\n",
    "#not needed unless using my rds\n",
    "#for (i in names(ovVis)){\n",
    "#    obj <- ovVis[[i]]\n",
    "#    obj[[\"RNA\"]] <- obj[[\"originalexp\"]]\n",
    "#    DefaultAssay(obj) <- \"RNA\"\n",
    "#    obj[[\"originalexp\"]] <- NULL\n",
    "#    ovVis[[i]] <- obj\n",
    "#}\n",
    "\n"
   ]
  },
  {
   "cell_type": "markdown",
   "id": "d76cd8ca",
   "metadata": {},
   "source": [
    "Note first had to convert the outputs from cell2location workflow to rds objects:\n",
    " - activate r environment \n",
    "   - mamba activate r_spatial\n",
    "   - open R\n",
    "   - \n",
    "library(zellkonverter)\n",
    "adata <- readH5AD(\"/run/user/1804238067/gvfs/sftp:host=clust1-sub-1,user=lythgo02/mnt/scratchc/fmlab/lythgo02/OV_visium/emily/cell2location/final_adata_vis_clean.h5ad\")\n",
    "# Convert SCE to Seurat\n",
    "seurat_obj <- as.Seurat(\n",
    "  adata,              # your Spatial/singleCellExperiment object\n",
    "  counts = \"raw_counts\", # assay to use as raw counts\n",
    "  data = \"X\" # make sure to use X as this contains filtered data \n",
    ")\n",
    "saveRDS(adata, file=\"/run/user/1804238067/gvfs/sftp:host=clust1-sub-1,user=lythgo02/mnt/scratchc/fmlab/lythgo02/OV_visium/emily/cell2location/final_adata_vis_clean.rds\")\n",
    "\n",
    "#same with single cell data\n",
    "#write to local directory if it doesn't allow you to write to cluster (h5ad files can be tricky)"
   ]
  },
  {
   "cell_type": "code",
   "execution_count": null,
   "id": "0ee7ec3b",
   "metadata": {
    "vscode": {
     "languageId": "r"
    }
   },
   "outputs": [],
   "source": [
    "#check if integrated\n",
    "\n",
    "colnames(ovSc@meta.data)\n",
    "\n",
    "#sample names for single cell \n",
    "unique(ovSc@meta.data$orig.ident)\n",
    "ovSc@active.assay \n",
    "\n",
    "unique(ovSc$updated_annotation)\n",
    "\n"
   ]
  },
  {
   "cell_type": "code",
   "execution_count": null,
   "id": "55fddc86",
   "metadata": {
    "vscode": {
     "languageId": "r"
    }
   },
   "outputs": [],
   "source": [
    "#spatial info stored in images slot \n",
    "lapply(ovVis, slotNames)"
   ]
  },
  {
   "cell_type": "markdown",
   "id": "72c35eef",
   "metadata": {},
   "source": [
    "## 3. Integrate scRNA-seq samples\n",
    "Here multiple scRNA samples are merged and integrated using Seurat's anchor-based pipeline. This corrects for batch effects and aligns datasets into a shared space.\n",
    " - SelectIntegrationFeatures finds highly variable genes shared across all samples which are used as anchors for sample integration. \n",
    " - Anchors are pairs of cells across datasets that are similar in expression.\n",
    " - object.list = ovSc tells Seurat which samples to integrate.\n",
    " - anchor.features = features uses the previously selected genes."
   ]
  },
  {
   "cell_type": "code",
   "execution_count": null,
   "id": "c81408b4",
   "metadata": {
    "vscode": {
     "languageId": "r"
    }
   },
   "outputs": [],
   "source": [
    "\n",
    "#already have single object with multiple samples \n",
    "# Split the Seurat object by sample and store in list of invdividual samples\n",
    "ovSc.list <- SplitObject(ovSc, split.by = \"orig.ident\")\n",
    "\n",
    "# Check the names\n",
    "names(ovSc.list)\n",
    "\n"
   ]
  },
  {
   "cell_type": "markdown",
   "id": "2740f822",
   "metadata": {},
   "source": [
    "Single cell is currently previous version 3/4 of suerat object which uses slots, need to convert to version 5 which uses layers \n",
    " - define function to convert to assay5"
   ]
  },
  {
   "cell_type": "code",
   "execution_count": null,
   "id": "86029ff2",
   "metadata": {
    "vscode": {
     "languageId": "r"
    }
   },
   "outputs": [],
   "source": [
    "class(ovSc.list[[1]][[\"RNA\"]])\n",
    "sapply(ovSc.list, function(obj) class(obj[[\"RNA\"]]))\n",
    "#shows that each one of the RNA assays is in old Seurat v3/v4 style (slot based)\n",
    "#have got code to update to v5 in emails in needed\n"
   ]
  },
  {
   "cell_type": "code",
   "execution_count": null,
   "id": "69ebea85",
   "metadata": {
    "vscode": {
     "languageId": "r"
    }
   },
   "outputs": [],
   "source": [
    "\n",
    "#### Iterate over samples in list to prepare for integration\n",
    "\n",
    "# Make sure every object has HVGs before integration\n",
    "ovSc.list <- lapply(ovSc.list, function(x){\n",
    "  DefaultAssay(x) <- \"RNA\"\n",
    "  # We already have 'counts' + 'data' layers from earlier conversion\n",
    "  # Find HVGs on log-normalised data\n",
    "  x <- NormalizeData(x)\n",
    "  x <- FindVariableFeatures(\n",
    "    x,                # use log-normalized values, not raw counts\n",
    "    selection.method = \"vst\",\n",
    "    nfeatures = 3000\n",
    "  )\n",
    "  x\n",
    "})\n",
    "\n"
   ]
  },
  {
   "cell_type": "code",
   "execution_count": null,
   "id": "5182a239",
   "metadata": {
    "vscode": {
     "languageId": "r"
    }
   },
   "outputs": [],
   "source": [
    "\n",
    "# Select features and integrate\n",
    "features <- SelectIntegrationFeatures(object.list = ovSc.list)"
   ]
  },
  {
   "cell_type": "code",
   "execution_count": null,
   "id": "2754510d",
   "metadata": {
    "vscode": {
     "languageId": "r"
    }
   },
   "outputs": [],
   "source": [
    "anchors <- FindIntegrationAnchors(object.list = ovSc.list, \n",
    "    normalization.method = \"LogNormalize\",\n",
    "    anchor.features = features)"
   ]
  },
  {
   "cell_type": "code",
   "execution_count": null,
   "id": "61c9c277",
   "metadata": {
    "vscode": {
     "languageId": "r"
    }
   },
   "outputs": [],
   "source": [
    "seuCombined <- IntegrateData(anchorset = anchors)"
   ]
  },
  {
   "cell_type": "markdown",
   "id": "4bcd7ab1",
   "metadata": {},
   "source": [
    "## 4. Subset to cell types of interest\n",
    "Selects specific immune/stromal/tumor cell types from the integrated scRNA data.\n",
    "Not subsetting because already filtered the dataset in cell2location pipeline to exclude those we aren't interested in. "
   ]
  },
  {
   "cell_type": "code",
   "execution_count": null,
   "id": "27107f3a",
   "metadata": {
    "vscode": {
     "languageId": "r"
    }
   },
   "outputs": [],
   "source": [
    "\n",
    "#### Subset single cell rna-seq to cell types of interest\n",
    "unique(seuCombined$updated_annotation)\n",
    "table(seuCombined$updated_annotation)\n",
    "\n",
    "#currently not removing any cell types\n",
    "seuSub <- seuCombined %>% subset(updated_annotation %in% c('Tumour 1','Macrophage','NK_cell','Treg','Tumour 2',\n",
    "                                                            'Plasma Cells','CD4','CD8','B naive activated','B naive resting','Mesenchymal', 'Monocytes',\n",
    "                                                            'Dendritic Cells','Neutrophils','Th1','Th17','Endothelial','Tumour 3','Cycling Plasma Cells'))\n",
    "                                                            \n",
    "table(seuSub$updated_annotation)\n"
   ]
  },
  {
   "cell_type": "markdown",
   "id": "50a47191",
   "metadata": {},
   "source": [
    "## 5. Co-embed Visium with scRNA and run CellTrek\n",
    "Uses `CellTrek::traint()` trains a mapping model between single cell profiles and ST data \n",
    " - project Visium spots and scRNA-seq cells into a **shared latent space**.\n",
    " - first need to handle images as the split object function (from downgraded seurat versions used here) can't handle images"
   ]
  },
  {
   "cell_type": "code",
   "execution_count": null,
   "id": "8985c886",
   "metadata": {
    "vscode": {
     "languageId": "r"
    }
   },
   "outputs": [],
   "source": [
    "class(ovVis)\n",
    "names(ovVis)\n",
    "\n",
    "for (i in seq_along(ovVis)){\n",
    "    name <- names(ovVis)[i]\n",
    "    obj <- ovVis[[i]]\n",
    "    assign(name, obj, envir=.GlobalEnv)\n",
    "    \n",
    "}\n",
    "\n"
   ]
  },
  {
   "cell_type": "code",
   "execution_count": null,
   "id": "24c34bab",
   "metadata": {
    "vscode": {
     "languageId": "r"
    }
   },
   "outputs": [],
   "source": [
    "#checking if colnames of spots are clean \n",
    "lapply(ovVis, function(x) any(duplicated(colnames(x))))"
   ]
  },
  {
   "cell_type": "code",
   "execution_count": null,
   "id": "29c7171a",
   "metadata": {
    "vscode": {
     "languageId": "r"
    }
   },
   "outputs": [],
   "source": [
    "\n",
    "# clean up names \n",
    "# make.names() ensures all cell names are valid R names (hanldes special characters)\n",
    "# RenameCells() applies cleaned names to the Seurat object \n",
    "# Clean Visium spot names\n",
    "\n",
    "#no need to apply to visium, already clean and characters are appropriate \n",
    "#ovVis <- lapply(ovVis, function(x){\n",
    "#    RenameCells(x, new.names = make.names(Cells(x)))\n",
    "#})\n",
    "\n",
    "# Clean single-cell names\n",
    "seuSub <- RenameCells(seuSub, new.names = make.names(Cells(seuSub)))\n"
   ]
  },
  {
   "cell_type": "code",
   "execution_count": null,
   "id": "d3fd7f21",
   "metadata": {
    "vscode": {
     "languageId": "r"
    }
   },
   "outputs": [],
   "source": [
    "seuSub@active.assay\n",
    "seuSub@assays$RNA"
   ]
  },
  {
   "cell_type": "markdown",
   "id": "a98f5332",
   "metadata": {},
   "source": [
    "CellTrek uses a random forest regressor to learn the mapping between your single cell reference data and spatial transcriptomics data \n",
    " - traint() trains a mapping model between your single-cell reference and spatial sample\n",
    " - The object returned (ovTraintAll[[i]]) contains:\n",
    " - Model parameters\n",
    " - Fitted distances between spots and reference cells\n"
   ]
  },
  {
   "cell_type": "code",
   "execution_count": 12,
   "id": "180408f8",
   "metadata": {
    "vscode": {
     "languageId": "r"
    }
   },
   "outputs": [
    {
     "ename": "ERROR",
     "evalue": "Error: object 'OV_1' not found\n",
     "output_type": "error",
     "traceback": [
      "Error: object 'OV_1' not found\nTraceback:\n"
     ]
    }
   ],
   "source": [
    "class(OV_1@images[[1]])\n",
    "slotNames(OV_1@assays)"
   ]
  },
  {
   "cell_type": "code",
   "execution_count": null,
   "id": "b3c33856",
   "metadata": {
    "vscode": {
     "languageId": "r"
    }
   },
   "outputs": [],
   "source": [
    "#try on one sample first\n",
    "\n",
    "ovtrain_ov1 <- CellTrek::traint(\n",
    "    st_data    = OV_1,               # spatial Seurat object\n",
    "        sc_data    = seuSub,                # single-cell reference\n",
    "        sc_assay   = \"RNA\",         # exact assay name in seuSub\n",
    "        cell_names = \"updated_annotation\"  # column with cell type labels\n",
    "    )"
   ]
  },
  {
   "cell_type": "code",
   "execution_count": null,
   "id": "c6cb7f52",
   "metadata": {
    "vscode": {
     "languageId": "r"
    }
   },
   "outputs": [],
   "source": [
    "\n",
    "ovTraintAll <- lapply(ovVis, function(i) {\n",
    "    ovTraint <- CellTrek::traint(st_data = i,\n",
    "                                 sc_data = seuSub,\n",
    "                                 sc_assay = \"RNA\",\n",
    "                                 cell_names = \"updated_annotation\")\n",
    "    return(ovTraint)\n",
    "})\n",
    "\n",
    "# Add names so they match the input list\n",
    "names(ovTraintAll) <- names(ovVis)\n",
    "\n"
   ]
  },
  {
   "cell_type": "code",
   "execution_count": null,
   "id": "340dcaf7",
   "metadata": {
    "vscode": {
     "languageId": "r"
    }
   },
   "outputs": [],
   "source": [
    "#saveRDS(ovTraintAll, paste0(ov_visium, \"cellTrek/ovTrainAll_obj.rds\"))\n",
    "\n",
    "cell2loc = '/run/user/1804238067/gvfs/sftp:host=clust1-sub-1,user=lythgo02/mnt/scratchc/fmlab/lythgo02/OV_visium/emily/cell2location/'\n",
    "ov_visium = '/run/user/1804238067/gvfs/sftp:host=clust1-sub-1,user=lythgo02/mnt/nas-data/fmlab/group_folders/lythgo02/OV_visium/emily/cell2location/'\n",
    "\n",
    "ovTraintAll <- readRDS(paste0(ov_visium, \"cellTrek/ovTrainAll_obj.rds\"))\n",
    "\n",
    "#cluster\n",
    "#saveRDS(ovTraintAll, paste0(cell2loc, \"/cellTrek/ovTrainAll_obj.rds\"))\n",
    "#ovTraintAll <- readRDS(paste0(cell2loc, \"cellTrek/ovTrainAll_obj.rds\"))\n",
    "\n",
    "seuSub <- readRDS(paste0(cell2loc, \"cellTrek/seuSub.rds\"))"
   ]
  },
  {
   "cell_type": "code",
   "execution_count": null,
   "id": "fb09633f",
   "metadata": {
    "vscode": {
     "languageId": "r"
    }
   },
   "outputs": [],
   "source": [
    "t <- ovTrainAll[[1]]\n",
    "unique(t@meta.data$id_new)"
   ]
  },
  {
   "cell_type": "markdown",
   "id": "356af6a5",
   "metadata": {},
   "source": [
    "## 6. Visualize embeddings\n",
    "Plots the joint embedding to show how Visium and scRNA cells mix, grouped by type or annotation."
   ]
  },
  {
   "cell_type": "code",
   "execution_count": null,
   "id": "b7057492",
   "metadata": {
    "vscode": {
     "languageId": "r"
    }
   },
   "outputs": [],
   "source": [
    "# ---- build a 19-colour palette----\n",
    "library(pals)\n",
    "pal.bands(alphabet, alphabet2, cols25, glasbey, kelly, polychrome, \n",
    "  stepped, tol, watlington,\n",
    "  show.names=FALSE)"
   ]
  },
  {
   "cell_type": "code",
   "execution_count": null,
   "id": "ee8b781e",
   "metadata": {
    "vscode": {
     "languageId": "r"
    }
   },
   "outputs": [],
   "source": [
    "\n",
    "#### View co-embedding\n",
    "pals19 <- glasbey(19)\n",
    "\n",
    "cols19 <- c(\n",
    "  \"#E41A1C\", \"#377EB8\", \"#4DAF4A\", \"#984EA3\", \"#FF7F00\",\n",
    "  \"#FFFF33\", \"#A65628\", \"#F781BF\", \"#999999\", \"#66C2A5\",\n",
    "  \"#FC8D62\", \"#8DA0CB\", \"#E78AC3\", \"#A6D854\", \"#FFD92F\",\n",
    "  \"#E5C494\", \"#1B9E77\", \"#D95F02\", \"#B3B3B3\"\n",
    ")\n",
    "\n",
    "# Step 1: Generate plots\n",
    "c2lPlots <- lapply(ovTraintAll, function(obj) {\n",
    "  DimPlot(obj, group.by = \"updated_annotation\", cols = cols19)\n",
    "})\n",
    "\n",
    "# Step 2: Save plots\n",
    "for (i in seq_along(c2lPlots)) {\n",
    "  ggsave(\n",
    "    filename = paste0(ov_visium, \"cellTrek/DimPlot_OV\", i, \".pdf\"),\n",
    "    plot = c2lPlots[[i]],\n",
    "    width = 8,\n",
    "    height = 6,\n",
    "    dpi = 300\n",
    "  )\n",
    "}\n"
   ]
  },
  {
   "cell_type": "markdown",
   "id": "30b99610",
   "metadata": {},
   "source": [
    "## 7. Map cells into spatial tissue\n",
    "Runs `CellTrek::celltrek()` to assign scRNA-seq cells into Visium coordinates, producing pseudo-single-cell maps. Parameters control interpolation, number of trees, PCs, distance threshold, etc."
   ]
  },
  {
   "cell_type": "markdown",
   "id": "0f5656a4",
   "metadata": {},
   "source": [
    "Run using parallelisation with 4 CPUs on the cluster (interactive session) - moved into scripts for slurm submission\n",
    "\n",
    "sbatch celltrek.sh (which submits run_celltrek.r)  \n",
    "\n",
    " - Note, in \"Stardist_Cells_Per_Spot.csv\" which lists n nuclei per spot barcode for OV_1, avergae number of cells per spot is 17.7\n",
    " - Using this to guide the other samples \n"
   ]
  },
  {
   "cell_type": "code",
   "execution_count": null,
   "id": "a5696376",
   "metadata": {
    "vscode": {
     "languageId": "r"
    }
   },
   "outputs": [],
   "source": [
    "\n",
    "\n",
    "# --- load libraries ---\n",
    "library(CellTrek)\n",
    "library(future)\n",
    "library(future.apply)\n",
    "library(progressr)\n",
    "library(Seurat)\n",
    "\n",
    "# --- parallelization ---\n",
    "plan(multisession, workers = 6)           # use 6 cores\n",
    "options(future.globals.maxSize = 20*1024^3)  # 20 GB per worker\n",
    "handlers(\"txtprogressbar\")  # to monitor progress\n",
    "\n",
    "# --- logging set up ---\n",
    "log_file <- \"celltrek_progress\"\n",
    "sink(log_file, append=TRUE, split=TRUE)  #redirects console output to log file, split=TRUE keeps output visible in console while also writing to log \n",
    "\n",
    "# --- load your data ---\n",
    "cell2loc = '/mnt/scratchc/fmlab/lythgo02/OV_visium/emily/cell2location/'\n",
    "\n",
    "ovTraintAll <- readRDS(paste0(cell2loc, \"cellTrek/ovTrainAll_obj.rds\"))\n",
    "\n",
    "seuSub <- readRDS(paste0(cell2loc, \"cellTrek/seuSub.rds\"))\n",
    "\n",
    "# --- define celltrek wrapper ---\n",
    "run_celltrek_fast <- function(trained_obj, sc_data, sample_name) {\n",
    "  message(Sys.time(), \"Processing \", sample_name) #adds timestamp to each log entry \n",
    "  \n",
    "  ct_result <- CellTrek::celltrek(\n",
    "    st_sc_int = trained_obj,\n",
    "    int_assay = \"traint\",\n",
    "    sc_data = sc_data,\n",
    "    sc_assay = \"RNA\",\n",
    "    reduction = \"pca\",\n",
    "    intp = TRUE,\n",
    "    intp_pnt = 500,  #interpolation points use synthetic cell coordinates to smooth mapping between sc and spatial but too many points crowds the space\n",
    "    intp_lin = FALSE,\n",
    "    nPCs = 30,\n",
    "    dist_thresh = 0.55, #Ollie's value but also higher than default 0.4 to permit for tightly packed cells \n",
    "    top_spot = 5, #max number of spots a cell can be mapped to \n",
    "    spot_n = 12,  #number of cells one spot can contain, lower than ave 17.7 cells per spot (OV_1) \n",
    "    repel_r = 60,   #increase both repel_r and reper_iter to spread points and avoid overcrowding (breaking triangulation if you run DT co-localisation later)\n",
    "    repel_iter = 20,\n",
    "    keep_model = TRUE,\n",
    "    ntree=500\n",
    "  )\n",
    "  message(Sys.time(), \" | Finished CellTrek for: \", sample_name)\n",
    "  return(ct_result$celltrek)\n",
    "}\n",
    "\n",
    "# --- run CellTrek on all samples ---\n",
    "with_progress({\n",
    "  p <- progressor(along = ovTraintAll)\n",
    "  \n",
    "  celltrek_results <- future_lapply(\n",
    "    seq_along(ovTraintAll),\n",
    "    function(i) {\n",
    "      sample_name <- names(ovTraintAll)[i]\n",
    "      message(Sys.time(), \" | Processing sample: \", sample_name)\n",
    "      \n",
    "      result <- run_celltrek_fast(\n",
    "        trained_obj = ovTraintAll[[i]],\n",
    "        sc_data = seuSub,\n",
    "        sample_name = sample_name\n",
    "      )\n",
    "      \n",
    "      saveRDS(result, file = paste0(\"cellTrek/celltrek_results\", sample_name, \".rds\"))\n",
    "      message(Sys.time(), \" | Saved result for: \", sample_name)\n",
    "      \n",
    "      p()  # update progress bar\n",
    "      return(result)\n",
    "    },\n",
    "    future.stdout = TRUE\n",
    "  )\n",
    "})\n",
    "\n",
    "saveRDS(celltrek_results, file = paste0(\"cellTrek/celltrek_results.rds\"))\n",
    "\n",
    "    \n",
    "\n"
   ]
  },
  {
   "cell_type": "markdown",
   "id": "9b730070",
   "metadata": {},
   "source": [
    "View co-embeddings:\n",
    " - can first merge (which requires normalisation etc again) if you want to compare treated vs untreated in one integrated embedding\n",
    " - or keep as separate objects and plot individual (in which case don't use merged rds)"
   ]
  },
  {
   "cell_type": "code",
   "execution_count": 1,
   "id": "f574cdbb",
   "metadata": {
    "vscode": {
     "languageId": "r"
    }
   },
   "outputs": [],
   "source": [
    "cell2loc = '/run/user/1804238067/gvfs/sftp:host=clust1-sub-1,user=lythgo02/mnt/scratchc/fmlab/lythgo02/OV_visium/emily/cell2location/'\n",
    "#ovTrainAll <- readRDS(paste0(cell2loc, \"cellTrek/celltrek_results_ntree1000_p500_celltrek.rds\"))\n",
    "ovTrainAll <- readRDS(paste0(cell2loc, \"cellTrek/celltrek_results.rds\"))\n",
    "seuSub <- readRDS(paste0(cell2loc, \"cellTrek/seuSub.rds\"))"
   ]
  },
  {
   "cell_type": "code",
   "execution_count": 14,
   "id": "82448994",
   "metadata": {
    "vscode": {
     "languageId": "r"
    }
   },
   "outputs": [
    {
     "data": {
      "text/plain": [
       "NULL"
      ]
     },
     "metadata": {},
     "output_type": "display_data"
    }
   ],
   "source": [
    "seu <- ovTrainAll[[1]]\n",
    "\n",
    "slotNames(\n",
    "    seu@assays)"
   ]
  },
  {
   "cell_type": "code",
   "execution_count": null,
   "id": "9f76b68e",
   "metadata": {
    "vscode": {
     "languageId": "r"
    }
   },
   "outputs": [],
   "source": [
    "#load \n",
    "\n",
    "ovCellTrekList <- ovTrainAll\n",
    "\n",
    "#names(ovCellTrekList) <- names(ovTraintAll)\n",
    "\n",
    "\n",
    "#convert updated annotation to factor with levels organised in alphabetical order for plotting purposes \n",
    "ovCellTrekList <- lapply(ovCellTrekList, function(ovCellTrek){\n",
    "    ovCellTrek$cell_type <- ifelse(grepl(\"Tumour\", ovCellTrek$updated_annotation), \"Tumour\",\n",
    "                                    ovCellTrek$updated_annotation)  \n",
    "    ovCellTrek$cell_type <- factor(ovCellTrek$cell_type,\n",
    "                                    levels=sort(unique(ovCellTrek$cell_type)))                                                        \n",
    "    return(ovCellTrek)\n",
    "})"
   ]
  },
  {
   "cell_type": "markdown",
   "id": "dc2bbcb7",
   "metadata": {},
   "source": [
    "Need to merge Th1 and Th17 to T-helper and merge cycling plasma cells with plasma cells as their counts drop below 20 for multiple samples  \n",
    "Documentaiton advises n>20 for cell types for scoloc analysis  \n",
    "NK cells and B naive resting have low n in one or two samples but higher in others so leaving  "
   ]
  },
  {
   "cell_type": "code",
   "execution_count": null,
   "id": "c79753bf",
   "metadata": {
    "vscode": {
     "languageId": "r"
    }
   },
   "outputs": [],
   "source": [
    "\n",
    "ovCellTrekList <- lapply(ovCellTrekList, function(ovCellTrek) {\n",
    "    cell_type <- as.character(ovCellTrek@meta.data$cell_type)\n",
    "\n",
    "    #merge categories with consistently low counts across samples\n",
    "    cell_type[grepl(\"Th\", cell_type)] <- \"T-helper\"\n",
    "    cell_type[grepl(\"Cycling\", cell_type)] <- \"Plasma Cells\"\n",
    "    # Add to metadata\n",
    "    ovCellTrek@meta.data$cell_type_collapsed <- factor(cell_type)\n",
    "\n",
    "    return(ovCellTrek)\n",
    "})"
   ]
  },
  {
   "cell_type": "code",
   "execution_count": null,
   "id": "17fae122",
   "metadata": {
    "vscode": {
     "languageId": "r"
    }
   },
   "outputs": [],
   "source": [
    "# For each sample, get count table with 'cell_type' and renamed count column\n",
    "count_tables <- lapply(names(ovCellTrekList), function(sampN) {\n",
    "  ovCellTrek <- ovCellTrekList[[sampN]]\n",
    "  \n",
    "  as.data.frame(ovCellTrek$cell_type_collapsed) %>%\n",
    "    setNames(\"cell_type\") %>%\n",
    "    count(cell_type) %>%\n",
    "    rename(!!sampN := n)  # Rename 'n' to sample name dynamically\n",
    "})\n",
    "\n",
    "# Join all tables by 'cell_type'\n",
    "cell_type_counts_wide <- Reduce(function(x, y) full_join(x, y, by = \"cell_type\"), count_tables)\n",
    "\n",
    "# Replace NAs with 0 (if any cell types missing in some samples)\n",
    "cell_type_counts_wide[is.na(cell_type_counts_wide)] <- 0\n",
    "\n",
    "# View result\n",
    "print(cell_type_counts_wide)\n",
    "\n",
    "ov_visium = '/run/user/1804238067/gvfs/sftp:host=clust1-sub-1,user=lythgo02/mnt/nas-data/fmlab/group_folders/lythgo02/OV_visium/emily/cell2location/'\n",
    "\n",
    "write.csv(cell_type_counts_wide, paste0(ov_visium, \"/cellTrek/cell_type_counts_collapsed.csv\"), row.names = FALSE)"
   ]
  },
  {
   "cell_type": "code",
   "execution_count": null,
   "id": "375c7b4a",
   "metadata": {
    "vscode": {
     "languageId": "r"
    }
   },
   "outputs": [],
   "source": [
    "library(dplyr)\n",
    "library(tidyr)\n",
    "library(ggplot2)\n",
    "# Create palette\n",
    "cols17_soft <- c(\n",
    "  \"#E9967A\",  # Light salmon\n",
    "  \"#87CEFA\",  # Light sky blue\n",
    "  \"#90EE90\",  # Light green\n",
    "  \"#DDA0DD\",  # Plum\n",
    "  \"#FFD700\",  # Gold\n",
    "  \"#FFA07A\",  # Light coral\n",
    "  \"#B0C4DE\",  # Light steel blue\n",
    "  \"#98FB98\",  # Pale green\n",
    "  \"#FFB6C1\",  # Light pink\n",
    "  \"#AFEEEE\",  # Pale turquoise\n",
    "  \"#D8BFD8\",  # Thistle\n",
    "  \"#F0E68C\",  # Khaki\n",
    "  \"#E6E6FA\",  # Lavender\n",
    "  \"#F08080\",  # Light red\n",
    "  \"#ADD8E6\",  # Light blue\n",
    "  \"#BA55D3\",  # Medium orchid \n",
    "  \"#20B2AA\"   # Light sea green \n",
    ")\n",
    "\n",
    "\n",
    "\n",
    "\n",
    "# Create named vector to ensure colors are mapped to cell types consistently\n",
    "cell_types <- unique(cell_type_props$cell_type)\n",
    "cell_type_colors <- setNames(cols17_soft[1:length(cell_types)], cell_types)\n",
    "\n",
    "# Plot\n",
    "ggplot(cell_type_props, aes(x = sample, y = proportion, fill = cell_type)) +\n",
    "  geom_bar(stat = \"identity\", position = \"stack\") +\n",
    "  scale_fill_manual(values = cell_type_colors) +\n",
    "  scale_y_continuous(labels = scales::percent_format()) +\n",
    "  theme_minimal() +\n",
    "  labs(\n",
    "    title = \"Proportion of Cell Types per Sample (Collapsed)\",\n",
    "    x = \"Sample\",\n",
    "    y = \"Proportion of Cells\",\n",
    "    fill = \"Cell Type\"\n",
    "  )\n",
    "  # Save the last plot as PNG\n",
    "ggsave(\n",
    "  filename = paste0(ov_visium, \"cellTrek/cell_types_plot.png\"),\n",
    "  width = 8,\n",
    "  height = 5,\n",
    "  dpi = 300\n",
    ")\n",
    "\n",
    "\n"
   ]
  },
  {
   "cell_type": "markdown",
   "id": "bff1494c",
   "metadata": {
    "vscode": {
     "languageId": "r"
    }
   },
   "source": [
    "Set x and y limits for plotting \n",
    " - setting coordinates for xlim() and ylim() for ggplot to zoom/crop the plot to specific region of interest"
   ]
  },
  {
   "cell_type": "code",
   "execution_count": null,
   "id": "87049fde",
   "metadata": {
    "vscode": {
     "languageId": "r"
    }
   },
   "outputs": [],
   "source": [
    "xl <- list()\n",
    "xl$OV_1 <- c(15, 585)\n",
    "xl$OV_2 <- c(20, 580)\n",
    "xl$OV_3 <- c(20, 580)\n",
    "xl$OV_4 <- c(20, 580)\n",
    "xl$OV_5 <- c(20, 580)\n",
    "xl$OV_6 <- c(15, 585)\n",
    "xl$OV_7 <- c(15, 585)\n",
    "xl$OV_8 <- c(15, 585)\n",
    "xl$OV_9 <- c(25, 575)\n",
    "xl$OV_10 <- c(20, 575)\n",
    "xl$OV_11 <- c(25, 575)\n",
    "xl$OV_12 <- c(25, 575)\n",
    "\n",
    "names(xl) <- names(ovCellTrekList)\n",
    "\n",
    "\n",
    "yl <- list()\n",
    "yl$OV_1 <- c(15, 585)\n",
    "yl$OV_2 <- c(15, 575)\n",
    "yl$OV_3 <- c(25, 565)\n",
    "yl$OV_4 <- c(25, 565)\n",
    "yl$OV_5 <- c(20, 580)    \n",
    "yl$OV_6 <- c(20, 570)\n",
    "yl$OV_7 <- c(35, 560)\n",
    "yl$OV_8 <- c(15, 585)\n",
    "yl$OV_9 <- c(25, 575)\n",
    "yl$OV_10 <- c(5, 575)  \n",
    "yl$OV_11 <- c(25, 565)\n",
    "yl$OV_12 <- c(25, 565)\n",
    "\n",
    "names(yl) <- names(ovCellTrekList)"
   ]
  },
  {
   "cell_type": "markdown",
   "id": "fcd71083",
   "metadata": {},
   "source": [
    "Chunk below is for plotting cell_types with Th1 and Th17 as well as Cycling Plasma Cells included"
   ]
  },
  {
   "cell_type": "code",
   "execution_count": null,
   "id": "a3c5ff21",
   "metadata": {
    "vscode": {
     "languageId": "r"
    }
   },
   "outputs": [],
   "source": [
    "options(repr.plot.width = 20, repr.plot.height = 15, repr.plot.res = 150)\n",
    "\n",
    "cols19 <- c(\n",
    "  \"#E41A1C\", \"#377EB8\", \"#4DAF4A\", \"#984EA3\", \"#FF7F00\",\n",
    "  \"#FFFF33\", \"#A65628\", \"#F781BF\", \"#999999\", \"#66C2A5\",\n",
    "  \"#FC8D62\", \"#8DA0CB\", \"#A6D854\", \n",
    "  \"#E5C494\", \"#1B9E77\", \"#D95F02\", \"#B3B3B3\"\n",
    ")\n",
    "cellTrekPlots <- lapply(names(ovCellTrekList), function(sampN){\n",
    "    ovCellTrek <- ovCellTrekList[[sampN]]\n",
    "\n",
    "    img_fact <- ovCellTrek@images$slice1@scale.factors$lowres   #scale coordinates to match resolution of histo images \n",
    "    img_temp <- ovCellTrek@images$slice1@image                  #pull out image to use as backgroud\n",
    "    img_data <- ovCellTrek@meta.data %>% dplyr::select(coord_x, coord_y, cell_type:id_new)   #select coordinates and cell types for plotting \n",
    "    img_data$coord_x_new=img_data$coord_y*img_fact           #scales coordinates to match image resolution - img_fact is the scaling factor to convert spot coordinates into pixel units.\n",
    "    img_data$coord_y_new=dim(img_temp)[1]-img_data$coord_x*img_fact #flips axis vertically (visium images are stored with the origin (0,0) at the top-left corner, but spatial coordinates often assume the origin is bottom-left so flip)\n",
    "    img_data$color_var <- factor(img_data[, \"cell_type\"])\n",
    "    img_data$shape_var <- ''\n",
    "\n",
    "    ggplot(img_data, aes(x=coord_x_new, y=coord_y_new, fill=cell_type)) +\n",
    "    background_image(raster.img = img_temp)+\n",
    "    geom_jitter(size = 1, shape = 21, stroke = 0.2, color = \"black\") +\n",
    "    scale_fill_manual(values = cols19) +\n",
    "    xlim(xl[[sampN]]) +\n",
    "    ylim(yl[[sampN]]) + \n",
    "    coord_fixed(ratio = 1)\n",
    "\n",
    "})\n",
    "\n",
    "names(cellTrekPlots) <- names(ovCellTrekList)"
   ]
  },
  {
   "cell_type": "code",
   "execution_count": null,
   "id": "f9e03dfc",
   "metadata": {
    "vscode": {
     "languageId": "r"
    }
   },
   "outputs": [],
   "source": [
    "cellTrekPlots"
   ]
  },
  {
   "cell_type": "markdown",
   "id": "38a42dd6",
   "metadata": {},
   "source": [
    "Chunk below is for cell types collapsed"
   ]
  },
  {
   "cell_type": "code",
   "execution_count": null,
   "id": "e3041f61",
   "metadata": {
    "vscode": {
     "languageId": "r"
    }
   },
   "outputs": [],
   "source": [
    "options(repr.plot.width = 20, repr.plot.height = 15, repr.plot.res = 150)\n",
    "\n",
    "cols19 <- c(\n",
    "  \"#E41A1C\", \"#377EB8\", \"#4DAF4A\", \"#984EA3\", \"#FF7F00\",\n",
    "  \"#FFFF33\", \"#F781BF\", \"#999999\", \"#66C2A5\",\n",
    "  \"#FC8D62\", \"#8DA0CB\", \"#E78AC3\", \"#A6D854\", \n",
    "  \"#E5C494\", \"#1B9E77\"  \n",
    ")\n",
    "cellTrekPlots <- lapply(names(ovCellTrekList), function(sampN){\n",
    "    ovCellTrek <- ovCellTrekList[[sampN]]\n",
    "\n",
    "    img_fact <- ovCellTrek@images$slice1@scale.factors$lowres   #scale coordinates to match resolution of histo images \n",
    "    img_temp <- ovCellTrek@images$slice1@image                  #pull out image to use as backgroud\n",
    "    img_data <- ovCellTrek@meta.data %>% dplyr::select(coord_x, coord_y, cell_type_collapsed:id_new)   #select coordinates and cell types for plotting \n",
    "    img_data$coord_x_new=img_data$coord_y*img_fact           #scales coordinates to match image resolution - img_fact is the scaling factor to convert spot coordinates into pixel units.\n",
    "    img_data$coord_y_new=dim(img_temp)[1]-img_data$coord_x*img_fact #flips axis vertically (visium images are stored with the origin (0,0) at the top-left corner, but spatial coordinates often assume the origin is bottom-left so flip)\n",
    "    img_data$color_var <- factor(img_data[, \"cell_type_collapsed\"])\n",
    "    img_data$shape_var <- ''\n",
    "\n",
    "    ggplot(img_data, aes(x=coord_x_new, y=coord_y_new, fill=cell_type_collapsed)) +\n",
    "    background_image(raster.img = img_temp)+\n",
    "    geom_jitter(size = 1, shape = 21, stroke = 0.2, color = \"black\") +\n",
    "    scale_fill_manual(values = cols19) +\n",
    "    xlim(xl[[sampN]]) +\n",
    "    ylim(yl[[sampN]]) + \n",
    "    coord_fixed(ratio = 1)\n",
    "\n",
    "})\n",
    "\n",
    "names(cellTrekPlots) <- names(ovCellTrekList)"
   ]
  },
  {
   "cell_type": "code",
   "execution_count": null,
   "id": "a8275d99",
   "metadata": {
    "vscode": {
     "languageId": "r"
    }
   },
   "outputs": [],
   "source": [
    "cellTrekPlots"
   ]
  },
  {
   "cell_type": "code",
   "execution_count": null,
   "id": "59bff9e7",
   "metadata": {
    "vscode": {
     "languageId": "r"
    }
   },
   "outputs": [],
   "source": [
    "for (i in seq_along(cellTrekPlots)) {\n",
    "  ggsave(\n",
    "    filename = paste0(ov_visium, \"/cellTrek/celltrek_OV_\", i, \"_trek.pdf\"),\n",
    "    plot = cellTrekPlots[[i]],\n",
    "    width = 12,\n",
    "    height = 9,\n",
    "    dpi = 300\n",
    "  )\n",
    "}\n",
    "\n"
   ]
  },
  {
   "cell_type": "markdown",
   "id": "e20fe7e9",
   "metadata": {},
   "source": [
    "Co-localisation of tumour and Ccl5 expression"
   ]
  },
  {
   "cell_type": "code",
   "execution_count": null,
   "id": "b7691171",
   "metadata": {
    "vscode": {
     "languageId": "r"
    }
   },
   "outputs": [],
   "source": [
    "cellTrekPlots <- lapply(names(ovCellTrekList), function(sampN){\n",
    "  ovCellTrek <- ovCellTrekList[[sampN]]\n",
    "\n",
    "  img_fact <- ovCellTrek@images$slice1@scale.factors$lowres\n",
    "  img_temp <- ovCellTrek@images$slice1@image\n",
    "\n",
    "  # Prepare metadata\n",
    "  img_data <- ovCellTrek@meta.data %>%\n",
    "    dplyr::select(coord_x, coord_y, cell_type:id_new) %>%\n",
    "    mutate(\n",
    "      CCL5_expr = FetchData(ovCellTrek, vars = \"Ccl5\")[,1],\n",
    "      coord_x_new = coord_y * img_fact,\n",
    "      coord_y_new = dim(img_temp)[1] - coord_x * img_fact,\n",
    "      \n",
    "      # NEW: simplified tumor annotation\n",
    "      outline_group = ifelse(cell_type %in% \"Tumour\",\"Tumour\",\"Non-tumour\" )\n",
    "     # outline_group = ifelse(cell_type %in% c(\"Tumour 1\", \"Tumour 2\", \"Tumour 3\"), \"Tumour\", \"Non-tumour\")\n",
    "    )\n",
    "\n",
    "  # Plot\n",
    "  ggplot(img_data, aes(x = coord_x_new, y = coord_y_new)) +\n",
    "    background_image(raster.img = img_temp) +\n",
    "    geom_jitter(\n",
    "      aes(fill = CCL5_expr, color = outline_group),  # NEW: use simplified group\n",
    "      shape = 21, size = 1, stroke = 0.2\n",
    "    ) +\n",
    "    scale_fill_gradient(low = \"white\", high = \"red\", name = \"Ccl5 Expression\") +\n",
    "    \n",
    "    # NEW: custom color scale for simplified groups\n",
    "    scale_color_manual(\n",
    "      values = c(\"Tumour\" = \"blue\", \"Non-tumour\" = \"green\"),\n",
    "      name = \"Region\"  # optional custom legend title\n",
    "    ) +\n",
    "    \n",
    "    xlim(xl[[sampN]]) +\n",
    "    ylim(yl[[sampN]]) +\n",
    "    coord_fixed(ratio = 1) +\n",
    "    labs(title = paste(\"Sample:\", sampN))\n",
    "})\n",
    "\n",
    "cellTrekPlots\n"
   ]
  },
  {
   "cell_type": "code",
   "execution_count": null,
   "id": "75707556",
   "metadata": {
    "vscode": {
     "languageId": "r"
    }
   },
   "outputs": [],
   "source": [
    "for (i in seq_along(cellTrekPlots)) {\n",
    "  ggsave(\n",
    "    filename = paste0(ov_visium, \"/cellTrek/celltrek_ccl5_OV_\", i, \".pdf\"),\n",
    "    plot = cellTrekPlots[[i]],\n",
    "    width = 12,\n",
    "    height = 9,\n",
    "    dpi = 300\n",
    "  )\n",
    "}\n"
   ]
  },
  {
   "cell_type": "markdown",
   "id": "bc21a3d4",
   "metadata": {},
   "source": [
    "Plotting if Ccl5+ tumour, Ccl5+ NK cell or Ccr5+ CD8 cell\n",
    " - (each of Ccr1/3/5 receptor bind the Ccl5 chemokine on tumours)\n",
    "\n",
    "Ccl5 = chemokine involved in recruiting immune cells eg T-cells, NK cells, macrophages and DCs via interaction with receptors like Ccr1, Ccr3 and Ccr5"
   ]
  },
  {
   "cell_type": "code",
   "execution_count": null,
   "id": "fdfb7914",
   "metadata": {
    "vscode": {
     "languageId": "r"
    }
   },
   "outputs": [],
   "source": [
    "ovCellTrekList<- lapply(ovCellTrekList, function(ovCellTrek){\n",
    "    ccl5_expr <- FetchData(ovCellTrek, vars=\"Ccl5\")[,1] #extract expr of ccl5 as df and convert to vector\n",
    "    ccr5_expr <- FetchData(ovCellTrek, vars=\"Ccr5\")[,1] #extract expr of ccr5 as df and convert to vector\n",
    "    ccr1_expr <- FetchData(ovCellTrek, vars=\"Ccr1\")[,1]\n",
    "    ccr3_expr <- FetchData(ovCellTrek, vars=\"Ccr3\")[,1]\n",
    "\n",
    "    cell_type <- ovCellTrek@meta.data$cell_type #retrieve cell type label\n",
    "    coexp_label <- rep(\"Other\", length(ccl5_expr))  #repeat other to create a default label to overwrite\n",
    "    # Label tumour cells with ccl5 exp\n",
    "    coexp_label[cell_type==\"Tumour\" & ccl5_expr >0 ] <- \"Ccl5+_Tumour\"\n",
    "    # Logical vector for NK cells positive for any of ccr5, ccr3, or ccr1\n",
    "    nk_pos <- cell_type == \"NK_cell\" & (ccr5_expr > 0 | ccr3_expr > 0 | ccr1_expr > 0)\n",
    "    coexp_label[nk_pos] <- \"NK_Ccr_receptor+\"\n",
    "    # Logical vector for CD8 cells positive for any of ccr5, ccr3, or ccr1\n",
    "    cd8_pos <- cell_type == \"CD8\" & (ccr5_expr > 0 | ccr3_expr > 0 | ccr1_expr > 0)\n",
    "    coexp_label[cd8_pos] <- \"CD8_Ccr_receptor+\"\n",
    "    # Add to metadata\n",
    "    ovCellTrek@meta.data$coexp <- coexp_label\n",
    "    return(ovCellTrek)\n",
    "})"
   ]
  },
  {
   "cell_type": "code",
   "execution_count": null,
   "id": "b09dfe34",
   "metadata": {
    "vscode": {
     "languageId": "r"
    }
   },
   "outputs": [],
   "source": [
    "lapply(ovCellTrekList, function(x){\n",
    "    table(x@meta.data$coexp)\n",
    "})"
   ]
  },
  {
   "cell_type": "code",
   "execution_count": null,
   "id": "e328dba0",
   "metadata": {
    "vscode": {
     "languageId": "r"
    }
   },
   "outputs": [],
   "source": [
    "\n",
    "coexp_counts_list <- lapply(names(ovCellTrekList), function(sampN) {\n",
    "  tbl <- table(ovCellTrekList[[sampN]]@meta.data$coexp)\n",
    "  df <- as.data.frame(tbl)\n",
    "  colnames(df) <- c(\"Coexp_Label\", \"Count\")\n",
    "  df$Sample <- sampN\n",
    "  df\n",
    "})\n",
    "\n",
    "combined_df <- bind_rows(coexp_counts_list)\n",
    "\n",
    "write.csv(combined_df, paste0(ov_visium,\"cellTrek/combined_coexp_counts.csv\"), row.names = FALSE)\n"
   ]
  },
  {
   "cell_type": "code",
   "execution_count": null,
   "id": "8031af07",
   "metadata": {
    "vscode": {
     "languageId": "r"
    }
   },
   "outputs": [],
   "source": [
    "cellTrekPlots <- lapply(names(ovCellTrekList), function(sampN) {\n",
    "  ovCellTrek <- ovCellTrekList[[sampN]]\n",
    "\n",
    "  img_fact <- ovCellTrek@images$slice1@scale.factors$lowres\n",
    "  img_temp <- ovCellTrek@images$slice1@image\n",
    "\n",
    "  # Prepare metadata\n",
    "  img_data <- ovCellTrek@meta.data %>%\n",
    "    dplyr::select(coord_x, coord_y, cell_type:id_new, coexp) %>%  # Include coexp\n",
    "    mutate(\n",
    "      coord_x_new = coord_y * img_fact,\n",
    "      coord_y_new = dim(img_temp)[1] - coord_x * img_fact,\n",
    "    #  outline_group = ifelse(cell_type == \"Tumour\", \"Tumour\", \"Non-tumour\")\n",
    "    )\n",
    "\n",
    "  # Plot\n",
    "  ggplot(img_data, aes(x = coord_x_new, y = coord_y_new)) +\n",
    "    background_image(raster.img = img_temp) +\n",
    "    geom_jitter(\n",
    "      aes(fill = coexp),\n",
    "      shape = 21, size = 1, stroke = 0.1\n",
    "    ) +\n",
    "    scale_fill_manual(\n",
    "      values = c(\n",
    "        \"Ccl5+_Tumour\" = \"red\",\n",
    "        \"NK_Ccr_receptor+\" = \"blue\",\n",
    "        \"CD8_Ccr_receptor+\" =\"#4DAF4A\",\n",
    "        \"Other\" = \"grey80\"\n",
    "      ),\n",
    "      name = \"Co-expression\"\n",
    "    ) +\n",
    "\n",
    "    xlim(xl[[sampN]]) +\n",
    "    ylim(yl[[sampN]]) +\n",
    "    coord_fixed(ratio = 1) +\n",
    "    labs(title = paste(\"Sample:\", sampN))\n",
    "})\n"
   ]
  },
  {
   "cell_type": "code",
   "execution_count": null,
   "id": "6192d4d6",
   "metadata": {
    "vscode": {
     "languageId": "r"
    }
   },
   "outputs": [],
   "source": [
    "cellTrekPlots"
   ]
  },
  {
   "cell_type": "code",
   "execution_count": null,
   "id": "c0b120ca",
   "metadata": {
    "vscode": {
     "languageId": "r"
    }
   },
   "outputs": [],
   "source": [
    "for (i in seq_along(cellTrekPlots)) {\n",
    "  ggsave(\n",
    "    filename = paste0(ov_visium, \"/cellTrek/celltrek_ccl5_OV_\", i, \".pdf\"),\n",
    "    plot = cellTrekPlots[[i]],\n",
    "    width = 12,\n",
    "    height = 9,\n",
    "    dpi = 300\n",
    "  )\n",
    "}\n"
   ]
  },
  {
   "cell_type": "markdown",
   "id": "a2f4c6ac",
   "metadata": {
    "vscode": {
     "languageId": "r"
    }
   },
   "source": [
    "Spatial Colocalisation \n",
    " - CellTrek::scoloc() analyzes how different cell types are spatially arranged relative to one another.\n",
    " - It takes the mapped cells and then, for each cell type, builds a graph-based model of cell-cell proximity and interaction:\n",
    " - use_method = 'DT': uses Delaunay triangulation to define spatial neighborhoods or use KNN for k-nearest neighbours\n",
    " - boot_n = 200: performs 200 bootstrap iterations to assess statistical robustness\n",
    " - the result tells you about spatial overlap between cell types \n"
   ]
  },
  {
   "cell_type": "code",
   "execution_count": null,
   "id": "6a71321c",
   "metadata": {
    "vscode": {
     "languageId": "r"
    }
   },
   "outputs": [],
   "source": [
    "#quantify how often different cell types neighbour each other\n",
    "ovSGraphKlList <- lapply(ovCellTrekList, function(ovCellTrek){\n",
    "    CellTrek::scoloc(\n",
    "        ovCellTrek,\n",
    "        col_cell = 'cell_type_collapsed',\n",
    "        use_method = 'KL',\n",
    "        boot_n = 200\n",
    "    )\n",
    "})\n"
   ]
  },
  {
   "cell_type": "markdown",
   "id": "aeac0de8",
   "metadata": {},
   "source": [
    "Or for generating the results for colocalisation of Ccr5+ tumour cells with Ccr1/3/5 positive NK or CD8 cells  \n",
    " - don't advise because insufficient power due to low n"
   ]
  },
  {
   "cell_type": "code",
   "execution_count": null,
   "id": "14c6cabd",
   "metadata": {
    "vscode": {
     "languageId": "r"
    }
   },
   "outputs": [],
   "source": [
    "#quantify how often different cell types neighbour each other\n",
    "ovSGraphKlList <- lapply(ovCellTrekList, function(ovCellTrek){\n",
    "    CellTrek::scoloc(\n",
    "        ovCellTrek,\n",
    "        col_cell = 'coexp',\n",
    "        use_method = 'KL',\n",
    "        boot_n = 200\n",
    "    )\n",
    "})"
   ]
  },
  {
   "cell_type": "markdown",
   "id": "290abf78",
   "metadata": {},
   "source": [
    "After building repeated graphs, it takes the minimum spanning tree to ensure connected graph that links all cell types while minimising distance  \n",
    "It then aggregates these MSTs over bootstraps to produce a consensus matrix of cell-type-by-cell-type adjacency  \n",
    " - rows/columns = cell types\n",
    " - values = how often cell types are directly connected (0=almost never neighbours, 1=always neighbours)\n",
    "  \n",
    "Extract the minimum spanning tree:\n",
    "  -MST = smallest possible graph connecting all nodes (cell types or spatial clusters) such that every node is connected, total edge weight (distance) is minimised"
   ]
  },
  {
   "cell_type": "code",
   "execution_count": null,
   "id": "b37dadac",
   "metadata": {
    "vscode": {
     "languageId": "r"
    }
   },
   "outputs": [],
   "source": [
    "\n",
    "ovSGraphKlMstConsList <- lapply(ovSGraphKlList, function(x){\n",
    "    x$mst_cons\n",
    "})\n"
   ]
  },
  {
   "cell_type": "code",
   "execution_count": null,
   "id": "110e5e22",
   "metadata": {
    "vscode": {
     "languageId": "r"
    }
   },
   "outputs": [],
   "source": [
    "lapply(ovSGraphKlMstConsList, function(mat) rownames(mat))\n",
    "lapply(ovSGraphKlMstConsList, dim)"
   ]
  },
  {
   "cell_type": "markdown",
   "id": "61e134e6",
   "metadata": {},
   "source": [
    "Sample 5 and 3 are missing cycling plasma cells row/column from matrix so add one full of 0\n",
    " - not if using the collapsed cell types"
   ]
  },
  {
   "cell_type": "code",
   "execution_count": null,
   "id": "e3bccd93",
   "metadata": {
    "vscode": {
     "languageId": "r"
    }
   },
   "outputs": [],
   "source": [
    "#mat <- ovSGraphKlMstConsList[[3]]\n",
    "\n",
    "# Add a row of zeros\n",
    "#mat <- rbind(mat, setNames(rep(0, ncol(mat)), colnames(mat)))\n",
    "\n",
    "# Add a column of zeros\n",
    "#mat <- cbind(mat, setNames(rep(0, nrow(mat)), 'Cycling.Plasma.Cells'))\n",
    "\n",
    "# Update row and column names\n",
    "#rownames(mat)[nrow(mat)] <- 'Cycling.Plasma.Cells'\n",
    "#colnames(mat)[ncol(mat)] <- 'Cycling.Plasma.Cells'\n",
    "\n",
    "#mat\n",
    "# Replace the matrix in the list\n",
    "\n",
    "#ovSGraphKlMstConsList[[3]] <- mat"
   ]
  },
  {
   "cell_type": "code",
   "execution_count": null,
   "id": "e56b9393",
   "metadata": {
    "vscode": {
     "languageId": "r"
    }
   },
   "outputs": [],
   "source": [
    "#mat <- ovSGraphKlMstConsList[[5]]\n",
    "\n",
    "# Add a row of zeros\n",
    "#mat <- rbind(mat, setNames(rep(0, ncol(mat)), colnames(mat)))\n",
    "\n",
    "# Add a column of zeros\n",
    "#mat <- cbind(mat, setNames(rep(0, nrow(mat)), 'Cycling.Plasma.Cells'))\n",
    "\n",
    "# Update row and column names\n",
    "#rownames(mat)[nrow(mat)] <- 'Cycling.Plasma.Cells'\n",
    "#colnames(mat)[ncol(mat)] <- 'Cycling.Plasma.Cells'\n",
    "\n",
    "#mat\n",
    "# Replace the matrix in the list\n",
    "\n",
    "#ovSGraphKlMstConsList[[5]] <- mat"
   ]
  },
  {
   "cell_type": "code",
   "execution_count": null,
   "id": "c1039fbd",
   "metadata": {
    "vscode": {
     "languageId": "r"
    }
   },
   "outputs": [],
   "source": [
    "# Define the desired order (from OV_1)\n",
    "#desired_order <- c(\n",
    "  \"B.naive.activated\",\"B.naive.resting\",\"CD4\",\"CD8\",\n",
    "  \"Cycling.Plasma.Cells\",\"Dendritic.Cells\",\"Endothelial\",\"Macrophage\",\n",
    "  \"Mesenchymal\",\"Monocytes\",\"Neutrophils\",\"NK_cell\",\"Plasma.Cells\",\n",
    "  \"Th1\",\"Th17\",\"Treg\",\"Tumour\"\n",
    ")\n",
    "\n",
    "# Manually reorder OV_2\n",
    "#ovSGraphKlMstConsList$OV_3 <- ovSGraphKlMstConsList$OV_3[desired_order, desired_order]\n",
    "\n",
    "# Manually reorder OV_3\n",
    "#ovSGraphKlMstConsList$OV_5 <- ovSGraphKlMstConsList$OV_5[desired_order, desired_order]\n"
   ]
  },
  {
   "cell_type": "code",
   "execution_count": null,
   "id": "170ae713",
   "metadata": {
    "vscode": {
     "languageId": "r"
    }
   },
   "outputs": [],
   "source": [
    "saveRDS(ovSGraphKlMstConsList, paste(ov_visium,\"cellTrek/ovSGraphKlMstConsList.rds\"))\n",
    "saveRDS(ovSGraphKlList, paste(ov_visium, \"cellTrek/ovSGraphList.rds\"))\n",
    "#ovSGraphKlMstConsList"
   ]
  },
  {
   "cell_type": "markdown",
   "id": "dc468daf",
   "metadata": {},
   "source": [
    "Visualise:\n",
    "Compute *average* spatial adjacency matrices treated/untreated\n",
    " - ovSGraphKlMstConsList[[i]] is a consensus graph / adjacency matrix derived from CellTrek analysis.\n",
    " - Rows and columns: Usually represent cell types or clusters.\n",
    " - Values = Strength of interaction, co-localization, or connection probability between two clusters.\n",
    "\n",
    "Symmetric: A–B = B–A.\n",
    "\n",
    "So each ovSGraphKlMstConsList[[i]] encodes cluster–cluster connectivity for one sample. - "
   ]
  },
  {
   "cell_type": "code",
   "execution_count": null,
   "id": "25c128d2",
   "metadata": {
    "vscode": {
     "languageId": "r"
    }
   },
   "outputs": [],
   "source": [
    "\n",
    "#compute mean pairwise distances between cell types\n",
    "preTreat <- (ovSGraphKlMstConsList[[1]] + ovSGraphKlMstConsList[[2]] + ovSGraphKlMstConsList[[3]]) / 3\n",
    "postTreat <- (ovSGraphKlMstConsList[[4]] + ovSGraphKlMstConsList[[6]]+ ovSGraphKlMstConsList[[5]]) / 3\n",
    "\n",
    "#take the difference\n",
    "treatDiff <-  postTreat - preTreat\n",
    "\n",
    "#negative values after post-pre means cells are closer, positive values means cells are further apart "
   ]
  },
  {
   "cell_type": "code",
   "execution_count": null,
   "id": "97d53053",
   "metadata": {
    "vscode": {
     "languageId": "r"
    }
   },
   "outputs": [],
   "source": [
    "\n",
    "  write.csv(preTreat,\n",
    "    file = paste0(ov_visium, \"cellTrek/coloc_matrix_pretreat.csv\"),\n",
    "   # file = paste0(ov_visium, \"cellTrek/coloc_matrix_pretreat_ccl5ccr5.csv\"),\n",
    "    row.names = TRUE)\n",
    "\n",
    "\n",
    "  write.csv(postTreat,\n",
    "    file = paste0(ov_visium, \"cellTrek/coloc_matrix_posttreat.csv\"),\n",
    "   # file = paste0(ov_visium, \"cellTrek/coloc_matrix_posttreat_ccl5ccr5.csv\"),\n",
    "    row.names = TRUE)\n",
    "\n",
    "\n",
    "  write.csv(treatDiff,\n",
    "    file = paste0(ov_visium, \"cellTrek/coloc_matrix_treatdiff.csv\"),\n",
    "    #file = paste0(ov_visium, \"cellTrek/coloc_matrix_treatdiff_ccl5ccr5.csv\"),\n",
    "    row.names = TRUE)"
   ]
  },
  {
   "cell_type": "markdown",
   "id": "7bc50fb8",
   "metadata": {},
   "source": [
    "Generate heatmaps from co-localisation scores"
   ]
  },
  {
   "cell_type": "code",
   "execution_count": null,
   "id": "c6dcce3e",
   "metadata": {
    "vscode": {
     "languageId": "r"
    }
   },
   "outputs": [],
   "source": [
    "#if the option below won't save\n",
    "preTreat[upper.tri(preTreat)] <- NA\n",
    "pheatmap(as.matrix(preTreat),\n",
    "         cluster_cols = FALSE,\n",
    "         cluster_rows = FALSE,\n",
    "         border_color =\"white\",\n",
    "         na_col=\"white\",\n",
    "        filename = paste0( ov_visium, \"/cellTrek/preTreat_coloc_heatmap.png\"))\n",
    "        #filename = paste0( ov_visium, \"/cellTrek/preTreat_coloc_heatmap_ccl5ccr5.png\"))"
   ]
  },
  {
   "cell_type": "code",
   "execution_count": null,
   "id": "71687c9a",
   "metadata": {
    "vscode": {
     "languageId": "r"
    }
   },
   "outputs": [],
   "source": [
    "\n",
    "ov_visium = '/run/user/1804238067/gvfs/sftp:host=clust1-sub-1,user=lythgo02/mnt/nas-data/fmlab/group_folders/lythgo02/OV_visium/emily/cell2location/'\n",
    "\n",
    "png(paste0(ov_visium, \"cellTrek/preTreat_coloc_heatmap.png\"), width=800, height=800)\n",
    "preTreat[upper.tri(preTreat)] <- NA\n",
    "pheatmap(as.matrix(preTreat),\n",
    "         cluster_cols = FALSE,\n",
    "         cluster_rows = FALSE,\n",
    "         border_color =\"white\",\n",
    "         na_col=\"white\")\n",
    "        # filename = \"/home/lythgo02/Documents/OV_visium/cellTrek/preTreat_coloc_heatmap.png\"\n",
    "dev.off()\n",
    "\n",
    "png(paste0(ov_visium, \"cellTrek/postTreat_coloc_heatmap.png\"),width=800, height=800)\n",
    "#png(paste0(ov_visium, \"cellTrek/postTreat_coloc_heatmap_ccl5ccr5.png\"),width=800, height=800)\n",
    "postTreat[upper.tri(postTreat)] <- NA\n",
    "pheatmap(as.matrix(postTreat),\n",
    "         cluster_cols = FALSE,\n",
    "         cluster_rows = FALSE,\n",
    "         border_color =\"white\",\n",
    "         na_col=\"white\")\n",
    "dev.off()\n",
    "\n",
    "png(paste0(ov_visium, \"cellTrek/treatDiff_coloc_heatmap.png\"),width=800, height=800)\n",
    "#png(paste0(ov_visium, \"cellTrek/treatDiff_coloc_heatmap_ccl5ccr5.png\"),width=800, height=800)\n",
    "treatDiff[upper.tri(treatDiff)] <- NA\n",
    "pheatmap(as.matrix(treatDiff),\n",
    "         cluster_cols = FALSE,\n",
    "         cluster_rows = FALSE,\n",
    "         border_color =\"white\",\n",
    "         na_col=\"white\", \n",
    "        center = 0)\n",
    "dev.off()\n",
    "\n"
   ]
  },
  {
   "cell_type": "code",
   "execution_count": null,
   "id": "afa3738f",
   "metadata": {
    "vscode": {
     "languageId": "r"
    }
   },
   "outputs": [],
   "source": [
    "class(ovSGraphKlMstConsList[[1]])"
   ]
  },
  {
   "cell_type": "code",
   "execution_count": null,
   "id": "513ecd53",
   "metadata": {
    "vscode": {
     "languageId": "r"
    }
   },
   "outputs": [],
   "source": [
    "# Loop over names and write each data frame to a CSV\n",
    "lapply(names(ovSGraphKlMstConsList), function(i) {\n",
    "  write.csv(\n",
    "    ovSGraphKlMstConsList[[i]],\n",
    "    file = paste0(ov_visium, \"cellTrek/coloc_matrix_\", i, \".csv\"),\n",
    "    row.names = FALSE\n",
    "  )\n",
    "})\n"
   ]
  },
  {
   "cell_type": "code",
   "execution_count": null,
   "id": "651689df",
   "metadata": {
    "vscode": {
     "languageId": "r"
    }
   },
   "outputs": [],
   "source": [
    "cellTrekDistPlot <- pheatmap(as.matrix(treatDiff),\n",
    "                             cluster_cols = FALSE,\n",
    "                             cluster_rows = FALSE,\n",
    "                             border_color =\"#404040\",\n",
    "                           #  breaks = breaks,\n",
    "                             na_col=\"black\")"
   ]
  },
  {
   "cell_type": "code",
   "execution_count": 16,
   "id": "aa51c75c",
   "metadata": {
    "vscode": {
     "languageId": "r"
    }
   },
   "outputs": [
    {
     "ename": "ERROR",
     "evalue": "Error: object 'ovSGraphKlMstConsList' not found\n",
     "output_type": "error",
     "traceback": [
      "Error: object 'ovSGraphKlMstConsList' not found\nTraceback:\n"
     ]
    }
   ],
   "source": [
    "names(ovSGraphKlMstConsList)"
   ]
  },
  {
   "cell_type": "code",
   "execution_count": null,
   "id": "8e363820",
   "metadata": {
    "vscode": {
     "languageId": "r"
    }
   },
   "outputs": [],
   "source": [
    "heatPlots <- lapply(names(ovSGraphKlMstConsList), function(sample_name) {\n",
    "  x <- ovSGraphKlMstConsList[[sample_name]]\n",
    "  x[upper.tri(x)] <- NA\n",
    "\n",
    "  png(paste0(ov_visium, \"cellTrek/coloc_heatmap_\", sample_name, \".png\"), width = 800, height = 800)\n",
    "\n",
    "  # Force pheatmap to plot inside the png device\n",
    "  print(pheatmap(as.matrix(x),\n",
    "                 cluster_cols = FALSE,\n",
    "                 cluster_rows = FALSE,\n",
    "                 border_color = \"white\",\n",
    "                 na_col = \"white\"))\n",
    "\n",
    "  dev.off()\n",
    "})\n",
    "\n"
   ]
  },
  {
   "cell_type": "code",
   "execution_count": null,
   "id": "ec815466",
   "metadata": {
    "vscode": {
     "languageId": "r"
    }
   },
   "outputs": [],
   "source": [
    "heat_grobs <- lapply(names(ovSGraphKlMstConsList), function(sample_name) {\n",
    "  x <- ovSGraphKlMstConsList[[sample_name]]\n",
    "  x[upper.tri(x)] <- NA\n",
    "\n",
    "  # Generate pheatmap grob\n",
    "  ph <- pheatmap(\n",
    "    mat = as.matrix(x),\n",
    "    cluster_cols = FALSE,\n",
    "    cluster_rows = FALSE,\n",
    "    border_color = \"white\",\n",
    "    na_col = \"white\",\n",
    "    main = sample_name,   # Optional title\n",
    "    silent = TRUE         # Don't draw, just return grob\n",
    "  )\n",
    "\n",
    "  ph$gtable\n",
    "})\n"
   ]
  },
  {
   "cell_type": "code",
   "execution_count": null,
   "id": "4782cea3",
   "metadata": {
    "vscode": {
     "languageId": "r"
    }
   },
   "outputs": [],
   "source": [
    "library(gridExtra)\n",
    "library(grid)# Display all heatmaps in a 2-column layout (adjust as needed)\n",
    "grid.arrange(grobs = heat_grobs, ncol = 3)"
   ]
  },
  {
   "cell_type": "code",
   "execution_count": null,
   "id": "9aa5aab1",
   "metadata": {
    "vscode": {
     "languageId": "r"
    }
   },
   "outputs": [
    {
     "ename": "ERROR",
     "evalue": "Error: object 'oblabels' not found\n",
     "output_type": "error",
     "traceback": [
      "Error: object 'oblabels' not found\nTraceback:\n",
      "1. standardGeneric(\"table\")",
      "2. eval(quote(list(...)), env)",
      "3. eval(quote(list(...)), env)",
      "4. eval(quote(list(...)), env)",
      "5. .handleSimpleError(function (cnd) \n . {\n .     watcher$capture_plot_and_output()\n .     cnd <- sanitize_call(cnd)\n .     watcher$push(cnd)\n .     switch(on_error, continue = invokeRestart(\"eval_continue\"), \n .         stop = invokeRestart(\"eval_stop\"), error = NULL)\n . }, \"object 'oblabels' not found\", base::quote(eval(expr, envir)))"
     ]
    }
   ],
   "source": [
    "#giotto installed in r_spatial env locally to switch to that next?\n"
   ]
  }
 ],
 "metadata": {
  "kernelspec": {
   "display_name": "R (CellTrek Env)",
   "language": "R",
   "name": "celltrek_env"
  },
  "language_info": {
   "codemirror_mode": "r",
   "file_extension": ".r",
   "mimetype": "text/x-r-source",
   "name": "R",
   "pygments_lexer": "r",
   "version": "4.4.3"
  }
 },
 "nbformat": 4,
 "nbformat_minor": 5
}
