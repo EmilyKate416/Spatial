{
 "cells": [
  {
   "cell_type": "markdown",
   "id": "69e902d0",
   "metadata": {},
   "source": [
    "## 1. Load libraries\n",
    "This loads the required R packages for:\n",
    "- **CellTrek** (mapping scRNA → spatial)\n",
    "- **Seurat** (single-cell integration)\n",
    "- **CellChat** (cell–cell communication, though not used later in this script)\n",
    "- Visualization (`ggplot2`, `pheatmap`, `patchwork`, etc.)\n",
    "- Clustering/statistics (`ConsensusClusterPlus`, `RColorBrewer`)."
   ]
  },
  {
   "cell_type": "markdown",
   "id": "896be9d0",
   "metadata": {},
   "source": [
    "Need to install this too in env beforehand\n",
    "#mamba install -c conda-forge -c bioconda bioconductor-singlecellexperiment\n"
   ]
  },
  {
   "cell_type": "code",
   "execution_count": 1,
   "id": "d68f5195",
   "metadata": {
    "vscode": {
     "languageId": "r"
    }
   },
   "outputs": [
    {
     "name": "stderr",
     "output_type": "stream",
     "text": [
      "Warning message:\n",
      "“replacing previous import ‘data.table::first’ by ‘dplyr::first’ when loading ‘CellTrek’”\n",
      "Warning message:\n",
      "“replacing previous import ‘MASS::select’ by ‘dplyr::select’ when loading ‘CellTrek’”\n",
      "Warning message:\n",
      "“replacing previous import ‘data.table::last’ by ‘dplyr::last’ when loading ‘CellTrek’”\n",
      "Warning message:\n",
      "“replacing previous import ‘data.table::between’ by ‘dplyr::between’ when loading ‘CellTrek’”\n",
      "Warning message:\n",
      "“replacing previous import ‘dplyr::as_data_frame’ by ‘igraph::as_data_frame’ when loading ‘CellTrek’”\n",
      "Warning message:\n",
      "“replacing previous import ‘dplyr::groups’ by ‘igraph::groups’ when loading ‘CellTrek’”\n",
      "Warning message:\n",
      "“replacing previous import ‘dplyr::union’ by ‘igraph::union’ when loading ‘CellTrek’”\n",
      "Warning message:\n",
      "“replacing previous import ‘igraph::groups’ by ‘plotly::groups’ when loading ‘CellTrek’”\n",
      "Warning message:\n",
      "“replacing previous import ‘magrittr::set_names’ by ‘purrr::set_names’ when loading ‘CellTrek’”\n",
      "Warning message:\n",
      "“replacing previous import ‘data.table::transpose’ by ‘purrr::transpose’ when loading ‘CellTrek’”\n",
      "Warning message:\n",
      "“replacing previous import ‘igraph::simplify’ by ‘purrr::simplify’ when loading ‘CellTrek’”\n",
      "Warning message:\n",
      "“replacing previous import ‘igraph::compose’ by ‘purrr::compose’ when loading ‘CellTrek’”\n",
      "Warning message:\n",
      "“replacing previous import ‘purrr::partial’ by ‘randomForestSRC::partial’ when loading ‘CellTrek’”\n",
      "Warning message:\n",
      "“replacing previous import ‘data.table::melt’ by ‘reshape2::melt’ when loading ‘CellTrek’”\n",
      "Warning message:\n",
      "“replacing previous import ‘data.table::dcast’ by ‘reshape2::dcast’ when loading ‘CellTrek’”\n",
      "Warning message:\n",
      "“replacing previous import ‘purrr::discard’ by ‘scales::discard’ when loading ‘CellTrek’”\n",
      "Warning message:\n",
      "“replacing previous import ‘igraph::as_data_frame’ by ‘tibble::as_data_frame’ when loading ‘CellTrek’”\n",
      "Warning message:\n",
      "“replacing previous import ‘igraph::crossing’ by ‘tidyr::crossing’ when loading ‘CellTrek’”\n",
      "Warning message:\n",
      "“replacing previous import ‘magrittr::extract’ by ‘tidyr::extract’ when loading ‘CellTrek’”\n",
      "\n",
      "Attaching package: ‘dplyr’\n",
      "\n",
      "\n",
      "The following objects are masked from ‘package:stats’:\n",
      "\n",
      "    filter, lag\n",
      "\n",
      "\n",
      "The following objects are masked from ‘package:base’:\n",
      "\n",
      "    intersect, setdiff, setequal, union\n",
      "\n",
      "\n",
      "Attaching SeuratObject\n",
      "\n",
      "Loading required package: viridisLite\n",
      "\n",
      "Loading required package: igraph\n",
      "\n",
      "\n",
      "Attaching package: ‘igraph’\n",
      "\n",
      "\n",
      "The following objects are masked from ‘package:dplyr’:\n",
      "\n",
      "    as_data_frame, groups, union\n",
      "\n",
      "\n",
      "The following objects are masked from ‘package:stats’:\n",
      "\n",
      "    decompose, spectrum\n",
      "\n",
      "\n",
      "The following object is masked from ‘package:base’:\n",
      "\n",
      "    union\n",
      "\n",
      "\n",
      "Loading required package: reticulate\n",
      "\n",
      "\n",
      "Attaching package: ‘future’\n",
      "\n",
      "\n",
      "The following objects are masked from ‘package:igraph’:\n",
      "\n",
      "    %->%, %<-%\n",
      "\n",
      "\n"
     ]
    },
    {
     "data": {
      "text/plain": [
       "[1] ‘4.1.3’"
      ]
     },
     "metadata": {},
     "output_type": "display_data"
    },
    {
     "data": {
      "text/plain": [
       "[1] ‘4.3.0’"
      ]
     },
     "metadata": {},
     "output_type": "display_data"
    },
    {
     "data": {
      "text/plain": [
       "[1] ‘1.6.3’"
      ]
     },
     "metadata": {},
     "output_type": "display_data"
    }
   ],
   "source": [
    "#remove.packages(c(\"Seurat\",\"SeuratObject\",\"Matrix\"))\n",
    "#install.packages(\"remotes\")\n",
    "#remotes::install_version(\"Matrix\", version = \"1.6.3\")   \n",
    "#remotes::install_version(\"SeuratObject\", version = \"4.1.3\", dependencies = FALSE)\n",
    "#remotes::install_version(\"Seurat\", version = \"4.3.0\") #BUT MAKE SURE YOU SELECT NONE WHEN IT ASK WHICH PACKAGES TP UPDATE/UPGRADE\n",
    "\n",
    "library(CellTrek)\n",
    "library(dplyr)\n",
    "library(Seurat)\n",
    "#library(SeuratDisk)\n",
    "library(viridis)\n",
    "library(ConsensusClusterPlus)\n",
    "library(RColorBrewer)\n",
    "library(ggplot2)\n",
    "library(ggpubr)\n",
    "library(pheatmap)\n",
    "library(CellChat)\n",
    "library(patchwork)\n",
    "library(sceasy)\n",
    "library(future)\n",
    "library(future.apply)\n",
    "\n",
    "packageVersion(\"SeuratObject\")  # 4.1.3\n",
    "packageVersion(\"Seurat\")        # 4.3.0\n",
    "packageVersion(\"Matrix\")  # 1.6.3"
   ]
  },
  {
   "cell_type": "code",
   "execution_count": null,
   "id": "c5fba913",
   "metadata": {
    "vscode": {
     "languageId": "r"
    }
   },
   "outputs": [],
   "source": [
    "#to clear up session at any point\n",
    "list=ls()\n",
    "list\n",
    "rm(list); gc()\n",
    "#gc()\n",
    "#graphics.off()\n",
    "#closeAllConnections()\n"
   ]
  },
  {
   "cell_type": "markdown",
   "id": "1d21950d",
   "metadata": {},
   "source": [
    "## 2. Load input data\n",
    "Loads the **Visium spatial transcriptomics** object and the **scRNA-seq** Seurat object. In this script:\n",
    "- `ovVis` = Visium data (early-gen, spot-based)\n",
    "- `ovSc` = single-cell RNA-seq data (annotated with cell types).\n",
    "\n",
    "Each of the datasets have already been filtered and subset to contain only spots/cells or genes that pass the filters. These subset versions of the datasets are loaded and used here but we use the raw counts (for the cells/spots remaining) for the workflow as required by CellTrek."
   ]
  },
  {
   "cell_type": "code",
   "execution_count": null,
   "id": "f566f868",
   "metadata": {
    "vscode": {
     "languageId": "r"
    }
   },
   "outputs": [],
   "source": [
    "#cluster\n",
    "cell2loc = '/mnt/scratchc/fmlab/lythgo02/OV_visium/emily/cell2location/'\n",
    "\n",
    "\n",
    "ovVis <- readRDS(paste0(cell2loc, \"mito_norm_emily.rds\"))\n",
    "ovSc <- readRDS(paste0(cell2loc, \"upk10_sc_400_newlyAnnot.rds\"))\n"
   ]
  },
  {
   "cell_type": "code",
   "execution_count": null,
   "id": "f13db27f",
   "metadata": {
    "vscode": {
     "languageId": "r"
    }
   },
   "outputs": [],
   "source": [
    "\n",
    "#local\n",
    "cell2loc = '/run/user/1804238067/gvfs/sftp:host=clust1-sub-1,user=lythgo02/mnt/scratchc/fmlab/lythgo02/OV_visium/emily/cell2location/'\n",
    "ov_visium = '/run/user/1804238067/gvfs/sftp:host=clust1-sub-1,user=lythgo02/mnt/nas-data/fmlab/group_folders/lythgo02/OV_visium/emily/cell2location/'\n",
    "\n",
    "#### Load Visium Data\n",
    "ovVis <- readRDS(paste0(ov_visium, \"/mito_norm_emily.rds\"))  #version of Ollie's filtered against mine\n",
    "#ovVis <- readRDS(\"/home/lythgo02/Documents/OV_visium/final_adata_vis_clean_seurat.rds\")\n",
    "\n",
    "#### Load scRNA-seq\n",
    "ovSc <- readRDS(\"/home/lythgo02/Documents/OV_visium/upk10_sc_400_newlyAnnot.rds\")\n",
    "\n"
   ]
  },
  {
   "cell_type": "markdown",
   "id": "0c245af1",
   "metadata": {},
   "source": [
    "If using my rds list the cell below is a method to convert the images slot to an actual SeuratImage"
   ]
  },
  {
   "cell_type": "code",
   "execution_count": null,
   "id": "78991b91",
   "metadata": {
    "vscode": {
     "languageId": "r"
    }
   },
   "outputs": [],
   "source": [
    "ovVis <- readRDS(\"/home/lythgo02/Documents/OV_visium/split_by_sample/rds/seurat_list_all.rds\")\n",
    "\n",
    "if (!methods::isClass(\"SeuratImage\")) {\n",
    "  methods::setClass(\n",
    "    \"SeuratImage\",\n",
    "    slots = c(\n",
    "      image         = \"ANY\",\n",
    "      scale.factors = \"list\",\n",
    "      coordinates   = \"data.frame\",\n",
    "      assay         = \"character\",\n",
    "      key           = \"character\"\n",
    "    )\n",
    "  )\n",
    "}\n",
    "\n",
    "for (smp in names(ovVis)) {\n",
    "  obj      <- ovVis[[smp]]\n",
    "  coords   <- obj@misc$spatial_coords[[smp]]\n",
    "  img_info <- obj@misc$spatial_images[[smp]]\n",
    "\n",
    "  # coords -> Seurat style, aligned to cells\n",
    "  colnames(coords)[1:2] <- c(\"imagecol\",\"imagerow\")\n",
    "  coords <- coords[match(colnames(obj), rownames(coords)), , drop = FALSE]\n",
    "  rownames(coords) <- colnames(obj)\n",
    "\n",
    "  # build minimal SeuratImage S4 (class defined earlier)\n",
    "  simg <- methods::new(\"SeuratImage\")\n",
    "  simg@image         <- as.array(img_info$image)      # or img_info$images$hires\n",
    "  simg@scale.factors <- img_info$scalef               # or img_info$scale.factors\n",
    "  simg@coordinates   <- coords\n",
    "  simg@assay         <- DefaultAssay(obj)\n",
    "  simg@key           <- paste0(smp, \"_\")\n",
    "\n",
    "  # >>> attach directly to the images slot (avoid [[<-)\n",
    "  if (is.null(obj@images)) obj@images <- list()\n",
    "  obj@images[[smp]] <- simg\n",
    "\n",
    "  ovVis[[smp]] <- obj\n",
    "}\n",
    "\n",
    "# sanity\n",
    "lapply(ovVis, function(o) class(o@images[[1]]))  # should print \"SeuratImage\"\n",
    "# 1) Make sure each spatial object uses RNA as its default assay\n",
    "\n",
    "for (i in names(ovVis)){\n",
    "    obj <- ovVis[[i]]\n",
    "    obj[[\"RNA\"]] <- obj[[\"originalexp\"]]\n",
    "    DefaultAssay(obj) <- \"RNA\"\n",
    "    obj[[\"originalexp\"]] <- NULL\n",
    "    ovVis[[i]] <- obj\n",
    "}\n",
    "ovVis <- lapply(ovVis, function(o) { DefaultAssay(o) <- \"RNA\"; o })\n",
    "\n",
    "# 2) If you created SeuratImage manually, ensure its assay slot is \"RNA\"\n",
    "for (smp in names(ovVis)) {\n",
    "  im <- ovVis[[smp]]@images[[1]]\n",
    "  if (!is.null(im)) im@assay <- \"RNA\"\n",
    "  ovVis[[smp]]@images[[1]] <- im\n",
    "}\n"
   ]
  },
  {
   "cell_type": "markdown",
   "id": "e1ee0db9",
   "metadata": {},
   "source": [
    "Need to rename assays, note when converted to seurat object earlier (code in markdown cell run in r_spatial env) the \"raw_counts\" and \"X\" is stored under \"originalexp\" in the seurat objects \n",
    "\n",
    "For spatial we did:   \n",
    "\n",
    "seurat_obj <- as.Seurat(\n",
    "            adata,              # your SingleCellExperiment object\n",
    "            counts = \"raw_counts\", # assay to use as raw counts\n",
    "            data = \"X\" # optional: assay to use as normalized data\n",
    ")\n",
    "3. Extract sample per spot\n",
    "sample <- colData(adata)$sample\n",
    "seurat_obj@meta.data$sample <- sample\n",
    "\n",
    "4. Extract coordinates and image info\n",
    "coords <- reducedDim(adata, \"spatial\")\n",
    "coords_list <- split(as.data.frame(coords), sample)\n",
    "image_list <- metadata(adata)$spatial\n",
    "\n",
    "\n",
    "5. Assign images and coordinates to Seurat in a CellTrek-compatible way\n",
    "for (sample_name in names(coords_list)) {\n",
    "  sp_coords <- coords_list[[sample_name]]\n",
    "  img_info <- image_list[[sample_name]]\n",
    "\n",
    "  seurat_obj@images[[sample_name]] <- list(\n",
    "    image = as.array(img_info$image),\n",
    "    scale.factors = img_info$scalef,\n",
    "    coordinates = sp_coords\n",
    "  )\n",
    "}\n",
    "1. Store original coordinates for reference\n",
    "seurat_obj@misc$spatial_coords <- coords_list\n",
    "seurat_obj@misc$spatial_images <- image_list\n",
    "\n",
    "For single cell we did:  \n",
    "\n",
    "seurat_obj <- as.Seurat(\n",
    "       singlecell,              \n",
    "       your SingleCellExperiment object#  counts = \"counts\", # assay to use as raw counts\n",
    "       data = \"log_counts\" # optional: assay to use as normalized data\n",
    ")\n",
    "\n",
    "\n",
    "so:  \n",
    "\n",
    "ovVis[[\"originalexp\"]]$counts # = raw_counts \n",
    "ovVis[[\"originalexp\"]]$data #= X\n",
    "\n",
    "ovSc[[\"originalexp\"]]$counts # = counts \n",
    "ovSc[[\"originalexp\"]]$data #= log_counts\n",
    "\n",
    "But mine lacks the imaging info stored in correct format so filtering Ollie's against mine below"
   ]
  },
  {
   "cell_type": "markdown",
   "id": "01f122c9",
   "metadata": {},
   "source": [
    "The following silenced chunks are for filtering Ollie's mito_nrom.rds by subsetting to match the colnames (spot IDs) and rownames (genes) present in my rds\n",
    " - can't convert the adata to rds in the correct format so taking format from ollie's with processing from mine \n",
    " - saved the end product of subsetting as mito_nrom_emily.rds and that is now loaded at the beginning "
   ]
  },
  {
   "cell_type": "code",
   "execution_count": null,
   "id": "c7b70a7c",
   "metadata": {
    "vscode": {
     "languageId": "r"
    }
   },
   "outputs": [],
   "source": [
    "#ovVis <- readRDS(paste0(ov_visium, \"/mito_norm_emily.rds\"))\n",
    "# 1) Split emily object by sample ID (assuming \"orig.ident\" marks samples)\n",
    "# adjust 'split.by' if your sample column is named differently\n",
    "#emily_list <- SplitObject(ovVis_emily, split.by = \"sample\")\n",
    "#cells_ollie <- lapply(ovVis_ollie, colnames)\n",
    "\n",
    "# Get barcodes from each Seurat object in em_list\n",
    "#cells_emily <- lapply(emily_list, colnames)\n",
    "\n",
    "#head(cells_emily[[1]])\n",
    "#head(cells_ollie[[1]])\n",
    "#need to append sample name to barcodes in Ollie spatial data \n",
    "\n",
    "# (Optional) make a backup first\n",
    "#ovVis_ollie_orig <- ovVis_ollie\n",
    "\n"
   ]
  },
  {
   "cell_type": "markdown",
   "id": "f254d1ee",
   "metadata": {},
   "source": [
    "Need to append sample name to the colnames/spot barcodes (id) in Ollie's rds to match the formatting of mine"
   ]
  },
  {
   "cell_type": "code",
   "execution_count": null,
   "id": "156cde19",
   "metadata": {
    "vscode": {
     "languageId": "r"
    }
   },
   "outputs": [],
   "source": [
    "#for (i in names(ovVis_ollie)){\n",
    "#    obj <- ovVis_ollie[[i]]  #overwrite names\n",
    "#    colnames(obj) <- paste0(i, \"_\", colnames(obj))\n",
    "#    ovVis_ollie[[i]] <- obj #save back to list\n",
    "#}\n",
    "# Check one sample to confirm\n",
    "#head(colnames(ovVis_ollie[[\"OV_1\"]]))\n",
    "\n",
    "# 2) Match sample names between ollie list and split emily\n",
    "#common_samples <- intersect(names(ovVis_ollie), names(emily_list))\n",
    "\n",
    "#common_samples\n"
   ]
  },
  {
   "cell_type": "markdown",
   "id": "36471258",
   "metadata": {},
   "source": [
    "Now filter Ollie's spatial data by the list of spot id and genes present in my sample \n",
    " - to ensure the filtering applied is consisted accross workflows worked on by me\n",
    " - spots are filtered to match exactly\n",
    " - genes are filtered to approximately match, exact numbers may differ due to naming conventions but assuming largely correct "
   ]
  },
  {
   "cell_type": "code",
   "execution_count": null,
   "id": "d83db049",
   "metadata": {
    "vscode": {
     "languageId": "r"
    }
   },
   "outputs": [],
   "source": [
    "#ovVis_ollie_filtered <- lapply(common_samples, function(i) {\n",
    "#  obj <- DietSeurat(ovVis_ollie[[i]], graphs = TRUE) # remove the NN graphs ollie previously generated as they can disrupt subsetting\n",
    "#  # --- cells ---\n",
    "#  emily_barcodes <- colnames(emily_list[[i]])  #get list of spot ids from my rds (which has filtered out low quality spots)\n",
    "#  cells_keep <- intersect(colnames(obj), emily_barcodes) #keep corresponding cells in Ollie's object \n",
    "#  obj <- subset(obj, cells = cells_keep)\n",
    "#  # --- genes ---\n",
    "#  emily_genes <- rownames(emily_list[[i]])  #get gene names remaining after filtering \n",
    "#  genes_keep <- intersect(rownames(obj), emily_genes)\n",
    "  obj <- subset(obj, features = genes_keep)\n",
    "#})\n",
    "\n",
    "#names(ovVis_ollie_filtered) <- common_samples\n",
    "\n",
    "#sapply(ovVis_ollie_filtered, ncol)\n",
    "#sapply(emily_list, ncol)\n",
    "#sapply(ovVis_ollie_filtered, nrow)\n",
    "#sapply(emily_list, nrow)\n",
    "\n",
    "#saveRDS(ovVis_ollie_filtered, paste0(ov_visium, \"/mito_norm_emily.rds\")\n"
   ]
  },
  {
   "cell_type": "code",
   "execution_count": 6,
   "id": "77d0ecb1",
   "metadata": {
    "vscode": {
     "languageId": "r"
    }
   },
   "outputs": [
    {
     "name": "stderr",
     "output_type": "stream",
     "text": [
      "Warning message:\n",
      "“Cannot add objects with duplicate keys (offending key: originalexp_), setting key to 'rna_'”\n"
     ]
    }
   ],
   "source": [
    "# Copy originalexp → RNA and set RNA as default\n",
    "ovSc[[\"RNA\"]] <- ovSc[[\"originalexp\"]] #copy\n",
    "DefaultAssay(ovSc) <- \"RNA\" #set to default\n",
    "ovSc[[\"originalexp\"]] <- NULL  # Remove the old assay\n",
    "\n",
    "#not needed unless using my rds\n",
    "#for (i in names(ovVis)){\n",
    "#    obj <- ovVis[[i]]\n",
    "#    obj[[\"RNA\"]] <- obj[[\"originalexp\"]]\n",
    "#    DefaultAssay(obj) <- \"RNA\"\n",
    "#    obj[[\"originalexp\"]] <- NULL\n",
    "#    ovVis[[i]] <- obj\n",
    "#}\n",
    "\n"
   ]
  },
  {
   "cell_type": "markdown",
   "id": "d76cd8ca",
   "metadata": {},
   "source": [
    "Note first had to convert the outputs from cell2location workflow to rds objects:\n",
    " - activate r environment \n",
    "   - mamba activate r_spatial\n",
    "   - open R\n",
    "   - \n",
    "library(zellkonverter)\n",
    "adata <- readH5AD(\"/run/user/1804238067/gvfs/sftp:host=clust1-sub-1,user=lythgo02/mnt/scratchc/fmlab/lythgo02/OV_visium/emily/cell2location/final_adata_vis_clean.h5ad\")\n",
    "# Convert SCE to Seurat\n",
    "seurat_obj <- as.Seurat(\n",
    "  adata,              # your Spatial/singleCellExperiment object\n",
    "  counts = \"raw_counts\", # assay to use as raw counts\n",
    "  data = \"X\" # make sure to use X as this contains filtered data \n",
    ")\n",
    "saveRDS(adata, file=\"/run/user/1804238067/gvfs/sftp:host=clust1-sub-1,user=lythgo02/mnt/scratchc/fmlab/lythgo02/OV_visium/emily/cell2location/final_adata_vis_clean.rds\")\n",
    "\n",
    "#same with single cell data\n",
    "#write to local directory if it doesn't allow you to write to cluster (h5ad files can be tricky)"
   ]
  },
  {
   "cell_type": "code",
   "execution_count": 7,
   "id": "0ee7ec3b",
   "metadata": {
    "vscode": {
     "languageId": "r"
    }
   },
   "outputs": [
    {
     "data": {
      "text/html": [
       "<style>\n",
       ".list-inline {list-style: none; margin:0; padding: 0}\n",
       ".list-inline>li {display: inline-block}\n",
       ".list-inline>li:not(:last-child)::after {content: \"\\00b7\"; padding: 0 .5ex}\n",
       "</style>\n",
       "<ol class=list-inline><li>'orig.ident'</li><li>'nCount_originalexp'</li><li>'nFeature_originalexp'</li><li>'nCount_RNA'</li><li>'nFeature_RNA'</li><li>'percentMt'</li><li>'nCount_SCT'</li><li>'nFeature_SCT'</li><li>'SCT_snn_res.1'</li><li>'seurat_clusters'</li><li>'pANN_0.25_0.19_161'</li><li>'DF.classifications_0.25_0.19_161'</li><li>'doublet_classification'</li><li>'CellAssign'</li><li>'Treatment'</li><li>'Cell_Type'</li><li>'newAnnot'</li><li>'newAnnot_1'</li><li>'inferCNV_Score'</li><li>'inferCNV_Class'</li><li>'Final_Annotation'</li><li>'CopyKat'</li><li>'newAnnot_2'</li><li>'pANN_0.25_0.05_197'</li><li>'DF.classifications_0.25_0.05_197'</li><li>'pANN_0.25_0.19_227'</li><li>'DF.classifications_0.25_0.19_227'</li><li>'pANN_0.25_0.06_117'</li><li>'DF.classifications_0.25_0.06_117'</li><li>'pANN_0.25_0.28_314'</li><li>'DF.classifications_0.25_0.28_314'</li><li>'SCT_snn_res.0.5'</li><li>'ident'</li><li>'updated_annotation'</li><li>'X_indices'</li><li>'X_scvi_batch'</li><li>'X_scvi_labels'</li></ol>\n"
      ],
      "text/latex": [
       "\\begin{enumerate*}\n",
       "\\item 'orig.ident'\n",
       "\\item 'nCount\\_originalexp'\n",
       "\\item 'nFeature\\_originalexp'\n",
       "\\item 'nCount\\_RNA'\n",
       "\\item 'nFeature\\_RNA'\n",
       "\\item 'percentMt'\n",
       "\\item 'nCount\\_SCT'\n",
       "\\item 'nFeature\\_SCT'\n",
       "\\item 'SCT\\_snn\\_res.1'\n",
       "\\item 'seurat\\_clusters'\n",
       "\\item 'pANN\\_0.25\\_0.19\\_161'\n",
       "\\item 'DF.classifications\\_0.25\\_0.19\\_161'\n",
       "\\item 'doublet\\_classification'\n",
       "\\item 'CellAssign'\n",
       "\\item 'Treatment'\n",
       "\\item 'Cell\\_Type'\n",
       "\\item 'newAnnot'\n",
       "\\item 'newAnnot\\_1'\n",
       "\\item 'inferCNV\\_Score'\n",
       "\\item 'inferCNV\\_Class'\n",
       "\\item 'Final\\_Annotation'\n",
       "\\item 'CopyKat'\n",
       "\\item 'newAnnot\\_2'\n",
       "\\item 'pANN\\_0.25\\_0.05\\_197'\n",
       "\\item 'DF.classifications\\_0.25\\_0.05\\_197'\n",
       "\\item 'pANN\\_0.25\\_0.19\\_227'\n",
       "\\item 'DF.classifications\\_0.25\\_0.19\\_227'\n",
       "\\item 'pANN\\_0.25\\_0.06\\_117'\n",
       "\\item 'DF.classifications\\_0.25\\_0.06\\_117'\n",
       "\\item 'pANN\\_0.25\\_0.28\\_314'\n",
       "\\item 'DF.classifications\\_0.25\\_0.28\\_314'\n",
       "\\item 'SCT\\_snn\\_res.0.5'\n",
       "\\item 'ident'\n",
       "\\item 'updated\\_annotation'\n",
       "\\item 'X\\_indices'\n",
       "\\item 'X\\_scvi\\_batch'\n",
       "\\item 'X\\_scvi\\_labels'\n",
       "\\end{enumerate*}\n"
      ],
      "text/markdown": [
       "1. 'orig.ident'\n",
       "2. 'nCount_originalexp'\n",
       "3. 'nFeature_originalexp'\n",
       "4. 'nCount_RNA'\n",
       "5. 'nFeature_RNA'\n",
       "6. 'percentMt'\n",
       "7. 'nCount_SCT'\n",
       "8. 'nFeature_SCT'\n",
       "9. 'SCT_snn_res.1'\n",
       "10. 'seurat_clusters'\n",
       "11. 'pANN_0.25_0.19_161'\n",
       "12. 'DF.classifications_0.25_0.19_161'\n",
       "13. 'doublet_classification'\n",
       "14. 'CellAssign'\n",
       "15. 'Treatment'\n",
       "16. 'Cell_Type'\n",
       "17. 'newAnnot'\n",
       "18. 'newAnnot_1'\n",
       "19. 'inferCNV_Score'\n",
       "20. 'inferCNV_Class'\n",
       "21. 'Final_Annotation'\n",
       "22. 'CopyKat'\n",
       "23. 'newAnnot_2'\n",
       "24. 'pANN_0.25_0.05_197'\n",
       "25. 'DF.classifications_0.25_0.05_197'\n",
       "26. 'pANN_0.25_0.19_227'\n",
       "27. 'DF.classifications_0.25_0.19_227'\n",
       "28. 'pANN_0.25_0.06_117'\n",
       "29. 'DF.classifications_0.25_0.06_117'\n",
       "30. 'pANN_0.25_0.28_314'\n",
       "31. 'DF.classifications_0.25_0.28_314'\n",
       "32. 'SCT_snn_res.0.5'\n",
       "33. 'ident'\n",
       "34. 'updated_annotation'\n",
       "35. 'X_indices'\n",
       "36. 'X_scvi_batch'\n",
       "37. 'X_scvi_labels'\n",
       "\n",
       "\n"
      ],
      "text/plain": [
       " [1] \"orig.ident\"                       \"nCount_originalexp\"              \n",
       " [3] \"nFeature_originalexp\"             \"nCount_RNA\"                      \n",
       " [5] \"nFeature_RNA\"                     \"percentMt\"                       \n",
       " [7] \"nCount_SCT\"                       \"nFeature_SCT\"                    \n",
       " [9] \"SCT_snn_res.1\"                    \"seurat_clusters\"                 \n",
       "[11] \"pANN_0.25_0.19_161\"               \"DF.classifications_0.25_0.19_161\"\n",
       "[13] \"doublet_classification\"           \"CellAssign\"                      \n",
       "[15] \"Treatment\"                        \"Cell_Type\"                       \n",
       "[17] \"newAnnot\"                         \"newAnnot_1\"                      \n",
       "[19] \"inferCNV_Score\"                   \"inferCNV_Class\"                  \n",
       "[21] \"Final_Annotation\"                 \"CopyKat\"                         \n",
       "[23] \"newAnnot_2\"                       \"pANN_0.25_0.05_197\"              \n",
       "[25] \"DF.classifications_0.25_0.05_197\" \"pANN_0.25_0.19_227\"              \n",
       "[27] \"DF.classifications_0.25_0.19_227\" \"pANN_0.25_0.06_117\"              \n",
       "[29] \"DF.classifications_0.25_0.06_117\" \"pANN_0.25_0.28_314\"              \n",
       "[31] \"DF.classifications_0.25_0.28_314\" \"SCT_snn_res.0.5\"                 \n",
       "[33] \"ident\"                            \"updated_annotation\"              \n",
       "[35] \"X_indices\"                        \"X_scvi_batch\"                    \n",
       "[37] \"X_scvi_labels\"                   "
      ]
     },
     "metadata": {},
     "output_type": "display_data"
    },
    {
     "data": {
      "text/html": [
       "<style>\n",
       ".list-inline {list-style: none; margin:0; padding: 0}\n",
       ".list-inline>li {display: inline-block}\n",
       ".list-inline>li:not(:last-child)::after {content: \"\\00b7\"; padding: 0 .5ex}\n",
       "</style>\n",
       "<ol class=list-inline><li>OV_16</li><li>OV_17</li><li>OV_18</li><li>OV_19</li><li>OV_20</li></ol>\n",
       "\n",
       "<details>\n",
       "\t<summary style=display:list-item;cursor:pointer>\n",
       "\t\t<strong>Levels</strong>:\n",
       "\t</summary>\n",
       "\t<style>\n",
       "\t.list-inline {list-style: none; margin:0; padding: 0}\n",
       "\t.list-inline>li {display: inline-block}\n",
       "\t.list-inline>li:not(:last-child)::after {content: \"\\00b7\"; padding: 0 .5ex}\n",
       "\t</style>\n",
       "\t<ol class=list-inline><li>'OV_16'</li><li>'OV_17'</li><li>'OV_18'</li><li>'OV_19'</li><li>'OV_20'</li></ol>\n",
       "</details>"
      ],
      "text/latex": [
       "\\begin{enumerate*}\n",
       "\\item OV\\_16\n",
       "\\item OV\\_17\n",
       "\\item OV\\_18\n",
       "\\item OV\\_19\n",
       "\\item OV\\_20\n",
       "\\end{enumerate*}\n",
       "\n",
       "\\emph{Levels}: \\begin{enumerate*}\n",
       "\\item 'OV\\_16'\n",
       "\\item 'OV\\_17'\n",
       "\\item 'OV\\_18'\n",
       "\\item 'OV\\_19'\n",
       "\\item 'OV\\_20'\n",
       "\\end{enumerate*}\n"
      ],
      "text/markdown": [
       "1. OV_16\n",
       "2. OV_17\n",
       "3. OV_18\n",
       "4. OV_19\n",
       "5. OV_20\n",
       "\n",
       "\n",
       "\n",
       "**Levels**: 1. 'OV_16'\n",
       "2. 'OV_17'\n",
       "3. 'OV_18'\n",
       "4. 'OV_19'\n",
       "5. 'OV_20'\n",
       "\n",
       "\n"
      ],
      "text/plain": [
       "[1] OV_16 OV_17 OV_18 OV_19 OV_20\n",
       "Levels: OV_16 OV_17 OV_18 OV_19 OV_20"
      ]
     },
     "metadata": {},
     "output_type": "display_data"
    },
    {
     "data": {
      "text/html": [
       "'RNA'"
      ],
      "text/latex": [
       "'RNA'"
      ],
      "text/markdown": [
       "'RNA'"
      ],
      "text/plain": [
       "[1] \"RNA\""
      ]
     },
     "metadata": {},
     "output_type": "display_data"
    },
    {
     "data": {
      "text/html": [
       "<style>\n",
       ".list-inline {list-style: none; margin:0; padding: 0}\n",
       ".list-inline>li {display: inline-block}\n",
       ".list-inline>li:not(:last-child)::after {content: \"\\00b7\"; padding: 0 .5ex}\n",
       "</style>\n",
       "<ol class=list-inline><li>Tumour 1</li><li>Macrophage</li><li>NK_cell</li><li>Treg</li><li>Tumour 2</li><li>Plasma Cells</li><li>CD4</li><li>CD8</li><li>B naive activated</li><li>Mesenchymal</li><li>B naive resting</li><li>Monocytes</li><li>Dendritic Cells</li><li>Neutrophils</li><li>Th1</li><li>Th17</li><li>Endothelial</li><li>Tumour 3</li><li>Cycling Plasma Cells</li></ol>\n",
       "\n",
       "<details>\n",
       "\t<summary style=display:list-item;cursor:pointer>\n",
       "\t\t<strong>Levels</strong>:\n",
       "\t</summary>\n",
       "\t<style>\n",
       "\t.list-inline {list-style: none; margin:0; padding: 0}\n",
       "\t.list-inline>li {display: inline-block}\n",
       "\t.list-inline>li:not(:last-child)::after {content: \"\\00b7\"; padding: 0 .5ex}\n",
       "\t</style>\n",
       "\t<ol class=list-inline><li>'B naive activated'</li><li>'B naive resting'</li><li>'CD4'</li><li>'CD8'</li><li>'Cycling Plasma Cells'</li><li>'Dendritic Cells'</li><li>'Endothelial'</li><li>'Macrophage'</li><li>'Mesenchymal'</li><li>'Monocytes'</li><li>'NK_cell'</li><li>'Neutrophils'</li><li>'Plasma Cells'</li><li>'Th1'</li><li>'Th17'</li><li>'Treg'</li><li>'Tumour 1'</li><li>'Tumour 2'</li><li>'Tumour 3'</li></ol>\n",
       "</details>"
      ],
      "text/latex": [
       "\\begin{enumerate*}\n",
       "\\item Tumour 1\n",
       "\\item Macrophage\n",
       "\\item NK\\_cell\n",
       "\\item Treg\n",
       "\\item Tumour 2\n",
       "\\item Plasma Cells\n",
       "\\item CD4\n",
       "\\item CD8\n",
       "\\item B naive activated\n",
       "\\item Mesenchymal\n",
       "\\item B naive resting\n",
       "\\item Monocytes\n",
       "\\item Dendritic Cells\n",
       "\\item Neutrophils\n",
       "\\item Th1\n",
       "\\item Th17\n",
       "\\item Endothelial\n",
       "\\item Tumour 3\n",
       "\\item Cycling Plasma Cells\n",
       "\\end{enumerate*}\n",
       "\n",
       "\\emph{Levels}: \\begin{enumerate*}\n",
       "\\item 'B naive activated'\n",
       "\\item 'B naive resting'\n",
       "\\item 'CD4'\n",
       "\\item 'CD8'\n",
       "\\item 'Cycling Plasma Cells'\n",
       "\\item 'Dendritic Cells'\n",
       "\\item 'Endothelial'\n",
       "\\item 'Macrophage'\n",
       "\\item 'Mesenchymal'\n",
       "\\item 'Monocytes'\n",
       "\\item 'NK\\_cell'\n",
       "\\item 'Neutrophils'\n",
       "\\item 'Plasma Cells'\n",
       "\\item 'Th1'\n",
       "\\item 'Th17'\n",
       "\\item 'Treg'\n",
       "\\item 'Tumour 1'\n",
       "\\item 'Tumour 2'\n",
       "\\item 'Tumour 3'\n",
       "\\end{enumerate*}\n"
      ],
      "text/markdown": [
       "1. Tumour 1\n",
       "2. Macrophage\n",
       "3. NK_cell\n",
       "4. Treg\n",
       "5. Tumour 2\n",
       "6. Plasma Cells\n",
       "7. CD4\n",
       "8. CD8\n",
       "9. B naive activated\n",
       "10. Mesenchymal\n",
       "11. B naive resting\n",
       "12. Monocytes\n",
       "13. Dendritic Cells\n",
       "14. Neutrophils\n",
       "15. Th1\n",
       "16. Th17\n",
       "17. Endothelial\n",
       "18. Tumour 3\n",
       "19. Cycling Plasma Cells\n",
       "\n",
       "\n",
       "\n",
       "**Levels**: 1. 'B naive activated'\n",
       "2. 'B naive resting'\n",
       "3. 'CD4'\n",
       "4. 'CD8'\n",
       "5. 'Cycling Plasma Cells'\n",
       "6. 'Dendritic Cells'\n",
       "7. 'Endothelial'\n",
       "8. 'Macrophage'\n",
       "9. 'Mesenchymal'\n",
       "10. 'Monocytes'\n",
       "11. 'NK_cell'\n",
       "12. 'Neutrophils'\n",
       "13. 'Plasma Cells'\n",
       "14. 'Th1'\n",
       "15. 'Th17'\n",
       "16. 'Treg'\n",
       "17. 'Tumour 1'\n",
       "18. 'Tumour 2'\n",
       "19. 'Tumour 3'\n",
       "\n",
       "\n"
      ],
      "text/plain": [
       " [1] Tumour 1             Macrophage           NK_cell             \n",
       " [4] Treg                 Tumour 2             Plasma Cells        \n",
       " [7] CD4                  CD8                  B naive activated   \n",
       "[10] Mesenchymal          B naive resting      Monocytes           \n",
       "[13] Dendritic Cells      Neutrophils          Th1                 \n",
       "[16] Th17                 Endothelial          Tumour 3            \n",
       "[19] Cycling Plasma Cells\n",
       "19 Levels: B naive activated B naive resting CD4 CD8 ... Tumour 3"
      ]
     },
     "metadata": {},
     "output_type": "display_data"
    }
   ],
   "source": [
    "#check if integrated\n",
    "\n",
    "colnames(ovSc@meta.data)\n",
    "\n",
    "#sample names for single cell \n",
    "unique(ovSc@meta.data$orig.ident)\n",
    "ovSc@active.assay \n",
    "\n",
    "unique(ovSc$updated_annotation)\n",
    "\n"
   ]
  },
  {
   "cell_type": "code",
   "execution_count": 5,
   "id": "55fddc86",
   "metadata": {
    "vscode": {
     "languageId": "r"
    }
   },
   "outputs": [
    {
     "data": {
      "text/html": [
       "<dl>\n",
       "\t<dt>$OV_1</dt>\n",
       "\t\t<dd><style>\n",
       ".list-inline {list-style: none; margin:0; padding: 0}\n",
       ".list-inline>li {display: inline-block}\n",
       ".list-inline>li:not(:last-child)::after {content: \"\\00b7\"; padding: 0 .5ex}\n",
       "</style>\n",
       "<ol class=list-inline><li>'assays'</li><li>'meta.data'</li><li>'active.assay'</li><li>'active.ident'</li><li>'graphs'</li><li>'neighbors'</li><li>'reductions'</li><li>'images'</li><li>'project.name'</li><li>'misc'</li><li>'version'</li><li>'commands'</li><li>'tools'</li></ol>\n",
       "</dd>\n",
       "\t<dt>$OV_2</dt>\n",
       "\t\t<dd><style>\n",
       ".list-inline {list-style: none; margin:0; padding: 0}\n",
       ".list-inline>li {display: inline-block}\n",
       ".list-inline>li:not(:last-child)::after {content: \"\\00b7\"; padding: 0 .5ex}\n",
       "</style>\n",
       "<ol class=list-inline><li>'assays'</li><li>'meta.data'</li><li>'active.assay'</li><li>'active.ident'</li><li>'graphs'</li><li>'neighbors'</li><li>'reductions'</li><li>'images'</li><li>'project.name'</li><li>'misc'</li><li>'version'</li><li>'commands'</li><li>'tools'</li></ol>\n",
       "</dd>\n",
       "\t<dt>$OV_3</dt>\n",
       "\t\t<dd><style>\n",
       ".list-inline {list-style: none; margin:0; padding: 0}\n",
       ".list-inline>li {display: inline-block}\n",
       ".list-inline>li:not(:last-child)::after {content: \"\\00b7\"; padding: 0 .5ex}\n",
       "</style>\n",
       "<ol class=list-inline><li>'assays'</li><li>'meta.data'</li><li>'active.assay'</li><li>'active.ident'</li><li>'graphs'</li><li>'neighbors'</li><li>'reductions'</li><li>'images'</li><li>'project.name'</li><li>'misc'</li><li>'version'</li><li>'commands'</li><li>'tools'</li></ol>\n",
       "</dd>\n",
       "\t<dt>$OV_4</dt>\n",
       "\t\t<dd><style>\n",
       ".list-inline {list-style: none; margin:0; padding: 0}\n",
       ".list-inline>li {display: inline-block}\n",
       ".list-inline>li:not(:last-child)::after {content: \"\\00b7\"; padding: 0 .5ex}\n",
       "</style>\n",
       "<ol class=list-inline><li>'assays'</li><li>'meta.data'</li><li>'active.assay'</li><li>'active.ident'</li><li>'graphs'</li><li>'neighbors'</li><li>'reductions'</li><li>'images'</li><li>'project.name'</li><li>'misc'</li><li>'version'</li><li>'commands'</li><li>'tools'</li></ol>\n",
       "</dd>\n",
       "\t<dt>$OV_5</dt>\n",
       "\t\t<dd><style>\n",
       ".list-inline {list-style: none; margin:0; padding: 0}\n",
       ".list-inline>li {display: inline-block}\n",
       ".list-inline>li:not(:last-child)::after {content: \"\\00b7\"; padding: 0 .5ex}\n",
       "</style>\n",
       "<ol class=list-inline><li>'assays'</li><li>'meta.data'</li><li>'active.assay'</li><li>'active.ident'</li><li>'graphs'</li><li>'neighbors'</li><li>'reductions'</li><li>'images'</li><li>'project.name'</li><li>'misc'</li><li>'version'</li><li>'commands'</li><li>'tools'</li></ol>\n",
       "</dd>\n",
       "\t<dt>$OV_6</dt>\n",
       "\t\t<dd><style>\n",
       ".list-inline {list-style: none; margin:0; padding: 0}\n",
       ".list-inline>li {display: inline-block}\n",
       ".list-inline>li:not(:last-child)::after {content: \"\\00b7\"; padding: 0 .5ex}\n",
       "</style>\n",
       "<ol class=list-inline><li>'assays'</li><li>'meta.data'</li><li>'active.assay'</li><li>'active.ident'</li><li>'graphs'</li><li>'neighbors'</li><li>'reductions'</li><li>'images'</li><li>'project.name'</li><li>'misc'</li><li>'version'</li><li>'commands'</li><li>'tools'</li></ol>\n",
       "</dd>\n",
       "</dl>\n"
      ],
      "text/latex": [
       "\\begin{description}\n",
       "\\item[\\$OV\\_1] \\begin{enumerate*}\n",
       "\\item 'assays'\n",
       "\\item 'meta.data'\n",
       "\\item 'active.assay'\n",
       "\\item 'active.ident'\n",
       "\\item 'graphs'\n",
       "\\item 'neighbors'\n",
       "\\item 'reductions'\n",
       "\\item 'images'\n",
       "\\item 'project.name'\n",
       "\\item 'misc'\n",
       "\\item 'version'\n",
       "\\item 'commands'\n",
       "\\item 'tools'\n",
       "\\end{enumerate*}\n",
       "\n",
       "\\item[\\$OV\\_2] \\begin{enumerate*}\n",
       "\\item 'assays'\n",
       "\\item 'meta.data'\n",
       "\\item 'active.assay'\n",
       "\\item 'active.ident'\n",
       "\\item 'graphs'\n",
       "\\item 'neighbors'\n",
       "\\item 'reductions'\n",
       "\\item 'images'\n",
       "\\item 'project.name'\n",
       "\\item 'misc'\n",
       "\\item 'version'\n",
       "\\item 'commands'\n",
       "\\item 'tools'\n",
       "\\end{enumerate*}\n",
       "\n",
       "\\item[\\$OV\\_3] \\begin{enumerate*}\n",
       "\\item 'assays'\n",
       "\\item 'meta.data'\n",
       "\\item 'active.assay'\n",
       "\\item 'active.ident'\n",
       "\\item 'graphs'\n",
       "\\item 'neighbors'\n",
       "\\item 'reductions'\n",
       "\\item 'images'\n",
       "\\item 'project.name'\n",
       "\\item 'misc'\n",
       "\\item 'version'\n",
       "\\item 'commands'\n",
       "\\item 'tools'\n",
       "\\end{enumerate*}\n",
       "\n",
       "\\item[\\$OV\\_4] \\begin{enumerate*}\n",
       "\\item 'assays'\n",
       "\\item 'meta.data'\n",
       "\\item 'active.assay'\n",
       "\\item 'active.ident'\n",
       "\\item 'graphs'\n",
       "\\item 'neighbors'\n",
       "\\item 'reductions'\n",
       "\\item 'images'\n",
       "\\item 'project.name'\n",
       "\\item 'misc'\n",
       "\\item 'version'\n",
       "\\item 'commands'\n",
       "\\item 'tools'\n",
       "\\end{enumerate*}\n",
       "\n",
       "\\item[\\$OV\\_5] \\begin{enumerate*}\n",
       "\\item 'assays'\n",
       "\\item 'meta.data'\n",
       "\\item 'active.assay'\n",
       "\\item 'active.ident'\n",
       "\\item 'graphs'\n",
       "\\item 'neighbors'\n",
       "\\item 'reductions'\n",
       "\\item 'images'\n",
       "\\item 'project.name'\n",
       "\\item 'misc'\n",
       "\\item 'version'\n",
       "\\item 'commands'\n",
       "\\item 'tools'\n",
       "\\end{enumerate*}\n",
       "\n",
       "\\item[\\$OV\\_6] \\begin{enumerate*}\n",
       "\\item 'assays'\n",
       "\\item 'meta.data'\n",
       "\\item 'active.assay'\n",
       "\\item 'active.ident'\n",
       "\\item 'graphs'\n",
       "\\item 'neighbors'\n",
       "\\item 'reductions'\n",
       "\\item 'images'\n",
       "\\item 'project.name'\n",
       "\\item 'misc'\n",
       "\\item 'version'\n",
       "\\item 'commands'\n",
       "\\item 'tools'\n",
       "\\end{enumerate*}\n",
       "\n",
       "\\end{description}\n"
      ],
      "text/markdown": [
       "$OV_1\n",
       ":   1. 'assays'\n",
       "2. 'meta.data'\n",
       "3. 'active.assay'\n",
       "4. 'active.ident'\n",
       "5. 'graphs'\n",
       "6. 'neighbors'\n",
       "7. 'reductions'\n",
       "8. 'images'\n",
       "9. 'project.name'\n",
       "10. 'misc'\n",
       "11. 'version'\n",
       "12. 'commands'\n",
       "13. 'tools'\n",
       "\n",
       "\n",
       "\n",
       "$OV_2\n",
       ":   1. 'assays'\n",
       "2. 'meta.data'\n",
       "3. 'active.assay'\n",
       "4. 'active.ident'\n",
       "5. 'graphs'\n",
       "6. 'neighbors'\n",
       "7. 'reductions'\n",
       "8. 'images'\n",
       "9. 'project.name'\n",
       "10. 'misc'\n",
       "11. 'version'\n",
       "12. 'commands'\n",
       "13. 'tools'\n",
       "\n",
       "\n",
       "\n",
       "$OV_3\n",
       ":   1. 'assays'\n",
       "2. 'meta.data'\n",
       "3. 'active.assay'\n",
       "4. 'active.ident'\n",
       "5. 'graphs'\n",
       "6. 'neighbors'\n",
       "7. 'reductions'\n",
       "8. 'images'\n",
       "9. 'project.name'\n",
       "10. 'misc'\n",
       "11. 'version'\n",
       "12. 'commands'\n",
       "13. 'tools'\n",
       "\n",
       "\n",
       "\n",
       "$OV_4\n",
       ":   1. 'assays'\n",
       "2. 'meta.data'\n",
       "3. 'active.assay'\n",
       "4. 'active.ident'\n",
       "5. 'graphs'\n",
       "6. 'neighbors'\n",
       "7. 'reductions'\n",
       "8. 'images'\n",
       "9. 'project.name'\n",
       "10. 'misc'\n",
       "11. 'version'\n",
       "12. 'commands'\n",
       "13. 'tools'\n",
       "\n",
       "\n",
       "\n",
       "$OV_5\n",
       ":   1. 'assays'\n",
       "2. 'meta.data'\n",
       "3. 'active.assay'\n",
       "4. 'active.ident'\n",
       "5. 'graphs'\n",
       "6. 'neighbors'\n",
       "7. 'reductions'\n",
       "8. 'images'\n",
       "9. 'project.name'\n",
       "10. 'misc'\n",
       "11. 'version'\n",
       "12. 'commands'\n",
       "13. 'tools'\n",
       "\n",
       "\n",
       "\n",
       "$OV_6\n",
       ":   1. 'assays'\n",
       "2. 'meta.data'\n",
       "3. 'active.assay'\n",
       "4. 'active.ident'\n",
       "5. 'graphs'\n",
       "6. 'neighbors'\n",
       "7. 'reductions'\n",
       "8. 'images'\n",
       "9. 'project.name'\n",
       "10. 'misc'\n",
       "11. 'version'\n",
       "12. 'commands'\n",
       "13. 'tools'\n",
       "\n",
       "\n",
       "\n",
       "\n",
       "\n"
      ],
      "text/plain": [
       "$OV_1\n",
       " [1] \"assays\"       \"meta.data\"    \"active.assay\" \"active.ident\" \"graphs\"      \n",
       " [6] \"neighbors\"    \"reductions\"   \"images\"       \"project.name\" \"misc\"        \n",
       "[11] \"version\"      \"commands\"     \"tools\"       \n",
       "\n",
       "$OV_2\n",
       " [1] \"assays\"       \"meta.data\"    \"active.assay\" \"active.ident\" \"graphs\"      \n",
       " [6] \"neighbors\"    \"reductions\"   \"images\"       \"project.name\" \"misc\"        \n",
       "[11] \"version\"      \"commands\"     \"tools\"       \n",
       "\n",
       "$OV_3\n",
       " [1] \"assays\"       \"meta.data\"    \"active.assay\" \"active.ident\" \"graphs\"      \n",
       " [6] \"neighbors\"    \"reductions\"   \"images\"       \"project.name\" \"misc\"        \n",
       "[11] \"version\"      \"commands\"     \"tools\"       \n",
       "\n",
       "$OV_4\n",
       " [1] \"assays\"       \"meta.data\"    \"active.assay\" \"active.ident\" \"graphs\"      \n",
       " [6] \"neighbors\"    \"reductions\"   \"images\"       \"project.name\" \"misc\"        \n",
       "[11] \"version\"      \"commands\"     \"tools\"       \n",
       "\n",
       "$OV_5\n",
       " [1] \"assays\"       \"meta.data\"    \"active.assay\" \"active.ident\" \"graphs\"      \n",
       " [6] \"neighbors\"    \"reductions\"   \"images\"       \"project.name\" \"misc\"        \n",
       "[11] \"version\"      \"commands\"     \"tools\"       \n",
       "\n",
       "$OV_6\n",
       " [1] \"assays\"       \"meta.data\"    \"active.assay\" \"active.ident\" \"graphs\"      \n",
       " [6] \"neighbors\"    \"reductions\"   \"images\"       \"project.name\" \"misc\"        \n",
       "[11] \"version\"      \"commands\"     \"tools\"       \n"
      ]
     },
     "metadata": {},
     "output_type": "display_data"
    }
   ],
   "source": [
    "#spatial info stored in images slot \n",
    "lapply(ovVis, slotNames)"
   ]
  },
  {
   "cell_type": "markdown",
   "id": "72c35eef",
   "metadata": {},
   "source": [
    "## 3. Integrate scRNA-seq samples\n",
    "Here multiple scRNA samples are merged and integrated using Seurat's anchor-based pipeline. This corrects for batch effects and aligns datasets into a shared space.\n",
    " - SelectIntegrationFeatures finds highly variable genes shared across all samples which are used as anchors for sample integration. \n",
    " - Anchors are pairs of cells across datasets that are similar in expression.\n",
    " - object.list = ovSc tells Seurat which samples to integrate.\n",
    " - anchor.features = features uses the previously selected genes."
   ]
  },
  {
   "cell_type": "code",
   "execution_count": 8,
   "id": "c81408b4",
   "metadata": {
    "vscode": {
     "languageId": "r"
    }
   },
   "outputs": [
    {
     "data": {
      "text/html": [
       "<style>\n",
       ".list-inline {list-style: none; margin:0; padding: 0}\n",
       ".list-inline>li {display: inline-block}\n",
       ".list-inline>li:not(:last-child)::after {content: \"\\00b7\"; padding: 0 .5ex}\n",
       "</style>\n",
       "<ol class=list-inline><li>'OV_16'</li><li>'OV_17'</li><li>'OV_18'</li><li>'OV_19'</li><li>'OV_20'</li></ol>\n"
      ],
      "text/latex": [
       "\\begin{enumerate*}\n",
       "\\item 'OV\\_16'\n",
       "\\item 'OV\\_17'\n",
       "\\item 'OV\\_18'\n",
       "\\item 'OV\\_19'\n",
       "\\item 'OV\\_20'\n",
       "\\end{enumerate*}\n"
      ],
      "text/markdown": [
       "1. 'OV_16'\n",
       "2. 'OV_17'\n",
       "3. 'OV_18'\n",
       "4. 'OV_19'\n",
       "5. 'OV_20'\n",
       "\n",
       "\n"
      ],
      "text/plain": [
       "[1] \"OV_16\" \"OV_17\" \"OV_18\" \"OV_19\" \"OV_20\""
      ]
     },
     "metadata": {},
     "output_type": "display_data"
    }
   ],
   "source": [
    "\n",
    "#already have single object with multiple samples \n",
    "# Split the Seurat object by sample and store in list of invdividual samples\n",
    "ovSc.list <- SplitObject(ovSc, split.by = \"orig.ident\")\n",
    "\n",
    "# Check the names\n",
    "names(ovSc.list)\n",
    "\n"
   ]
  },
  {
   "cell_type": "markdown",
   "id": "2740f822",
   "metadata": {},
   "source": [
    "Single cell is currently previous version 3/4 of suerat object which uses slots, need to convert to version 5 which uses layers \n",
    " - define function to convert to assay5"
   ]
  },
  {
   "cell_type": "code",
   "execution_count": 9,
   "id": "86029ff2",
   "metadata": {
    "vscode": {
     "languageId": "r"
    }
   },
   "outputs": [
    {
     "data": {
      "text/html": [
       "'Assay'"
      ],
      "text/latex": [
       "'Assay'"
      ],
      "text/markdown": [
       "'Assay'"
      ],
      "text/plain": [
       "[1] \"Assay\"\n",
       "attr(,\"package\")\n",
       "[1] \"SeuratObject\""
      ]
     },
     "metadata": {},
     "output_type": "display_data"
    },
    {
     "data": {
      "text/html": [
       "<style>\n",
       ".dl-inline {width: auto; margin:0; padding: 0}\n",
       ".dl-inline>dt, .dl-inline>dd {float: none; width: auto; display: inline-block}\n",
       ".dl-inline>dt::after {content: \":\\0020\"; padding-right: .5ex}\n",
       ".dl-inline>dt:not(:first-of-type) {padding-left: .5ex}\n",
       "</style><dl class=dl-inline><dt>OV_16</dt><dd>'Assay'</dd><dt>OV_17</dt><dd>'Assay'</dd><dt>OV_18</dt><dd>'Assay'</dd><dt>OV_19</dt><dd>'Assay'</dd><dt>OV_20</dt><dd>'Assay'</dd></dl>\n"
      ],
      "text/latex": [
       "\\begin{description*}\n",
       "\\item[OV\\textbackslash{}\\_16] 'Assay'\n",
       "\\item[OV\\textbackslash{}\\_17] 'Assay'\n",
       "\\item[OV\\textbackslash{}\\_18] 'Assay'\n",
       "\\item[OV\\textbackslash{}\\_19] 'Assay'\n",
       "\\item[OV\\textbackslash{}\\_20] 'Assay'\n",
       "\\end{description*}\n"
      ],
      "text/markdown": [
       "OV_16\n",
       ":   'Assay'OV_17\n",
       ":   'Assay'OV_18\n",
       ":   'Assay'OV_19\n",
       ":   'Assay'OV_20\n",
       ":   'Assay'\n",
       "\n"
      ],
      "text/plain": [
       "  OV_16   OV_17   OV_18   OV_19   OV_20 \n",
       "\"Assay\" \"Assay\" \"Assay\" \"Assay\" \"Assay\" "
      ]
     },
     "metadata": {},
     "output_type": "display_data"
    }
   ],
   "source": [
    "class(ovSc.list[[1]][[\"RNA\"]])\n",
    "sapply(ovSc.list, function(obj) class(obj[[\"RNA\"]]))\n",
    "#shows that each one of the RNA assays is in old Seurat v3/v4 style (slot based)\n",
    "#have got code to update to v5 in emails in needed\n"
   ]
  },
  {
   "cell_type": "code",
   "execution_count": 10,
   "id": "69ebea85",
   "metadata": {
    "vscode": {
     "languageId": "r"
    }
   },
   "outputs": [],
   "source": [
    "\n",
    "#### Iterate over samples in list to prepare for integration\n",
    "\n",
    "# Make sure every object has HVGs before integration\n",
    "ovSc.list <- lapply(ovSc.list, function(x){\n",
    "  DefaultAssay(x) <- \"RNA\"\n",
    "  # We already have 'counts' + 'data' layers from earlier conversion\n",
    "  # Find HVGs on log-normalised data\n",
    "  x <- NormalizeData(x)\n",
    "  x <- FindVariableFeatures(\n",
    "    x,                # use log-normalized values, not raw counts\n",
    "    selection.method = \"vst\",\n",
    "    nfeatures = 3000\n",
    "  )\n",
    "  x\n",
    "})\n",
    "\n"
   ]
  },
  {
   "cell_type": "code",
   "execution_count": 11,
   "id": "5182a239",
   "metadata": {
    "vscode": {
     "languageId": "r"
    }
   },
   "outputs": [],
   "source": [
    "\n",
    "# Select features and integrate\n",
    "features <- SelectIntegrationFeatures(object.list = ovSc.list)"
   ]
  },
  {
   "cell_type": "code",
   "execution_count": 12,
   "id": "2754510d",
   "metadata": {
    "vscode": {
     "languageId": "r"
    }
   },
   "outputs": [
    {
     "name": "stderr",
     "output_type": "stream",
     "text": [
      "Scaling features for provided objects\n",
      "\n",
      "Finding all pairwise anchors\n",
      "\n",
      "Running CCA\n",
      "\n",
      "Merging objects\n",
      "\n",
      "Finding neighborhoods\n",
      "\n",
      "Finding anchors\n",
      "\n",
      "\tFound 14458 anchors\n",
      "\n",
      "Filtering anchors\n",
      "\n",
      "\tRetained 12442 anchors\n",
      "\n",
      "Running CCA\n",
      "\n",
      "Merging objects\n",
      "\n",
      "Finding neighborhoods\n",
      "\n",
      "Finding anchors\n",
      "\n",
      "\tFound 14428 anchors\n",
      "\n",
      "Filtering anchors\n",
      "\n",
      "\tRetained 11850 anchors\n",
      "\n",
      "Running CCA\n",
      "\n",
      "Merging objects\n",
      "\n",
      "Finding neighborhoods\n",
      "\n",
      "Finding anchors\n",
      "\n",
      "\tFound 15424 anchors\n",
      "\n",
      "Filtering anchors\n",
      "\n",
      "\tRetained 12501 anchors\n",
      "\n",
      "Running CCA\n",
      "\n",
      "Merging objects\n",
      "\n",
      "Finding neighborhoods\n",
      "\n",
      "Finding anchors\n",
      "\n",
      "\tFound 6999 anchors\n",
      "\n",
      "Filtering anchors\n",
      "\n",
      "\tRetained 3423 anchors\n",
      "\n",
      "Running CCA\n",
      "\n",
      "Merging objects\n",
      "\n",
      "Finding neighborhoods\n",
      "\n",
      "Finding anchors\n",
      "\n",
      "\tFound 6999 anchors\n",
      "\n",
      "Filtering anchors\n",
      "\n",
      "\tRetained 3308 anchors\n",
      "\n",
      "Running CCA\n",
      "\n",
      "Merging objects\n",
      "\n",
      "Finding neighborhoods\n",
      "\n",
      "Finding anchors\n",
      "\n",
      "\tFound 6960 anchors\n",
      "\n",
      "Filtering anchors\n",
      "\n",
      "\tRetained 3252 anchors\n",
      "\n",
      "Running CCA\n",
      "\n",
      "Merging objects\n",
      "\n",
      "Finding neighborhoods\n",
      "\n",
      "Finding anchors\n",
      "\n",
      "\tFound 15534 anchors\n",
      "\n",
      "Filtering anchors\n",
      "\n",
      "\tRetained 13010 anchors\n",
      "\n",
      "Running CCA\n",
      "\n",
      "Merging objects\n",
      "\n",
      "Finding neighborhoods\n",
      "\n",
      "Finding anchors\n",
      "\n",
      "\tFound 15571 anchors\n",
      "\n",
      "Filtering anchors\n",
      "\n",
      "\tRetained 12203 anchors\n",
      "\n",
      "Running CCA\n",
      "\n",
      "Merging objects\n",
      "\n",
      "Finding neighborhoods\n",
      "\n",
      "Finding anchors\n",
      "\n",
      "\tFound 15726 anchors\n",
      "\n",
      "Filtering anchors\n",
      "\n",
      "\tRetained 12335 anchors\n",
      "\n",
      "Running CCA\n",
      "\n",
      "Merging objects\n",
      "\n",
      "Finding neighborhoods\n",
      "\n",
      "Finding anchors\n",
      "\n",
      "\tFound 7090 anchors\n",
      "\n",
      "Filtering anchors\n",
      "\n",
      "\tRetained 2828 anchors\n",
      "\n"
     ]
    }
   ],
   "source": [
    "anchors <- FindIntegrationAnchors(object.list = ovSc.list, \n",
    "    normalization.method = \"LogNormalize\",\n",
    "    anchor.features = features)"
   ]
  },
  {
   "cell_type": "code",
   "execution_count": 13,
   "id": "61c9c277",
   "metadata": {
    "vscode": {
     "languageId": "r"
    }
   },
   "outputs": [
    {
     "name": "stderr",
     "output_type": "stream",
     "text": [
      "Merging dataset 1 into 5\n",
      "\n",
      "Extracting anchors for merged samples\n",
      "\n",
      "Finding integration vectors\n",
      "\n",
      "Finding integration vector weights\n",
      "\n",
      "Integrating data\n",
      "\n",
      "Merging dataset 2 into 3\n",
      "\n",
      "Extracting anchors for merged samples\n",
      "\n",
      "Finding integration vectors\n",
      "\n",
      "Finding integration vector weights\n",
      "\n",
      "Integrating data\n",
      "\n",
      "Merging dataset 3 2 into 5 1\n",
      "\n",
      "Extracting anchors for merged samples\n",
      "\n",
      "Finding integration vectors\n",
      "\n",
      "Finding integration vector weights\n",
      "\n",
      "Integrating data\n",
      "\n",
      "Merging dataset 4 into 5 1 3 2\n",
      "\n",
      "Extracting anchors for merged samples\n",
      "\n",
      "Finding integration vectors\n",
      "\n",
      "Finding integration vector weights\n",
      "\n",
      "Integrating data\n",
      "\n"
     ]
    }
   ],
   "source": [
    "seuCombined <- IntegrateData(anchorset = anchors)"
   ]
  },
  {
   "cell_type": "markdown",
   "id": "4bcd7ab1",
   "metadata": {},
   "source": [
    "## 4. Subset to cell types of interest\n",
    "Selects specific immune/stromal/tumor cell types from the integrated scRNA data.\n",
    "Not subsetting because already filtered the dataset in cell2location pipeline to exclude those we aren't interested in. "
   ]
  },
  {
   "cell_type": "code",
   "execution_count": 14,
   "id": "27107f3a",
   "metadata": {
    "vscode": {
     "languageId": "r"
    }
   },
   "outputs": [
    {
     "data": {
      "text/html": [
       "<style>\n",
       ".list-inline {list-style: none; margin:0; padding: 0}\n",
       ".list-inline>li {display: inline-block}\n",
       ".list-inline>li:not(:last-child)::after {content: \"\\00b7\"; padding: 0 .5ex}\n",
       "</style>\n",
       "<ol class=list-inline><li>'Tumour 1'</li><li>'Macrophage'</li><li>'NK_cell'</li><li>'Treg'</li><li>'Tumour 2'</li><li>'Plasma Cells'</li><li>'CD4'</li><li>'CD8'</li><li>'B naive activated'</li><li>'Mesenchymal'</li><li>'B naive resting'</li><li>'Monocytes'</li><li>'Dendritic Cells'</li><li>'Neutrophils'</li><li>'Th1'</li><li>'Th17'</li><li>'Endothelial'</li><li>'Tumour 3'</li><li>'Cycling Plasma Cells'</li></ol>\n"
      ],
      "text/latex": [
       "\\begin{enumerate*}\n",
       "\\item 'Tumour 1'\n",
       "\\item 'Macrophage'\n",
       "\\item 'NK\\_cell'\n",
       "\\item 'Treg'\n",
       "\\item 'Tumour 2'\n",
       "\\item 'Plasma Cells'\n",
       "\\item 'CD4'\n",
       "\\item 'CD8'\n",
       "\\item 'B naive activated'\n",
       "\\item 'Mesenchymal'\n",
       "\\item 'B naive resting'\n",
       "\\item 'Monocytes'\n",
       "\\item 'Dendritic Cells'\n",
       "\\item 'Neutrophils'\n",
       "\\item 'Th1'\n",
       "\\item 'Th17'\n",
       "\\item 'Endothelial'\n",
       "\\item 'Tumour 3'\n",
       "\\item 'Cycling Plasma Cells'\n",
       "\\end{enumerate*}\n"
      ],
      "text/markdown": [
       "1. 'Tumour 1'\n",
       "2. 'Macrophage'\n",
       "3. 'NK_cell'\n",
       "4. 'Treg'\n",
       "5. 'Tumour 2'\n",
       "6. 'Plasma Cells'\n",
       "7. 'CD4'\n",
       "8. 'CD8'\n",
       "9. 'B naive activated'\n",
       "10. 'Mesenchymal'\n",
       "11. 'B naive resting'\n",
       "12. 'Monocytes'\n",
       "13. 'Dendritic Cells'\n",
       "14. 'Neutrophils'\n",
       "15. 'Th1'\n",
       "16. 'Th17'\n",
       "17. 'Endothelial'\n",
       "18. 'Tumour 3'\n",
       "19. 'Cycling Plasma Cells'\n",
       "\n",
       "\n"
      ],
      "text/plain": [
       " [1] \"Tumour 1\"             \"Macrophage\"           \"NK_cell\"             \n",
       " [4] \"Treg\"                 \"Tumour 2\"             \"Plasma Cells\"        \n",
       " [7] \"CD4\"                  \"CD8\"                  \"B naive activated\"   \n",
       "[10] \"Mesenchymal\"          \"B naive resting\"      \"Monocytes\"           \n",
       "[13] \"Dendritic Cells\"      \"Neutrophils\"          \"Th1\"                 \n",
       "[16] \"Th17\"                 \"Endothelial\"          \"Tumour 3\"            \n",
       "[19] \"Cycling Plasma Cells\""
      ]
     },
     "metadata": {},
     "output_type": "display_data"
    },
    {
     "data": {
      "text/plain": [
       "\n",
       "   B naive activated      B naive resting                  CD4 \n",
       "                1200                  268                  404 \n",
       "                 CD8 Cycling Plasma Cells      Dendritic Cells \n",
       "                 438                   25                  346 \n",
       "         Endothelial           Macrophage          Mesenchymal \n",
       "                 140                 7977                  364 \n",
       "           Monocytes          Neutrophils              NK_cell \n",
       "                 581                  256                  211 \n",
       "        Plasma Cells                  Th1                 Th17 \n",
       "                 432                  198                   78 \n",
       "                Treg             Tumour 1             Tumour 2 \n",
       "                 286                14301                 1225 \n",
       "            Tumour 3 \n",
       "                2644 "
      ]
     },
     "metadata": {},
     "output_type": "display_data"
    },
    {
     "data": {
      "text/plain": [
       "\n",
       "   B naive activated      B naive resting                  CD4 \n",
       "                1200                  268                  404 \n",
       "                 CD8 Cycling Plasma Cells      Dendritic Cells \n",
       "                 438                   25                  346 \n",
       "         Endothelial           Macrophage          Mesenchymal \n",
       "                 140                 7977                  364 \n",
       "           Monocytes          Neutrophils              NK_cell \n",
       "                 581                  256                  211 \n",
       "        Plasma Cells                  Th1                 Th17 \n",
       "                 432                  198                   78 \n",
       "                Treg             Tumour 1             Tumour 2 \n",
       "                 286                14301                 1225 \n",
       "            Tumour 3 \n",
       "                2644 "
      ]
     },
     "metadata": {},
     "output_type": "display_data"
    }
   ],
   "source": [
    "\n",
    "#### Subset single cell rna-seq to cell types of interest\n",
    "unique(seuCombined$updated_annotation)\n",
    "table(seuCombined$updated_annotation)\n",
    "\n",
    "#currently not removing any cell types\n",
    "seuSub <- seuCombined %>% subset(updated_annotation %in% c('Tumour 1','Macrophage','NK_cell','Treg','Tumour 2',\n",
    "                                                            'Plasma Cells','CD4','CD8','B naive activated','B naive resting','Mesenchymal', 'Monocytes',\n",
    "                                                            'Dendritic Cells','Neutrophils','Th1','Th17','Endothelial','Tumour 3','Cycling Plasma Cells'))\n",
    "                                                            \n",
    "table(seuSub$updated_annotation)\n"
   ]
  },
  {
   "cell_type": "markdown",
   "id": "50a47191",
   "metadata": {},
   "source": [
    "## 5. Co-embed Visium with scRNA and run CellTrek\n",
    "Uses `CellTrek::traint()` trains a mapping model between single cell profiles and ST data \n",
    " - project Visium spots and scRNA-seq cells into a **shared latent space**.\n",
    " - first need to handle images as the split object function (from downgraded seurat versions used here) can't handle images"
   ]
  },
  {
   "cell_type": "code",
   "execution_count": null,
   "id": "8985c886",
   "metadata": {
    "vscode": {
     "languageId": "r"
    }
   },
   "outputs": [],
   "source": [
    "class(ovVis)\n",
    "names(ovVis)\n",
    "\n",
    "for (i in seq_along(ovVis)){\n",
    "    name <- names(ovVis)[i]\n",
    "    obj <- ovVis[[i]]\n",
    "    assign(name, obj, envir=.GlobalEnv)\n",
    "    \n",
    "}\n",
    "\n"
   ]
  },
  {
   "cell_type": "code",
   "execution_count": null,
   "id": "24c34bab",
   "metadata": {
    "vscode": {
     "languageId": "r"
    }
   },
   "outputs": [],
   "source": [
    "#checking if colnames of spots are clean \n",
    "lapply(ovVis, function(x) any(duplicated(colnames(x))))"
   ]
  },
  {
   "cell_type": "code",
   "execution_count": null,
   "id": "29c7171a",
   "metadata": {
    "vscode": {
     "languageId": "r"
    }
   },
   "outputs": [],
   "source": [
    "\n",
    "# clean up names \n",
    "# make.names() ensures all cell names are valid R names (hanldes special characters)\n",
    "# RenameCells() applies cleaned names to the Seurat object \n",
    "# Clean Visium spot names\n",
    "\n",
    "#no need to apply to visium, already clean and characters are appropriate \n",
    "#ovVis <- lapply(ovVis, function(x){\n",
    "#    RenameCells(x, new.names = make.names(Cells(x)))\n",
    "#})\n",
    "\n",
    "# Clean single-cell names\n",
    "seuSub <- RenameCells(seuSub, new.names = make.names(Cells(seuSub)))\n"
   ]
  },
  {
   "cell_type": "code",
   "execution_count": null,
   "id": "d3fd7f21",
   "metadata": {
    "vscode": {
     "languageId": "r"
    }
   },
   "outputs": [],
   "source": [
    "seuSub@active.assay\n",
    "seuSub@assays$RNA"
   ]
  },
  {
   "cell_type": "markdown",
   "id": "a98f5332",
   "metadata": {},
   "source": [
    "CellTrek uses a random forest regressor to learn the mapping between your single cell reference data and spatial transcriptomics data \n",
    " - traint() trains a mapping model between your single-cell reference and spatial sample\n",
    " - The object returned (ovTraintAll[[i]]) contains:\n",
    " - Model parameters\n",
    " - Fitted distances between spots and reference cells\n"
   ]
  },
  {
   "cell_type": "code",
   "execution_count": null,
   "id": "180408f8",
   "metadata": {
    "vscode": {
     "languageId": "r"
    }
   },
   "outputs": [],
   "source": [
    "class(OV_1@images[[1]])\n",
    "slotNames(OV_1@assays)"
   ]
  },
  {
   "cell_type": "code",
   "execution_count": null,
   "id": "b3c33856",
   "metadata": {
    "vscode": {
     "languageId": "r"
    }
   },
   "outputs": [],
   "source": [
    "#try on one sample first\n",
    "\n",
    "ovtrain_ov1 <- CellTrek::traint(\n",
    "    st_data    = OV_1,               # spatial Seurat object\n",
    "        sc_data    = seuSub,                # single-cell reference\n",
    "        sc_assay   = \"RNA\",         # exact assay name in seuSub\n",
    "        cell_names = \"updated_annotation\"  # column with cell type labels\n",
    "    )"
   ]
  },
  {
   "cell_type": "code",
   "execution_count": null,
   "id": "c6cb7f52",
   "metadata": {
    "vscode": {
     "languageId": "r"
    }
   },
   "outputs": [],
   "source": [
    "\n",
    "ovTraintAll <- lapply(ovVis, function(i) {\n",
    "    ovTraint <- CellTrek::traint(st_data = i,\n",
    "                                 sc_data = seuSub,\n",
    "                                 sc_assay = \"RNA\",\n",
    "                                 cell_names = \"updated_annotation\")\n",
    "    return(ovTraint)\n",
    "})\n",
    "\n",
    "# Add names so they match the input list\n",
    "names(ovTraintAll) <- names(ovVis)\n",
    "\n"
   ]
  },
  {
   "cell_type": "code",
   "execution_count": null,
   "id": "340dcaf7",
   "metadata": {
    "vscode": {
     "languageId": "r"
    }
   },
   "outputs": [],
   "source": [
    "#saveRDS(ovTraintAll, paste0(ov_visium, \"cellTrek/ovTrainAll_obj.rds\"))\n",
    "\n",
    "ovTraintAll <- readRDS(paste0(ov_visium, \"cellTrek/ovTrainAll_obj.rds\"))\n",
    "#cluster\n",
    "#saveRDS(ovTraintAll, paste0(cell2loc, \"/cellTrek/ovTrainAll_obj.rds\"))\n",
    "#ovTraintAll <- readRDS(paste0(cell2loc, \"cellTrek/ovTrainAll_obj.rds\"))\n",
    "#seuSub <- readRDS(paste0(cell2loc, \"cellTrek/seuSub.rds\"))"
   ]
  },
  {
   "cell_type": "markdown",
   "id": "356af6a5",
   "metadata": {},
   "source": [
    "## 6. Visualize embeddings\n",
    "Plots the joint embedding to show how Visium and scRNA cells mix, grouped by type or annotation."
   ]
  },
  {
   "cell_type": "code",
   "execution_count": 26,
   "id": "b7057492",
   "metadata": {
    "vscode": {
     "languageId": "r"
    }
   },
   "outputs": [
    {
     "name": "stderr",
     "output_type": "stream",
     "text": [
      "\n",
      "Attaching package: ‘pals’\n",
      "\n",
      "\n",
      "The following objects are masked from ‘package:viridis’:\n",
      "\n",
      "    cividis, inferno, magma, plasma, turbo, viridis\n",
      "\n",
      "\n",
      "The following objects are masked from ‘package:viridisLite’:\n",
      "\n",
      "    cividis, inferno, magma, plasma, turbo, viridis\n",
      "\n",
      "\n",
      "Only 26 colors are available with 'alphabet'\n",
      "\n",
      "Only 26 colors are available with 'alphabet2'\n",
      "\n",
      "Only 25 colors are available with 'cols25'.\n",
      "\n",
      "Only 32 colors are available with 'glasbey'.\n",
      "\n",
      "Only 22 colors are available with 'kelly'.\n",
      "\n",
      "Only 36 colors are available with 'polychrome'.\n",
      "\n",
      "Only 24 colors are available with 'stepped'\n",
      "\n",
      "Only 12 colors are available with 'tol'\n",
      "\n",
      "Only 16 colors are available with 'watlington'.\n",
      "\n"
     ]
    },
    {
     "data": {
      "image/png": "[encoded data removed]",
      "text/plain": [
       "plot without title"
      ]
     },
     "metadata": {
      "image/png": {
       "height": 420,
       "width": 420
      }
     },
     "output_type": "display_data"
    }
   ],
   "source": [
    "# ---- build a 19-colour palette----\n",
    "library(pals)\n",
    "pal.bands(alphabet, alphabet2, cols25, glasbey, kelly, polychrome, \n",
    "  stepped, tol, watlington,\n",
    "  show.names=FALSE)"
   ]
  },
  {
   "cell_type": "code",
   "execution_count": null,
   "id": "ee8b781e",
   "metadata": {
    "vscode": {
     "languageId": "r"
    }
   },
   "outputs": [],
   "source": [
    "\n",
    "#### View co-embedding\n",
    "pals19 <- glasbey(19)\n",
    "\n",
    "cols19 <- c(\n",
    "  \"#E41A1C\", \"#377EB8\", \"#4DAF4A\", \"#984EA3\", \"#FF7F00\",\n",
    "  \"#FFFF33\", \"#A65628\", \"#F781BF\", \"#999999\", \"#66C2A5\",\n",
    "  \"#FC8D62\", \"#8DA0CB\", \"#E78AC3\", \"#A6D854\", \"#FFD92F\",\n",
    "  \"#E5C494\", \"#1B9E77\", \"#D95F02\", \"#B3B3B3\"\n",
    ")\n",
    "\n",
    "# Step 1: Generate plots\n",
    "c2lPlots <- lapply(ovTraintAll, function(obj) {\n",
    "  DimPlot(obj, group.by = \"updated_annotation\", cols = cols19)\n",
    "})\n",
    "\n",
    "# Step 2: Save plots\n",
    "for (i in seq_along(c2lPlots)) {\n",
    "  ggsave(\n",
    "    filename = paste0(ov_visium, \"cellTrek/DimPlot_OV\", i, \".pdf\"),\n",
    "    plot = c2lPlots[[i]],\n",
    "    width = 8,\n",
    "    height = 6,\n",
    "    dpi = 300\n",
    "  )\n",
    "}\n"
   ]
  },
  {
   "cell_type": "markdown",
   "id": "30b99610",
   "metadata": {},
   "source": [
    "## 7. Map cells into spatial tissue\n",
    "Runs `CellTrek::celltrek()` to assign scRNA-seq cells into Visium coordinates, producing pseudo-single-cell maps. Parameters control interpolation, number of trees, PCs, distance threshold, etc."
   ]
  },
  {
   "cell_type": "code",
   "execution_count": null,
   "id": "9e60a7ab",
   "metadata": {
    "vscode": {
     "languageId": "r"
    }
   },
   "outputs": [],
   "source": [
    "#try one sample locally\n",
    "\n",
    "ovt1 <- [[1]]\n",
    "\n",
    "ovCellTrek_ov1 <- \n",
    "    CellTrek::celltrek(st_sc_int = ovt1,\n",
    "    int_assay = \"traint\",\n",
    "    sc_data = sc_data,\n",
    "    sc_assay = \"RNA\",\n",
    "    reduction = \"pca\",\n",
    "    intp = TRUE,\n",
    "    intp_pnt = 1000, #reducing can speed up but impact spatial resolution and smoothness\n",
    "    intp_lin = FALSE,\n",
    "    nPCs = 15, \n",
    "    dist_thresh = 0.55,\n",
    "    top_spot = 5,  \n",
    "    spot_n = 5,  #increasing will reduce sparsity but increase time to run\n",
    "    repel_r = 25,\n",
    "    repel_iter = 10,\n",
    "    keep_model = TRUE,\n",
    "    ntree=100  #default 1000 but take a long time to run, reducing can reduce mapping accuracy \n",
    "  )\n",
    "    \n"
   ]
  },
  {
   "cell_type": "markdown",
   "id": "0f5656a4",
   "metadata": {},
   "source": [
    "Run using parallelisation with 4 CPUs on the cluster (interactive session) - moved into scripts for slurm submission\n",
    "\n",
    "sbatch celltrek.sh (which submits run_celltrek.r)"
   ]
  },
  {
   "cell_type": "code",
   "execution_count": null,
   "id": "a5696376",
   "metadata": {
    "vscode": {
     "languageId": "r"
    }
   },
   "outputs": [],
   "source": [
    "\n",
    "\n",
    "# --- load libraries ---\n",
    "library(CellTrek)\n",
    "library(future)\n",
    "library(future.apply)\n",
    "library(progressr)\n",
    "library(Seurat)\n",
    "\n",
    "# --- parallelization ---\n",
    "plan(multisession, workers = 6)           # use 6 cores\n",
    "options(future.globals.maxSize = 20*1024^3)  # 20 GB per worker\n",
    "handlers(\"txtprogressbar\")  # to monitor progress\n",
    "\n",
    "# --- logging set up ---\n",
    "log_file <- \"celltrek_progress\"\n",
    "sink(log_file, append=TRUE, split=TRUE)  #redirects console output to log file, split=TRUE keeps output visible in console while also writing to log \n",
    "\n",
    "# --- load your data ---\n",
    "cell2loc = '/mnt/scratchc/fmlab/lythgo02/OV_visium/emily/cell2location/'\n",
    "\n",
    "ovTraintAll <- readRDS(paste0(cell2loc, \"cellTrek/ovTrainAll_obj.rds\"))\n",
    "\n",
    "seuSub <- readRDS(paste0(cell2loc, \"cellTrek/seuSub.rds\"))\n",
    "\n",
    "# --- define celltrek wrapper ---\n",
    "run_celltrek_fast <- function(trained_obj, sc_data, sample_name) {\n",
    "  message(Sys.time(), \"Processing \", sample_name) #adds timestamp to each log entry \n",
    "  \n",
    "  ct_result <- CellTrek::celltrek(\n",
    "    st_sc_int = trained_obj,\n",
    "    int_assay = \"traint\",\n",
    "    sc_data = sc_data,\n",
    "    sc_assay = \"RNA\",\n",
    "    reduction = \"pca\",\n",
    "    intp = TRUE,\n",
    "    intp_pnt = 1000,\n",
    "    intp_lin = FALSE,\n",
    "    nPCs = 15,\n",
    "    dist_thresh = 0.55,\n",
    "    top_spot = 5,\n",
    "    spot_n = 5,\n",
    "    repel_r = 25,\n",
    "    repel_iter = 10,\n",
    "    keep_model = TRUE,\n",
    "    ntree=100\n",
    "  )\n",
    "  message(Sys.time(), \" | Finished CellTrek for: \", sample_name)\n",
    "  return(ct_result$celltrek)\n",
    "}\n",
    "\n",
    "# --- run CellTrek on all samples ---\n",
    "with_progress({\n",
    "  p <- progressor(along = ovTraintAll)\n",
    "  \n",
    "  celltrek_results <- future_lapply(\n",
    "    seq_along(ovTraintAll),\n",
    "    function(i) {\n",
    "      sample_name <- names(ovTraintAll)[i]\n",
    "      message(Sys.time(), \" | Processing sample: \", sample_name)\n",
    "      \n",
    "      result <- run_celltrek_fast(\n",
    "        trained_obj = ovTraintAll[[i]],\n",
    "        sc_data = seuSub,\n",
    "        sample_name = sample_name\n",
    "      )\n",
    "      \n",
    "      saveRDS(result, file = paste0(\"celltrek_results\", sample_name, \".rds\"))\n",
    "      message(Sys.time(), \" | Saved result for: \", sample_name)\n",
    "      \n",
    "      p()  # update progress bar\n",
    "      return(result)\n",
    "    },\n",
    "    future.stdout = TRUE\n",
    "  )\n",
    "})\n",
    "\n",
    "saveRDS(celltrek_results, file = paste0(\"celltrek_results.rds\"))\n",
    "\n",
    "# --- merge results ---\n",
    "merged_celltrek <- merge(celltrek_results[[1]], y = celltrek_results[-1])\n",
    "merged_celltrek$treatment <- ifelse(\n",
    "  merged_celltrek$orig.ident %in% c(\"ov_1\",\"ov_2\",\"ov_3\"),\n",
    "  \"Untreated\", \"Treated\"\n",
    ")\n",
    "\n",
    "# --- downstream co-embedding ---\n",
    "DefaultAssay(merged_celltrek) <- \"RNA\"\n",
    "merged_celltrek <- NormalizeData(merged_celltrek)\n",
    "merged_celltrek <- FindVariableFeatures(merged_celltrek)\n",
    "merged_celltrek <- ScaleData(merged_celltrek)\n",
    "merged_celltrek <- RunPCA(merged_celltrek)\n",
    "merged_celltrek <- RunUMAP(merged_celltrek, dims = 1:25)\n",
    "\n",
    "# --- save results ---\n",
    "saveRDS(merged_celltrek, \"merged_celltrek.rds\")\n",
    "message(\"CellTrek pipeline finished successfully.\")\n",
    "\n",
    "    \n",
    "\n"
   ]
  },
  {
   "cell_type": "markdown",
   "id": "9b730070",
   "metadata": {},
   "source": [
    "View co-embeddings:\n",
    " - can first merge (which requires normalisation etc again) if you want to compare treated vs untreated in one integrated embedding\n",
    " - or keep as separate objects and plot individual (in which case don't use merged rds)"
   ]
  },
  {
   "cell_type": "code",
   "execution_count": null,
   "id": "f574cdbb",
   "metadata": {
    "vscode": {
     "languageId": "r"
    }
   },
   "outputs": [],
   "source": [
    "cell2loc = '/run/user/1804238067/gvfs/sftp:host=clust1-sub-1,user=lythgo02/mnt/scratchc/fmlab/lythgo02/OV_visium/emily/cell2location/'\n",
    "ovTraintAll <- readRDS(paste0(cell2loc, \"cellTrek/ovTrainAll_obj.rds\"))"
   ]
  },
  {
   "cell_type": "code",
   "execution_count": null,
   "id": "cb9ac6c5",
   "metadata": {
    "vscode": {
     "languageId": "r"
    }
   },
   "outputs": [
    {
     "data": {
      "text/html": [
       "<style>\n",
       ".list-inline {list-style: none; margin:0; padding: 0}\n",
       ".list-inline>li {display: inline-block}\n",
       ".list-inline>li:not(:last-child)::after {content: \"\\00b7\"; padding: 0 .5ex}\n",
       "</style>\n",
       "<ol class=list-inline><li>'OV_1'</li><li>'OV_2'</li><li>'OV_3'</li><li>'OV_4'</li><li>'OV_5'</li><li>'OV_6'</li></ol>\n"
      ],
      "text/latex": [
       "\\begin{enumerate*}\n",
       "\\item 'OV\\_1'\n",
       "\\item 'OV\\_2'\n",
       "\\item 'OV\\_3'\n",
       "\\item 'OV\\_4'\n",
       "\\item 'OV\\_5'\n",
       "\\item 'OV\\_6'\n",
       "\\end{enumerate*}\n"
      ],
      "text/markdown": [
       "1. 'OV_1'\n",
       "2. 'OV_2'\n",
       "3. 'OV_3'\n",
       "4. 'OV_4'\n",
       "5. 'OV_5'\n",
       "6. 'OV_6'\n",
       "\n",
       "\n"
      ],
      "text/plain": [
       "[1] \"OV_1\" \"OV_2\" \"OV_3\" \"OV_4\" \"OV_5\" \"OV_6\""
      ]
     },
     "metadata": {},
     "output_type": "display_data"
    }
   ],
   "source": [
    "names(ovTraintAll)"
   ]
  },
  {
   "cell_type": "code",
   "execution_count": null,
   "id": "9f76b68e",
   "metadata": {
    "vscode": {
     "languageId": "r"
    }
   },
   "outputs": [],
   "source": [
    "#load \n",
    "\n",
    "ovCellTrekList <- readRDS(paste0(cell2loc, \"/cellTrek/celltrek_results.rds\"))\n",
    "\n",
    "names(ovCellTrekList) <- names(ovTraintAll)\n",
    "#convert updated annotation to factor with levels organised in alphabetical order for plotting purposes \n",
    "ovCellTrekList <- lapply(ovCellTrekList, function(ovCellTrek){\n",
    "    ovCellTrek$cell_type <- factor(ovCellTrek$updated_annotation,\n",
    "                                   levels=sort(unique(ovCellTrek$updated_annotation)))\n",
    "    return(ovCellTrek)\n",
    "})\n",
    "\n"
   ]
  },
  {
   "cell_type": "code",
   "execution_count": null,
   "id": "bff1494c",
   "metadata": {
    "vscode": {
     "languageId": "r"
    }
   },
   "outputs": [],
   "source": [
    "Set x and y limits for plotting \n",
    " - setting coordinates for xlim() and ylim() for ggplot to zoom/crop the plot to specific region of interest"
   ]
  },
  {
   "cell_type": "code",
   "execution_count": null,
   "id": "87049fde",
   "metadata": {
    "vscode": {
     "languageId": "r"
    }
   },
   "outputs": [],
   "source": [
    "xl <- list()\n",
    "xl$OV_1 <- c(15, 585)\n",
    "xl$OV_2 <- c(20, 580)\n",
    "xl$OV_3 <- c(20, 580)\n",
    "xl$OV_4 <- c(20, 580)\n",
    "xl$OV_5 <- c(20, 580)\n",
    "xl$OV_6 <- c(15, 585)\n",
    "xl$OV_7 <- c(15, 585)\n",
    "xl$OV_8 <- c(15, 585)\n",
    "xl$OV_9 <- c(25, 575)\n",
    "xl$OV_10 <- c(20, 575)\n",
    "xl$OV_11 <- c(25, 575)\n",
    "xl$OV_12 <- c(25, 575)\n",
    "\n",
    "names(xl) <- names(ovCellTrekList)\n",
    "\n",
    "\n",
    "yl <- list()\n",
    "yl$OV_1 <- c(15, 585)\n",
    "yl$OV_2 <- c(15, 575)\n",
    "yl$OV_3 <- c(25, 565)\n",
    "yl$OV_4 <- c(25, 565)\n",
    "yl$OV_5 <- c(20, 580)    \n",
    "yl$OV_6 <- c(20, 570)\n",
    "yl$OV_7 <- c(35, 560)\n",
    "yl$OV_8 <- c(15, 585)\n",
    "yl$OV_9 <- c(25, 575)\n",
    "yl$OV_10 <- c(5, 575)  \n",
    "yl$OV_11 <- c(25, 565)\n",
    "yl$OV_12 <- c(25, 565)\n",
    "\n",
    "names(yl) <- names(ovCellTrekList)"
   ]
  },
  {
   "cell_type": "code",
   "execution_count": null,
   "id": "85117611",
   "metadata": {
    "vscode": {
     "languageId": "r"
    }
   },
   "outputs": [],
   "source": [
    "cellTrekPlots <- lapply(names(ovCellTrekList), function(sampN){\n",
    "    ovCellTrek <- ovCellTrekList[[sampN]]\n",
    "\n",
    "    img_fact <- ovCellTrek@images$slice1@scale.factors$lowres\n",
    "    img_temp <- ovCellTrek@images$slice1@image\n",
    "    img_data <- ovCellTrek@meta.data %>% dplyr::select(coord_x, coord_y, cell_type:id_new)\n",
    "    img_data$coord_x_new=img_data$coord_y*img_fact\n",
    "    img_data$coord_y_new=dim(img_temp)[1]-img_data$coord_x*img_fact\n",
    "    img_data$color_var <- factor(img_data[, \"cell_type\"])\n",
    "    img_data$shape_var <- ''\n",
    "\n",
    "    if (length(levels(img_data$color_var))<=9) {\n",
    "        pnt_colors <- brewer.pal(length(levels(img_data$color_var)), \"Set1\")\n",
    "    } else {\n",
    "        pnt_colors <- colorRampPalette(brewer.pal(9, \"Set1\"))(length(levels(img_data$color_var)))\n",
    "    }\n",
    "\n",
    "    if (length(levels(img_data$color_var))<=9) {\n",
    "        pnt_colors <- brewer.pal(length(levels(img_data$color_var)), \"Set1\")\n",
    "    } else {\n",
    "        pnt_colors <- colorRampPalette(brewer.pal(9, \"Set1\"))(length(levels(img_data$color_var)))\n",
    "    }\n",
    "    \n",
    "\n",
    "    ggplot(img_data, aes(x=coord_x_new, y=coord_y_new, fill=cell_type)) +\n",
    "    background_image(raster.img = img_temp)+\n",
    "    geom_jitter(size = 1, shape = 21, stroke = 0.02, color = \"black\") +\n",
    "    xlim(xl[[sampN]]) +\n",
    "    ylim(yl[[sampN]])\n",
    "\n",
    "})\n",
    "\n",
    "names(cellTrekPlots) <- names(ovCellTrekList)"
   ]
  },
  {
   "cell_type": "code",
   "execution_count": null,
   "id": "a8275d99",
   "metadata": {
    "vscode": {
     "languageId": "r"
    }
   },
   "outputs": [],
   "source": [
    "cellTrekPlots"
   ]
  },
  {
   "cell_type": "code",
   "execution_count": 95,
   "id": "59bff9e7",
   "metadata": {
    "vscode": {
     "languageId": "r"
    }
   },
   "outputs": [],
   "source": [
    "for (i in seq_along(cellTrekPlots)) {\n",
    "  ggsave(\n",
    "    filename = paste0(cell2loc, \"cellTrek/celltrek_OV\", i, \".pdf\"),\n",
    "    plot = cellTrekPlots[[i]],\n",
    "    width = 8,\n",
    "    height = 6,\n",
    "    dpi = 300\n",
    "  )\n",
    "}\n",
    "\n"
   ]
  },
  {
   "cell_type": "markdown",
   "id": "a2f4c6ac",
   "metadata": {
    "vscode": {
     "languageId": "r"
    }
   },
   "source": [
    "Spatial Colocalisation \n",
    " - CellTrek::scoloc() analyzes how different cell types are spatially arranged relative to one another. It builds a graph-based model of spatial proximity and interaction:\n",
    " - use_method = 'DT': uses Delaunay triangulation to define spatial neighborhoods\n",
    " - boot_n = 200: performs 200 bootstrap iterations to assess statistical robustness"
   ]
  },
  {
   "cell_type": "code",
   "execution_count": null,
   "id": "6a71321c",
   "metadata": {
    "vscode": {
     "languageId": "r"
    }
   },
   "outputs": [],
   "source": [
    "\n",
    "ovSGraphKlList <- lapply(ovCellTrekList, function(ovCellTrek){\n",
    "    CellTrek::scoloc(\n",
    "        ovCellTrek,\n",
    "        col_cell = 'updated_annotation',\n",
    "        use_method = 'DT',\n",
    "        boot_n = 200\n",
    "    )\n",
    "})\n"
   ]
  },
  {
   "cell_type": "markdown",
   "id": "89fcc107",
   "metadata": {
    "vscode": {
     "languageId": "r"
    }
   },
   "source": [
    "Cellchat "
   ]
  },
  {
   "cell_type": "code",
   "execution_count": null,
   "id": "5b84299c",
   "metadata": {
    "vscode": {
     "languageId": "r"
    }
   },
   "outputs": [
    {
     "ename": "ERROR",
     "evalue": "Error in CellChat::computeRegionDistance(obCoord, group = ctOb$cell_type, : unused argument (group = ctOb$cell_type)\n",
     "output_type": "error",
     "traceback": [
      "Error in CellChat::computeRegionDistance(obCoord, group = ctOb$cell_type, : unused argument (group = ctOb$cell_type)\nTraceback:\n",
      "1. lapply(ovCellTrekList, function(ctOb) {\n .     obCoord <- ctOb@meta.data[, c(\"coord_x\", \"coord_y\")]\n .     obDist <- CellChat::computeRegionDistance(obCoord, group = ctOb$cell_type, \n .         spot)\n .     return(obDist)\n . })",
      "2. FUN(X[[i]], ...)",
      "3. .handleSimpleError(function (cnd) \n . {\n .     watcher$capture_plot_and_output()\n .     cnd <- sanitize_call(cnd)\n .     watcher$push(cnd)\n .     switch(on_error, continue = invokeRestart(\"eval_continue\"), \n .         stop = invokeRestart(\"eval_stop\"), error = NULL)\n . }, \"unused argument (group = ctOb$cell_type)\", base::quote(CellChat::computeRegionDistance(obCoord, \n .     group = ctOb$cell_type, spot)))"
     ]
    }
   ],
   "source": [
    "distMats <- lapply(cellTrekObs, function(ctOb){\n",
    "    obCoord <- ctOb@meta.data[,c(\"coord_x\", \"coord_y\")]\n",
    "    obDist <- CellChat::computeRegionDistance(obCoord, group = ctOb$cell_type, spot)\n",
    "    return(obDist)\n",
    "})"
   ]
  },
  {
   "cell_type": "code",
   "execution_count": null,
   "id": "6ab524ec",
   "metadata": {
    "vscode": {
     "languageId": "r"
    }
   },
   "outputs": [],
   "source": []
  },
  {
   "cell_type": "markdown",
   "id": "7fbb2756",
   "metadata": {},
   "source": [
    "## 8. Co-localisation analysis\n",
    "Uses `CellTrek::scoloc()` to analyze spatial proximity between cell types. This builds a graph of neighboring cells, bootstraps it, and extracts consensus MST matrices. Later, differences between pre- and post-treatment are computed and visualized as heatmaps."
   ]
  },
  {
   "cell_type": "code",
   "execution_count": null,
   "id": "09d9a10e",
   "metadata": {
    "vscode": {
     "languageId": "r"
    }
   },
   "outputs": [],
   "source": [
    "\n",
    "#### Co-localisation analysis\n",
    "ovSGraphKlList <- lapply(ovCellTrekList, function(ovCellTrek){\n",
    "    ovSGraphKl <- CellTrek::scoloc(ovCellTrek,\n",
    "                               col_cell='Final_Annotation',\n",
    "                               use_method='DT',\n",
    "                               boot_n=200)\n",
    "})\n",
    "samp1 <- ovCellTrekList[[1]]\n",
    "head(samp1$coord_x)\n"
   ]
  },
  {
   "cell_type": "markdown",
   "id": "f88e3a8b",
   "metadata": {},
   "source": [
    "## 9. Visualization & output\n",
    "Plots cell maps overlaid on histology, generates combined figures, and saves results. Finally, writes CellTrek objects to disk for later use."
   ]
  },
  {
   "cell_type": "code",
   "execution_count": null,
   "id": "700c6860",
   "metadata": {
    "vscode": {
     "languageId": "r"
    }
   },
   "outputs": [],
   "source": [
    "\n",
    "#### Write results\n",
    "saveRDS(ovCellTrekList, \"../data/cellTrek/ov_cellTrek_obj.rds\")\n",
    "sessionInfo()\n"
   ]
  }
 ],
 "metadata": {
  "kernelspec": {
   "display_name": "R (CellTrek Env)",
   "language": "R",
   "name": "celltrek_env"
  },
  "language_info": {
   "codemirror_mode": "r",
   "file_extension": ".r",
   "mimetype": "text/x-r-source",
   "name": "R",
   "pygments_lexer": "r",
   "version": "4.4.3"
  }
 },
 "nbformat": 4,
 "nbformat_minor": 5
}
