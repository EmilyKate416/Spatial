{
 "cells": [
  {
   "cell_type": "markdown",
   "id": "1d46b3bb",
   "metadata": {},
   "source": [
    ": '\n",
    "================================================================================\n",
    "Pipeline: Single-cell RNA-seq Preprocessing, QC, Integration, and Export\n",
    "Purpose: Prepare a high-quality single-cell reference for Cell2location\n",
    "\n",
    "Description:\n",
    "    This script implements preprocessing, quality control (QC), integration, \n",
    "    and export of single-cell RNA-seq reference data prior to spatial \n",
    "    deconvolution with Cell2location.\n",
    "\n",
    "Environment Setup:\n",
    "    # Local setup with conda/mamba\n",
    "    mamba activate cell2loc_prep_r\n",
    "    mamba install ipykernel\n",
    "    python3 -m ipykernel install --user --name=cell2loc_prep_r --display-name \"cell2loc_prep_r\"\n",
    "\n",
    "    # Register R kernel\n",
    "    R\n",
    "    install.packages(\"IRkernel\")\n",
    "    IRkernel::installspec(user = TRUE)\n",
    "    quit()\n",
    "\n",
    "Input Data:\n",
    "    - GEO accession: GSE158937\n",
    "      Single-cell RNA sequencing samples from high-grade serous ovarian cancer.\n",
    "    - Files per sample (10x Genomics format):\n",
    "        barcodes.tsv   : Unique cell identifiers\n",
    "        features.tsv   : List of measured genes\n",
    "        matrix.mtx     : Sparse gene expression matrix\n",
    "\n",
    "    - Example samples used:\n",
    "        GSM4816045, GSM4816046, GSM4816047\n",
    "\n",
    "Workflow Steps:\n",
    "    1. Load raw 10x data into Seurat objects.\n",
    "    2. Perform QC:\n",
    "         - Keep cells with >200 and <7500 detected genes.\n",
    "         - Exclude cells with >10% mitochondrial gene content.\n",
    "    3. Normalize data and identify 2000 highly variable genes.\n",
    "    4. Integrate samples:\n",
    "         - Select common features.\n",
    "         - Find anchors (matched cells across datasets).\n",
    "         - Correct batch effects and merge datasets.\n",
    "    5. (Optional) Scale, PCA, UMAP, clustering for QC visualization.\n",
    "    6. Export integrated object to:\n",
    "         - H5Seurat format (.h5Seurat).\n",
    "         - H5AD format (.h5ad) for Python/Scanpy compatibility.\n",
    "\n",
    "Outputs:\n",
    "    - QC violin plots per sample (genes, UMIs, mitochondrial %).\n",
    "    - Integrated Seurat object.\n",
    "    - Exported files:\n",
    "        comb_GSE158937.h5Seurat\n",
    "        comb_GSE158937.h5ad\n",
    "\n",
    "Notes:\n",
    "    - Mitochondrial genes are retained in Visium workflows, but here we filter \n",
    "      high-mito cells to build a clean reference for Cell2location.\n",
    "    - UMAP and PCA checks ensure successful batch integration.\n",
    "\n",
    "================================================================================\n",
    "'\n"
   ]
  },
  {
   "cell_type": "code",
   "execution_count": 1,
   "id": "e9038d8c",
   "metadata": {
    "vscode": {
     "languageId": "r"
    }
   },
   "outputs": [
    {
     "ename": "ERROR",
     "evalue": "Error in parse(text = x, srcfile = src): <text>:2:7: unexpected symbol\n1: #if local \n2: mamba activate\n         ^\n",
     "output_type": "error",
     "traceback": [
      "Error in parse(text = x, srcfile = src): <text>:2:7: unexpected symbol\n1: #if local \n2: mamba activate\n         ^\nTraceback:\n"
     ]
    }
   ],
   "source": [
    "#if local \n",
    "mamba activate cell2loc_prep_r\n",
    "#mamba install ipykernel\n",
    "#python3 -m ipykernel install --user --name=cell2loc_prep_r --display-name \"cell2loc_prep_r\""
   ]
  },
  {
   "cell_type": "code",
   "execution_count": null,
   "id": "3733fb98",
   "metadata": {
    "vscode": {
     "languageId": "r"
    }
   },
   "outputs": [],
   "source": [
    "#register kernel \n",
    "#in terminal, open R\n",
    "#install.packages('IRkernel')\n",
    "#IRkernel::installspec(user = TRUE)\n",
    "#quit()\n",
    ".libPaths()\n",
    "ip <- installed.packages(fields = \"LibPath\")\n",
    "ip\n"
   ]
  },
  {
   "cell_type": "markdown",
   "id": "7a657a37",
   "metadata": {},
   "source": [
    "pipeline for single cell preprocessing, QC, integration and export prior to cell2location\n",
    "Single cell reference data from https://www.ncbi.nlm.nih.gov/geo/query/acc.cgi?acc=GSE158937 \tSingle-cell RNA sequencing samples from high-grade serous ovarian cancer (HGSOC)\n",
    "    barcodes.tsv: List of all cell barcodes (unique cell IDs)\n",
    "    features.tsv or genes.tsv: List of all genes/features measured (gene names or IDs)\n",
    "    matrix.mtx: The raw count matrix itself, in sparse format, matching barcodes x feature"
   ]
  },
  {
   "cell_type": "code",
   "execution_count": 2,
   "id": "6c9b5a94",
   "metadata": {
    "vscode": {
     "languageId": "r"
    }
   },
   "outputs": [
    {
     "ename": "ERROR",
     "evalue": "Error in library(Seurat): there is no package called ‘Seurat’\n",
     "output_type": "error",
     "traceback": [
      "Error in library(Seurat): there is no package called ‘Seurat’\nTraceback:\n",
      "1. stop(packageNotFoundError(package, lib.loc, sys.call()))"
     ]
    }
   ],
   "source": [
    "library(Seurat)\n",
    "library(SeuratDisk)\n",
    "library(dplyr)\n",
    "\n",
    "\n",
    "data_dir <- \"/home/lythgo02/Documents/scRNAseq/GSE158937_RAW\"\n",
    "samples <- c(\"GSM4816045\", \"GSM4816046\", \"GSM4816047\")  # replace with your sample IDs\n",
    "seurat_list <- lapply(samples, function(samp) {\n",
    "  folder <- file.path(data_dir, paste0(samp, \"_filtered\"))\n",
    "  counts <- Read10X(data.dir = folder)\n",
    "  seu <- CreateSeuratObject(counts = counts, \n",
    "                            project = samp, \n",
    "                            min.cells = 3, #only genes expresssed in at least 3 cells\n",
    "                            min.features = 200) # only cells with at least 200 genes detected to remove low quality cells \n",
    "  seu$orig.ident <- samp\n",
    "  return(seu)\n",
    "})\n",
    "\n",
    "names(seurat_list) <- samples\n",
    "\n",
    "\n"
   ]
  },
  {
   "cell_type": "markdown",
   "id": "e631300f",
   "metadata": {},
   "source": [
    "QC on each sample \n",
    "    Mitochondrial content - keep cells where the % expressed genes that are mitochdondrial is <10% (high damage = cells that leak mitochondrial RNA)\n",
    "        (Building a reference for deconvolution (e.g., with Cell2location), so want clean, healthy, well-annotated cell types to form accurate basis profiles. Removing low-quality or stressed cells here helps improve robustness even though i have retained mitochondrial genes in the visium QC).\n",
    "    Remove cells with fewer than 200 genes detected\n",
    "    Remove cells with more than 7500 genes detected \n",
    "        (Abnormally high numbers of genes detected indicates doublets or multiplets captured in cell capture)    \n"
   ]
  },
  {
   "cell_type": "code",
   "execution_count": null,
   "id": "fa4677e1",
   "metadata": {
    "vscode": {
     "languageId": "r"
    }
   },
   "outputs": [],
   "source": [
    "\n",
    "library(ggplot2)\n",
    "\n",
    "#plot directory \n",
    "qc_plot_dir<- \"/home/lythgo02/Documents/scRNAseq/plots/\"\n",
    "\n",
    "# Apply QC step-by-step and name plots correctly\n",
    "seurat_list <- lapply(names(seurat_list), function(sample_name) {\n",
    "  seu <- seurat_list[[sample_name]]\n",
    "  \n",
    "  # Add mitochondrial gene percentage\n",
    "  seu[[\"percent.mt\"]] <- PercentageFeatureSet(seu, pattern = \"^MT-\")\n",
    "  \n",
    "  # Create and save QC violin plot\n",
    "  qc_plot <- VlnPlot(seu, features = c(\"nFeature_RNA\", \"nCount_RNA\", \"percent.mt\"), ncol = 3)\n",
    "  ggsave(\n",
    "    filename = file.path(qc_plot_dir, paste0(sample_name, \"_qc_violin.png\")),\n",
    "    plot = qc_plot,\n",
    "    width = 10,\n",
    "    height = 4\n",
    "  )\n",
    "\n",
    "  # Filter cells\n",
    "  seu <- subset(seu, subset = nFeature_RNA > 200 & nFeature_RNA < 7500 & percent.mt < 10)\n",
    "  \n",
    "  return(seu)\n",
    "})\n",
    "\n",
    "# Restore names\n",
    "names(seurat_list) <- c(\"GSM4816045\", \"GSM4816046\", \"GSM4816047\")\n",
    "\n"
   ]
  },
  {
   "cell_type": "code",
   "execution_count": null,
   "id": "c1cd6952",
   "metadata": {
    "vscode": {
     "languageId": "r"
    }
   },
   "outputs": [],
   "source": [
    "\n",
    "Interpretation ofo violin plots:\n",
    "    nFeature_RNA (number of genes per cell): Most cells have 200–1000 genes detected: some outliers at higher end but acceptable \n",
    "    nCount_RNA (total UMIs per cell): Skewed distribution with a long tail —  few cells with very high RNA content (>20,000 UMIs). Might suggest doublets or highly active cells.\n",
    "    percent.mt (mitochondrial gene percentage): Evenly distributed from ~0 to 10%, with many cells around 2–8%. This is expected; <10% is usually considered acceptable.\n",
    "\n",
    "Suitable filters applied."
   ]
  },
  {
   "cell_type": "markdown",
   "id": "adc3fe72",
   "metadata": {},
   "source": [
    "Normalise\n",
    "Find highly variable genes "
   ]
  },
  {
   "cell_type": "code",
   "execution_count": null,
   "id": "04b4e26f",
   "metadata": {
    "vscode": {
     "languageId": "r"
    }
   },
   "outputs": [],
   "source": [
    "seurat_list <- lapply(seurat_list, function(seu) {\n",
    "  seu <- NormalizeData(seu)    #log normalisation\n",
    "  seu <- FindVariableFeatures(seu, \n",
    "                              selection.method = \"vst\", #variant stabilising transformation to find top 2000 variable genes\n",
    "                              nfeatures = 2000)    \n",
    "})\n"
   ]
  },
  {
   "cell_type": "markdown",
   "id": "4040f70a",
   "metadata": {},
   "source": [
    "Integrate samples based on shared genes \n",
    "Find \"anchors,\" pairs of cells from different datasets that are in a matched biological state using dimensionality reduction.\n",
    "Use the anchors to correct batch effects and merge datasets into a single integrated Seurat object"
   ]
  },
  {
   "cell_type": "code",
   "execution_count": null,
   "id": "c8f5380e",
   "metadata": {
    "vscode": {
     "languageId": "r"
    }
   },
   "outputs": [],
   "source": [
    "# Select features (common genes) for integration\n",
    "features <- SelectIntegrationFeatures(object.list = seurat_list) #output = vector of gene names for integration \n",
    "\n",
    "# Find integration anchors (using PCA)\n",
    "anchors <- FindIntegrationAnchors(object.list = seurat_list, anchor.features = features)\n",
    "\n",
    "# Integrate data\n",
    "seu_integrated <- IntegrateData(anchorset = anchors)\n",
    "\n",
    "# Switch to integrated assay for downstream analysis\n",
    "DefaultAssay(seu_integrated) <- \"integrated\""
   ]
  },
  {
   "cell_type": "markdown",
   "id": "e6c4764b",
   "metadata": {},
   "source": [
    "For the purposes of QC:\n",
    "Scale and centre the gene expression values by dividing by standard deviation and subtracting the gene's mean, each gene becomes mean 0, variance 1\n",
    "Perform dimensionality reduction and clustering then plot to check for batch effects\n",
    "Comment these lines out before processing for cell2location"
   ]
  },
  {
   "cell_type": "code",
   "execution_count": null,
   "id": "2077d50d",
   "metadata": {
    "vscode": {
     "languageId": "r"
    }
   },
   "outputs": [],
   "source": [
    "\n",
    "\n",
    "#seu_integrated <- ScaleData(seu_integrated, verbose = FALSE)\n",
    "#seu_integrated <- RunPCA(seu_integrated, npcs = 30, verbose = FALSE)\n",
    "#seu_integrated <- RunUMAP(seu_integrated, reduction = \"pca\", dims = 1:30)\n",
    "\n",
    "\n",
    "#check origin \n",
    "#table(seu_integrated$orig.ident)\n",
    "\n",
    "#plot umap coloured by sample\n",
    "#p_pca <- DimPlot(seu_integrated, reduction = \"pca\", group.by = \"orig.ident\") +\n",
    "  #ggtitle(\"pca coloured by sample\")\n",
    "\n",
    "#ggsave(\"scRNAseq/plots/pca_by_sample.png\", plot = p_pca, width = 6, height = 5, dpi = 300)\n",
    "\n",
    "#p_umap <- DimPlot(seu_integrated, reduction = \"umap\", group.by = \"orig.ident\") +\n",
    "  #ggtitle(\"umap coloured by sample\")\n",
    "\n",
    "#ggsave(\"scRNAseq/plots/umap_by_sample.png\", plot = p_umap, width = 6, height = 5, dpi = 300)"
   ]
  },
  {
   "cell_type": "markdown",
   "id": "61d93878",
   "metadata": {},
   "source": [
    "\n",
    "This UMAP suggests:\n",
    "Well mixed clusters, no dominant sample specific regions suggesting successful integration and correction of batch effects.\n",
    "Cells are grouped primarily by biological similarity, not by sample origin.\n",
    "You can now proceed with downstream steps: clustering, cell type annotation, differential expression, etc."
   ]
  },
  {
   "cell_type": "code",
   "execution_count": null,
   "id": "c0624b5d",
   "metadata": {
    "vscode": {
     "languageId": "r"
    }
   },
   "outputs": [],
   "source": [
    "library(SeuratDisk)\n",
    "#Saves the integrated Seurat object to .h5Seurat.\n",
    "#Converts it to .h5ad format for Python compatibility (Scanpy).\n",
    "#converted file is automatically saved when you run convert\n",
    "SaveH5Seurat(seu_integrated, filename = \"/scRNAseq/comb_GSE158937.h5Seurat\")\n",
    "Convert(\"comb_GSE158937.h5Seurat\", assay = \"RNA\", dest = \"/scRNAseq/comb_GSE158937.h5ad\")"
   ]
  },
  {
   "cell_type": "markdown",
   "id": "bccd8306",
   "metadata": {},
   "source": [
    "Then quit and prepare spatial data "
   ]
  },
  {
   "cell_type": "markdown",
   "id": "1e6b236f",
   "metadata": {},
   "source": []
  }
 ],
 "metadata": {
  "kernelspec": {
   "display_name": "R",
   "language": "R",
   "name": "ir"
  },
  "language_info": {
   "codemirror_mode": "r",
   "file_extension": ".r",
   "mimetype": "text/x-r-source",
   "name": "R",
   "pygments_lexer": "r",
   "version": "4.0.5"
  }
 },
 "nbformat": 4,
 "nbformat_minor": 5
}
