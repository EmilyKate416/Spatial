{
 "cells": [
  {
   "cell_type": "markdown",
   "id": "1d46b3bb",
   "metadata": {},
   "source": [
    ": '\n",
    "================================================================================\n",
    "Pipeline: Single-cell RNA-seq Preprocessing, QC, Integration, and Export\n",
    "Purpose: Prepare a high-quality single-cell reference for Cell2location\n",
    "\n",
    "Description:\n",
    "    This script implements preprocessing, quality control (QC), integration, \n",
    "    and export of single-cell RNA-seq reference data prior to spatial \n",
    "    deconvolution with Cell2location.\n",
    "\n",
    "Environment Setup:\n",
    "    # Local setup with conda/mamba\n",
    "    mamba activate cell2loc_prep_r\n",
    "    mamba install ipykernel\n",
    "    python3 -m ipykernel install --user --name=cell2loc_prep_r --display-name \"cell2loc_prep_r\"\n",
    "\n",
    "    # Register R kernel\n",
    "    R\n",
    "    install.packages(\"IRkernel\")\n",
    "    IRkernel::installspec(user = TRUE)\n",
    "    quit()\n",
    "\n",
    "Input Data:\n",
    "    - GEO accession: GSE158937\n",
    "      Single-cell RNA sequencing samples from high-grade serous ovarian cancer.\n",
    "    - Files per sample (10x Genomics format):\n",
    "        barcodes.tsv   : Unique cell identifiers\n",
    "        features.tsv   : List of measured genes\n",
    "        matrix.mtx     : Sparse gene expression matrix\n",
    "\n",
    "    - Example samples used:\n",
    "        GSM4816045, GSM4816046, GSM4816047\n",
    "\n",
    "Workflow Steps:\n",
    "    1. Load raw 10x data into Seurat objects.\n",
    "    2. Perform QC:\n",
    "         - Keep cells with >200 and <7500 detected genes.\n",
    "         - Exclude cells with >10% mitochondrial gene content.\n",
    "    3. Normalize data and identify 2000 highly variable genes.\n",
    "    4. Integrate samples:\n",
    "         - Select common features.\n",
    "         - Find anchors (matched cells across datasets).\n",
    "         - Correct batch effects and merge datasets.\n",
    "    5. (Optional) Scale, PCA, UMAP, clustering for QC visualization.\n",
    "    6. Export integrated object to:\n",
    "         - H5Seurat format (.h5Seurat).\n",
    "         - H5AD format (.h5ad) for Python/Scanpy compatibility.\n",
    "\n",
    "Outputs:\n",
    "    - QC violin plots per sample (genes, UMIs, mitochondrial %).\n",
    "    - Integrated Seurat object.\n",
    "    - Exported files:\n",
    "        comb_GSE158937.h5Seurat\n",
    "        comb_GSE158937.h5ad\n",
    "\n",
    "Notes:\n",
    "    - Mitochondrial genes are retained in Visium workflows, but here we filter \n",
    "      high-mito cells to build a clean reference for Cell2location.\n",
    "    - UMAP and PCA checks ensure successful batch integration.\n",
    "\n",
    "================================================================================\n",
    "'\n"
   ]
  },
  {
   "cell_type": "code",
   "execution_count": null,
   "id": "e9038d8c",
   "metadata": {
    "vscode": {
     "languageId": "r"
    }
   },
   "outputs": [],
   "source": [
    "#if local \n",
    "mamba activate cell2loc_prep_r\n",
    "#mamba install ipykernel\n",
    "#python3 -m ipykernel install --user --name=cell2loc_prep_r --display-name \"cell2loc_prep_r\""
   ]
  },
  {
   "cell_type": "code",
   "execution_count": null,
   "id": "3733fb98",
   "metadata": {
    "vscode": {
     "languageId": "r"
    }
   },
   "outputs": [],
   "source": [
    "#register kernel \n",
    "#in terminal, open R\n",
    "#install.packages('IRkernel')\n",
    "#IRkernel::installspec(user = TRUE)\n",
    "#quit()\n",
    ".libPaths()\n",
    "ip <- installed.packages(fields = \"LibPath\")\n",
    "ip\n"
   ]
  },
  {
   "cell_type": "markdown",
   "id": "7a657a37",
   "metadata": {},
   "source": [
    "pipeline for single cell preprocessing, QC, integration and export prior to cell2location  \n",
    "Single cell reference data from https://www.ncbi.nlm.nih.gov/geo/query/acc.cgi?acc=GSE158937 \tSingle-cell RNA sequencing samples from high-grade serous ovarian cancer (HGSOC)  \n",
    "    barcodes.tsv: List of all cell barcodes (unique cell IDs)  \n",
    "    features.tsv or genes.tsv: List of all genes/features measured (gene names or IDs)  \n",
    "    matrix.mtx: The raw count matrix itself, in sparse format, matching barcodes x feature   \n",
    "\n",
    "NOTE need to also compare with https://www.ncbi.nlm.nih.gov/geo/query/acc.cgi?acc=GSE266577  \n",
    "which I can load and filter to ovary and treatment naive samples and then use the pre-annotated cell types - scroll down to bottom to see this"
   ]
  },
  {
   "cell_type": "code",
   "execution_count": 1,
   "id": "6c9b5a94",
   "metadata": {
    "vscode": {
     "languageId": "r"
    }
   },
   "outputs": [
    {
     "name": "stderr",
     "output_type": "stream",
     "text": [
      "Attaching SeuratObject\n",
      "\n",
      "Registered S3 method overwritten by 'SeuratDisk':\n",
      "  method            from  \n",
      "  as.sparse.H5Group Seurat\n",
      "\n",
      "\n",
      "Attaching package: ‘dplyr’\n",
      "\n",
      "\n",
      "The following objects are masked from ‘package:stats’:\n",
      "\n",
      "    filter, lag\n",
      "\n",
      "\n",
      "The following objects are masked from ‘package:base’:\n",
      "\n",
      "    intersect, setdiff, setequal, union\n",
      "\n",
      "\n"
     ]
    }
   ],
   "source": [
    "library(Seurat)\n",
    "library(SeuratDisk)\n",
    "library(dplyr)\n",
    "library(scCATCH)\n",
    "\n",
    "\n",
    "data_dir <- \"/home/lythgo02/Documents/scRNAseq/GSE158937_RAW\"\n",
    "samples <- c(\"GSM4816045\", \"GSM4816046\", \"GSM4816047\")  # replace with your sample IDs\n",
    "seurat_list <- lapply(samples, function(samp) {\n",
    "  folder <- file.path(data_dir, paste0(samp, \"_filtered\"))\n",
    "  counts <- Read10X(data.dir = folder)\n",
    "  seu <- CreateSeuratObject(counts = counts, \n",
    "                            project = samp, \n",
    "                            min.cells = 3, #only genes expresssed in at least 3 cells\n",
    "                            min.features = 200) # only cells with at least 200 genes detected to remove low quality cells \n",
    "  seu$orig.ident <- samp\n",
    "  return(seu)\n",
    "})\n",
    "\n",
    "names(seurat_list) <- samples\n",
    "\n",
    "\n"
   ]
  },
  {
   "cell_type": "markdown",
   "id": "e631300f",
   "metadata": {},
   "source": [
    "QC on each sample \n",
    "    Mitochondrial content - keep cells where the % expressed genes that are mitochdondrial is <10% (high damage = cells that leak mitochondrial RNA)\n",
    "     - (Building a reference for deconvolution so want clean, well-annotated cell types to form accurate basis profiles. \n",
    "     - Removing low-quality or stressed cells even though i have retained mitochondrial genes in the visium QC).\n",
    "     - Remove cells with fewer than 200 genes detected\n",
    "     - Remove cells with more than 7500 genes detected \n",
    "        (Abnormally high numbers of genes detected indicates doublets or multiplets captured in cell capture)    \n"
   ]
  },
  {
   "cell_type": "code",
   "execution_count": null,
   "id": "fa4677e1",
   "metadata": {
    "vscode": {
     "languageId": "r"
    }
   },
   "outputs": [],
   "source": [
    "\n",
    "library(ggplot2)\n",
    "\n",
    "#plot directory \n",
    "qc_plot_dir<- \"/home/lythgo02/Documents/scRNAseq/plots/\"\n",
    "\n",
    "# Apply QC step-by-step and name plots correctly\n",
    "seurat_list <- lapply(names(seurat_list), function(sample_name) {\n",
    "  seu <- seurat_list[[sample_name]]\n",
    "  \n",
    "  # Add mitochondrial gene percentage\n",
    "  seu[[\"percent.mt\"]] <- PercentageFeatureSet(seu, pattern = \"^MT-\")\n",
    "  \n",
    "  # Create and save QC violin plot\n",
    "  #qc_plot <- VlnPlot(seu, features = c(\"nFeature_RNA\", \"nCount_RNA\", \"percent.mt\"), ncol = 3)\n",
    "  #ggsave(\n",
    "  #  filename = file.path(qc_plot_dir, paste0(sample_name, \"_qc_violin.png\")),\n",
    "  #  plot = qc_plot,\n",
    "  #  width = 10,\n",
    "  #  height = 4\n",
    "  #)\n",
    "\n",
    "  # Filter cells\n",
    "  seu <- subset(seu, subset = nFeature_RNA > 200 & nFeature_RNA < 7500 & percent.mt < 10)\n",
    "  \n",
    "  return(seu)\n",
    "})\n",
    "\n",
    "# Restore names\n",
    "names(seurat_list) <- c(\"GSM4816045\", \"GSM4816046\", \"GSM4816047\")\n",
    "\n"
   ]
  },
  {
   "cell_type": "code",
   "execution_count": null,
   "id": "c7b769ab",
   "metadata": {
    "vscode": {
     "languageId": "r"
    }
   },
   "outputs": [],
   "source": []
  },
  {
   "cell_type": "code",
   "execution_count": null,
   "id": "c1cd6952",
   "metadata": {
    "vscode": {
     "languageId": "r"
    }
   },
   "outputs": [],
   "source": [
    "\n",
    "Interpretation ofo violin plots:\n",
    "    nFeature_RNA (number of genes per cell): Most cells have 200–1000 genes detected: some outliers at higher end but acceptable \n",
    "    nCount_RNA (total UMIs per cell): Skewed distribution with a long tail —  few cells with very high RNA content (>20,000 UMIs). Might suggest doublets or highly active cells.\n",
    "    percent.mt (mitochondrial gene percentage): Evenly distributed from ~0 to 10%, with many cells around 2–8%. This is expected; <10% is usually considered acceptable.\n",
    "\n",
    "Suitable filters applied."
   ]
  },
  {
   "cell_type": "markdown",
   "id": "adc3fe72",
   "metadata": {},
   "source": [
    "Normalise\n",
    "Find highly variable genes "
   ]
  },
  {
   "cell_type": "code",
   "execution_count": null,
   "id": "04b4e26f",
   "metadata": {
    "vscode": {
     "languageId": "r"
    }
   },
   "outputs": [],
   "source": [
    "seurat_list <- lapply(seurat_list, function(seu) {\n",
    "  seu <- NormalizeData(seu)    #log normalisation\n",
    "  seu <- FindVariableFeatures(seu, \n",
    "                              selection.method = \"vst\", #variant stabilising transformation to find top 2000 variable genes\n",
    "                              nfeatures = 2000)   \n",
    "  return(seu) \n",
    "})\n"
   ]
  },
  {
   "cell_type": "markdown",
   "id": "4040f70a",
   "metadata": {},
   "source": [
    "Integrate samples based on shared genes  \n",
    "Find \"anchors,\" pairs of cells from different datasets that are in a matched biological state using dimensionality reduction. \n",
    "Use the anchors to correct batch effects and merge datasets into a single integrated Seurat object \n",
    "\n",
    " - SelectIntegrationFeatures() → picked common genes across samples.\n",
    " - FindIntegrationAnchors() → matched biologically similar cells across datasets.\n",
    " - IntegrateData() → corrected batch effects."
   ]
  },
  {
   "cell_type": "code",
   "execution_count": null,
   "id": "c8f5380e",
   "metadata": {
    "vscode": {
     "languageId": "r"
    }
   },
   "outputs": [],
   "source": [
    "# Select features (common genes) for integration\n",
    "features <- SelectIntegrationFeatures(object.list = seurat_list) #output = vector of gene names for integration \n",
    "\n",
    "# Find integration anchors (using PCA)\n",
    "anchors <- FindIntegrationAnchors(object.list = seurat_list, anchor.features = features)\n",
    "\n",
    "# Integrate data\n",
    "seu_integrated <- IntegrateData(anchorset = anchors)\n",
    "\n",
    "# Switch to integrated assay for downstream analysis\n",
    "DefaultAssay(seu_integrated) <- \"integrated\""
   ]
  },
  {
   "cell_type": "markdown",
   "id": "e6c4764b",
   "metadata": {},
   "source": [
    "Scaling, PCA, clustering, UMAP  \n",
    " - Scale and centre the gene expression values by dividing by standard deviation and subtracting the gene's mean, each gene becomes mean 0, variance 1\n",
    " - Perform dimensionality reduction and clustering then plot to check for batch effects\n"
   ]
  },
  {
   "cell_type": "code",
   "execution_count": null,
   "id": "2077d50d",
   "metadata": {
    "vscode": {
     "languageId": "r"
    }
   },
   "outputs": [],
   "source": [
    "\n",
    "\n",
    "seu_integrated <- ScaleData(seu_integrated, verbose = FALSE)\n",
    "seu_integrated <- RunPCA(seu_integrated, npcs = 50, verbose = FALSE)\n",
    "\n",
    "#explore PCA\n",
    "e <- ElbowPlot(seu_integrated, ndims=50)\n",
    "\n",
    "ggsave(\n",
    "    filename = file.path(qc_plot_dir, \"elbow_plot_pca.png\"),\n",
    "    plot = e,\n",
    "    width = 10,\n",
    "    height = 4\n",
    "  )\n",
    "\n",
    "seu_integrated <- RunUMAP(seu_integrated, reduction = \"pca\", dims = 1:20)\n"
   ]
  },
  {
   "cell_type": "code",
   "execution_count": null,
   "id": "d80afe87",
   "metadata": {
    "vscode": {
     "languageId": "r"
    }
   },
   "outputs": [],
   "source": [
    "\n",
    "#check origin \n",
    "table(seu_integrated$orig.ident)\n",
    "\n",
    "#plot umap coloured by sample\n",
    "p_pca <- DimPlot(seu_integrated, reduction = \"pca\", group.by = \"orig.ident\") +\n",
    "  ggtitle(\"pca coloured by sample\")\n",
    "\n",
    "ggsave(filename = file.path(qc_plot_dir, \"pca_by_sample.png\"), \n",
    "plot = p_pca, width = 6, height = 5, dpi = 300)\n",
    "\n",
    "p_umap <- DimPlot(seu_integrated, reduction = \"umap\", group.by = \"orig.ident\") +\n",
    "  ggtitle(\"umap coloured by sample\")\n",
    "\n",
    "ggsave(filename = file.path(qc_plot_dir, \"umap_by_sample.png\"),\n",
    " plot = p_umap, width = 6, height = 5, dpi = 300)"
   ]
  },
  {
   "cell_type": "code",
   "execution_count": null,
   "id": "a6dc2ce2",
   "metadata": {
    "vscode": {
     "languageId": "r"
    }
   },
   "outputs": [],
   "source": [
    "DimPlot(seu_integrated, label=TRUE)\n",
    "\n"
   ]
  },
  {
   "cell_type": "markdown",
   "id": "61d93878",
   "metadata": {},
   "source": [
    "\n",
    "This UMAP suggests:\n",
    " - Well mixed clusters, no dominant sample specific regions suggesting successful integration and correction of batch effects.\n",
    " - Cells are grouped primarily by biological similarity, not by sample origin.\n",
    "Downstream steps: clustering, cell type annotation, differential expression, etc."
   ]
  },
  {
   "cell_type": "code",
   "execution_count": null,
   "id": "e45c4e40",
   "metadata": {
    "vscode": {
     "languageId": "r"
    }
   },
   "outputs": [],
   "source": [
    "#gene markers for broad cell type classification \n",
    "marker_sets <- list(\n",
    "  Epithelial_Tumour = c(\n",
    "    \"EPCAM\",\"KRT8\",\"KRT18\", \"KRT19\",\"MUC1\",   # epithelial markers\n",
    "    \"WFDC2\",\"PAX8\", \"WT1\", \"MUC16\"            # tumour markers\n",
    "  ),\n",
    "  Tcell = c(\"CD3D\", \"CD3E\", \"CD3G\", \"TRAC\", \"CD2\", \"CD4\", \"CD8A\", \"CD8B\"),\n",
    "\n",
    "  Bcell = c(\"CD19\", \"MS4A1\", \"CD79A\"),\n",
    "  \n",
    "  #NKcell = c(\"KLRD1\", \"KLRF1\", \"NCR1\", \"TYROBP\"),  # Specific to NK\n",
    "\n",
    "  Myeloid = c(\"LYZ\", \"C1QA\", \"C1QB\", \"C1QC\", \"CD68\", \"CD14\", \"CD163\", \"ITGAM\", \"CSF1R\"),\n",
    "  \n",
    "  Endo = c(\"PECAM1\", \"VWF\", \"CLDN5\", \"CDH5\"),\n",
    "  \n",
    "  Stromal = c(\"CFD\", \"C7\", \"DPT\", \"CCN5\", \"DCN\", \"COL1A1\", \"COL1A2\", \"PDGFRA\", \"FAP\", \"PDGFRB\", \"RGS5\", \"CSPG4\", \"MYH11\", \"ACTA2\", \"TAGLN\", \"CNN1\")\n",
    ")\n",
    "\n",
    "\n",
    "\n"
   ]
  },
  {
   "cell_type": "code",
   "execution_count": null,
   "id": "7e5e89c7",
   "metadata": {
    "vscode": {
     "languageId": "r"
    }
   },
   "outputs": [],
   "source": [
    "# Find neighbors based on PCA\n",
    "seu_integrated <- FindNeighbors(seu_integrated, dims = 1:20)\n"
   ]
  },
  {
   "cell_type": "markdown",
   "id": "7fc2f6dc",
   "metadata": {},
   "source": [
    "Run loop to test each resolution for identification of broad cell lineages"
   ]
  },
  {
   "cell_type": "code",
   "execution_count": null,
   "id": "eaafe0ea",
   "metadata": {
    "vscode": {
     "languageId": "r"
    }
   },
   "outputs": [],
   "source": [
    "\n",
    "# Define resolutions\n",
    "# Define resolutions\n",
    "resolutions <- c(1.2)\n",
    "# Initialize plot lists\n",
    "umap_raw_plots <- list()\n",
    "umap_annotated_plots <- list()\n",
    "heatmap_plots <- list()\n",
    "\n",
    "for (res in resolutions) {\n",
    "  message(\"Processing resolution: \", res)\n",
    "  \n",
    "  # Work on a copy to keep seu_integrated unchanged\n",
    "  seu_copy <- FindClusters(seu_integrated, resolution = res)\n",
    "  \n",
    "  # UMAP with raw cluster IDs\n",
    "  p1 <- DimPlot(seu_copy, reduction = \"umap\", label = TRUE) + \n",
    "    ggtitle(paste(\"Resolution\", res))\n",
    "  umap_raw_plots[[as.character(res)]] <- p1  #assign to list\n",
    "\n",
    "  #ggsave(filename = file.path(qc_plot_dir, paste0(\"UMAP_clusters_res\", res, \".pdf\")),plot = p1, width = 7, height = 6)\n",
    "  \n",
    "  # Find markers\n",
    "  seu_markers <- FindAllMarkers(seu_copy, only.pos = TRUE)\n",
    "  \n",
    "  # Annotate clusters by most overlapping marker set\n",
    "  cluster_ids <- levels(Idents(seu_copy))\n",
    "  cluster_annotations <- sapply(cluster_ids, function(cl) {\n",
    "    cluster_genes <- seu_markers %>% filter(cluster == cl) %>% pull(gene)\n",
    "    proportions <- sapply(marker_sets, function(cell_type){\n",
    "                          length(intersect(cluster_genes, cell_type))/length(cell_type)\n",
    "    })\n",
    "    names(which.max(proportions))\n",
    "  })\n",
    "  names(cluster_annotations) <- cluster_ids\n",
    "  \n",
    "  # Rename cluster identities\n",
    "  seu_copy <- RenameIdents(seu_copy, cluster_annotations)\n",
    "  \n",
    "  # UMAP with annotated cluster IDs\n",
    "  p2 <- DimPlot(seu_copy, reduction = \"umap\", label = TRUE, pt.size = 0.5) + \n",
    "    ggtitle(paste(\"Annotated clusters - res\", res))\n",
    "  \n",
    "  umap_annotated_plots[[as.character(res)]] <- p2 #assign to list\n",
    "\n",
    "  #ggsave(filename = file.path(qc_plot_dir, paste0(\"UMAP_annotated_res\", res, \".pdf\")),plot = p2, width = 7, height = 6)\n",
    "  \n",
    "  # Top 10 markers per cluster\n",
    "  top10 <- seu_markers %>%\n",
    "    group_by(cluster) %>%\n",
    "    filter(avg_log2FC > 1) %>%\n",
    "    slice_head(n = 10) %>%\n",
    "    ungroup()\n",
    "  \n",
    "  feats <- unique(top10$gene)\n",
    "  p3 <- DoHeatmap(seu_copy, features = feats, raster = TRUE) + NoLegend() +\n",
    "    ggtitle(paste(\"Top10 Markers - res\", res))\n",
    "  \n",
    "  heatmap_plots[[as.character(res)]] <- p3\n",
    "  \n",
    "  #ggsave(filename = file.path(qc_plot_dir, paste0(\"heatmap_res\", res, \".pdf\")),plot = p3, width = 7, height = 6)\n",
    "}\n",
    "\n",
    "\n"
   ]
  },
  {
   "cell_type": "markdown",
   "id": "7889d441",
   "metadata": {},
   "source": [
    "Display plots from previous chunk"
   ]
  },
  {
   "cell_type": "code",
   "execution_count": null,
   "id": "c9d7c47d",
   "metadata": {
    "vscode": {
     "languageId": "r"
    }
   },
   "outputs": [],
   "source": [
    "combined_umap <- patchwork::wrap_plots(umap_annotated_plots, ncol=2)\n",
    "combined_heatmap <- patchwork::wrap_plots(heatmap_plots, ncol=2)\n",
    "options(repr.plot.width=16, repr.plot.height=16)\n",
    "combined_umap\n",
    "combined_heatmap"
   ]
  },
  {
   "cell_type": "markdown",
   "id": "5d2d182a",
   "metadata": {},
   "source": [
    "At resolution of 1.2:\n",
    " - umap raw - 18 well separated clusters\n",
    " - umap annotated - collapsed into 8 major types \n",
    " - heatmap - confirms good separation of major lineages with ability to separate bigger compartments (tumour, myeloid and T-cells further)  \n",
    "\n",
    "Run chosen resolution to identify clusters (stored in Idents(seu_integrated))  \n",
    "Then run FindAllMarkers which identifies DEGs between clusters and returns a dataframe with:\n",
    " - gene\n",
    " - cluster\n",
    " - avg_log2FC\n",
    " - pct.1\n",
    " - pct.2\n",
    " - p_val\n",
    " - p_val_adj  \n",
    "Where each row is a marker gene for a particular cluster "
   ]
  },
  {
   "cell_type": "code",
   "execution_count": null,
   "id": "55e2005c",
   "metadata": {
    "vscode": {
     "languageId": "r"
    }
   },
   "outputs": [],
   "source": [
    "#run with chosen resolution for broad lineages\n",
    "seu_integrated <- FindClusters(seu_integrated, resolution = 1.2)\n",
    "#find markers\n",
    "seu_markers <- FindAllMarkers(seu_integrated, only.pos = TRUE)\n"
   ]
  },
  {
   "cell_type": "code",
   "execution_count": null,
   "id": "ceb80604",
   "metadata": {
    "vscode": {
     "languageId": "r"
    }
   },
   "outputs": [],
   "source": [
    "head(seu_markers)"
   ]
  },
  {
   "cell_type": "code",
   "execution_count": null,
   "id": "2cdfeacb",
   "metadata": {
    "vscode": {
     "languageId": "r"
    }
   },
   "outputs": [],
   "source": [
    "# Ensure you're using the same object\n",
    "cluster_ids <- levels(Idents(seu_integrated))\n",
    "\n",
    "# Get annotation per cluster based on marker proportions\n",
    "cluster_annotations <- sapply(cluster_ids, function(cl) {\n",
    "    cluster_genes <- seu_markers %>% filter(cluster == cl) %>% pull(gene)\n",
    "    proportions <- sapply(marker_sets, function(cell_type){\n",
    "        length(intersect(cluster_genes, cell_type)) / length(cell_type)\n",
    "    })\n",
    "    if (max(proportions) == 0) {\n",
    "        return(\"Other\")\n",
    "    } else {\n",
    "        return(names(which.max(proportions)))\n",
    "    }\n",
    "})\n",
    "\n",
    "# Rename cluster identities\n",
    "names(cluster_annotations) <- cluster_ids\n",
    "seu_integrated <- RenameIdents(seu_integrated, cluster_annotations)\n",
    "\n",
    "# Store annotations\n",
    "seu_integrated$lineage <- Idents(seu_integrated)\n",
    "seu_integrated$subtypes <- Idents(seu_integrated)\n",
    "\n",
    "# Subset by broad lineage\n",
    "tcell_subset <- subset(seu_integrated, idents = \"Tcell\")\n",
    "myeloid_subset <- subset(seu_integrated, idents = \"Myeloid\")\n",
    "stromal_subset <- subset(seu_integrated, idents = \"Stromal\")\n"
   ]
  },
  {
   "cell_type": "code",
   "execution_count": 147,
   "id": "3eb55ec7",
   "metadata": {
    "vscode": {
     "languageId": "r"
    }
   },
   "outputs": [],
   "source": [
    "#marker sets for reclustering\n",
    "stromal <- list(\n",
    "  # Stromal\n",
    "  myCAFs     = c(\"POSTN\",\"VCAN\",\"COL10A1\",\"COL11A1\",\"MMP11\", \"ACTA2\", \"FAP\"), # inflammatory and high in HRD tumours\n",
    "  indolent_CAFs      = c(\"ADH1B\",\"PROK1\",\"CCN5\"), #indolent CAFs. high in HRP\n",
    "  inflammatory_CAFs      = c(\"C7\",\"CFD\",\"DPT\"),\n",
    "  Mesofibs = c(\"KRT8\",\"KRT19\",\"SNAI1\", \"VEGFA\"),  #inflammatory and high in HRD tumours\n",
    "  Pericytes = c(\"RGS5\",\"PDGFRB\",\"CSPG4\"),\n",
    "  SMC =c(\"MYH11\",\"ACTA2\",\"TAGLN\",\"CNN1\"))\n",
    "\n",
    "\n",
    "myeloid <- list(\n",
    "  Macrophages_M1 = c(\"IL1B\", \"TNF\", \"CXCL9\", \"CXCL10\", \"NOS2\"),\n",
    "  Macrophages_M2 = c(\"CD163\", \"MRC1\", \"TGFB1\", \"STAB1\", \"MSR1\", \"CD206\"),\n",
    "  Dendritic_cells = c(\"CD1C\", \"CLEC9A\", \"LAMP3\", \"BATF3\", \"IRF8\"),\n",
    "  Neutrophils = c(\"S100A8\", \"S100A9\", \"CXCR2\", \"FCGR3B\", \"CXCR1\"),\n",
    "  Mast_cells = c(\"KIT\", \"TPSAB1\", \"CPA3\", \"MS4A2\"),\n",
    "  MDSCs = c(\"ARG1\", \"CD33\", \"ITGAM\", \"OLR1\", \"S100A9\")\n",
    ")\n",
    "\n",
    "t_cells <- list(\n",
    "  # T cells (subsets)\n",
    "  CD8_proliferating_T_cell = c(\"CD8A\", \"TOP2A\", \"MKI67\"),\n",
    "  CD8_naive_T_cell = c(\"CD8A\", \"CCR7\", \"SELL\", \"TCF7\"),\n",
    "  CD8_memory_T_cell    = c(\"CD8A\",\"GPR183\",\"IL7R\"),\n",
    "  CD8_exhausted_T_cell   = c(\"CD8A\",\"PDCD1\",\"CTLA4\",\"TIGIT\",\"HAVCR2\",\"TOX\"),\n",
    "  CD8_cytotoxic_T_cell   = c(\"CD8A\",\"GZMB\",\"GNLY\",\"PRF1\",\"NKG7\"),\n",
    "  CD4_T_regulatory_cell  = c(\"CD4\",\"FOXP3\",\"IL2RA\"),\n",
    "  CD4_T_reg_immunosuppressive= c(\"CD4\",\"FOXP3\",\"IL2RA\",\"CTLA4\",\"TIGIT\"),\n",
    "  NKcell = c(\"KLRD1\", \"KLRF1\", \"NCR1\", \"TYROBP\")\n",
    "\n",
    ")"
   ]
  },
  {
   "cell_type": "markdown",
   "id": "8716e9fe",
   "metadata": {},
   "source": [
    "Need to introduce new subsets as possible levels before matching assigned subset identities back after reclustering "
   ]
  },
  {
   "cell_type": "code",
   "execution_count": null,
   "id": "61e34549",
   "metadata": {
    "vscode": {
     "languageId": "r"
    }
   },
   "outputs": [],
   "source": [
    "# Combine all cell type names from your lists\n",
    "all_cell_types <- c(\n",
    "  names(stromal),\n",
    "  names(myeloid),\n",
    "  names(t_cells)\n",
    ")\n",
    "\n",
    "# Get current levels of your subsets metadata column\n",
    "current_levels <- levels(seu_integrated$subtypes)\n",
    "\n",
    "# Add new cell types to existing levels\n",
    "new_levels <- unique(c(current_levels, all_cell_types))\n",
    "\n",
    "# Update the factor levels of 'subsets' metadata column to include new ones\n",
    "seu_integrated$subtypes <- factor(seu_integrated$subtypes, levels = new_levels)\n"
   ]
  },
  {
   "cell_type": "code",
   "execution_count": null,
   "id": "a572a32f",
   "metadata": {
    "vscode": {
     "languageId": "r"
    }
   },
   "outputs": [],
   "source": [
    "#subset and recluster on a copy to test resolutions \n",
    "\n",
    "#write a function to recluster\n",
    "reclustering <- function(subsetted_obj,\n",
    "                         marker_sets,\n",
    "                         assay = \"RNA\",\n",
    "                         dims = 1:20,\n",
    "                         npcs = 30,\n",
    "                         resolution = 0.8) {\n",
    "  \n",
    "  # Set assay\n",
    "  DefaultAssay(subsetted_obj) <- assay\n",
    "\n",
    "  # Standard preprocessing\n",
    "  subsetted_obj <- NormalizeData(subsetted_obj)\n",
    "  subsetted_obj <- FindVariableFeatures(subsetted_obj)\n",
    "  subsetted_obj <- ScaleData(subsetted_obj)\n",
    "  subsetted_obj <- RunPCA(subsetted_obj, npcs = npcs)\n",
    "  subsetted_obj <- FindNeighbors(subsetted_obj, dims = dims)\n",
    "  subsetted_obj <- RunUMAP(subsetted_obj, dims = dims)\n",
    "  subsetted_obj <- FindClusters(subsetted_obj, resolution = resolution)\n",
    "\n",
    "  # Find markers\n",
    "  markers <- FindAllMarkers(subsetted_obj, only.pos = TRUE)\n",
    "\n",
    "  # Auto-annotate clusters\n",
    "  cluster_id <- levels(Idents(subsetted_obj))\n",
    "\n",
    "  clust_annot <- sapply(cluster_id, function(cl){\n",
    "    cluster_genes <- markers$gene[markers$cluster == cl]\n",
    "\n",
    "    proportions <- sapply(marker_sets, function(cell_type){\n",
    "                          length(intersect(cluster_genes, cell_type))/length(cell_type)\n",
    "    })\n",
    "    \n",
    "    if (max(proportions) == 0) {\n",
    "      return(\"Other\")\n",
    "    } else {\n",
    "      return(names(which.max(proportions)))\n",
    "    }\n",
    "  })\n",
    "\n",
    "  # Rename cluster identities\n",
    "  subsetted_obj <- RenameIdents(subsetted_obj, clust_annot)\n",
    "\n",
    "  # Return processed object\n",
    "  return(subsetted_obj)\n",
    "}\n",
    "\n",
    "\n"
   ]
  },
  {
   "cell_type": "code",
   "execution_count": null,
   "id": "cf9ce6f8",
   "metadata": {
    "vscode": {
     "languageId": "r"
    }
   },
   "outputs": [],
   "source": [
    "table(seu_integrated$lineage)\n",
    "levels(seu_integrated$subtypes)"
   ]
  },
  {
   "cell_type": "code",
   "execution_count": null,
   "id": "005c83e6",
   "metadata": {
    "vscode": {
     "languageId": "r"
    }
   },
   "outputs": [],
   "source": [
    "t_subtypes <- reclustering(tcell_subset, t_cells, resolution = 2)\n",
    "\n",
    "DimPlot(t_subtypes, reduction=\"umap\", label=TRUE)\n",
    "\n",
    "new_idents <- Idents(t_subtypes)\n",
    "seu_integrated$subtypes[names(new_idents)] <- as.character(new_idents)\n",
    "\n",
    "table(seu_integrated$subtypes)\n"
   ]
  },
  {
   "cell_type": "code",
   "execution_count": null,
   "id": "361783ec",
   "metadata": {
    "vscode": {
     "languageId": "r"
    }
   },
   "outputs": [],
   "source": [
    "myeloid_subtypes <- reclustering(myeloid_subset, myeloid)\n",
    "DimPlot(myeloid_subtypes, reduction=\"umap\", label=TRUE)\n",
    "new_idents <- Idents(myeloid_subtypes)\n",
    "seu_integrated$subtypes[names(new_idents)] <- as.character(new_idents)\n",
    "\n",
    "table(seu_integrated$subtypes)\n"
   ]
  },
  {
   "cell_type": "code",
   "execution_count": 146,
   "id": "2be5ed54",
   "metadata": {
    "vscode": {
     "languageId": "r"
    }
   },
   "outputs": [
    {
     "name": "stderr",
     "output_type": "stream",
     "text": [
      "Centering and scaling data matrix\n",
      "\n",
      "PC_ 1 \n",
      "Positive:  CFD, C3, CA12, IL18, UPK3B, TNFRSF9, CALB2, DES, ABI3BP, PDZK1IP1 \n",
      "\t   STEAP1, CFB, SERPINB2, PDPN, S100A16, PTGIS, HP, DSC3, RFLNA, KLK11 \n",
      "\t   OGN, DSG2, C2, ALDH1A3, CCDC80, KRT19, LINC01133, PTGDS, IL1R1, FAM83G \n",
      "Negative:  IGFBP7, RGS5, TAGLN, ACTA2, COL4A1, NDUFA4L2, TIMP3, MGP, MYL9, HSPB1 \n",
      "\t   ASPN, GJA4, MAP1B, RGS16, COX4I2, SLC38A11, S100A4, PGF, CHN1, UACA \n",
      "\t   MUSTN1, MYH11, STOM, FJX1, THY1, CAMK2N1, ANGPT2, GUCY1A2, PHLDA1, WFDC1 \n",
      "PC_ 2 \n",
      "Positive:  B2M, HLA-C, RGS5, HLA-B, IFI27, NDUFA4L2, MGP, COL4A1, HLA-A, TIMP3 \n",
      "\t   RGS16, EGFL6, HLA-E, MT2A, ISG15, TNFAIP6, THY1, A2M, STOM, DPF1 \n",
      "\t   CCDC102B, APOLD1, UACA, GJA4, HSPB1, ADAMTS1, IGFBP7, TYMP, NNMT, CPM \n",
      "Negative:  C7, COLEC11, TSPAN8, RNASE1, NSG1, TRABD2A, ISLR, CADPS, PCSK6, COL7A1 \n",
      "\t   DHRS2, KLHDC8A, PGM1, CHL1, MMP23B, ATRNL1, ARX, CCDC170, STAR, MEG3 \n",
      "\t   GADD45G, CLCN5, SERPINA5, SPRR2F, IGFBP5, RASSF6, GATA4, DIRAS3, FNDC1, IGF1 \n",
      "PC_ 3 \n",
      "Positive:  CALB2, IL18, UPK3B, PDZK1IP1, DES, TNFRSF9, LINC01133, HP, SERPINB2, CA12 \n",
      "\t   RFLNA, DSC3, GJB2, PRG4, SLC7A7, ARHGDIG, FAM83G, OGN, KLK11, CFD \n",
      "\t   PLA2G2A, SECTM1, VTN, CFB, PTGER3, SBSN, CHI3L2, CDON, DSG2, KRT19 \n",
      "Negative:  SPATA13, FBXO6, DPF1, SAAL1, SCIN, BATF, COL1A2, PAN2, LGALS9, TNFSF10 \n",
      "\t   HLA-DRB5, RNASE1, CLIC2, MEG3, COL6A3, IFIT3, FKBP7, ISLR, PCLAF, SHROOM4 \n",
      "\t   LDLR, SERPINF1, POU2F2, AL596087.2, PDGFD, CMPK2, NFATC1, ZNF783, ABCG2, FOXM1 \n",
      "PC_ 4 \n",
      "Positive:  IFITM1, FBXO6, CLIC2, LGALS9, TNFSF10, PAPLN, IFI44L, MX1, NOX4, CMPK2 \n",
      "\t   TGM2, CGNL1, AL596087.2, OAS2, PLPP3, SERPINF1, OAS1, BST2, HSPA1B, SP110 \n",
      "\t   CD74, OASL, USP18, ARNTL2, TRIM22, IFI6, CXCL12, DDX58, SHROOM4, IFI27 \n",
      "Negative:  FOXM1, TACC3, CEP55, MAD2L1, NUSAP1, HJURP, BIRC5, CDK1, PCLAF, UBE2C \n",
      "\t   CENPF, DLGAP5, SPC25, TK1, KIF23, HMMR, UBE2T, RRM2, PKMYT1, HIST1H1A \n",
      "\t   ASPM, CDCA2, HIST1H2AL, BUB1B, NUF2, TPX2, MYBL2, CLSPN, CDKN3, CENPW \n",
      "PC_ 5 \n",
      "Positive:  PAPLN, SCN9A, CGNL1, FGF7, ARNTL2, NT5E, CXCL12, POSTN, KCND3, THY1 \n",
      "\t   SRPX, ASAP3, TNFSF10, AL596087.2, NOX4, TNFSF13B, AC023043.1, CMPK2, TNFRSF6B, SAA1 \n",
      "\t   C2, CLIC2, TIAM2, DTX3L, PDGFD, CTHRC1, TIMP1, HECW2-AS1, APOL2, GSTO1 \n",
      "Negative:  HSPA1A, ATF3, DNAJB1, HSP90AA1, HSP90AB1, SERTAD1, DNAJA1, HSPA8, HSPH1, KLF4 \n",
      "\t   SOCS3, KCNQ1OT1, EGR1, ID1, JUN, MGAT4A, NEAT1, MAFF, CEBPD, IRF1 \n",
      "\t   ODC1, ZFAND5, HSPE1, IGF2BP3, HSPD1, JDP2, FOSL2, NR4A1, RBBP6, PPP1R9A \n",
      "\n",
      "Computing nearest neighbor graph\n",
      "\n",
      "Computing SNN\n",
      "\n",
      "19:26:30 UMAP embedding parameters a = 0.9922 b = 1.112\n",
      "\n",
      "19:26:30 Read 193 rows and found 20 numeric columns\n",
      "\n",
      "19:26:30 Using Annoy for neighbor search, n_neighbors = 30\n",
      "\n",
      "19:26:30 Building Annoy index with metric = cosine, n_trees = 50\n",
      "\n",
      "0%   10   20   30   40   50   60   70   80   90   100%\n",
      "\n",
      "[----|----|----|----|----|----|----|----|----|----|\n",
      "\n",
      "*\n",
      "*\n",
      "*\n",
      "*\n",
      "*\n",
      "*\n",
      "*\n",
      "*\n",
      "*\n",
      "*\n",
      "*\n",
      "*\n",
      "*\n",
      "*\n",
      "*\n",
      "*\n",
      "*\n",
      "*\n",
      "*\n",
      "*\n",
      "*\n",
      "*\n",
      "*\n",
      "*\n",
      "*\n",
      "*\n",
      "*\n",
      "*\n",
      "*\n",
      "*\n",
      "*\n",
      "*\n",
      "*\n",
      "*\n",
      "*\n",
      "*\n",
      "*\n",
      "*\n",
      "*\n",
      "*\n",
      "*\n",
      "*\n",
      "*\n",
      "*\n",
      "*\n",
      "*\n",
      "*\n",
      "*\n",
      "*\n",
      "*\n",
      "|\n",
      "\n",
      "19:26:30 Writing NN index file to temp file /tmp/RtmpAhboen/file14e61d1ed7827b\n",
      "\n",
      "19:26:30 Searching Annoy index using 1 thread, search_k = 3000\n",
      "\n",
      "19:26:30 Annoy recall = 100%\n",
      "\n",
      "19:26:30 Commencing smooth kNN distance calibration using 1 thread\n",
      " with target n_neighbors = 30\n",
      "\n",
      "19:26:31 Initializing from normalized Laplacian + noise (using irlba)\n",
      "\n",
      "19:26:31 Commencing optimization for 500 epochs, with 6884 positive edges\n",
      "\n",
      "19:26:31 Optimization finished\n",
      "\n"
     ]
    },
    {
     "name": "stdout",
     "output_type": "stream",
     "text": [
      "Modularity Optimizer version 1.3.0 by Ludo Waltman and Nees Jan van Eck\n",
      "\n",
      "Number of nodes: 193\n",
      "Number of edges: 7084\n",
      "\n",
      "Running Louvain algorithm...\n",
      "Maximum modularity in 10 random starts: 0.4953\n",
      "Number of communities: 4\n",
      "Elapsed time: 0 seconds\n"
     ]
    },
    {
     "name": "stderr",
     "output_type": "stream",
     "text": [
      "Calculating cluster 0\n",
      "\n",
      "Calculating cluster 1\n",
      "\n",
      "Calculating cluster 2\n",
      "\n",
      "Calculating cluster 3\n",
      "\n"
     ]
    },
    {
     "data": {
      "text/plain": [
       "\n",
       "          Epithelial_Tumour                     Myeloid \n",
       "                       1375                           0 \n",
       "                      Tcell                     Stromal \n",
       "                          0                           0 \n",
       "                      Other                        Endo \n",
       "                        310                         125 \n",
       "                      Bcell                      myCAFs \n",
       "                         65                          26 \n",
       "              indolent_CAFs           inflammatory_CAFs \n",
       "                          0                           0 \n",
       "                   Mesofibs                   Pericytes \n",
       "                         47                          74 \n",
       "                        SMC              Macrophages_M1 \n",
       "                          0                          79 \n",
       "             Macrophages_M2             Dendritic_cells \n",
       "                        206                          21 \n",
       "                Neutrophils                  Mast_cells \n",
       "                         79                           0 \n",
       "                      MDSCs    CD8_proliferating_T_cell \n",
       "                          0                           0 \n",
       "           CD8_naive_T_cell           CD8_memory_T_cell \n",
       "                          0                          69 \n",
       "       CD8_exhausted_T_cell        CD8_cytotoxic_T_cell \n",
       "                          0                          77 \n",
       "      CD4_T_regulatory_cell CD4_T_reg_immunosuppressive \n",
       "                         49                           0 \n",
       "                     NKcell \n",
       "                         46 "
      ]
     },
     "metadata": {},
     "output_type": "display_data"
    },
    {
     "data": {
      "image/png": "[encoded data removed]",
      "text/plain": [
       "plot without title"
      ]
     },
     "metadata": {
      "image/png": {
       "height": 960,
       "width": 960
      }
     },
     "output_type": "display_data"
    }
   ],
   "source": [
    "stromal_subtypes <- reclustering(stromal_subset, stromal)\n",
    "DimPlot(stromal_subtypes, reduction=\"umap\", label=TRUE)\n",
    "\n",
    "new_idents <- Idents(stromal_subtypes)\n",
    "seu_integrated$subtypes[names(new_idents)] <- as.character(new_idents)\n",
    "\n",
    "table(seu_integrated$subtypes)\n"
   ]
  },
  {
   "cell_type": "code",
   "execution_count": 151,
   "id": "45cad21c",
   "metadata": {
    "vscode": {
     "languageId": "r"
    }
   },
   "outputs": [
    {
     "data": {
      "text/plain": [
       "                       \n",
       "                        GSM4816045 GSM4816046 GSM4816047\n",
       "  Epithelial_Tumour            561        265        549\n",
       "  Other                         62         73        175\n",
       "  Endo                          49          4         72\n",
       "  Bcell                         39         26          0\n",
       "  myCAFs                        22          2          2\n",
       "  Mesofibs                       4          3         40\n",
       "  Pericytes                     21          1         52\n",
       "  Macrophages_M1                 2         77          0\n",
       "  Macrophages_M2                31        158         17\n",
       "  Dendritic_cells                1         18          2\n",
       "  Neutrophils                   53          6         20\n",
       "  CD8_memory_T_cell             32         37          0\n",
       "  CD8_cytotoxic_T_cell          67          5          5\n",
       "  CD4_T_regulatory_cell          0         49          0\n",
       "  NKcell                         0         46          0"
      ]
     },
     "metadata": {},
     "output_type": "display_data"
    },
    {
     "data": {
      "text/plain": [
       "                       \n",
       "                        GSM4816045 GSM4816046 GSM4816047\n",
       "  Epithelial_Tumour            561        265        549\n",
       "  Other                         62         73        175\n",
       "  Endo                          49          4         72\n",
       "  Bcell                         39         26          0\n",
       "  myCAFs                        22          2          2\n",
       "  Mesofibs                       4          3         40\n",
       "  Pericytes                     21          1         52\n",
       "  Macrophages_M1                 2         77          0\n",
       "  Macrophages_M2                31        158         17\n",
       "  Dendritic_cells                1         18          2\n",
       "  Neutrophils                   53          6         20\n",
       "  CD8_memory_T_cell             32         37          0\n",
       "  CD8_cytotoxic_T_cell          67          5          5\n",
       "  CD4_T_regulatory_cell          0         49          0\n",
       "  NKcell                         0         46          0"
      ]
     },
     "metadata": {},
     "output_type": "display_data"
    }
   ],
   "source": [
    "#check cell cluster identity per sample\n",
    "table(Idents(seu_integrated), seu_integrated$orig.ident)\n",
    "\n",
    "# Update the active identities to the new subtype labels stored in metadata\n",
    "Idents(seu_integrated) <- seu_integrated$subtypes\n",
    "table(Idents(seu_integrated), seu_integrated$orig.ident)\n",
    "\n",
    "#save rds\n",
    "saveRDS(seu_integrated, \"/home/lythgo02/Documents/scRNAseq/annotated_scRNAseq.rds\")"
   ]
  },
  {
   "cell_type": "code",
   "execution_count": 152,
   "id": "95c626cb",
   "metadata": {
    "vscode": {
     "languageId": "r"
    }
   },
   "outputs": [],
   "source": [
    "\n",
    "counts_matrix <- GetAssayData(seu_integrated, assay=\"RNA\", slot=\"counts\")\n",
    "write.csv(as.matrix(counts_matrix), file=\"/home/lythgo02/Documents/scRNAseq/count_matrix.csv\", row.names=TRUE)\n"
   ]
  },
  {
   "cell_type": "code",
   "execution_count": null,
   "id": "8e99bdbc",
   "metadata": {
    "vscode": {
     "languageId": "r"
    }
   },
   "outputs": [],
   "source": [
    "library(Seurat)\n",
    "library(SeuratDisk)\n",
    "library(dplyr)\n",
    "library(scCATCH)\n",
    "\n",
    "seu_integrated <- readRDS(\"/home/lythgo02/Documents/scRNAseq/clustered_scRNAseq.rds\")\n",
    "\n"
   ]
  },
  {
   "cell_type": "code",
   "execution_count": null,
   "id": "a56da1e1",
   "metadata": {
    "vscode": {
     "languageId": "r"
    }
   },
   "outputs": [],
   "source": [
    "Annotate cell types with Seurat  \n",
    " - Find markers that define clusters via differential expression.  \n",
    " - By default, it identifies positive and negative markers of a single cluster (specified in ident.1), compared to all other cells. \n",
    " - FindAllMarkers() automates this process for all clusters, but you can also test groups of clusters vs. each other, or against all cells."
   ]
  },
  {
   "cell_type": "code",
   "execution_count": null,
   "id": "9614485e",
   "metadata": {
    "vscode": {
     "languageId": "r"
    }
   },
   "outputs": [],
   "source": [
    "\n",
    "# Identify cluster markers for all clusters\n",
    "seu_markers <- FindAllMarkers(\n",
    "  object = seu_integrated,\n",
    "  only.pos=TRUE #return only the positive ones\n",
    ")\n",
    "#or for specific cluster comparisons\n",
    "# find all markers distinguishing cluster 5 from clusters 0 and 3\n",
    "#cluster5.markers <- FindMarkers(pbmc, ident.1 = 5, ident.2 = c(0, 3))\n",
    "#head(cluster5.markers, n = 5)"
   ]
  },
  {
   "cell_type": "code",
   "execution_count": null,
   "id": "7f772c9d",
   "metadata": {
    "vscode": {
     "languageId": "r"
    }
   },
   "outputs": [],
   "source": [
    "# Optional: View top markers per cluster\n",
    "seu_markers %>%\n",
    "    group_by(cluster) %>%\n",
    "    dplyr::filter(avg_log2FC > 1)\n"
   ]
  },
  {
   "cell_type": "markdown",
   "id": "e3f5db43",
   "metadata": {},
   "source": [
    "Generate an expression heatmap for given cells and features "
   ]
  },
  {
   "cell_type": "code",
   "execution_count": null,
   "id": "aac53f3a",
   "metadata": {
    "vscode": {
     "languageId": "r"
    }
   },
   "outputs": [],
   "source": [
    "seu_markers %>%\n",
    "    group_by(cluster) %>%\n",
    "    dplyr::filter(avg_log2FC > 1) %>%\n",
    "    slice_head(n = 10) %>%\n",
    "    ungroup() -> top10\n",
    "\n",
    "p <- DoHeatmap(seu_integrated, features = top10$gene) + NoLegend()\n",
    "\n",
    "ggplot2::ggsave(\n",
    "  file.path(qc_plot_dir, \"heatmap_top10_markers_res_1.2.png\"),\n",
    "  plot = p,\n",
    "  width = 12,   # increase width (default ~7)\n",
    "  height = 8,   # adjust height if needed\n",
    "  dpi = 300\n",
    ")"
   ]
  },
  {
   "cell_type": "code",
   "execution_count": null,
   "id": "b45bf22c",
   "metadata": {
    "vscode": {
     "languageId": "r"
    }
   },
   "outputs": [],
   "source": [
    "library(readxl)\n",
    "path <- \"/home/lythgo02/Documents/scRNAseq/\"\n",
    "# Load the marker list from your uploaded Excel file\n",
    "marker_table <- read_excel(paste0(path, \"NatComms/mmc3_cellmarkers.xlsx\"), skip=2) %>% as.data.frame()\n",
    "\n",
    "# Create a named list: cell type → marker genes\n",
    "marker_list <- split(marker_table$Metagene, marker_table$`Cell type`)"
   ]
  },
  {
   "cell_type": "code",
   "execution_count": null,
   "id": "1ea292bf",
   "metadata": {
    "vscode": {
     "languageId": "r"
    }
   },
   "outputs": [],
   "source": [
    "unique(marker_list$cel)"
   ]
  },
  {
   "cell_type": "code",
   "execution_count": null,
   "id": "59823c5b",
   "metadata": {
    "vscode": {
     "languageId": "r"
    }
   },
   "outputs": [],
   "source": [
    "\n",
    "# Match clusters to best-fitting cell type\n",
    "cluster_ids <- levels(seu_integrated)\n",
    "cluster_annotations <- sapply(cluster_ids, function(cl) {\n",
    "  cluster_genes <- seu_markers %>% filter(cluster == cl) %>% pull(gene)\n",
    "  \n",
    "  overlaps <- sapply(marker_list, function(markers) {\n",
    "    length(intersect(cluster_genes, markers))\n",
    "  })\n",
    "  \n",
    "  names(which.max(overlaps))\n",
    "})\n",
    "\n",
    "# Rename cluster identities\n",
    "names(cluster_annotations) <- cluster_ids\n"
   ]
  },
  {
   "cell_type": "code",
   "execution_count": null,
   "id": "21746186",
   "metadata": {
    "vscode": {
     "languageId": "r"
    }
   },
   "outputs": [],
   "source": [
    "seu_integrated <- RenameIdents(seu_integrated, cluster_annotations)"
   ]
  },
  {
   "cell_type": "code",
   "execution_count": null,
   "id": "c3546a8d",
   "metadata": {
    "vscode": {
     "languageId": "r"
    }
   },
   "outputs": [],
   "source": [
    "DimPlot(seu_integrated, reduction = \"umap\", label = TRUE, pt.size = 0.5) #+ NoLegend()\n"
   ]
  },
  {
   "cell_type": "markdown",
   "id": "78a64c06",
   "metadata": {
    "vscode": {
     "languageId": "r"
    }
   },
   "source": [
    "Working with a different dataset - preannotated from Fran Balkwill"
   ]
  },
  {
   "cell_type": "code",
   "execution_count": 26,
   "id": "58345a90",
   "metadata": {
    "vscode": {
     "languageId": "r"
    }
   },
   "outputs": [
    {
     "data": {
      "text/html": [
       "<style>\n",
       ".list-inline {list-style: none; margin:0; padding: 0}\n",
       ".list-inline>li {display: inline-block}\n",
       ".list-inline>li:not(:last-child)::after {content: \"\\00b7\"; padding: 0 .5ex}\n",
       "</style>\n",
       "<ol class=list-inline><li>'GSE266577_barcodes.txt.gz'</li><li>'GSE266577_counts_raw.mtx.gz'</li><li>'GSE266577_metadata.txt.gz'</li><li>'GSE266577_seurat_features.txt.gz'</li><li>'s41467-024-54295-x.pdf'</li></ol>\n"
      ],
      "text/latex": [
       "\\begin{enumerate*}\n",
       "\\item 'GSE266577\\_barcodes.txt.gz'\n",
       "\\item 'GSE266577\\_counts\\_raw.mtx.gz'\n",
       "\\item 'GSE266577\\_metadata.txt.gz'\n",
       "\\item 'GSE266577\\_seurat\\_features.txt.gz'\n",
       "\\item 's41467-024-54295-x.pdf'\n",
       "\\end{enumerate*}\n"
      ],
      "text/markdown": [
       "1. 'GSE266577_barcodes.txt.gz'\n",
       "2. 'GSE266577_counts_raw.mtx.gz'\n",
       "3. 'GSE266577_metadata.txt.gz'\n",
       "4. 'GSE266577_seurat_features.txt.gz'\n",
       "5. 's41467-024-54295-x.pdf'\n",
       "\n",
       "\n"
      ],
      "text/plain": [
       "[1] \"GSE266577_barcodes.txt.gz\"        \"GSE266577_counts_raw.mtx.gz\"     \n",
       "[3] \"GSE266577_metadata.txt.gz\"        \"GSE266577_seurat_features.txt.gz\"\n",
       "[5] \"s41467-024-54295-x.pdf\"          "
      ]
     },
     "metadata": {},
     "output_type": "display_data"
    }
   ],
   "source": [
    "library(Seurat)\n",
    "library(Matrix)\n",
    "library(dplyr)\n",
    "\n",
    "# Set directory\n",
    "data_dir <- \"/run/user/1804238067/gvfs/sftp:host=clust1-sub-1,user=lythgo02/mnt/nas-data/fmlab/group_folders/lythgo02/Spatial/scRNAseq/GSE266577/\"\n",
    "\n",
    "#has to rename files to fit format reaquried by read10x\n",
    "list.files(data_dir)\n",
    "\n"
   ]
  },
  {
   "cell_type": "code",
   "execution_count": null,
   "id": "82b22221",
   "metadata": {
    "vscode": {
     "languageId": "r"
    }
   },
   "outputs": [
    {
     "ename": "ERROR",
     "evalue": "Error in column_to_rownames(metadata, \"cell_name\"): could not find function \"column_to_rownames\"\n",
     "output_type": "error",
     "traceback": [
      "Error in column_to_rownames(metadata, \"cell_name\"): could not find function \"column_to_rownames\"\nTraceback:\n"
     ]
    }
   ],
   "source": [
    "features <- read.delim(gzfile(paste0(data_dir,\"GSE266577_seurat_features.txt.gz\")), header = FALSE)\n",
    "barcodes <- read.delim(gzfile(paste0(data_dir,\"GSE266577_barcodes.txt.gz\")), header = FALSE)\n",
    "matrix <- readMM(gzfile(paste0(data_dir,\"GSE266577_counts_raw.mtx.gz\")))\n",
    " \n",
    "metadata <- read.delim(gzfile(paste0(data_dir,\"GSE266577_metadata.txt.gz\")))\n",
    "\n"
   ]
  },
  {
   "cell_type": "code",
   "execution_count": null,
   "id": "6bfdb49f",
   "metadata": {
    "vscode": {
     "languageId": "r"
    }
   },
   "outputs": [
    {
     "data": {
      "text/html": [
       "58037"
      ],
      "text/latex": [
       "58037"
      ],
      "text/markdown": [
       "58037"
      ],
      "text/plain": [
       "[1] 58037"
      ]
     },
     "metadata": {},
     "output_type": "display_data"
    },
    {
     "data": {
      "text/html": [
       "58037"
      ],
      "text/latex": [
       "58037"
      ],
      "text/markdown": [
       "58037"
      ],
      "text/plain": [
       "[1] 58037"
      ]
     },
     "metadata": {},
     "output_type": "display_data"
    },
    {
     "name": "stderr",
     "output_type": "stream",
     "text": [
      "   [[ suppressing 34 column names ‘AAACCTGCAACGATGG-5’, ‘AAACCTGGTGAGGGTT-5’, ‘AAACCTGTCTGAGTGT-5’ ... ]]\n",
      "\n"
     ]
    },
    {
     "data": {
      "text/plain": [
       "6 x 137083 sparse Matrix of class \"dgTMatrix\"\n",
       "                                                                             \n",
       "DDX11L1   . . . . . . . . . . . . . . . . . . . . . . . . . . . . . . . . . .\n",
       "WASH7P    . . . . . . . . . . . . . . . . . . . . . . . . . . . . . . . . . .\n",
       "MIR6859-1 . . . . . . . . . . . . . . . . . . . . . . . . . . . . . . . . . .\n",
       "MIR1302-2 . . . . . . . . . . . . . . . . . . . . . . . . . . . . . . . . . .\n",
       "FAM138A   . . . . . . . . . . . . . . . . . . . . . . . . . . . . . . . . . .\n",
       "OR4G4P    . . . . . . . . . . . . . . . . . . . . . . . . . . . . . . . . . .\n",
       "                \n",
       "DDX11L1   ......\n",
       "WASH7P    ......\n",
       "MIR6859-1 ......\n",
       "MIR1302-2 ......\n",
       "FAM138A   ......\n",
       "OR4G4P    ......\n",
       "\n",
       " .....suppressing 137049 columns in show(); maybe adjust 'options(max.print= *, width = *)'\n",
       " .............................."
      ]
     },
     "metadata": {},
     "output_type": "display_data"
    }
   ],
   "source": [
    "\n",
    "# Check that number of rows in the matrix match number of rows in features\n",
    "nrow(matrix)\n",
    "nrow(features)\n",
    " \n",
    "colnames(matrix) <- barcodes$V1 # check that V1 contains barcodes\n",
    "rownames(matrix) <- make.unique(features$V1) # check that V2 contains gene names (## only a V1 column? changed from V2 -> V1)\n",
    " \n",
    "head(matrix)\n",
    "\n",
    "metadata <- tibble::column_to_rownames(metadata, 'cell_name')"
   ]
  },
  {
   "cell_type": "code",
   "execution_count": 31,
   "id": "851b0339",
   "metadata": {
    "vscode": {
     "languageId": "r"
    }
   },
   "outputs": [],
   "source": [
    "scRNAseq <- CreateSeuratObject(counts = matrix,min.cells = 3, min.features = 200, meta.data = metadata)"
   ]
  },
  {
   "cell_type": "code",
   "execution_count": 35,
   "id": "37424c13",
   "metadata": {
    "vscode": {
     "languageId": "r"
    }
   },
   "outputs": [
    {
     "data": {
      "text/plain": [
       "\n",
       "           CD16- NK cells            CD16+ NK cells       Classical monocytes \n",
       "                     1328                       386                       546 \n",
       "                      DC1                       DC2         Endothelial cells \n",
       "                      316                        59                       419 \n",
       "         Epithelial cells               Fibroblasts                       ILC \n",
       "                    22741                     17908                      1121 \n",
       "              Macrophages                Mast cells            Memory B cells \n",
       "                    23919                      1901                      5531 \n",
       "        Mesothelial cells             Migratory DCs             Naive B cells \n",
       "                      484                      1059                      1749 \n",
       "                 NK cells                       pDC              Plasma cells \n",
       "                     4091                       538                      2397 \n",
       "       Regulatory T cells  Tcm/Naive helper T cells Tem/Trm cytotoxic T cells \n",
       "                     7620                     17971                     24866 \n",
       "   Type 17 helper T cells \n",
       "                      133 "
      ]
     },
     "metadata": {},
     "output_type": "display_data"
    }
   ],
   "source": [
    "table(scRNAseq@meta.data$cell_type)"
   ]
  },
  {
   "cell_type": "code",
   "execution_count": 38,
   "id": "406984fb",
   "metadata": {
    "vscode": {
     "languageId": "r"
    }
   },
   "outputs": [],
   "source": [
    "# Define the chemo-naive sample IDs - currently mix of omentum, ovary and perineum)\n",
    "chemo_naive_samples <- c(\n",
    "  \"S002\", \"S003\", \"S004\", \"S005\", \"S006\", \"S007\", \"S008\", \"S009\",\n",
    "  \"S010\", \"S011\", \"S012\", \"S013\", \"S014\", \"S015\", \"S016\", \"S017\",\n",
    "  \"S018\", \"S019\", \"S020\", \"S021\", \"S022\", \"S025\", \"S027\", \"S028\",\n",
    "  \"S029\", \"S030\", \"S031\", \"S032\"\n",
    ")\n",
    "\n",
    "# Filter Seurat object to those samples\n",
    "scRNAseq_chemo_naive <- subset(\n",
    "  scRNAseq,\n",
    "  subset = publication_patient_code_final %in% chemo_naive_samples\n",
    ")\n"
   ]
  },
  {
   "cell_type": "markdown",
   "id": "0e042c9b",
   "metadata": {},
   "source": [
    "##Alternative approach to identify cell types using scCATCH which queries CellMarker2.0"
   ]
  },
  {
   "cell_type": "markdown",
   "id": "bfbe71d1",
   "metadata": {},
   "source": [
    "scCATCH uses a curated gene reference (geneinfo) from NCBI to match your gene symbols to known cell type markers.  \n",
    "If your dataset uses outdated or inconsistent gene names (e.g. aliases, Ensembl IDs, or case mismatches), rev_gene() ensures compatibility.  \n",
    "Loading geneingo loads a reference table of gene symbol metadata from NCBI, which is used by rev_gene() to clean and standardize your gene names."
   ]
  },
  {
   "cell_type": "code",
   "execution_count": null,
   "id": "c73645e6",
   "metadata": {
    "vscode": {
     "languageId": "r"
    }
   },
   "outputs": [],
   "source": [
    "# Load built-in geneinfo for human\n",
    "data(\"geneinfo\", package = \"scCATCH\")\n",
    "\n",
    "#also load cell markers for later step\n",
    "data(\"cellmatch\", package = \"scCATCH\")\n"
   ]
  },
  {
   "cell_type": "code",
   "execution_count": null,
   "id": "7844a4ff",
   "metadata": {
    "vscode": {
     "languageId": "r"
    }
   },
   "outputs": [],
   "source": [
    "# Extract normalized RNA data from Seurat\n",
    "expr_mat <- as.matrix(seu_integrated@assays$RNA@data)\n",
    "\n",
    "# Revise gene symbols to match NCBI reference\n",
    "expr_mat <- rev_gene(\n",
    "  data = expr_mat,\n",
    "  data_type = \"data\",       # \"data\" means gene expression matrix\n",
    "  species = \"Human\",\n",
    "  geneinfo = geneinfo       # built-in human geneinfo\n",
    ")\n"
   ]
  },
  {
   "cell_type": "code",
   "execution_count": null,
   "id": "10dd6c17",
   "metadata": {
    "vscode": {
     "languageId": "r"
    }
   },
   "outputs": [],
   "source": [
    "class(Idents(seu_integrated))\n",
    "\n",
    "expr_mat"
   ]
  },
  {
   "cell_type": "code",
   "execution_count": null,
   "id": "8c984db0",
   "metadata": {
    "vscode": {
     "languageId": "r"
    }
   },
   "outputs": [],
   "source": [
    "\n",
    "# Create cluster vector\n",
    "clusters <- Idents(seu_integrated)  # your 9 or finer clusters\n",
    "\n",
    "# Create scCATCH object\n",
    "scCATCH_results <- createscCATCH(\n",
    "  data = expr_mat,\n",
    "  cluster = as.character(clusters) \n",
    ")\n",
    "\n",
    "data(\"cellmatch\", package = \"scCATCH\")\n",
    "\n",
    "scCATCH_results <- findmarkergene(\n",
    "  object = scCATCH_results,\n",
    "  species = \"Human\",\n",
    "  tissue = \"Ovary\",\n",
    "  marker=cellmatch\n",
    ")"
   ]
  },
  {
   "cell_type": "code",
   "execution_count": null,
   "id": "bb1dd2f8",
   "metadata": {
    "vscode": {
     "languageId": "r"
    }
   },
   "outputs": [],
   "source": [
    "scCATCH_results <- findcelltype(object = scCATCH_results)"
   ]
  },
  {
   "cell_type": "code",
   "execution_count": null,
   "id": "aea04114",
   "metadata": {
    "vscode": {
     "languageId": "r"
    }
   },
   "outputs": [],
   "source": [
    "#check results\n",
    "scCATCH_results@celltype"
   ]
  },
  {
   "cell_type": "code",
   "execution_count": null,
   "id": "c0624b5d",
   "metadata": {
    "vscode": {
     "languageId": "r"
    }
   },
   "outputs": [],
   "source": [
    "library(SeuratDisk)\n",
    "#Saves the integrated Seurat object to .h5Seurat.\n",
    "#Converts it to .h5ad format for Python compatibility (Scanpy).\n",
    "#converted file is automatically saved when you run convert\n",
    "SaveH5Seurat(seu_integrated, filename = \"/scRNAseq/comb_GSE158937.h5Seurat\")\n",
    "Convert(\"comb_GSE158937.h5Seurat\", assay = \"RNA\", dest = \"/scRNAseq/comb_GSE158937.h5ad\")"
   ]
  },
  {
   "cell_type": "markdown",
   "id": "bccd8306",
   "metadata": {},
   "source": [
    "Then quit and prepare spatial data "
   ]
  },
  {
   "cell_type": "markdown",
   "id": "1e6b236f",
   "metadata": {},
   "source": []
  }
 ],
 "metadata": {
  "kernelspec": {
   "display_name": "R",
   "language": "R",
   "name": "ir"
  },
  "language_info": {
   "codemirror_mode": "r",
   "file_extension": ".r",
   "mimetype": "text/x-r-source",
   "name": "R",
   "pygments_lexer": "r",
   "version": "4.0.5"
  }
 },
 "nbformat": 4,
 "nbformat_minor": 5
}
